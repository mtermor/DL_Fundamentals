{
  "cells": [
    {
      "cell_type": "markdown",
      "metadata": {
        "id": "view-in-github",
        "colab_type": "text"
      },
      "source": [
        "<a href=\"https://colab.research.google.com/github/mtermor/NTIC_DeepLearning/blob/main/NLP/02_embeddings.ipynb\" target=\"_parent\"><img src=\"https://colab.research.google.com/assets/colab-badge.svg\" alt=\"Open In Colab\"/></a>"
      ]
    },
    {
      "cell_type": "markdown",
      "metadata": {
        "id": "UGz8BQcx6Ohl"
      },
      "source": [
        "# Dataset"
      ]
    },
    {
      "cell_type": "code",
      "execution_count": 1,
      "metadata": {
        "id": "uHVXUo_a6Ohm"
      },
      "outputs": [],
      "source": [
        "import pandas as pd\n",
        "pd.set_option('display.max_colwidth', None)\n",
        "\n",
        "import warnings\n",
        "warnings.filterwarnings('ignore')"
      ]
    },
    {
      "cell_type": "code",
      "execution_count": 2,
      "metadata": {
        "colab": {
          "base_uri": "https://localhost:8080/",
          "height": 310
        },
        "id": "yJEKd3u36Ohn",
        "outputId": "3c4c7b89-c865-412a-a1d5-7f62c4beba16"
      },
      "outputs": [
        {
          "output_type": "execute_result",
          "data": {
            "text/plain": [
              "   stars  \\\n",
              "0      1   \n",
              "1      1   \n",
              "2      1   \n",
              "3      1   \n",
              "4      1   \n",
              "\n",
              "                                                                                                                                                                                                                                                      review_body  \\\n",
              "0                                                                                                                                                                                                   nunca llego el pedido y el vendedor pasa de todo no contestan   \n",
              "1                            no sé como es, porque debería haber llegado ayer día  de marzo, y hoy  por la noche sigo esperando que llegue el frontal. y me habéis mandado el formulario de opinión. pues de momento mala no ha cumplido con la fecha de entrega.   \n",
              "2                                                                                                                   guantes cómodos, no lo niego, pero de mala calidad. yo creo que en caso de caída no valdrian para mucho, dos meses de uso y se están rajando.   \n",
              "3                                                                                                                                                 hasta hoy no he visto el producto. el pedido hace ya casi  mes. y notifico que he usado prime para está compra.   \n",
              "4  no puedo valorarla porque, después de casi una semana, aún no he recibido mi pedido. pienso que amazon tendría que valorar las compañías de transporte con que trabaja, porque es indignante que pague mi cuota prime y nunca reciba mi pedido el día que toca   \n",
              "\n",
              "              review_title product_category  \n",
              "0           No llego nunca           sports  \n",
              "1    Todavía no ha llegado           sports  \n",
              "2  Guantes de baja calidad           sports  \n",
              "3     Muy Mala experiencia           sports  \n",
              "4         Paquete perdido?           sports  "
            ],
            "text/html": [
              "\n",
              "  <div id=\"df-b270f3ca-9a10-49ae-a733-7f40b8a10d24\" class=\"colab-df-container\">\n",
              "    <div>\n",
              "<style scoped>\n",
              "    .dataframe tbody tr th:only-of-type {\n",
              "        vertical-align: middle;\n",
              "    }\n",
              "\n",
              "    .dataframe tbody tr th {\n",
              "        vertical-align: top;\n",
              "    }\n",
              "\n",
              "    .dataframe thead th {\n",
              "        text-align: right;\n",
              "    }\n",
              "</style>\n",
              "<table border=\"1\" class=\"dataframe\">\n",
              "  <thead>\n",
              "    <tr style=\"text-align: right;\">\n",
              "      <th></th>\n",
              "      <th>stars</th>\n",
              "      <th>review_body</th>\n",
              "      <th>review_title</th>\n",
              "      <th>product_category</th>\n",
              "    </tr>\n",
              "  </thead>\n",
              "  <tbody>\n",
              "    <tr>\n",
              "      <th>0</th>\n",
              "      <td>1</td>\n",
              "      <td>nunca llego el pedido y el vendedor pasa de todo no contestan</td>\n",
              "      <td>No llego nunca</td>\n",
              "      <td>sports</td>\n",
              "    </tr>\n",
              "    <tr>\n",
              "      <th>1</th>\n",
              "      <td>1</td>\n",
              "      <td>no sé como es, porque debería haber llegado ayer día  de marzo, y hoy  por la noche sigo esperando que llegue el frontal. y me habéis mandado el formulario de opinión. pues de momento mala no ha cumplido con la fecha de entrega.</td>\n",
              "      <td>Todavía no ha llegado</td>\n",
              "      <td>sports</td>\n",
              "    </tr>\n",
              "    <tr>\n",
              "      <th>2</th>\n",
              "      <td>1</td>\n",
              "      <td>guantes cómodos, no lo niego, pero de mala calidad. yo creo que en caso de caída no valdrian para mucho, dos meses de uso y se están rajando.</td>\n",
              "      <td>Guantes de baja calidad</td>\n",
              "      <td>sports</td>\n",
              "    </tr>\n",
              "    <tr>\n",
              "      <th>3</th>\n",
              "      <td>1</td>\n",
              "      <td>hasta hoy no he visto el producto. el pedido hace ya casi  mes. y notifico que he usado prime para está compra.</td>\n",
              "      <td>Muy Mala experiencia</td>\n",
              "      <td>sports</td>\n",
              "    </tr>\n",
              "    <tr>\n",
              "      <th>4</th>\n",
              "      <td>1</td>\n",
              "      <td>no puedo valorarla porque, después de casi una semana, aún no he recibido mi pedido. pienso que amazon tendría que valorar las compañías de transporte con que trabaja, porque es indignante que pague mi cuota prime y nunca reciba mi pedido el día que toca</td>\n",
              "      <td>Paquete perdido?</td>\n",
              "      <td>sports</td>\n",
              "    </tr>\n",
              "  </tbody>\n",
              "</table>\n",
              "</div>\n",
              "    <div class=\"colab-df-buttons\">\n",
              "\n",
              "  <div class=\"colab-df-container\">\n",
              "    <button class=\"colab-df-convert\" onclick=\"convertToInteractive('df-b270f3ca-9a10-49ae-a733-7f40b8a10d24')\"\n",
              "            title=\"Convert this dataframe to an interactive table.\"\n",
              "            style=\"display:none;\">\n",
              "\n",
              "  <svg xmlns=\"http://www.w3.org/2000/svg\" height=\"24px\" viewBox=\"0 -960 960 960\">\n",
              "    <path d=\"M120-120v-720h720v720H120Zm60-500h600v-160H180v160Zm220 220h160v-160H400v160Zm0 220h160v-160H400v160ZM180-400h160v-160H180v160Zm440 0h160v-160H620v160ZM180-180h160v-160H180v160Zm440 0h160v-160H620v160Z\"/>\n",
              "  </svg>\n",
              "    </button>\n",
              "\n",
              "  <style>\n",
              "    .colab-df-container {\n",
              "      display:flex;\n",
              "      gap: 12px;\n",
              "    }\n",
              "\n",
              "    .colab-df-convert {\n",
              "      background-color: #E8F0FE;\n",
              "      border: none;\n",
              "      border-radius: 50%;\n",
              "      cursor: pointer;\n",
              "      display: none;\n",
              "      fill: #1967D2;\n",
              "      height: 32px;\n",
              "      padding: 0 0 0 0;\n",
              "      width: 32px;\n",
              "    }\n",
              "\n",
              "    .colab-df-convert:hover {\n",
              "      background-color: #E2EBFA;\n",
              "      box-shadow: 0px 1px 2px rgba(60, 64, 67, 0.3), 0px 1px 3px 1px rgba(60, 64, 67, 0.15);\n",
              "      fill: #174EA6;\n",
              "    }\n",
              "\n",
              "    .colab-df-buttons div {\n",
              "      margin-bottom: 4px;\n",
              "    }\n",
              "\n",
              "    [theme=dark] .colab-df-convert {\n",
              "      background-color: #3B4455;\n",
              "      fill: #D2E3FC;\n",
              "    }\n",
              "\n",
              "    [theme=dark] .colab-df-convert:hover {\n",
              "      background-color: #434B5C;\n",
              "      box-shadow: 0px 1px 3px 1px rgba(0, 0, 0, 0.15);\n",
              "      filter: drop-shadow(0px 1px 2px rgba(0, 0, 0, 0.3));\n",
              "      fill: #FFFFFF;\n",
              "    }\n",
              "  </style>\n",
              "\n",
              "    <script>\n",
              "      const buttonEl =\n",
              "        document.querySelector('#df-b270f3ca-9a10-49ae-a733-7f40b8a10d24 button.colab-df-convert');\n",
              "      buttonEl.style.display =\n",
              "        google.colab.kernel.accessAllowed ? 'block' : 'none';\n",
              "\n",
              "      async function convertToInteractive(key) {\n",
              "        const element = document.querySelector('#df-b270f3ca-9a10-49ae-a733-7f40b8a10d24');\n",
              "        const dataTable =\n",
              "          await google.colab.kernel.invokeFunction('convertToInteractive',\n",
              "                                                    [key], {});\n",
              "        if (!dataTable) return;\n",
              "\n",
              "        const docLinkHtml = 'Like what you see? Visit the ' +\n",
              "          '<a target=\"_blank\" href=https://colab.research.google.com/notebooks/data_table.ipynb>data table notebook</a>'\n",
              "          + ' to learn more about interactive tables.';\n",
              "        element.innerHTML = '';\n",
              "        dataTable['output_type'] = 'display_data';\n",
              "        await google.colab.output.renderOutput(dataTable, element);\n",
              "        const docLink = document.createElement('div');\n",
              "        docLink.innerHTML = docLinkHtml;\n",
              "        element.appendChild(docLink);\n",
              "      }\n",
              "    </script>\n",
              "  </div>\n",
              "\n",
              "\n",
              "<div id=\"df-a531398f-5d13-4b85-9209-ed047749d6bf\">\n",
              "  <button class=\"colab-df-quickchart\" onclick=\"quickchart('df-a531398f-5d13-4b85-9209-ed047749d6bf')\"\n",
              "            title=\"Suggest charts\"\n",
              "            style=\"display:none;\">\n",
              "\n",
              "<svg xmlns=\"http://www.w3.org/2000/svg\" height=\"24px\"viewBox=\"0 0 24 24\"\n",
              "     width=\"24px\">\n",
              "    <g>\n",
              "        <path d=\"M19 3H5c-1.1 0-2 .9-2 2v14c0 1.1.9 2 2 2h14c1.1 0 2-.9 2-2V5c0-1.1-.9-2-2-2zM9 17H7v-7h2v7zm4 0h-2V7h2v10zm4 0h-2v-4h2v4z\"/>\n",
              "    </g>\n",
              "</svg>\n",
              "  </button>\n",
              "\n",
              "<style>\n",
              "  .colab-df-quickchart {\n",
              "      --bg-color: #E8F0FE;\n",
              "      --fill-color: #1967D2;\n",
              "      --hover-bg-color: #E2EBFA;\n",
              "      --hover-fill-color: #174EA6;\n",
              "      --disabled-fill-color: #AAA;\n",
              "      --disabled-bg-color: #DDD;\n",
              "  }\n",
              "\n",
              "  [theme=dark] .colab-df-quickchart {\n",
              "      --bg-color: #3B4455;\n",
              "      --fill-color: #D2E3FC;\n",
              "      --hover-bg-color: #434B5C;\n",
              "      --hover-fill-color: #FFFFFF;\n",
              "      --disabled-bg-color: #3B4455;\n",
              "      --disabled-fill-color: #666;\n",
              "  }\n",
              "\n",
              "  .colab-df-quickchart {\n",
              "    background-color: var(--bg-color);\n",
              "    border: none;\n",
              "    border-radius: 50%;\n",
              "    cursor: pointer;\n",
              "    display: none;\n",
              "    fill: var(--fill-color);\n",
              "    height: 32px;\n",
              "    padding: 0;\n",
              "    width: 32px;\n",
              "  }\n",
              "\n",
              "  .colab-df-quickchart:hover {\n",
              "    background-color: var(--hover-bg-color);\n",
              "    box-shadow: 0 1px 2px rgba(60, 64, 67, 0.3), 0 1px 3px 1px rgba(60, 64, 67, 0.15);\n",
              "    fill: var(--button-hover-fill-color);\n",
              "  }\n",
              "\n",
              "  .colab-df-quickchart-complete:disabled,\n",
              "  .colab-df-quickchart-complete:disabled:hover {\n",
              "    background-color: var(--disabled-bg-color);\n",
              "    fill: var(--disabled-fill-color);\n",
              "    box-shadow: none;\n",
              "  }\n",
              "\n",
              "  .colab-df-spinner {\n",
              "    border: 2px solid var(--fill-color);\n",
              "    border-color: transparent;\n",
              "    border-bottom-color: var(--fill-color);\n",
              "    animation:\n",
              "      spin 1s steps(1) infinite;\n",
              "  }\n",
              "\n",
              "  @keyframes spin {\n",
              "    0% {\n",
              "      border-color: transparent;\n",
              "      border-bottom-color: var(--fill-color);\n",
              "      border-left-color: var(--fill-color);\n",
              "    }\n",
              "    20% {\n",
              "      border-color: transparent;\n",
              "      border-left-color: var(--fill-color);\n",
              "      border-top-color: var(--fill-color);\n",
              "    }\n",
              "    30% {\n",
              "      border-color: transparent;\n",
              "      border-left-color: var(--fill-color);\n",
              "      border-top-color: var(--fill-color);\n",
              "      border-right-color: var(--fill-color);\n",
              "    }\n",
              "    40% {\n",
              "      border-color: transparent;\n",
              "      border-right-color: var(--fill-color);\n",
              "      border-top-color: var(--fill-color);\n",
              "    }\n",
              "    60% {\n",
              "      border-color: transparent;\n",
              "      border-right-color: var(--fill-color);\n",
              "    }\n",
              "    80% {\n",
              "      border-color: transparent;\n",
              "      border-right-color: var(--fill-color);\n",
              "      border-bottom-color: var(--fill-color);\n",
              "    }\n",
              "    90% {\n",
              "      border-color: transparent;\n",
              "      border-bottom-color: var(--fill-color);\n",
              "    }\n",
              "  }\n",
              "</style>\n",
              "\n",
              "  <script>\n",
              "    async function quickchart(key) {\n",
              "      const quickchartButtonEl =\n",
              "        document.querySelector('#' + key + ' button');\n",
              "      quickchartButtonEl.disabled = true;  // To prevent multiple clicks.\n",
              "      quickchartButtonEl.classList.add('colab-df-spinner');\n",
              "      try {\n",
              "        const charts = await google.colab.kernel.invokeFunction(\n",
              "            'suggestCharts', [key], {});\n",
              "      } catch (error) {\n",
              "        console.error('Error during call to suggestCharts:', error);\n",
              "      }\n",
              "      quickchartButtonEl.classList.remove('colab-df-spinner');\n",
              "      quickchartButtonEl.classList.add('colab-df-quickchart-complete');\n",
              "    }\n",
              "    (() => {\n",
              "      let quickchartButtonEl =\n",
              "        document.querySelector('#df-a531398f-5d13-4b85-9209-ed047749d6bf button');\n",
              "      quickchartButtonEl.style.display =\n",
              "        google.colab.kernel.accessAllowed ? 'block' : 'none';\n",
              "    })();\n",
              "  </script>\n",
              "</div>\n",
              "    </div>\n",
              "  </div>\n"
            ],
            "application/vnd.google.colaboratory.intrinsic+json": {
              "type": "dataframe",
              "variable_name": "df",
              "summary": "{\n  \"name\": \"df\",\n  \"rows\": 13189,\n  \"fields\": [\n    {\n      \"column\": \"stars\",\n      \"properties\": {\n        \"dtype\": \"number\",\n        \"std\": 1,\n        \"min\": 1,\n        \"max\": 5,\n        \"num_unique_values\": 5,\n        \"samples\": [\n          2,\n          5,\n          3\n        ],\n        \"semantic_type\": \"\",\n        \"description\": \"\"\n      }\n    },\n    {\n      \"column\": \"review_body\",\n      \"properties\": {\n        \"dtype\": \"string\",\n        \"num_unique_values\": 13136,\n        \"samples\": [\n          \"los colores muy bonitos pero para mi gusto es muy r\\u00edgida.\",\n          \"en general est\\u00e1 bien. pero las costuras se han descosido al mes del uso.\",\n          \"me han servido para lo que quer\\u00eda, lo \\u00fanico que no ven\\u00edan con arandela de goma para di\\u00e1metro inferior aunque a m\\u00ed no me hizo falta.\"\n        ],\n        \"semantic_type\": \"\",\n        \"description\": \"\"\n      }\n    },\n    {\n      \"column\": \"review_title\",\n      \"properties\": {\n        \"dtype\": \"string\",\n        \"num_unique_values\": 9547,\n        \"samples\": [\n          \"discos..\",\n          \"Facil de montar y muy util\",\n          \"No las volver\\u00e9 a comprar\"\n        ],\n        \"semantic_type\": \"\",\n        \"description\": \"\"\n      }\n    },\n    {\n      \"column\": \"product_category\",\n      \"properties\": {\n        \"dtype\": \"category\",\n        \"num_unique_values\": 1,\n        \"samples\": [\n          \"sports\"\n        ],\n        \"semantic_type\": \"\",\n        \"description\": \"\"\n      }\n    }\n  ]\n}"
            }
          },
          "metadata": {},
          "execution_count": 2
        }
      ],
      "source": [
        "df = pd.read_csv(\"https://raw.githubusercontent.com/eduardofc/data/main/amazon_sports.csv\")\n",
        "df['review_body'] = df['review_body'].str.replace('[^a-zA-ZñÑáéíóú .,:;]', '', regex=True)\n",
        "df['review_body'] = df['review_body'].str.lower()\n",
        "df.head()"
      ]
    },
    {
      "cell_type": "code",
      "execution_count": 3,
      "metadata": {
        "colab": {
          "base_uri": "https://localhost:8080/"
        },
        "id": "iiptU1XD6Oho",
        "outputId": "f5120df0-f93d-4b0d-8795-5a248cc61a67"
      },
      "outputs": [
        {
          "output_type": "execute_result",
          "data": {
            "text/plain": [
              "stars\n",
              "1    2438\n",
              "2    2551\n",
              "3    2828\n",
              "4    2860\n",
              "5    2512\n",
              "dtype: int64"
            ]
          },
          "metadata": {},
          "execution_count": 3
        }
      ],
      "source": [
        "df.groupby('stars').size()"
      ]
    },
    {
      "cell_type": "code",
      "execution_count": 4,
      "metadata": {
        "colab": {
          "base_uri": "https://localhost:8080/"
        },
        "id": "i2JAgfgb6Ohp",
        "outputId": "74c964fd-d234-4cb9-c55f-0f50e89d3c09"
      },
      "outputs": [
        {
          "output_type": "execute_result",
          "data": {
            "text/plain": [
              "bad_product\n",
              "0    5372\n",
              "1    4989\n",
              "dtype: int64"
            ]
          },
          "metadata": {},
          "execution_count": 4
        }
      ],
      "source": [
        "\"\"\" Clasificamos en positivo (stars 4-5) y negativo (stars 1-2) \"\"\"\n",
        "df = df[df.stars != 3]\n",
        "df['bad_product'] = (df.stars < 3).astype(int)\n",
        "df.groupby('bad_product').size()"
      ]
    },
    {
      "cell_type": "markdown",
      "metadata": {
        "id": "hjtvoU6S6Ohp"
      },
      "source": [
        "# Modelling for Classification"
      ]
    },
    {
      "cell_type": "markdown",
      "metadata": {
        "id": "yybkB5VV6Ohp"
      },
      "source": [
        "## Inputs (preprocessing)"
      ]
    },
    {
      "cell_type": "code",
      "execution_count": 5,
      "metadata": {
        "id": "2QY-WPmg6Ohq"
      },
      "outputs": [],
      "source": [
        "X = df.review_body.values\n",
        "y = df.bad_product"
      ]
    },
    {
      "cell_type": "code",
      "execution_count": 6,
      "metadata": {
        "id": "rxbrv8gN6Ohq"
      },
      "outputs": [],
      "source": [
        "from tensorflow.keras.preprocessing.text import Tokenizer\n",
        "\n",
        "vocab_size = 10000\n",
        "tokenizer = Tokenizer(num_words=vocab_size, oov_token='<OOV>')\n",
        "tokenizer.fit_on_texts(X)\n",
        "# tokenizer.index_word\n",
        "X_tokenized = tokenizer.texts_to_sequences(X)\n",
        "# X_tokenized"
      ]
    },
    {
      "cell_type": "code",
      "execution_count": 7,
      "metadata": {
        "id": "d41Lz3f06Ohq"
      },
      "outputs": [],
      "source": [
        "from tensorflow.keras.preprocessing.sequence import pad_sequences\n",
        "\n",
        "max_len = 50\n",
        "X_padded = pad_sequences(X_tokenized, maxlen=max_len, truncating='post')\n",
        "# X_padded"
      ]
    },
    {
      "cell_type": "markdown",
      "metadata": {
        "id": "cJAEFjYo6Ohr"
      },
      "source": [
        "## Model (NN)"
      ]
    },
    {
      "cell_type": "code",
      "execution_count": 8,
      "metadata": {
        "id": "E18Vhwtc6Ohr"
      },
      "outputs": [],
      "source": [
        "import tensorflow.keras as keras\n",
        "\n",
        "keras.utils.set_random_seed(812)"
      ]
    },
    {
      "cell_type": "code",
      "execution_count": 9,
      "metadata": {
        "id": "PyKVegX06Ohr"
      },
      "outputs": [],
      "source": [
        "from keras import Sequential\n",
        "from keras.layers import Flatten, Dense, Embedding\n",
        "\n",
        "embedding_dim = 2\n",
        "\n",
        "model = keras.Sequential()\n",
        "\n",
        "# Capas de embeddings\n",
        "model.add(Embedding(input_length= max_len, input_dim=vocab_size, output_dim=embedding_dim))\n",
        "model.add(Flatten())\n",
        "# Capas de clasificación\n",
        "# model.add(Dense(6, activation='relu'))\n",
        "model.add(Dense(1, activation='sigmoid'))"
      ]
    },
    {
      "cell_type": "code",
      "execution_count": 10,
      "metadata": {
        "colab": {
          "base_uri": "https://localhost:8080/"
        },
        "id": "f9UW0gdL6Ohr",
        "outputId": "bbe63aa8-ee2e-43df-e866-361383387d60"
      },
      "outputs": [
        {
          "output_type": "stream",
          "name": "stdout",
          "text": [
            "Model: \"sequential\"\n",
            "_________________________________________________________________\n",
            " Layer (type)                Output Shape              Param #   \n",
            "=================================================================\n",
            " embedding (Embedding)       (None, 50, 2)             20000     \n",
            "                                                                 \n",
            " flatten (Flatten)           (None, 100)               0         \n",
            "                                                                 \n",
            " dense (Dense)               (None, 1)                 101       \n",
            "                                                                 \n",
            "=================================================================\n",
            "Total params: 20101 (78.52 KB)\n",
            "Trainable params: 20101 (78.52 KB)\n",
            "Non-trainable params: 0 (0.00 Byte)\n",
            "_________________________________________________________________\n"
          ]
        }
      ],
      "source": [
        "model.compile(\n",
        "    loss='binary_crossentropy',\n",
        "    optimizer='adam',\n",
        "    metrics=['accuracy']\n",
        ")\n",
        "model.summary()"
      ]
    },
    {
      "cell_type": "code",
      "execution_count": 11,
      "metadata": {
        "colab": {
          "base_uri": "https://localhost:8080/"
        },
        "id": "aMAhk3T06Ohs",
        "outputId": "ca84a026-e16f-40c7-9d3b-ab65606b73ec"
      },
      "outputs": [
        {
          "output_type": "stream",
          "name": "stdout",
          "text": [
            "Epoch 1/20\n",
            "324/324 [==============================] - 22s 60ms/step - loss: 0.6621 - accuracy: 0.6195\n",
            "Epoch 2/20\n",
            "324/324 [==============================] - 4s 11ms/step - loss: 0.5053 - accuracy: 0.7949\n",
            "Epoch 3/20\n",
            "324/324 [==============================] - 3s 10ms/step - loss: 0.3877 - accuracy: 0.8505\n",
            "Epoch 4/20\n",
            "324/324 [==============================] - 3s 9ms/step - loss: 0.3293 - accuracy: 0.8751\n",
            "Epoch 5/20\n",
            "324/324 [==============================] - 3s 9ms/step - loss: 0.2912 - accuracy: 0.8906\n",
            "Epoch 6/20\n",
            "324/324 [==============================] - 2s 5ms/step - loss: 0.2626 - accuracy: 0.9024\n",
            "Epoch 7/20\n",
            "324/324 [==============================] - 2s 5ms/step - loss: 0.2387 - accuracy: 0.9147\n",
            "Epoch 8/20\n",
            "324/324 [==============================] - 2s 6ms/step - loss: 0.2188 - accuracy: 0.9239\n",
            "Epoch 9/20\n",
            "324/324 [==============================] - 2s 5ms/step - loss: 0.2021 - accuracy: 0.9296\n",
            "Epoch 10/20\n",
            "324/324 [==============================] - 2s 7ms/step - loss: 0.1874 - accuracy: 0.9365\n",
            "Epoch 11/20\n",
            "324/324 [==============================] - 2s 5ms/step - loss: 0.1735 - accuracy: 0.9431\n",
            "Epoch 12/20\n",
            "324/324 [==============================] - 2s 5ms/step - loss: 0.1616 - accuracy: 0.9481\n",
            "Epoch 13/20\n",
            "324/324 [==============================] - 2s 5ms/step - loss: 0.1507 - accuracy: 0.9520\n",
            "Epoch 14/20\n",
            "324/324 [==============================] - 1s 3ms/step - loss: 0.1403 - accuracy: 0.9563\n",
            "Epoch 15/20\n",
            "324/324 [==============================] - 1s 4ms/step - loss: 0.1311 - accuracy: 0.9595\n",
            "Epoch 16/20\n",
            "324/324 [==============================] - 1s 4ms/step - loss: 0.1223 - accuracy: 0.9642\n",
            "Epoch 17/20\n",
            "324/324 [==============================] - 1s 4ms/step - loss: 0.1146 - accuracy: 0.9669\n",
            "Epoch 18/20\n",
            "324/324 [==============================] - 2s 5ms/step - loss: 0.1070 - accuracy: 0.9701\n",
            "Epoch 19/20\n",
            "324/324 [==============================] - 2s 7ms/step - loss: 0.1004 - accuracy: 0.9721\n",
            "Epoch 20/20\n",
            "324/324 [==============================] - 2s 5ms/step - loss: 0.0938 - accuracy: 0.9740\n"
          ]
        },
        {
          "output_type": "execute_result",
          "data": {
            "text/plain": [
              "<keras.src.callbacks.History at 0x794c92b40a90>"
            ]
          },
          "metadata": {},
          "execution_count": 11
        }
      ],
      "source": [
        "n_epochs = 20\n",
        "\n",
        "model.fit(X_padded, y, epochs= n_epochs)"
      ]
    },
    {
      "cell_type": "markdown",
      "source": [
        "# Embeddings Layer"
      ],
      "metadata": {
        "id": "cvHXBp4qTyKO"
      }
    },
    {
      "cell_type": "code",
      "execution_count": 12,
      "metadata": {
        "id": "AtNKeTsm6Ohs",
        "colab": {
          "base_uri": "https://localhost:8080/"
        },
        "outputId": "aa3674a1-7bdc-496e-d38f-1d783102f8f5"
      },
      "outputs": [
        {
          "output_type": "stream",
          "name": "stdout",
          "text": [
            "Model: \"sequential\"\n",
            "_________________________________________________________________\n",
            " Layer (type)                Output Shape              Param #   \n",
            "=================================================================\n",
            " embedding (Embedding)       (None, 50, 2)             20000     \n",
            "                                                                 \n",
            " flatten (Flatten)           (None, 100)               0         \n",
            "                                                                 \n",
            " dense (Dense)               (None, 1)                 101       \n",
            "                                                                 \n",
            "=================================================================\n",
            "Total params: 20101 (78.52 KB)\n",
            "Trainable params: 20101 (78.52 KB)\n",
            "Non-trainable params: 0 (0.00 Byte)\n",
            "_________________________________________________________________\n"
          ]
        }
      ],
      "source": [
        "model.summary()"
      ]
    },
    {
      "cell_type": "code",
      "source": [
        "embed_layer = model.layers[0]\n",
        "embed_weights = embed_layer.get_weights()[0]\n",
        "print(embed_weights.shape)\n",
        "embed_weights"
      ],
      "metadata": {
        "colab": {
          "base_uri": "https://localhost:8080/"
        },
        "id": "9g1q5u2bUhw6",
        "outputId": "49c4dbf4-bdee-4f3c-89e7-94d53635cf00"
      },
      "execution_count": 20,
      "outputs": [
        {
          "output_type": "stream",
          "name": "stdout",
          "text": [
            "(10000, 2)\n"
          ]
        },
        {
          "output_type": "execute_result",
          "data": {
            "text/plain": [
              "array([[-0.05058567, -0.04176808],\n",
              "       [-0.1910364 ,  0.2953519 ],\n",
              "       [ 0.06250687, -0.03166124],\n",
              "       ...,\n",
              "       [ 0.09126089, -0.05233277],\n",
              "       [ 0.29651302, -0.2588437 ],\n",
              "       [ 0.22588553, -0.25242013]], dtype=float32)"
            ]
          },
          "metadata": {},
          "execution_count": 20
        }
      ]
    },
    {
      "cell_type": "code",
      "source": [
        "for v in ['bueno', 'malo', 'horrible']:\n",
        "  k = tokenizer.word_index[v]\n",
        "  print(f'{v}: {k}: {embed_weights[k]}')"
      ],
      "metadata": {
        "colab": {
          "base_uri": "https://localhost:8080/"
        },
        "id": "ZcQoZHguVNxJ",
        "outputId": "0165b818-4f7d-458c-8c64-8699f825bbf6"
      },
      "execution_count": 23,
      "outputs": [
        {
          "output_type": "stream",
          "name": "stdout",
          "text": [
            "bueno: 92: [-0.37987083  0.4268919 ]\n",
            "malo: 215: [-0.05720437 -0.50714517]\n",
            "horrible: 1265: [ 0.7407763 -0.7420258]\n"
          ]
        }
      ]
    },
    {
      "cell_type": "code",
      "source": [
        "words = []\n",
        "x_axis = []\n",
        "y_axis = []\n",
        "\n",
        "for k, v in tokenizer.index_word.items():\n",
        "  x, y = embed_weights[k]\n",
        "  words.append(v)\n",
        "  x_axis.append(x)\n",
        "  y_axis.append(y)\n",
        "  if k == 1500:\n",
        "    break"
      ],
      "metadata": {
        "id": "KX-idF4rVNvW"
      },
      "execution_count": 24,
      "outputs": []
    },
    {
      "cell_type": "code",
      "source": [
        "from bokeh.plotting import figure, show, output_notebook\n",
        "from bokeh.models import HoverTool, ColumnDataSource\n",
        "\n",
        "output_notebook()\n",
        "\n",
        "source = ColumnDataSource(data=dict(x=x_axis, y=y_axis, words=words))\n",
        "p = figure(tools='', title='2-dim embeddings space')\n",
        "p.circle('x', 'y', size=2, source=source)\n",
        "hover = HoverTool()\n",
        "hover.tooltips = [('Palabra', '@words'), ('(x,y)','($x, $y)')]\n",
        "p.add_tools(hover)\n",
        "show(p)"
      ],
      "metadata": {
        "colab": {
          "base_uri": "https://localhost:8080/",
          "height": 617
        },
        "id": "YhmwdBANVNsT",
        "outputId": "c16cc299-a72b-407e-e038-662264cc9358"
      },
      "execution_count": 26,
      "outputs": [
        {
          "output_type": "display_data",
          "data": {
            "application/javascript": [
              "(function(root) {\n",
              "  function now() {\n",
              "    return new Date();\n",
              "  }\n",
              "\n",
              "  const force = true;\n",
              "\n",
              "  if (typeof root._bokeh_onload_callbacks === \"undefined\" || force === true) {\n",
              "    root._bokeh_onload_callbacks = [];\n",
              "    root._bokeh_is_loading = undefined;\n",
              "  }\n",
              "\n",
              "const JS_MIME_TYPE = 'application/javascript';\n",
              "  const HTML_MIME_TYPE = 'text/html';\n",
              "  const EXEC_MIME_TYPE = 'application/vnd.bokehjs_exec.v0+json';\n",
              "  const CLASS_NAME = 'output_bokeh rendered_html';\n",
              "\n",
              "  /**\n",
              "   * Render data to the DOM node\n",
              "   */\n",
              "  function render(props, node) {\n",
              "    const script = document.createElement(\"script\");\n",
              "    node.appendChild(script);\n",
              "  }\n",
              "\n",
              "  /**\n",
              "   * Handle when an output is cleared or removed\n",
              "   */\n",
              "  function handleClearOutput(event, handle) {\n",
              "    function drop(id) {\n",
              "      const view = Bokeh.index.get_by_id(id)\n",
              "      if (view != null) {\n",
              "        view.model.document.clear()\n",
              "        Bokeh.index.delete(view)\n",
              "      }\n",
              "    }\n",
              "\n",
              "    const cell = handle.cell;\n",
              "\n",
              "    const id = cell.output_area._bokeh_element_id;\n",
              "    const server_id = cell.output_area._bokeh_server_id;\n",
              "\n",
              "    // Clean up Bokeh references\n",
              "    if (id != null) {\n",
              "      drop(id)\n",
              "    }\n",
              "\n",
              "    if (server_id !== undefined) {\n",
              "      // Clean up Bokeh references\n",
              "      const cmd_clean = \"from bokeh.io.state import curstate; print(curstate().uuid_to_server['\" + server_id + \"'].get_sessions()[0].document.roots[0]._id)\";\n",
              "      cell.notebook.kernel.execute(cmd_clean, {\n",
              "        iopub: {\n",
              "          output: function(msg) {\n",
              "            const id = msg.content.text.trim()\n",
              "            drop(id)\n",
              "          }\n",
              "        }\n",
              "      });\n",
              "      // Destroy server and session\n",
              "      const cmd_destroy = \"import bokeh.io.notebook as ion; ion.destroy_server('\" + server_id + \"')\";\n",
              "      cell.notebook.kernel.execute(cmd_destroy);\n",
              "    }\n",
              "  }\n",
              "\n",
              "  /**\n",
              "   * Handle when a new output is added\n",
              "   */\n",
              "  function handleAddOutput(event, handle) {\n",
              "    const output_area = handle.output_area;\n",
              "    const output = handle.output;\n",
              "\n",
              "    // limit handleAddOutput to display_data with EXEC_MIME_TYPE content only\n",
              "    if ((output.output_type != \"display_data\") || (!Object.prototype.hasOwnProperty.call(output.data, EXEC_MIME_TYPE))) {\n",
              "      return\n",
              "    }\n",
              "\n",
              "    const toinsert = output_area.element.find(\".\" + CLASS_NAME.split(' ')[0]);\n",
              "\n",
              "    if (output.metadata[EXEC_MIME_TYPE][\"id\"] !== undefined) {\n",
              "      toinsert[toinsert.length - 1].firstChild.textContent = output.data[JS_MIME_TYPE];\n",
              "      // store reference to embed id on output_area\n",
              "      output_area._bokeh_element_id = output.metadata[EXEC_MIME_TYPE][\"id\"];\n",
              "    }\n",
              "    if (output.metadata[EXEC_MIME_TYPE][\"server_id\"] !== undefined) {\n",
              "      const bk_div = document.createElement(\"div\");\n",
              "      bk_div.innerHTML = output.data[HTML_MIME_TYPE];\n",
              "      const script_attrs = bk_div.children[0].attributes;\n",
              "      for (let i = 0; i < script_attrs.length; i++) {\n",
              "        toinsert[toinsert.length - 1].firstChild.setAttribute(script_attrs[i].name, script_attrs[i].value);\n",
              "        toinsert[toinsert.length - 1].firstChild.textContent = bk_div.children[0].textContent\n",
              "      }\n",
              "      // store reference to server id on output_area\n",
              "      output_area._bokeh_server_id = output.metadata[EXEC_MIME_TYPE][\"server_id\"];\n",
              "    }\n",
              "  }\n",
              "\n",
              "  function register_renderer(events, OutputArea) {\n",
              "\n",
              "    function append_mime(data, metadata, element) {\n",
              "      // create a DOM node to render to\n",
              "      const toinsert = this.create_output_subarea(\n",
              "        metadata,\n",
              "        CLASS_NAME,\n",
              "        EXEC_MIME_TYPE\n",
              "      );\n",
              "      this.keyboard_manager.register_events(toinsert);\n",
              "      // Render to node\n",
              "      const props = {data: data, metadata: metadata[EXEC_MIME_TYPE]};\n",
              "      render(props, toinsert[toinsert.length - 1]);\n",
              "      element.append(toinsert);\n",
              "      return toinsert\n",
              "    }\n",
              "\n",
              "    /* Handle when an output is cleared or removed */\n",
              "    events.on('clear_output.CodeCell', handleClearOutput);\n",
              "    events.on('delete.Cell', handleClearOutput);\n",
              "\n",
              "    /* Handle when a new output is added */\n",
              "    events.on('output_added.OutputArea', handleAddOutput);\n",
              "\n",
              "    /**\n",
              "     * Register the mime type and append_mime function with output_area\n",
              "     */\n",
              "    OutputArea.prototype.register_mime_type(EXEC_MIME_TYPE, append_mime, {\n",
              "      /* Is output safe? */\n",
              "      safe: true,\n",
              "      /* Index of renderer in `output_area.display_order` */\n",
              "      index: 0\n",
              "    });\n",
              "  }\n",
              "\n",
              "  // register the mime type if in Jupyter Notebook environment and previously unregistered\n",
              "  if (root.Jupyter !== undefined) {\n",
              "    const events = require('base/js/events');\n",
              "    const OutputArea = require('notebook/js/outputarea').OutputArea;\n",
              "\n",
              "    if (OutputArea.prototype.mime_types().indexOf(EXEC_MIME_TYPE) == -1) {\n",
              "      register_renderer(events, OutputArea);\n",
              "    }\n",
              "  }\n",
              "  if (typeof (root._bokeh_timeout) === \"undefined\" || force === true) {\n",
              "    root._bokeh_timeout = Date.now() + 5000;\n",
              "    root._bokeh_failed_load = false;\n",
              "  }\n",
              "\n",
              "  const NB_LOAD_WARNING = {'data': {'text/html':\n",
              "     \"<div style='background-color: #fdd'>\\n\"+\n",
              "     \"<p>\\n\"+\n",
              "     \"BokehJS does not appear to have successfully loaded. If loading BokehJS from CDN, this \\n\"+\n",
              "     \"may be due to a slow or bad network connection. Possible fixes:\\n\"+\n",
              "     \"</p>\\n\"+\n",
              "     \"<ul>\\n\"+\n",
              "     \"<li>re-rerun `output_notebook()` to attempt to load from CDN again, or</li>\\n\"+\n",
              "     \"<li>use INLINE resources instead, as so:</li>\\n\"+\n",
              "     \"</ul>\\n\"+\n",
              "     \"<code>\\n\"+\n",
              "     \"from bokeh.resources import INLINE\\n\"+\n",
              "     \"output_notebook(resources=INLINE)\\n\"+\n",
              "     \"</code>\\n\"+\n",
              "     \"</div>\"}};\n",
              "\n",
              "  function display_loaded() {\n",
              "    const el = document.getElementById(null);\n",
              "    if (el != null) {\n",
              "      el.textContent = \"BokehJS is loading...\";\n",
              "    }\n",
              "    if (root.Bokeh !== undefined) {\n",
              "      if (el != null) {\n",
              "        el.textContent = \"BokehJS \" + root.Bokeh.version + \" successfully loaded.\";\n",
              "      }\n",
              "    } else if (Date.now() < root._bokeh_timeout) {\n",
              "      setTimeout(display_loaded, 100)\n",
              "    }\n",
              "  }\n",
              "\n",
              "  function run_callbacks() {\n",
              "    try {\n",
              "      root._bokeh_onload_callbacks.forEach(function(callback) {\n",
              "        if (callback != null)\n",
              "          callback();\n",
              "      });\n",
              "    } finally {\n",
              "      delete root._bokeh_onload_callbacks\n",
              "    }\n",
              "    console.debug(\"Bokeh: all callbacks have finished\");\n",
              "  }\n",
              "\n",
              "  function load_libs(css_urls, js_urls, callback) {\n",
              "    if (css_urls == null) css_urls = [];\n",
              "    if (js_urls == null) js_urls = [];\n",
              "\n",
              "    root._bokeh_onload_callbacks.push(callback);\n",
              "    if (root._bokeh_is_loading > 0) {\n",
              "      console.debug(\"Bokeh: BokehJS is being loaded, scheduling callback at\", now());\n",
              "      return null;\n",
              "    }\n",
              "    if (js_urls == null || js_urls.length === 0) {\n",
              "      run_callbacks();\n",
              "      return null;\n",
              "    }\n",
              "    console.debug(\"Bokeh: BokehJS not loaded, scheduling load and callback at\", now());\n",
              "    root._bokeh_is_loading = css_urls.length + js_urls.length;\n",
              "\n",
              "    function on_load() {\n",
              "      root._bokeh_is_loading--;\n",
              "      if (root._bokeh_is_loading === 0) {\n",
              "        console.debug(\"Bokeh: all BokehJS libraries/stylesheets loaded\");\n",
              "        run_callbacks()\n",
              "      }\n",
              "    }\n",
              "\n",
              "    function on_error(url) {\n",
              "      console.error(\"failed to load \" + url);\n",
              "    }\n",
              "\n",
              "    for (let i = 0; i < css_urls.length; i++) {\n",
              "      const url = css_urls[i];\n",
              "      const element = document.createElement(\"link\");\n",
              "      element.onload = on_load;\n",
              "      element.onerror = on_error.bind(null, url);\n",
              "      element.rel = \"stylesheet\";\n",
              "      element.type = \"text/css\";\n",
              "      element.href = url;\n",
              "      console.debug(\"Bokeh: injecting link tag for BokehJS stylesheet: \", url);\n",
              "      document.body.appendChild(element);\n",
              "    }\n",
              "\n",
              "    for (let i = 0; i < js_urls.length; i++) {\n",
              "      const url = js_urls[i];\n",
              "      const element = document.createElement('script');\n",
              "      element.onload = on_load;\n",
              "      element.onerror = on_error.bind(null, url);\n",
              "      element.async = false;\n",
              "      element.src = url;\n",
              "      console.debug(\"Bokeh: injecting script tag for BokehJS library: \", url);\n",
              "      document.head.appendChild(element);\n",
              "    }\n",
              "  };\n",
              "\n",
              "  function inject_raw_css(css) {\n",
              "    const element = document.createElement(\"style\");\n",
              "    element.appendChild(document.createTextNode(css));\n",
              "    document.body.appendChild(element);\n",
              "  }\n",
              "\n",
              "  const js_urls = [\"https://cdn.bokeh.org/bokeh/release/bokeh-3.3.4.min.js\", \"https://cdn.bokeh.org/bokeh/release/bokeh-gl-3.3.4.min.js\", \"https://cdn.bokeh.org/bokeh/release/bokeh-widgets-3.3.4.min.js\", \"https://cdn.bokeh.org/bokeh/release/bokeh-tables-3.3.4.min.js\", \"https://cdn.bokeh.org/bokeh/release/bokeh-mathjax-3.3.4.min.js\"];\n",
              "  const css_urls = [];\n",
              "\n",
              "  const inline_js = [    function(Bokeh) {\n",
              "      Bokeh.set_log_level(\"info\");\n",
              "    },\n",
              "function(Bokeh) {\n",
              "    }\n",
              "  ];\n",
              "\n",
              "  function run_inline_js() {\n",
              "    if (root.Bokeh !== undefined || force === true) {\n",
              "          for (let i = 0; i < inline_js.length; i++) {\n",
              "      inline_js[i].call(root, root.Bokeh);\n",
              "    }\n",
              "} else if (Date.now() < root._bokeh_timeout) {\n",
              "      setTimeout(run_inline_js, 100);\n",
              "    } else if (!root._bokeh_failed_load) {\n",
              "      console.log(\"Bokeh: BokehJS failed to load within specified timeout.\");\n",
              "      root._bokeh_failed_load = true;\n",
              "    } else if (force !== true) {\n",
              "      const cell = $(document.getElementById(null)).parents('.cell').data().cell;\n",
              "      cell.output_area.append_execute_result(NB_LOAD_WARNING)\n",
              "    }\n",
              "  }\n",
              "\n",
              "  if (root._bokeh_is_loading === 0) {\n",
              "    console.debug(\"Bokeh: BokehJS loaded, going straight to plotting\");\n",
              "    run_inline_js();\n",
              "  } else {\n",
              "    load_libs(css_urls, js_urls, function() {\n",
              "      console.debug(\"Bokeh: BokehJS plotting callback run at\", now());\n",
              "      run_inline_js();\n",
              "    });\n",
              "  }\n",
              "}(window));"
            ],
            "application/vnd.bokehjs_load.v0+json": "(function(root) {\n  function now() {\n    return new Date();\n  }\n\n  const force = true;\n\n  if (typeof root._bokeh_onload_callbacks === \"undefined\" || force === true) {\n    root._bokeh_onload_callbacks = [];\n    root._bokeh_is_loading = undefined;\n  }\n\n\n  if (typeof (root._bokeh_timeout) === \"undefined\" || force === true) {\n    root._bokeh_timeout = Date.now() + 5000;\n    root._bokeh_failed_load = false;\n  }\n\n  const NB_LOAD_WARNING = {'data': {'text/html':\n     \"<div style='background-color: #fdd'>\\n\"+\n     \"<p>\\n\"+\n     \"BokehJS does not appear to have successfully loaded. If loading BokehJS from CDN, this \\n\"+\n     \"may be due to a slow or bad network connection. Possible fixes:\\n\"+\n     \"</p>\\n\"+\n     \"<ul>\\n\"+\n     \"<li>re-rerun `output_notebook()` to attempt to load from CDN again, or</li>\\n\"+\n     \"<li>use INLINE resources instead, as so:</li>\\n\"+\n     \"</ul>\\n\"+\n     \"<code>\\n\"+\n     \"from bokeh.resources import INLINE\\n\"+\n     \"output_notebook(resources=INLINE)\\n\"+\n     \"</code>\\n\"+\n     \"</div>\"}};\n\n  function display_loaded() {\n    const el = document.getElementById(null);\n    if (el != null) {\n      el.textContent = \"BokehJS is loading...\";\n    }\n    if (root.Bokeh !== undefined) {\n      if (el != null) {\n        el.textContent = \"BokehJS \" + root.Bokeh.version + \" successfully loaded.\";\n      }\n    } else if (Date.now() < root._bokeh_timeout) {\n      setTimeout(display_loaded, 100)\n    }\n  }\n\n  function run_callbacks() {\n    try {\n      root._bokeh_onload_callbacks.forEach(function(callback) {\n        if (callback != null)\n          callback();\n      });\n    } finally {\n      delete root._bokeh_onload_callbacks\n    }\n    console.debug(\"Bokeh: all callbacks have finished\");\n  }\n\n  function load_libs(css_urls, js_urls, callback) {\n    if (css_urls == null) css_urls = [];\n    if (js_urls == null) js_urls = [];\n\n    root._bokeh_onload_callbacks.push(callback);\n    if (root._bokeh_is_loading > 0) {\n      console.debug(\"Bokeh: BokehJS is being loaded, scheduling callback at\", now());\n      return null;\n    }\n    if (js_urls == null || js_urls.length === 0) {\n      run_callbacks();\n      return null;\n    }\n    console.debug(\"Bokeh: BokehJS not loaded, scheduling load and callback at\", now());\n    root._bokeh_is_loading = css_urls.length + js_urls.length;\n\n    function on_load() {\n      root._bokeh_is_loading--;\n      if (root._bokeh_is_loading === 0) {\n        console.debug(\"Bokeh: all BokehJS libraries/stylesheets loaded\");\n        run_callbacks()\n      }\n    }\n\n    function on_error(url) {\n      console.error(\"failed to load \" + url);\n    }\n\n    for (let i = 0; i < css_urls.length; i++) {\n      const url = css_urls[i];\n      const element = document.createElement(\"link\");\n      element.onload = on_load;\n      element.onerror = on_error.bind(null, url);\n      element.rel = \"stylesheet\";\n      element.type = \"text/css\";\n      element.href = url;\n      console.debug(\"Bokeh: injecting link tag for BokehJS stylesheet: \", url);\n      document.body.appendChild(element);\n    }\n\n    for (let i = 0; i < js_urls.length; i++) {\n      const url = js_urls[i];\n      const element = document.createElement('script');\n      element.onload = on_load;\n      element.onerror = on_error.bind(null, url);\n      element.async = false;\n      element.src = url;\n      console.debug(\"Bokeh: injecting script tag for BokehJS library: \", url);\n      document.head.appendChild(element);\n    }\n  };\n\n  function inject_raw_css(css) {\n    const element = document.createElement(\"style\");\n    element.appendChild(document.createTextNode(css));\n    document.body.appendChild(element);\n  }\n\n  const js_urls = [\"https://cdn.bokeh.org/bokeh/release/bokeh-3.3.4.min.js\", \"https://cdn.bokeh.org/bokeh/release/bokeh-gl-3.3.4.min.js\", \"https://cdn.bokeh.org/bokeh/release/bokeh-widgets-3.3.4.min.js\", \"https://cdn.bokeh.org/bokeh/release/bokeh-tables-3.3.4.min.js\", \"https://cdn.bokeh.org/bokeh/release/bokeh-mathjax-3.3.4.min.js\"];\n  const css_urls = [];\n\n  const inline_js = [    function(Bokeh) {\n      Bokeh.set_log_level(\"info\");\n    },\nfunction(Bokeh) {\n    }\n  ];\n\n  function run_inline_js() {\n    if (root.Bokeh !== undefined || force === true) {\n          for (let i = 0; i < inline_js.length; i++) {\n      inline_js[i].call(root, root.Bokeh);\n    }\n} else if (Date.now() < root._bokeh_timeout) {\n      setTimeout(run_inline_js, 100);\n    } else if (!root._bokeh_failed_load) {\n      console.log(\"Bokeh: BokehJS failed to load within specified timeout.\");\n      root._bokeh_failed_load = true;\n    } else if (force !== true) {\n      const cell = $(document.getElementById(null)).parents('.cell').data().cell;\n      cell.output_area.append_execute_result(NB_LOAD_WARNING)\n    }\n  }\n\n  if (root._bokeh_is_loading === 0) {\n    console.debug(\"Bokeh: BokehJS loaded, going straight to plotting\");\n    run_inline_js();\n  } else {\n    load_libs(css_urls, js_urls, function() {\n      console.debug(\"Bokeh: BokehJS plotting callback run at\", now());\n      run_inline_js();\n    });\n  }\n}(window));"
          },
          "metadata": {}
        },
        {
          "output_type": "display_data",
          "data": {
            "text/html": [
              "\n",
              "  <div id=\"cd617088-caf2-4992-b10a-324fa3bd7e9c\" data-root-id=\"p1039\" style=\"display: contents;\"></div>\n"
            ]
          },
          "metadata": {}
        },
        {
          "output_type": "display_data",
          "data": {
            "application/javascript": [
              "(function(root) {\n",
              "  function embed_document(root) {\n",
              "  const docs_json = {\"37a255c1-eb1c-43de-9238-51f3e75349ba\":{\"version\":\"3.3.4\",\"title\":\"Bokeh Application\",\"roots\":[{\"type\":\"object\",\"name\":\"Figure\",\"id\":\"p1039\",\"attributes\":{\"x_range\":{\"type\":\"object\",\"name\":\"DataRange1d\",\"id\":\"p1040\"},\"y_range\":{\"type\":\"object\",\"name\":\"DataRange1d\",\"id\":\"p1041\"},\"x_scale\":{\"type\":\"object\",\"name\":\"LinearScale\",\"id\":\"p1049\"},\"y_scale\":{\"type\":\"object\",\"name\":\"LinearScale\",\"id\":\"p1050\"},\"title\":{\"type\":\"object\",\"name\":\"Title\",\"id\":\"p1042\",\"attributes\":{\"text\":\"2-dim embeddings space\"}},\"renderers\":[{\"type\":\"object\",\"name\":\"GlyphRenderer\",\"id\":\"p1067\",\"attributes\":{\"data_source\":{\"type\":\"object\",\"name\":\"ColumnDataSource\",\"id\":\"p1036\",\"attributes\":{\"selected\":{\"type\":\"object\",\"name\":\"Selection\",\"id\":\"p1037\",\"attributes\":{\"indices\":[],\"line_indices\":[]}},\"selection_policy\":{\"type\":\"object\",\"name\":\"UnionRenderers\",\"id\":\"p1038\"},\"data\":{\"type\":\"map\",\"entries\":[[\"x\",[-0.1910364031791687,0.06250686943531036,0.10610561817884445,0.07690873742103577,-0.08216733485460281,0.022625824436545372,0.3954436779022217,0.12652131915092468,0.08581443130970001,0.035531606525182724,-0.004646113142371178,0.0718265250325203,-0.1661570519208908,-0.06558991968631744,0.01621529832482338,-0.1282677799463272,0.031372684985399246,-0.0047452738508582115,-0.09687855839729309,-0.2284286916255951,0.0932859405875206,0.14630885422229767,-0.10156098008155823,-0.09927194565534592,0.200058251619339,0.10224413871765137,0.0044229906052351,-0.1478276401758194,-0.10544587671756744,-0.5933288335800171,-0.01298917829990387,0.09282730519771576,0.10562922805547714,-0.050351981073617935,-0.18252281844615936,-0.0026351497508585453,0.0597507506608963,-0.07558675855398178,0.013074997812509537,0.09519253671169281,-0.09403237700462341,0.06605575233697891,-0.14058558642864227,0.11981088668107986,-0.0899287760257721,-0.206391841173172,-0.1136031374335289,-0.04784943535923958,-0.011317800730466843,-0.05051664635539055,-0.849593997001648,0.21292927861213684,-0.0444214791059494,0.07902126759290695,-0.016008106991648674,-0.02397247590124607,-0.07324449717998505,-0.2515513300895691,0.034565508365631104,0.12815196812152863,-0.2127532660961151,-0.06525137275457382,-0.8222202658653259,-0.3397150933742523,-0.03942137956619263,0.15780428051948547,-0.19093990325927734,0.004694393835961819,-0.2612262964248657,0.18797220289707184,-0.0519145168364048,-0.13865557312965393,0.053653545677661896,-0.09878534078598022,0.03840629383921623,0.08341240137815475,-0.056574463844299316,0.13130374252796173,0.08640961349010468,0.04639940708875656,0.06086799129843712,-0.7071685791015625,0.16049857437610626,-0.012159619480371475,0.13126373291015625,-0.04499891772866249,0.1428544819355011,0.005912365857511759,0.5015949606895447,0.012590243481099606,-0.08287139236927032,-0.37987083196640015,-0.10041244328022003,0.10235635936260223,-0.17660245299339294,0.06120985373854637,1.0793439149856567,0.23570576310157776,0.0275168027728796,-0.03506229445338249,0.1358731985092163,0.12829437851905823,0.5168659687042236,0.10967324674129486,0.02877751924097538,0.09988176077604294,0.09715359658002853,-0.6677750945091248,0.33910778164863586,-0.785007655620575,0.22498208284378052,-0.291375994682312,0.07493720948696136,0.4332191050052643,0.162492036819458,-0.13558053970336914,-0.21015672385692596,-0.07356240600347519,-0.18285728991031647,-0.34073084592819214,0.06031128019094467,-0.2817299962043762,0.012098885141313076,0.07857543975114822,-0.15832625329494476,-0.07498160749673843,0.2425745129585266,-0.441901296377182,-0.6873747706413269,0.13349133729934692,-0.10625944286584854,-0.04196828976273537,-0.24849437177181244,0.07325788587331772,0.2754018306732178,-0.2183084487915039,-0.34909722208976746,-0.5114464163780212,-0.23767368495464325,0.14010301232337952,-0.5398382544517517,-0.06717134267091751,0.312017023563385,-0.006794886663556099,-0.044250231236219406,-0.3420756161212921,0.26298192143440247,-0.6695272922515869,-0.4054296612739563,-0.2896442115306854,-0.056344665586948395,-0.08019749820232391,0.003512658178806305,-0.4585801959037781,0.16037146747112274,0.3611939251422882,0.06522740423679352,0.2161237597465515,0.5693384408950806,0.11294641345739365,-0.16715092957019806,0.17866089940071106,0.014557743445038795,-0.2086397111415863,-0.019864927977323532,0.010586285963654518,-0.10554236173629761,-0.1825857013463974,-0.3298664689064026,0.23868919909000397,0.4793371558189392,-0.1347632110118866,-0.24337059259414673,-0.02603345364332199,-0.05527644231915474,-0.2834622263908386,-0.20887154340744019,0.10686150938272476,-0.5406512022018433,0.1767975389957428,-0.17518383264541626,-0.10612999647855759,-0.05126412585377693,-0.2753269672393799,-0.07738619297742844,0.2729977071285248,0.06783314794301987,-0.17345228791236877,0.5627555251121521,-0.02139505371451378,0.2816700041294098,-0.16904906928539276,0.5898369550704956,-0.2849750816822052,0.09050319343805313,-0.17023253440856934,-0.10903118550777435,-0.13673672080039978,0.2512019872665405,0.33793237805366516,0.17770814895629883,-0.05959400534629822,-0.19281445443630219,0.05192369595170021,-0.05889363959431648,-0.7772241234779358,-0.09851502627134323,0.14981824159622192,-0.22434686124324799,0.06233435124158859,-0.5012610554695129,-0.08012142777442932,0.06127637252211571,-0.19695883989334106,-0.057204365730285645,0.6965078115463257,0.06639926880598068,-0.6864530444145203,0.667603075504303,0.2851080298423767,0.17587248980998993,-0.015127751044929028,-0.09648589044809341,0.18820953369140625,-0.04759753495454788,0.1844017207622528,-0.38351568579673767,-0.4928513169288635,-0.11576991528272629,-0.4037562310695648,-0.30690881609916687,-0.15180204808712006,0.13097207248210907,-0.12169545143842697,-0.1310798078775406,0.08008946478366852,-0.21489135921001434,0.04394564777612686,-0.08406028151512146,-0.016562242060899734,-0.15923532843589783,-0.2190488576889038,-0.2114543467760086,0.14131297171115875,-0.09292703121900558,0.14811570942401886,-0.2404901534318924,0.7182893753051758,0.03965654969215393,-0.17092663049697876,-0.30276715755462646,-0.21220874786376953,-0.12245853245258331,-0.6325974464416504,-0.0636829137802124,-0.2692623436450958,0.13300035893917084,0.256639689207077,0.018958372995257378,0.0447356179356575,-0.03990558162331581,0.2547444701194763,-0.054717179387807846,-0.1458398997783661,-0.2345123142004013,0.3313003480434418,-0.0957724004983902,-0.38243046402931213,0.362064927816391,-0.10578274726867676,0.14481408894062042,0.3601386845111847,-0.29093098640441895,0.11670635640621185,-0.45144614577293396,-0.021695399656891823,-0.2820475995540619,0.14399884641170502,0.1845046430826187,0.12851986289024353,-0.1304100900888443,-0.26029154658317566,-0.7825071811676025,-0.9240683913230896,-1.0762715339660645,-0.0016606617718935013,-0.3483982980251312,0.22048988938331604,0.15064868330955505,-0.03791587054729462,-0.2941397428512573,-0.030727826058864594,0.29134616255760193,-0.2873516380786896,0.2473568320274353,0.16883152723312378,0.07153890281915665,-0.06247604638338089,-0.1314459592103958,0.07026174664497375,0.054245684295892715,-0.0453643724322319,0.13096529245376587,-0.21547454595565796,0.2514958381652832,0.2291199117898941,-0.05458744987845421,0.37951216101646423,-0.44418731331825256,-0.4585217237472534,-0.0541052520275116,0.0691651850938797,0.15344011783599854,-0.22510257363319397,-0.6421619057655334,0.23022562265396118,0.07965455949306488,0.12983326613903046,-0.1124214306473732,0.262410044670105,0.2793651521205902,-0.053461164236068726,0.33774852752685547,0.8308707475662231,0.3574832081794739,0.20069080591201782,0.3369005024433136,0.11338306963443756,-0.08584927022457123,-0.15451543033123016,0.1457384079694748,0.14090940356254578,-0.03680214658379555,-0.08061175793409348,-0.02906462736427784,-0.8299127221107483,0.10261069983243942,0.15198984742164612,-0.04495137184858322,0.09691105782985687,0.22308973968029022,0.16786274313926697,-0.04635018855333328,-0.17467932403087616,-0.2536369860172272,0.3667578101158142,0.43831542134284973,-0.3642697334289551,-0.33879554271698,0.2508971393108368,-0.33322396874427795,-0.2716962993144989,-0.507664680480957,0.43335121870040894,-0.26342687010765076,0.1464945673942566,-0.09244465082883835,-0.14442405104637146,-0.05210157483816147,0.18428537249565125,-0.1572299301624298,-0.31391075253486633,0.2977985739707947,0.15618132054805756,-0.46213188767433167,-0.1803276389837265,0.010828854516148567,-0.03641389682888985,0.3472658693790436,0.39407017827033997,0.20186689496040344,0.04703979566693306,0.030883194878697395,-0.21667461097240448,0.034702036529779434,0.057423561811447144,0.34497329592704773,-0.11231087893247604,-0.002152369823306799,0.002246714197099209,1.082412838935852,0.00799440499395132,-0.4644983112812042,0.03177446499466896,-0.030425408855080605,-0.3451370298862457,-0.03600269928574562,0.08113791793584824,0.2166651040315628,0.09195142984390259,-0.01945246197283268,-0.21790848672389984,0.6263220906257629,0.04166547581553459,-0.09740655869245529,0.4085656702518463,0.03976999968290329,-0.1712227612733841,0.10040160268545151,0.22935856878757477,-0.28354015946388245,0.010522105731070042,0.518497884273529,0.06790423393249512,0.0467599518597126,-0.005305604077875614,-0.688630223274231,0.004832223057746887,1.2053817510604858,0.04649781808257103,-0.3236411213874817,0.1360485851764679,0.08744531869888306,-0.2750391960144043,-0.11953242123126984,-0.02127229794859886,-0.4724152982234955,-0.42098909616470337,0.054460715502500534,0.22657367587089539,-0.2896789312362671,0.3806670308113098,0.10325059294700623,-0.581046998500824,0.03579860180616379,0.026544669643044472,-0.019672440364956856,0.14437103271484375,-0.147386372089386,-0.08119549602270126,-0.3045212924480438,-0.07532598823308945,-0.6951361894607544,0.003855330403894186,-0.42418766021728516,-0.1784960925579071,-0.18593986332416534,-0.3511563539505005,0.11729910224676132,-0.06314440071582794,-0.1575399488210678,0.08712796121835709,0.2157215029001236,0.17071545124053955,-0.1922142207622528,-0.10028739273548126,0.5947539210319519,0.17497529089450836,0.16841194033622742,0.283775269985199,0.12094435840845108,-0.10834279656410217,-0.3051482141017914,-0.10633093118667603,-0.3914271295070648,0.0866524949669838,-0.013938439078629017,-0.19670866429805756,0.6228926777839661,-0.21429313719272614,-0.06365545094013214,0.3474382162094116,-0.26462364196777344,-0.2030944526195526,-0.17938929796218872,0.00893310271203518,0.22159399092197418,-0.04434456676244736,-0.33853116631507874,-0.3554725646972656,0.054583702236413956,-0.3253113925457001,-0.0030177454464137554,-0.20022077858448029,0.3064875602722168,-0.520234227180481,-0.0959254577755928,-0.30133524537086487,0.9365516901016235,-0.13111552596092224,0.1402597278356552,0.1546553075313568,-0.2696080505847931,0.4189145267009735,-0.1397830694913864,0.07386514544487,0.2522124648094177,0.10500034689903259,0.1850963830947876,-0.06019451841711998,0.0932244136929512,0.058293674141168594,0.013194968923926353,-0.00826204288750887,-0.609967827796936,-0.47468021512031555,0.012772899121046066,-0.41035768389701843,0.24717986583709717,-0.4380076825618744,-0.581051766872406,-0.0628252774477005,0.07780754566192627,-0.0597078762948513,0.3924991488456726,0.11902935802936554,-0.5775487422943115,-1.1471353769302368,0.19229035079479218,-0.06415794044733047,0.28396323323249817,-0.004655172117054462,-0.6121172308921814,0.3164220154285431,0.07214370369911194,-0.00647932942956686,-0.27445003390312195,-0.09339175373315811,0.09059205651283264,-0.20669159293174744,-0.07216046750545502,-0.17799648642539978,-0.1015387624502182,-0.11210884153842926,0.07281459122896194,0.03145638108253479,0.03800167515873909,0.08859971165657043,-0.11194051057100296,-0.5556495785713196,0.3984798491001129,-0.3204992413520813,-0.10763020068407059,0.2435193955898285,0.07344019412994385,-0.12803398072719574,0.04895451292395592,-0.4487398564815521,0.04122200980782509,-0.278390109539032,0.23351231217384338,0.4967465102672577,0.07365427911281586,-0.2343778908252716,-0.39194419980049133,-0.009631354361772537,0.28551438450813293,-0.30859166383743286,0.2979564070701599,0.18387266993522644,0.03851376473903656,0.2522520422935486,0.6412488222122192,-0.3863649070262909,-0.24862372875213623,-0.47182419896125793,-0.17864607274532318,0.07818207144737244,0.20389249920845032,-0.24945153295993805,0.12814012169837952,-0.6433425545692444,-0.22101300954818726,0.35630542039871216,0.42465677857398987,-0.25870996713638306,-0.3815319836139679,-0.07806403189897537,0.1850370466709137,-0.3188399374485016,0.021285979077219963,0.8319028615951538,-0.08778364956378937,-0.32965609431266785,0.050173286348581314,-0.12449640780687332,-0.14644494652748108,0.14995093643665314,-0.09056070446968079,-0.2558659613132477,-0.011870410293340683,0.23924793303012848,0.09200345724821091,0.12975814938545227,0.48411136865615845,-0.05150587856769562,-0.4304088354110718,-0.19679142534732819,-0.4320127069950104,-0.16494439542293549,-0.1612587571144104,-0.9660828709602356,0.18024195730686188,0.16724124550819397,-0.11248607188463211,0.5553913116455078,0.0819823145866394,0.36606717109680176,0.4494035840034485,-0.3290611207485199,0.05454537272453308,0.06374844908714294,-0.15422718226909637,-0.14438575506210327,-0.10219383239746094,0.22289563715457916,0.2141844481229782,-0.10136809945106506,-0.022064782679080963,-0.1681048721075058,0.050777796655893326,0.0010655708611011505,0.08632000535726547,-0.13184449076652527,0.2528113126754761,0.1492936611175537,0.0823032483458519,0.16839568316936493,0.2456921637058258,-0.1658831536769867,-0.255675345659256,-0.09569963067770004,0.010202708654105663,0.3431991934776306,0.2104177623987198,-0.2565933167934418,0.059030141681432724,-0.3317130208015442,0.4218425452709198,-0.18624430894851685,0.33185628056526184,-0.20744292438030243,0.028417203575372696,-0.24999159574508667,-0.10172997415065765,-0.14575955271720886,-0.37159013748168945,0.2692703604698181,0.039152782410383224,0.05359470844268799,0.24259258806705475,-0.17302554845809937,0.2040770947933197,0.15059973299503326,-0.25991377234458923,-0.36256682872772217,-0.5503474473953247,0.12727105617523193,0.23243480920791626,-0.08173931390047073,-0.04777025431394577,0.13831602036952972,-0.32641077041625977,0.42042073607444763,-0.879115641117096,-0.022287309169769287,0.12801451981067657,-0.23119927942752838,-0.16375982761383057,-1.0345898866653442,0.6954399347305298,-0.6066300868988037,0.4084467589855194,-0.09719132632017136,0.34615567326545715,-0.08083494007587433,0.2936297357082367,0.4228484332561493,-0.3723231852054596,-0.09919968992471695,-0.3667489290237427,-0.11632347851991653,-0.1913704127073288,0.10297878831624985,-0.040076352655887604,-0.4391627907752991,-0.039038579910993576,-0.07583044469356537,0.17902588844299316,0.0984480082988739,0.31470826268196106,-0.15366582572460175,0.14641173183918,1.0514224767684937,-0.16105370223522186,-0.3742673993110657,-0.06708475202322006,-0.5020774006843567,-0.058769941329956055,-0.21456393599510193,0.2789003551006317,0.073372982442379,-0.1149638444185257,-0.07913777232170105,-0.20159950852394104,-0.06811685860157013,-0.043835368007421494,-0.09836674481630325,-0.07656989991664886,-0.19391928613185883,-0.24068336188793182,0.13527284562587738,-0.0936276987195015,-0.7046315670013428,-0.6798684597015381,-0.7651019096374512,-0.2282402515411377,0.7856107950210571,0.5799670815467834,-0.1569828987121582,-0.3576418161392212,-0.1133587658405304,0.12131450325250626,0.1560317724943161,0.6313267350196838,0.5359989404678345,0.07147230207920074,0.04451650381088257,-0.2446361929178238,0.04195747524499893,0.1085372343659401,0.15790273249149323,-0.045666154474020004,-0.104147769510746,-0.22814145684242249,-0.5437275171279907,-0.050946444272994995,0.20650365948677063,-0.7858464121818542,-0.13802051544189453,-0.27557528018951416,-0.13272343575954437,-0.09157019108533859,-0.2555822432041168,0.10291637480258942,0.04196734353899956,-0.41090208292007446,0.020575275644659996,0.04743041843175888,-0.18492799997329712,-0.15662933886051178,0.13875533640384674,0.14097042381763458,-0.3357238173484802,-0.48270317912101746,0.2555176019668579,0.38398751616477966,0.18896931409835815,0.005146168638020754,-0.04971414804458618,0.2629784643650055,-0.5130707025527954,-0.367156982421875,0.1832670122385025,0.049160029739141464,-0.24755583703517914,-0.11797041445970535,-0.12331508100032806,0.6111119389533997,-0.21228116750717163,0.03892045468091965,0.1881568878889084,0.16298629343509674,0.0517658032476902,0.0040407944470644,-0.3801285922527313,0.4247806668281555,0.2622673511505127,0.128702312707901,-0.07641064375638962,-0.2905362844467163,-0.6446301341056824,-0.1365889012813568,0.2380191683769226,-0.32845285534858704,-0.42150500416755676,-0.050950683653354645,0.24513988196849823,-0.150633305311203,-0.2608760595321655,-0.4781586527824402,-0.08211987465620041,0.2422378659248352,-0.294309139251709,0.16526858508586884,-0.310432493686676,-0.10230398178100586,-0.2982897162437439,-0.34216445684432983,-0.6828463077545166,0.16125071048736572,0.6239398717880249,0.8057647943496704,0.10192394256591797,0.8715117573738098,0.1755027323961258,0.1821328103542328,-0.14307880401611328,0.356036901473999,-0.03654421120882034,-0.39466845989227295,0.1746685653924942,-0.04482802003622055,-0.21606791019439697,0.3225937485694885,-0.18067814409732819,0.2965606153011322,0.02220778726041317,-0.08760253340005875,-0.09126927703619003,0.24215823411941528,0.09818113595247269,0.06539714336395264,0.7540164589881897,0.22087959945201874,0.40201982855796814,0.20462726056575775,-0.208097442984581,0.22441886365413666,-0.06583085656166077,0.02963959239423275,0.18597638607025146,0.420369952917099,-0.13177107274532318,-0.3906409740447998,0.102643683552742,0.055696260184049606,0.07563434541225433,0.32620909810066223,0.37910813093185425,-0.26368632912635803,-0.1013813242316246,0.7152041792869568,-0.11590342223644257,-0.13797172904014587,0.30123767256736755,0.1951853185892105,0.3956567049026489,-0.23390674591064453,0.26714274287223816,0.35734647512435913,0.2321576327085495,-0.2074999362230301,-0.14011406898498535,-0.04074607789516449,-0.10494639724493027,-0.16427063941955566,0.22299233078956604,0.22444726526737213,0.14369994401931763,0.1394035667181015,0.015160487964749336,0.026167236268520355,-0.1560828983783722,0.35239875316619873,0.193923220038414,-0.007659685332328081,-0.09958464652299881,-0.2558746933937073,0.3737075626850128,-0.16191279888153076,0.00255842343904078,0.015706166625022888,0.12977376580238342,-0.42334210872650146,0.5827646255493164,-0.2742822766304016,-0.0693228617310524,-0.20999903976917267,-0.36597827076911926,-0.31329914927482605,0.5386654138565063,-0.5639395713806152,0.8316870927810669,-0.357372909784317,0.19931410253047943,0.238371342420578,0.2266043871641159,0.08653602749109268,0.056804459542036057,0.48782479763031006,-0.2993448078632355,0.14236781001091003,-0.036697108298540115,-0.16382145881652832,-0.08783839643001556,-0.23737582564353943,-0.12530545890331268,-0.21215716004371643,0.006807789672166109,-0.06883837282657623,-0.49275150895118713,-0.8115753531455994,-0.0012671201257035136,-0.07408788055181503,0.08411800116300583,-0.1119549497961998,-0.30789467692375183,0.2100265920162201,-0.09734327346086502,0.3395000696182251,0.1478932499885559,-0.1925486922264099,-0.1280699372291565,-0.03718362748622894,-0.11117368191480637,-0.25884291529655457,-0.7890647053718567,-0.20809338986873627,-0.052767522633075714,-0.22372446954250336,-0.1518421620130539,-0.16827474534511566,-0.09157469123601913,-0.586869478225708,0.2548695504665375,-0.004199268762022257,0.1565753072500229,-0.32545217871665955,0.022453252226114273,0.1320706605911255,0.1607869416475296,-0.040335763245821,-0.3613039255142212,-0.1946873962879181,0.7501793503761292,-0.13718758523464203,-0.0004723583988379687,-0.2269347608089447,0.1655917912721634,0.11603265255689621,0.07238510251045227,-0.028342638164758682,0.08883009850978851,0.006840521469712257,-0.307125449180603,-0.28345584869384766,-0.01501621212810278,0.225859597325325,0.2883758842945099,-0.4036311209201813,0.09390779584646225,0.21761144697666168,0.2158220261335373,-0.0413232147693634,-0.506660521030426,0.164342999458313,-0.07583201676607132,0.004459437448531389,-0.003807887900620699,-0.1739560216665268,-0.5879485011100769,0.06796085834503174,0.36490800976753235,0.6633558869361877,0.5910032987594604,-0.07157916575670242,-0.13715268671512604,-0.5788326263427734,-0.01912032626569271,-0.2973588705062866,0.8210793733596802,0.6938242316246033,-0.3246535062789917,-0.08829040080308914,0.23368969559669495,0.17736099660396576,0.05715694651007652,-0.14519211649894714,0.09265182912349701,0.04066202789545059,-0.1263827681541443,-0.01102929562330246,0.23191307485103607,-0.20859873294830322,-0.26401665806770325,0.2144279032945633,0.713711142539978,-0.047705136239528656,-0.6528363823890686,0.6158462166786194,0.7160606384277344,0.17051371932029724,0.2575497329235077,0.27742788195610046,0.12646564841270447,-0.009764072485268116,0.08266866207122803,-0.3081144094467163,-0.014364108443260193,-0.12014121562242508,0.1780208945274353,0.11643464863300323,0.2957042157649994,-0.36213037371635437,-0.011693021282553673,0.1938394010066986,-0.040642570704221725,0.022666914388537407,0.15504981577396393,-0.05744149163365364,0.24429893493652344,0.16722024977207184,0.07361111789941788,-0.30532899498939514,-0.0058020553551614285,-0.39561522006988525,-0.27173057198524475,-0.297673761844635,0.278665155172348,-0.47436437010765076,-0.29515665769577026,0.5717283487319946,0.2360556721687317,0.17494571208953857,-0.19835662841796875,0.7879242897033691,0.05358520522713661,-0.05391666293144226,0.1697499305009842,-0.11388442665338516,0.16731268167495728,-0.4111630618572235,-0.4461140036582947,0.045049335807561874,0.07580401748418808,0.04032805562019348,-0.06990242749452591,0.1528257578611374,-0.1300094872713089,0.027436772361397743,0.06042486056685448,-0.018823977559804916,-0.18029768764972687,-0.16615861654281616,-0.15630000829696655,-0.04059915989637375,0.02137354202568531,-0.15466979146003723,0.05189645662903786,0.3059224486351013,0.07299091666936874,-0.054640449583530426,0.37473103404045105,0.15240101516246796,-0.43890580534935,0.2077115774154663,0.8811815977096558,0.2760450541973114,0.6044732928276062,0.335610568523407,-0.11852088570594788,0.33794641494750977,-0.0520152673125267,0.07150670886039734,-0.3902391791343689,0.14063696563243866,0.39719751477241516,-0.12600268423557281,-0.56356281042099,0.19724233448505402,-0.1887664943933487,-0.005656152032315731,-0.25467368960380554,0.6294882297515869,0.16259709000587463,-0.043921224772930145,-0.03937576711177826,-0.18141460418701172,-0.2352936863899231,0.22330863773822784,0.3886735439300537,0.15768985450267792,0.14984995126724243,-0.04689229652285576,-0.17853842675685883,0.39892780780792236,-0.22765883803367615,-0.5265587568283081,-0.5032966136932373,-0.029839180409908295,0.5172519683837891,0.23106622695922852,-0.3174723982810974,0.04813424497842789,0.011691299267113209,0.35183000564575195,-0.09666254371404648,0.24778547883033752,-0.10639673471450806,0.08838406205177307,0.22950570285320282,-0.005888929590582848,0.3715022802352905,0.07983539253473282,-0.17415796220302582,-0.09890952706336975,0.32369929552078247,0.0032737134024500847,0.29668503999710083,-0.05166821554303169,0.059869423508644104,-0.2545353174209595,0.22509324550628662,0.2804390490055084,0.013633565977215767,0.3176579773426056,0.08034796267747879,-0.12918820977210999,-0.323597252368927,-0.31034010648727417,0.03312141075730324,-0.14117218554019928,-0.3773970305919647,-0.09233876317739487,0.26963475346565247,-0.6124532222747803,0.21425361931324005,-0.11344285309314728,-0.2190467268228531,-0.2710241377353668,-0.11216162145137787,-0.10162120312452316,0.10410895943641663,0.7757985591888428,-0.03924771770834923,0.6292886137962341,0.21510961651802063,0.15632674098014832,-0.32121506333351135,0.00981589499861002,-0.047229599207639694,0.35265013575553894,-0.07824906706809998,-0.3937801122665405,0.16735810041427612,-0.1124698594212532,-0.07186489552259445,0.12763670086860657,-0.15780049562454224,-0.38306477665901184,-0.16347993910312653,-0.23049338161945343,0.12808525562286377,0.2036844789981842,-0.07939017564058304,-0.6955918669700623,0.07738850265741348,0.20283259451389313,0.040454939007759094,0.2452070415019989,0.28855016827583313,0.242209330201149,0.010909435339272022,-0.2179565131664276,-0.38360029458999634,0.0031968546099960804,0.1796901971101761,-0.456806480884552,0.13279321789741516,0.3934705853462219,0.0926487147808075,0.19569231569766998,0.6061251759529114,0.10840723663568497,-0.3388694226741791,0.3062015175819397,0.4189731776714325,0.012897281907498837,0.04125101864337921,-0.0662447139620781,0.7448849678039551,-0.3123506009578705,-0.24824652075767517,-0.4423110783100128,-0.7734237313270569,0.08753450959920883,0.6691876649856567,0.36283567547798157,0.0862836018204689,0.4293959438800812,0.02588864229619503,0.049240678548812866,-0.41705334186553955,-0.6423940062522888,-0.5320077538490295,-0.10603363811969757,-0.049687132239341736,-0.243011012673378,0.09363725781440735,-0.19097037613391876,-0.26994189620018005,-0.32297056913375854,0.26465314626693726,0.07461930066347122,-0.3073068857192993,-0.4509306848049164,-0.2983382046222687,0.02371109463274479,-0.7693316340446472,-0.19684478640556335,-0.31073513627052307,-0.15403033792972565,0.17503975331783295,0.18784742057323456,0.3401659429073334,-0.13575442135334015,0.34183886647224426,0.5035136938095093,0.5862288475036621,0.558317244052887,0.18423210084438324,0.7407640814781189,0.3435477912425995,0.28914976119995117,-0.31267982721328735,0.1108403131365776,0.09584681689739227,-0.2516036033630371,0.3602830767631531,0.05311125889420509,0.5292221903800964,0.15373697876930237,-0.17851293087005615,-0.17922839522361755,-0.3349810242652893,-0.4641101658344269,0.1858207732439041,-0.45408540964126587,-0.16576768457889557,0.33875638246536255,-0.01733575202524662,-0.4133645296096802,0.4245835542678833,0.4345284402370453,0.35616642236709595,0.24205435812473297,-0.018631812185049057,0.03361210227012634,-0.4320133626461029,-0.18612170219421387,-0.0892290398478508,-0.07239150255918503,0.06422103196382523,-0.4306088387966156,0.4672507047653198,-0.07003027200698853,0.0373699888586998,-0.23581624031066895,-0.19166043400764465,-0.35910865664482117,-0.01738620549440384,0.30368563532829285,0.43994641304016113,0.24020622670650482,0.6195298433303833,0.22475603222846985,-0.3296229839324951,0.5242812037467957,0.24016454815864563,0.25906065106391907,-0.39284518361091614,0.28704923391342163,-0.49390679597854614,0.7407763004302979,0.24826854467391968,0.1734338253736496,0.45681560039520264,0.18455806374549866,0.460859090089798,0.08143351227045059,-0.26776453852653503,-0.11583039164543152,0.5182567834854126,-0.420285165309906,-0.10814166814088821,-0.11909189075231552,-0.06077771633863449,0.12204479426145554,0.3545722961425781,-0.03750307485461235,-0.2878912091255188,-0.6308633089065552,-0.3331758677959442,0.12515239417552948,-0.006041924003511667,-0.6875666975975037,0.04887932538986206,-0.1354358047246933,0.24904264509677887,0.050267815589904785,0.16953085362911224,-0.1959155797958374,-0.03972778469324112,-0.25641345977783203,-0.623796820640564,-0.11996950209140778,0.10306985676288605,0.1598149985074997,0.602091372013092,0.01227813120931387,-0.16125419735908508,-0.21208876371383667,0.5233833193778992,0.2656494081020355,-0.3336886763572693,-0.378269761800766,0.21975189447402954,-0.16848954558372498,0.10888940095901489,0.22296325862407684,-0.08950605243444443,0.429465115070343,-0.03198166564106941,-0.058161962777376175,0.4289018213748932,-0.002002796158194542,0.23565369844436646,0.10225539654493332,-0.029595136642456055,0.11464140564203262,-0.14932869374752045,-0.17970508337020874,-0.2897547483444214,0.11968766152858734,-0.32703348994255066,0.35996583104133606,0.19110269844532013,0.11618725955486298,0.24547086656093597,-0.00821156706660986,-0.2938898205757141,0.37759774923324585,0.24500180780887604,0.27171769738197327,0.2041122317314148,0.3005533218383789,0.08676730841398239,0.03881359100341797,-0.3337221145629883,0.18790976703166962,-0.1428944319486618,-0.16843868792057037,-0.3001503050327301,-0.07984037697315216,-0.5711987018585205,-0.4063110947608948,-0.670863926410675,0.3000173568725586,0.08161229640245438,-0.49872028827667236,0.22127653658390045,-0.44229885935783386,0.41077736020088196,0.5897713303565979,-0.5298896431922913,0.06166045367717743,-0.2912067472934723,0.6386539936065674,-0.24972853064537048,0.1533130407333374,-0.32390180230140686,0.7314791083335876,0.2416980266571045,0.1432752162218094,0.03768686577677727,0.29568880796432495,-0.4322216212749481,-0.05443897098302841,-0.0845860093832016,0.40601223707199097,-0.14957372844219208,0.23864172399044037,0.23688113689422607,-0.4140836298465729,-0.5670260787010193,-0.3642757833003998,0.11009726673364639,0.043771110475063324,-0.29787930846214294,-0.21730147302150726,0.5385859608650208,-0.538058340549469,0.26848116517066956,-0.03758701682090759,-0.014175293035805225,0.09435257315635681,-0.053818512707948685,-0.5411484241485596,-0.30416151881217957,-0.24217179417610168,0.38150155544281006,-0.22945144772529602,-0.20245055854320526,0.1737816333770752,-0.658814549446106,0.25252753496170044,-0.06766392290592194,-0.19917921721935272,0.3775145411491394,-0.18375496566295624,-0.030234327539801598,0.18872040510177612,0.2717248797416687,0.07161706686019897,0.013989833183586597,-0.3822478652000427,-0.04174818843603134,0.3079725503921509,0.8178439736366272,0.595342755317688,-0.15949881076812744,-0.2262496054172516,0.2846962809562683,-0.25837385654449463,0.45447883009910583,-0.20513951778411865,-0.1869412511587143,0.16748768091201782,-0.13922572135925293,-0.1677190661430359,-0.6088204383850098,0.21851405501365662,-0.08439765125513077,-0.007067727856338024,0.09009294211864471,0.4779347777366638,0.10438060760498047,0.3492213785648346,0.27696162462234497,0.04456572234630585,-0.2718331813812256,0.02673059143126011,-0.5152947306632996,0.04621363431215286,-0.4831750690937042,-0.00932800117880106,0.020372886210680008,-0.06293314695358276,0.30099567770957947,-0.46309834718704224,0.23083382844924927,0.025220096111297607,-0.5951211452484131,0.4134364426136017,0.36564454436302185,-0.328521192073822,0.0583593025803566,-0.022783955559134483,-0.3963869512081146,0.4200831651687622,-0.08969433605670929,-0.5410425066947937,-0.5745798945426941,0.19061888754367828,0.1488097608089447,0.3031160831451416,0.10231228917837143,-0.26736462116241455,0.41824454069137573,-0.3919844925403595,-0.19001765549182892,0.664762020111084,0.20553264021873474,0.3040337860584259,0.3143962025642395,0.007832792587578297,-0.42143863439559937,0.7073914408683777,0.04704359918832779,-0.5098700523376465,-0.5647253394126892,0.13430772721767426,0.35677263140678406,0.19873198866844177,0.08188953995704651,0.5092520117759705,-0.3260575234889984,-0.38524627685546875,-0.3353457748889923,-0.39155814051628113,0.5816890597343445,0.09745001047849655,0.2330993264913559,0.41663914918899536,0.0027147228829562664,-0.2642156779766083,0.4176208972930908,-0.15174978971481323,0.25373780727386475,0.3123505115509033,-0.17731450498104095,0.0330825075507164,0.4109070599079132,0.3125621974468231,-0.4816915690898895,-0.2747739255428314,0.5598350167274475,-0.2645106315612793,0.3135206401348114]],[\"y\",[0.29535189270973206,-0.03166124224662781,-0.009208135306835175,0.18214422464370728,0.09324067085981369,-0.002230161102488637,-0.5006068348884583,0.04064210504293442,-0.15797065198421478,0.057136137038469315,0.13389499485492706,0.11798601597547531,0.006825118791311979,-0.08929602801799774,0.031774163246154785,-0.014138909056782722,0.04608636721968651,-0.03345617279410362,-0.07411786168813705,0.4207361340522766,0.03557782247662544,-0.16675534844398499,-0.18450619280338287,-0.0870126485824585,-0.09119781851768494,-0.06456693261861801,-0.02120046876370907,0.07191933691501617,-0.17431600391864777,0.587608814239502,-0.017312880605459213,-0.1970071792602539,-0.14400272071361542,0.41739434003829956,-0.077305369079113,0.0744502991437912,-0.1389208883047104,0.08455701917409897,-0.1872890740633011,-0.0009844298474490643,0.07717178761959076,-0.3399180769920349,0.01076523307710886,-0.10104213654994965,0.1607172191143036,0.07327363640069962,0.19794723391532898,-0.045011814683675766,0.06697529554367065,-0.14332954585552216,0.7638545036315918,-0.2698722779750824,0.039360664784908295,-0.24586735665798187,-0.13087405264377594,-0.03279406949877739,-0.13391321897506714,0.09969986230134964,-0.01938963681459427,0.05057298019528389,0.047398850321769714,-0.025021007284522057,0.8784232139587402,0.4282553195953369,0.25687676668167114,-0.28627076745033264,0.14374884963035583,0.05710452049970627,0.2777067720890045,0.193480983376503,0.1415807455778122,0.13453854620456696,-0.02898567169904709,0.1651124805212021,-0.4668455719947815,-0.23611897230148315,-0.04899423196911812,0.03626857325434685,-0.37395140528678894,0.03992573171854019,-0.1146320253610611,1.0538827180862427,0.06531860679388046,-0.1372188776731491,0.038067638874053955,0.132429301738739,-0.12190303206443787,0.13527819514274597,-0.6106029748916626,0.11668343842029572,0.01728629693388939,0.42689189314842224,-0.02581370249390602,0.1266530156135559,-0.10554686188697815,-0.10641801357269287,-0.9426613450050354,-0.09578275680541992,0.1451166272163391,0.1683599054813385,0.04711927846074104,0.08410174399614334,-0.5926994681358337,-0.2876213490962982,-0.016603948548436165,-0.0031689873430877924,0.00783967413008213,0.6850189566612244,-0.06094551458954811,0.9877715110778809,-0.2852581739425659,0.3757378160953522,0.19126856327056885,-0.5165650248527527,-0.15646328032016754,0.07725651562213898,0.13900180160999298,-0.0011302301427349448,0.10834643244743347,0.18366584181785583,-0.2199418991804123,0.10137896239757538,-0.07155001908540726,-0.1027216911315918,0.24128636717796326,0.16683217883110046,-0.11132890731096268,0.7626544833183289,0.6534526944160461,-0.23049846291542053,-0.04986339807510376,-0.00013344382750801742,0.3490332365036011,-0.2916892170906067,-0.08256783336400986,0.30426567792892456,0.5346270799636841,0.47489121556282043,0.1192093938589096,-0.18246418237686157,0.5931715965270996,-0.1404871940612793,-0.24221491813659668,0.10249198973178864,-0.049341391772031784,0.19096969068050385,0.03868567943572998,0.6688264012336731,0.1424405425786972,0.028875885531306267,0.1508796364068985,-0.03691207990050316,0.21031402051448822,0.780624270439148,0.07625199109315872,-0.3840128779411316,0.04544973373413086,0.05421240255236626,-0.44810667634010315,-0.5109587907791138,0.27723661065101624,-0.10943498462438583,0.039097439497709274,0.4500367045402527,0.024179188534617424,-0.007639181800186634,0.049538590013980865,-0.06629692763090134,0.4691515862941742,-0.12799157202243805,-0.3153931498527527,-0.1025576964020729,0.36185431480407715,0.12292928993701935,0.10592765361070633,0.054167743772268295,0.19718730449676514,-0.05103648081421852,0.7327108979225159,-0.07111397385597229,0.046753931790590286,0.1507430523633957,0.00997292622923851,0.18200676143169403,0.22257515788078308,-0.31053146719932556,0.04974367469549179,0.2496085911989212,-0.41924163699150085,0.0775899738073349,-0.04356975480914116,-0.005863544065505266,-0.7590681314468384,0.13780289888381958,0.12253669649362564,0.22735615074634552,0.02138437144458294,0.14826294779777527,-0.0867924690246582,-0.08347698301076889,-0.29644665122032166,0.1704927533864975,-0.054629452526569366,-0.05458329990506172,0.178822323679924,0.6161704659461975,0.17192000150680542,0.049602095037698746,0.05641433969140053,-0.3175220787525177,0.41077467799186707,0.004321782384067774,0.09203623980283737,-0.04841801896691322,-0.5071451663970947,-0.6287984848022461,-0.0268808975815773,0.7975281476974487,-0.49786534905433655,-0.2567349672317505,-0.14484357833862305,0.01199844665825367,-0.039467476308345795,-0.07752806693315506,-0.03634723275899887,-0.33405306935310364,0.42997854948043823,0.5277147889137268,0.014424542896449566,0.4935561716556549,0.26091232895851135,0.043761298060417175,-0.014412921853363514,-0.1270328015089035,0.0670890286564827,0.17684845626354218,0.006802275776863098,-0.1631917804479599,0.03349590674042702,0.038701701909303665,-0.007061372976750135,0.15331067144870758,0.29698917269706726,0.25486066937446594,0.3693728446960449,0.18047016859054565,0.25146928429603577,-0.474885493516922,-0.06972019374370575,0.15478602051734924,0.10221346467733383,0.1958993375301361,0.18401433527469635,0.43505385518074036,0.07577594369649887,0.1960676610469818,-0.04203902930021286,-0.14913393557071686,0.10136555135250092,0.08234558254480362,-0.12316823750734329,-0.3246751129627228,-0.1183331087231636,0.2848164141178131,0.01313010137528181,-0.4179074168205261,0.032433219254016876,0.3022903800010681,-0.4596255421638489,-0.00873609445989132,-0.14164860546588898,-0.5855565071105957,0.14441189169883728,0.02483505569398403,0.5532563924789429,-0.019367612898349762,0.37746867537498474,-0.34231749176979065,-0.16648131608963013,-0.16100621223449707,-0.04235713556408882,0.25266456604003906,0.9457802176475525,1.0111838579177856,1.2655138969421387,-0.06404364109039307,0.20613928139209747,0.1606406718492508,0.2547840178012848,-0.06783440709114075,0.47296780347824097,0.08744113892316818,-0.3561592400074005,0.233013316988945,-0.11538191884756088,-0.10852139443159103,-0.0415935143828392,-0.03859661892056465,-0.07584681361913681,0.03811516985297203,-0.20406371355056763,-0.07223324477672577,-0.06469511985778809,0.2825431525707245,0.009322377853095531,0.13011816143989563,-0.10707664489746094,-0.42099907994270325,0.2770782709121704,0.517772376537323,0.06939435750246048,-0.18835420906543732,-0.11670725047588348,0.19835194945335388,0.6459602117538452,-0.29048311710357666,0.04124252125620842,-0.15000873804092407,0.37186136841773987,-0.22673681378364563,-0.3375859260559082,0.034624505788087845,-0.27967187762260437,-0.8441620469093323,-0.3307955265045166,-0.17104148864746094,-0.5526962280273438,0.10061313956975937,-0.031533412635326385,0.08490226417779922,-0.0893201231956482,-0.13998495042324066,0.04407748207449913,0.24529558420181274,-0.10076215863227844,0.7723595499992371,-0.025009294971823692,-0.1371651291847229,-0.17254067957401276,-0.20935504138469696,-0.06813513487577438,-0.07334930449724197,0.18646562099456787,0.08582224696874619,0.19168740510940552,-0.6803368330001831,-0.3151155710220337,0.16565030813217163,0.22088190913200378,-0.13884875178337097,0.39819416403770447,0.1170920878648758,0.6994839310646057,-0.41929692029953003,0.3641360104084015,-0.38141384720802307,0.030276216566562653,0.21976326406002045,-0.036393292248249054,-0.1929490715265274,0.05658722668886185,0.29214757680892944,-0.4208953380584717,-0.2757818400859833,0.5225583910942078,0.2774476408958435,-0.1779942363500595,0.13586843013763428,-0.0990699753165245,-0.3365646302700043,-0.07980356365442276,-0.2616088092327118,0.1390974223613739,0.1738685667514801,-0.043490830808877945,-0.01240037102252245,-0.2671842575073242,0.027707654982805252,0.10907755047082901,0.0585460364818573,-0.770947277545929,0.037648409605026245,0.7567905783653259,-0.13049286603927612,0.1813669353723526,0.18130531907081604,0.40478354692459106,-0.08877906948328018,-0.2949705719947815,-0.08537735044956207,-0.1026931181550026,0.18057584762573242,-0.5834935307502747,0.1207728162407875,0.08454713225364685,-0.5813045501708984,-0.009298227727413177,0.06644508987665176,-0.06867704540491104,-0.1769406646490097,0.53413987159729,-0.208384707570076,-0.8024097084999084,-0.08288541436195374,0.14838479459285736,0.2065746933221817,0.5934386253356934,-0.14357344806194305,-0.9484748840332031,-0.11422745883464813,0.4474639296531677,-0.24815025925636292,-0.11246711760759354,0.023409701883792877,-0.11660394072532654,0.2057408094406128,0.48946863412857056,0.20815274119377136,-0.06495734304189682,-0.023302102461457253,0.1572936475276947,-0.41927361488342285,0.1447145938873291,0.5976323485374451,-0.06891420483589172,0.037036724388599396,-0.25148919224739075,-0.3941955864429474,0.09766793251037598,0.5103452205657959,0.03572021797299385,0.11623618751764297,0.7082129716873169,0.08299881964921951,0.07177221029996872,0.1293845921754837,0.36827215552330017,0.32156941294670105,0.05535129830241203,0.029569892212748528,0.35029512643814087,-0.6031202673912048,-0.22431260347366333,-0.3273579776287079,0.13850067555904388,0.045067157596349716,-0.6075469851493835,-0.06671988219022751,-0.045505475252866745,-0.3272232115268707,-0.007701201364398003,-0.09263072907924652,0.14036256074905396,0.43280309438705444,0.2974182665348053,-0.0744440108537674,-0.18018634617328644,0.27155598998069763,-0.5330531001091003,0.1467108577489853,0.1371651142835617,-0.12603411078453064,0.2193797528743744,0.08034609258174896,0.2205912172794342,-0.005104557145386934,-0.1724371612071991,0.140542671084404,0.35405927896499634,0.4971259832382202,-0.17684100568294525,0.2691291570663452,-0.0163606908172369,0.06831137835979462,-0.22525642812252045,0.543802797794342,0.09078583866357803,0.22729241847991943,-0.9990808367729187,0.3010464310646057,-0.2483672797679901,-0.05715079605579376,0.3528098464012146,-0.2572011649608612,0.4447499215602875,0.14949540793895721,-0.34278804063796997,-0.274560809135437,-0.03376695141196251,0.1699003428220749,-0.3329585790634155,-0.11138477921485901,0.0040239677764475346,-0.07260548323392868,0.6365170478820801,0.38417673110961914,0.020532559603452682,0.3063431680202484,-0.30482080578804016,0.23538589477539062,0.20180535316467285,-0.09640543162822723,-0.2917283773422241,0.09369536489248276,-0.3250108063220978,-0.029061123728752136,0.5773653984069824,0.9782191514968872,-0.19138379395008087,0.23510751128196716,-0.39579761028289795,-0.01059680711477995,0.5029204487800598,-0.04003259167075157,0.026050623506307602,0.12539614737033844,0.32929760217666626,0.08089396357536316,0.011945780366659164,0.11380346864461899,0.3175179362297058,0.10749771445989609,-0.04881374537944794,0.17234760522842407,-0.07089582830667496,-0.298495888710022,0.10769711434841156,0.0925450474023819,0.2756560742855072,0.5529223084449768,-0.6250377297401428,0.28181299567222595,0.18927866220474243,-0.2780624032020569,0.0905037447810173,0.202686607837677,-0.04990004748106003,0.5338734984397888,-0.12906888127326965,0.14171262085437775,0.017252027988433838,-0.6295344233512878,-0.010274873115122318,0.22641289234161377,0.223472461104393,0.007852375507354736,-0.20653654634952545,0.12445664405822754,-0.36547961831092834,-0.1941385716199875,-0.1291467547416687,-0.07994510978460312,-0.5819756984710693,0.108636274933815,0.42623016238212585,0.3685656189918518,0.1767709106206894,-0.076949343085289,-0.17548154294490814,-0.0354175828397274,-0.20558592677116394,0.8246616721153259,0.20825617015361786,-0.34104016423225403,-0.2595866322517395,0.393496572971344,0.16406212747097015,0.038937047123909,-0.3467033803462982,0.1249312236905098,0.0014705134090036154,-0.7209316492080688,0.14028793573379517,0.18134523928165436,-0.31625470519065857,0.2147035300731659,0.09876519441604614,-0.19721683859825134,0.3538568317890167,0.3495744466781616,-0.1736983358860016,-0.08167774975299835,-0.12306249141693115,-0.3562525808811188,-0.474886029958725,0.1939445286989212,0.36839452385902405,0.3119106590747833,0.3247559666633606,0.4423554539680481,0.028758682310581207,0.9737448692321777,-0.33072274923324585,-0.19162258505821228,0.34794342517852783,-0.273470401763916,-0.005465146619826555,-0.39904817938804626,-0.46632295846939087,0.19379785656929016,-0.04472654312849045,0.05113080516457558,0.19221368432044983,0.19802556931972504,0.0653148740530014,-0.29413944482803345,-0.2962895631790161,-0.013532995246350765,-0.17503724992275238,-0.037444911897182465,0.015448087826371193,-0.10395214706659317,-0.15795813500881195,0.022306060418486595,-0.5343815088272095,-0.0629994124174118,-0.07477035373449326,-0.04218165576457977,-0.37169596552848816,0.11265459656715393,0.2759445309638977,-0.025589600205421448,-0.08910633623600006,-0.39438581466674805,-0.17244648933410645,0.07048768550157547,-0.23040379583835602,0.32475316524505615,-0.29954078793525696,0.1307983696460724,-0.2244061976671219,0.06291625648736954,0.23987692594528198,0.40054818987846375,0.003170076059177518,-0.004319784231483936,0.4614655375480652,-0.28846389055252075,-0.1590632200241089,-0.12127038091421127,-0.27432119846343994,0.3638710379600525,-0.43256211280822754,-0.014565685763955116,0.2369035929441452,0.20647913217544556,0.8103666305541992,-0.19246548414230347,-0.317491739988327,-0.03332291543483734,0.25102534890174866,-0.23815326392650604,0.14420075714588165,-0.20497342944145203,0.8131616711616516,-0.26529115438461304,0.13867764174938202,-0.12738433480262756,0.32870516180992126,0.9724968671798706,-0.5706178545951843,0.5688461065292358,-0.43793636560440063,-0.22174593806266785,-0.10222534835338593,-0.0223646592348814,-0.3351893424987793,-0.43379828333854675,0.11908034235239029,0.05689207836985588,0.25188982486724854,0.16426268219947815,0.19492466747760773,0.0510723702609539,-0.2066110372543335,0.16960975527763367,-0.21154707670211792,0.06092052534222603,-0.06464129686355591,0.04853334650397301,0.1769937127828598,0.046350881457328796,-0.02230730839073658,-0.9043115377426147,0.005201810970902443,0.019307930022478104,0.029383845627307892,0.5736225843429565,0.15558716654777527,0.19350449740886688,-0.04541291669011116,0.012850120663642883,0.1559392362833023,0.20614159107208252,0.18309283256530762,-0.007343726232647896,-0.03396828845143318,0.10072460025548935,0.3991646468639374,0.06340867280960083,0.3646227717399597,-0.052819862961769104,0.07754796743392944,0.6968207955360413,0.5604773759841919,0.7757618427276611,-0.015599118545651436,-0.7550140023231506,-0.370052307844162,-0.08580458909273148,0.3144873082637787,0.1384420394897461,-0.4076976180076599,-0.15702414512634277,-0.27516812086105347,-0.354768842458725,0.08788402378559113,-0.13153527677059174,0.17895177006721497,-0.07991392910480499,-0.08861162513494492,-0.12133945524692535,-0.07768363505601883,0.0745406374335289,0.041349370032548904,0.5098937153816223,-0.10646084696054459,-0.1710725575685501,0.8224400281906128,0.04354801028966904,0.18413332104682922,0.1495070457458496,0.12381062656641006,0.24035890400409698,-0.209586501121521,-0.040271125733852386,0.47149932384490967,0.05319669842720032,-0.17779304087162018,0.1383829563856125,0.2885531485080719,-0.38235124945640564,-0.0779096782207489,0.2364872395992279,0.2831546366214752,0.1586608588695526,-0.2867181897163391,-0.29794609546661377,0.022379737347364426,0.0917525514960289,-0.2610119581222534,0.14292258024215698,0.30815359950065613,-0.10952167212963104,-0.0748874768614769,-0.014175431802868843,0.28184598684310913,0.27982816100120544,-0.6347581148147583,0.11892011016607285,-0.03997190296649933,-0.3115006387233734,0.0001844218058977276,-0.07976390421390533,-0.1757017821073532,0.4703729450702667,-0.5619291067123413,-0.24254119396209717,-0.22094719111919403,-0.10925597697496414,0.24566031992435455,0.4001503884792328,-0.21701505780220032,-0.15960556268692017,0.4711049795150757,0.236514151096344,-0.1489468216896057,-0.07197308540344238,0.0909227654337883,0.12354351580142975,0.24079455435276031,0.047662679105997086,-0.26219725608825684,0.20227205753326416,-0.27419713139533997,0.25763142108917236,-0.03800186887383461,0.38088202476501465,0.3326073884963989,0.7073556780815125,-0.2622890770435333,-0.3924922049045563,-0.8741852045059204,-0.1683848351240158,-0.8410970568656921,-0.10822118073701859,-0.12834811210632324,0.0976085215806961,-0.45307233929634094,0.17732633650302887,0.442611962556839,-0.229573056101799,-0.031036708503961563,0.34727540612220764,-0.2782977223396301,0.09244757145643234,-0.28022435307502747,0.07257900387048721,0.2907194495201111,-0.027989031746983528,-0.2768304646015167,-0.16818346083164215,-0.2267274260520935,-0.7583791017532349,-0.5366520881652832,-0.31939345598220825,-0.3532576262950897,0.1150503009557724,-0.2665334939956665,0.011902931146323681,-0.13443893194198608,0.08110905438661575,-0.4885461926460266,0.08912388980388641,0.3466348946094513,-0.030384430661797523,-0.15869368612766266,0.04535248503088951,-0.3945554196834564,-0.25469958782196045,0.06670556217432022,0.19749000668525696,-0.6218782067298889,0.022662851959466934,0.4175492227077484,-0.17038409411907196,-0.14917214214801788,-0.2388257384300232,0.45913395285606384,0.00038012274308130145,-0.30287855863571167,-0.20492471754550934,0.15294477343559265,0.1467299461364746,0.13941101729869843,-0.06425914913415909,0.04973095655441284,-0.08282273262739182,-0.3299003541469574,-0.20264092087745667,-0.12608209252357483,0.13862504065036774,0.06713612377643585,0.16353553533554077,-0.2246769815683365,-0.2811901569366455,-0.26654332876205444,0.12814457714557648,0.5121178030967712,-0.3106594681739807,-0.1070912703871727,0.04896743595600128,-0.03777947276830673,-0.39345574378967285,0.67312091588974,-0.39202067255973816,0.14911596477031708,0.11078127473592758,0.07844339311122894,0.37490251660346985,0.5565268993377686,-0.540655791759491,0.38862693309783936,-0.8250657320022583,0.27221035957336426,-0.017916003242135048,-0.3189755380153656,-0.34566575288772583,-0.3878838121891022,-0.19984450936317444,-0.31993553042411804,0.0960501953959465,0.1306847482919693,-0.21272845566272736,0.10965923219919205,0.08691702038049698,-0.08572103828191757,0.08287892490625381,0.0692535862326622,0.18591943383216858,0.10716477781534195,0.5790858268737793,0.502522885799408,0.16870279610157013,-0.0841527208685875,-0.021397873759269714,0.0713796317577362,0.21820339560508728,0.09122791886329651,0.03694240003824234,-0.47042587399482727,-0.13044671714305878,0.38974636793136597,0.05289341136813164,-0.02439323253929615,0.28113681077957153,0.16784250736236572,0.8293396830558777,0.17368176579475403,0.12282609939575195,0.21073004603385925,0.05551288649439812,0.37247729301452637,-0.011212624609470367,0.5868271589279175,-0.4837716221809387,-0.0873461365699768,-0.06435082852840424,0.4364399015903473,0.031080858781933784,-0.05369776114821434,-0.23627063632011414,0.07676789909601212,0.3278614282608032,-0.056947238743305206,-0.7081310153007507,-0.025192562490701675,-0.3243522047996521,0.16558629274368286,-0.11384867131710052,0.19813914597034454,-0.09407591074705124,0.12956693768501282,-0.15200264751911163,0.26251423358917236,0.22447577118873596,0.21872863173484802,-0.18294279277324677,-0.02926567941904068,-0.19054831564426422,0.4562286138534546,-0.2321554720401764,-0.01972898654639721,-0.10641837865114212,-0.03601014241576195,0.47636109590530396,-0.227315753698349,-0.05766187235713005,0.2692398130893707,0.4134402871131897,0.25623947381973267,0.6794909238815308,0.10483547300100327,-0.3146747052669525,-0.5749613046646118,-0.5056086182594299,0.3384723365306854,0.045070942491292953,0.47769102454185486,0.03412860631942749,0.13552074134349823,-0.7437230348587036,-0.7702820897102356,0.1452459841966629,0.05459347367286682,-0.16562603414058685,0.09111866354942322,-0.10505644232034683,0.11554282903671265,-0.07715441286563873,-0.08647962659597397,0.11480170488357544,-0.01777329295873642,-0.197776660323143,0.4214248061180115,0.25263920426368713,-0.13794860243797302,-0.6551931500434875,-0.14353425800800323,0.6649693846702576,-0.562614381313324,-0.7746886610984802,-0.2035297304391861,-0.2718924283981323,-0.21305882930755615,-0.1962713748216629,0.010175012983381748,0.1925223022699356,0.2832770347595215,0.13956496119499207,0.23642456531524658,-0.17861060798168182,-0.040270861238241196,-0.35157933831214905,0.20979702472686768,-0.17131489515304565,-0.13788725435733795,0.07185256481170654,-0.22956056892871857,-0.3250409662723541,0.12380113452672958,-0.31011345982551575,-0.009433076716959476,-0.42603644728660583,0.3826240301132202,0.03304912894964218,0.5444782972335815,0.2788715064525604,0.2949320077896118,-0.3302324414253235,0.5225639939308167,0.4276280403137207,-0.46391603350639343,-0.21237608790397644,-0.05102185532450676,0.0885702520608902,-0.8240573406219482,0.014092429541051388,-0.05645444244146347,-0.29914143681526184,-0.09736668318510056,0.03239390254020691,0.339002400636673,0.4237527847290039,-0.09084160625934601,-0.18359096348285675,-0.06974627077579498,0.03819340839982033,-0.42731773853302,0.18099714815616608,0.04902453348040581,0.4626483619213104,-0.15853293240070343,0.14120863378047943,0.2829413414001465,0.12201614677906036,-0.02675110660493374,0.064266636967659,0.2547767460346222,0.0480567067861557,-0.06343946605920792,-0.04585707187652588,0.02671409212052822,-0.3226555585861206,-0.16601713001728058,0.2985992431640625,-0.25368934869766235,-0.7570223212242126,-0.32386502623558044,-0.57123863697052,-0.18487481772899628,0.27799996733665466,-0.44068896770477295,0.20563052594661713,-0.15851110219955444,0.13918814063072205,-0.038652341812849045,-0.47270098328590393,-0.04481250420212746,0.57355135679245,-0.15268222987651825,0.30194807052612305,-0.007621144410222769,0.3759624660015106,-0.6150015592575073,-0.02264423295855522,0.0716608539223671,-0.09411852061748505,-0.12907646596431732,-0.0887780487537384,-0.14645041525363922,-0.43438947200775146,-0.01355633232742548,-0.17863543331623077,0.09899891912937164,0.10472884774208069,-0.3609389662742615,0.1499744951725006,0.4959941506385803,0.4052658975124359,-0.16804924607276917,-0.24118666350841522,-0.05871466174721718,0.3492952287197113,-0.07479976117610931,0.0215117447078228,-0.3956044018268585,0.10926248878240585,0.019002724438905716,0.14961747825145721,-0.02003888227045536,-0.2515091001987457,0.2642233371734619,-0.02433556504547596,-0.3517971336841583,0.17966219782829285,0.27652525901794434,-0.39302584528923035,0.1268526017665863,-0.15549001097679138,-0.11281035095453262,0.12291131913661957,0.1604091078042984,0.03673924133181572,-0.35784661769866943,-0.2285853624343872,-0.23126435279846191,-0.04635452479124069,-0.009670761413872242,0.015653861686587334,0.2690393030643463,0.19736091792583466,0.11288835108280182,0.37557435035705566,0.05441292002797127,-0.10243868082761765,0.739641010761261,-0.23599562048912048,0.09508953243494034,0.29723307490348816,0.38301926851272583,0.11991352587938309,0.11041507124900818,0.08561444282531738,-0.8580657839775085,-0.05290423333644867,-0.8231207132339478,-0.14947447180747986,-0.0876828283071518,0.23468971252441406,-0.02426939457654953,-0.2138843834400177,-0.19900943338871002,0.19993777573108673,0.42764928936958313,-0.35790032148361206,0.12464931607246399,-0.021551821380853653,-0.21307770907878876,0.08087390661239624,0.12428756803274155,-0.09035047888755798,0.2870825529098511,-0.13402652740478516,-0.17017631232738495,-0.11609296500682831,0.5087270140647888,-0.04826081916689873,-0.15205761790275574,-0.022968942299485207,-0.15513813495635986,-0.32883280515670776,-0.2267676144838333,-0.06289927661418915,0.031355906277894974,0.4367062747478485,-0.09720023721456528,-0.4942331612110138,0.3025369644165039,0.05596065893769264,-0.5023060441017151,0.12465018779039383,-0.2584013342857361,-0.5732045769691467,-0.1208028644323349,0.1639256775379181,-0.32687777280807495,-0.33940619230270386,0.03643229603767395,0.12919549643993378,0.03341996669769287,-0.8348177671432495,0.20038945972919464,-0.09724010527133942,0.38626188039779663,0.7537967562675476,0.0487944521009922,-0.7210185527801514,-0.5189234614372253,-0.05269576609134674,-0.455074667930603,0.059286948293447495,-0.013524020090699196,0.4171490967273712,0.6630200743675232,0.5384674668312073,-0.08517321199178696,0.15597443282604218,0.1399538666009903,-0.24575106799602509,0.08439449220895767,0.5784655213356018,0.3866965174674988,-0.3225559890270233,0.1970372200012207,0.18383879959583282,0.4678964912891388,0.2339630126953125,0.02338072843849659,0.752848207950592,0.1273917853832245,0.1951511949300766,0.06321309506893158,-0.09527017176151276,-0.19176696240901947,-0.3933551013469696,0.37057822942733765,-0.06526168435811996,-0.5802667140960693,-0.635502278804779,-0.5959586501121521,-0.28103360533714294,-0.667441725730896,-0.28431379795074463,-0.10487856715917587,0.4619879126548767,-0.12965558469295502,-0.014773624017834663,0.19483092427253723,-0.4780319929122925,0.26411929726600647,-0.42056360840797424,-0.29952922463417053,0.05411730334162712,0.09089569747447968,0.4212959408760071,0.45558056235313416,-0.08848294615745544,0.3881860077381134,-0.004383682738989592,-0.45996740460395813,-0.05467311292886734,0.1811765432357788,-0.3625923693180084,-0.4477861821651459,-0.4250359833240509,-0.3940609395503998,-0.14959371089935303,0.03740454837679863,0.25055891275405884,0.2756330668926239,-0.030871454626321793,0.0804881751537323,0.10660598427057266,0.4493792653083801,-0.5685617327690125,-0.041450317949056625,-0.07389380782842636,0.008611313998699188,0.2450569123029709,0.4046631455421448,0.1947779655456543,-0.4852142930030823,-0.4122181236743927,-0.0968421995639801,-0.5913230776786804,-0.2673507630825043,-0.08965656161308289,-0.5707486271858215,-0.028354309499263763,-0.3526154160499573,0.21065419912338257,-0.40488141775131226,0.4686904549598694,-0.7420257925987244,-0.25095734000205994,-0.3299170136451721,-0.3894461989402771,-0.2946663200855255,-0.2663111090660095,-0.02936409041285515,0.12427113205194473,0.5074676275253296,-0.24660728871822357,0.2165423482656479,0.23707737028598785,-0.1929188370704651,-0.0002841956738848239,-0.17372368276119232,-0.25564044713974,-0.16006004810333252,0.3132869303226471,0.46349602937698364,0.4006415009498596,0.02636486478149891,-0.021234625950455666,0.5130242705345154,-0.2870531678199768,-0.16047567129135132,-0.2680409550666809,0.20865274965763092,-0.12193974107503891,0.5187004208564758,-0.14139212667942047,0.3440142571926117,0.4661773145198822,0.29530438780784607,0.09626653045415878,-0.08709635585546494,-0.7918063998222351,0.047817133367061615,0.11127229779958725,0.1815580278635025,-0.30038896203041077,-0.43954339623451233,0.4527309536933899,0.2578009366989136,-0.2815237045288086,0.3026421070098877,-0.255872905254364,-0.30853021144866943,-0.02978956140577793,-0.4465864598751068,0.16289354860782623,0.2874499559402466,-0.30392611026763916,0.032901886850595474,-0.08308959007263184,0.022113878279924393,0.16139522194862366,-0.14466151595115662,-0.05196620151400566,0.24391329288482666,0.2919573187828064,-0.08914149552583694,0.2263062745332718,-0.29681211709976196,-0.18338699638843536,-0.18727993965148926,-0.3504594564437866,-0.06217649579048157,0.12863199412822723,-0.4683850109577179,-0.12669892609119415,-0.1038554236292839,0.10658910125494003,-0.034820862114429474,-0.11088564991950989,0.2460957020521164,-0.03698495402932167,-0.21002916991710663,0.07653757929801941,0.2585527300834656,0.3395630717277527,0.08336705714464188,0.6269749402999878,0.23426035046577454,0.6622554659843445,-0.4532500207424164,-0.031854432076215744,0.31007322669029236,-0.2614938020706177,0.3311757445335388,-0.23723329603672028,-0.616117000579834,0.640705943107605,-0.03196154907345772,0.30500245094299316,-0.5790818333625793,0.30953794717788696,-0.05616273358464241,0.3680519461631775,-0.7019553780555725,0.07500011473894119,0.10816439241170883,-0.08969924598932266,-0.3241713047027588,0.26246991753578186,0.14999333024024963,-0.016588745638728142,-0.3614915609359741,0.004210100043565035,-0.34162068367004395,-0.17236767709255219,0.514643669128418,0.4309561550617218,0.25035199522972107,-0.13317467272281647,-0.056171100586652756,0.22315117716789246,0.23507580161094666,-0.6445335745811462,0.3775279223918915,-0.45777878165245056,-0.02447923831641674,0.024064112454652786,-0.03890763595700264,0.0993218719959259,0.5758658647537231,0.1478120982646942,0.522318959236145,-0.5582051873207092,0.4566270709037781,0.3587516248226166,-0.0763181522488594,0.6144115924835205,-0.09396448731422424,0.08581416308879852,0.1541159301996231,-0.1795504093170166,0.22180160880088806,0.08072415739297867,-0.26556527614593506,-0.21085123717784882,-0.3651316463947296,0.06375357508659363,0.3529379665851593,-0.03084900788962841,-0.1173168197274208,-0.8233909010887146,-0.48080572485923767,0.17575791478157043,0.16796092689037323,-0.26209691166877747,0.26249390840530396,-0.38330918550491333,0.13743875920772552,0.31933683156967163,-0.23180736601352692,0.17270120978355408,0.1581306904554367,0.49968260526657104,-0.09278739243745804,0.030013564974069595,-0.04955972358584404,0.04498870670795441,-0.46838849782943726,-0.30018746852874756,-0.45176973938941956,-0.3772149085998535,0.030268192291259766,0.13950228691101074,0.0886286124587059,0.5394183397293091,-0.19171954691410065,0.3370608389377594,-0.04597165063023567,-0.014563990756869316,0.10901791602373123,-0.1225028708577156,0.2536369562149048,-0.07642397284507751,-0.01986737549304962,0.502276599407196,-0.32325348258018494,-0.4841279685497284,0.32000210881233215,-0.07661712914705276,0.038991231471300125,0.4016115665435791,-0.3184162974357605,-0.3170815706253052,0.8061811923980713,0.5676023960113525,-0.166999951004982,-0.09811495244503021,-0.18336418271064758,-0.05295897647738457,0.19666793942451477,-0.20789237320423126,0.19731861352920532,0.2132243812084198,-0.6324784159660339,-0.19510717689990997,-0.2898763418197632,-0.6225100755691528,0.11060641705989838,0.25334790349006653,-0.5875797271728516,-0.03906391188502312,0.2924751341342926,0.5791106224060059,-0.0520484633743763,-0.4624142050743103,-0.3048762381076813,-0.03643649071455002,-0.5383333563804626,0.2073511779308319,0.36175763607025146,0.5284057855606079,0.5029516816139221,-0.5018252730369568,-0.15109238028526306,-0.0309076476842165,-0.35541731119155884,0.13115616142749786,0.06266534328460693,-0.4399106204509735,0.08793732523918152,-0.024295732378959656,-0.20840734243392944,0.3420238196849823,-0.001649538753554225,-0.26475808024406433,-0.35680273175239563,0.31802284717559814,0.13710379600524902,-0.7191745042800903,0.1298959106206894,-0.329301118850708]],[\"words\",[\"<OOV>\",\"de\",\"la\",\"y\",\"que\",\"el\",\"no\",\"es\",\"se\",\"en\",\"para\",\"muy\",\"lo\",\"a\",\"me\",\"un\",\"con\",\"pero\",\"las\",\"bien\",\"por\",\"una\",\"los\",\"calidad\",\"al\",\"ha\",\"he\",\"como\",\"m\\u00e1s\",\"buena\",\"producto\",\"del\",\"si\",\"precio\",\"poco\",\"mi\",\"son\",\"tiene\",\"ya\",\"su\",\"mucho\",\"nada\",\"le\",\"sin\",\"bastante\",\"esta\",\"todo\",\"porque\",\"est\\u00e1\",\"o\",\"buen\",\"dos\",\"uso\",\"ni\",\"mas\",\"este\",\"cuando\",\"recomiendo\",\"te\",\"parece\",\"compra\",\"hace\",\"perfecto\",\"cumple\",\"aunque\",\"solo\",\"tiempo\",\"algo\",\"puede\",\"hay\",\"va\",\"funciona\",\"agua\",\"mejor\",\"reloj\",\"mal\",\"yo\",\"menos\",\"han\",\"tengo\",\"talla\",\"perfectamente\",\"d\\u00eda\",\"q\",\"compr\\u00e9\",\"grande\",\"queda\",\"hacer\",\"llegado\",\"ser\",\"viene\",\"bueno\",\"vez\",\"estoy\",\"otro\",\"d\\u00edas\",\"mala\",\"era\",\"correa\",\"as\\u00ed\",\"comprar\",\"esperaba\",\"demasiado\",\"color\",\"material\",\"adem\\u00e1s\",\"eso\",\"f\\u00e1cil\",\"parte\",\"genial\",\"despu\\u00e9s\",\"ve\",\"funci\\u00f3n\",\"meses\",\"lleg\\u00f3\",\"verdad\",\"tama\\u00f1o\",\"veces\",\"otra\",\"problema\",\"foto\",\"vendedor\",\"uno\",\"puedo\",\"llevar\",\"tener\",\"amazon\",\"c\\u00f3modo\",\"tal\",\"pedido\",\"da\",\"bater\\u00eda\",\"momento\",\"peque\\u00f1a\",\"pl\\u00e1stico\",\"gustado\",\"gusta\",\"recomendable\",\"r\\u00e1pido\",\"pulsera\",\"contento\",\"llego\",\"dinero\",\"luz\",\"poner\",\"tambi\\u00e9n\",\"tenido\",\"perfecta\",\"relaci\\u00f3n\",\"mochila\",\"bici\",\"ahora\",\"est\\u00e1n\",\"c\\u00f3moda\",\"unos\",\"ver\",\"marca\",\"pena\",\"roto\",\"peque\\u00f1o\",\"original\",\"mes\",\"usar\",\"tienen\",\"dem\\u00e1s\",\"fue\",\"a\\u00fan\",\"bolsa\",\"antes\",\"mismo\",\"estaba\",\"bonito\",\"resistente\",\"otras\",\"env\\u00edo\",\"regalo\",\"tanto\",\"dura\",\"pega\",\"creo\",\"entrega\",\"pues\",\"compre\",\"ajusta\",\"hasta\",\"casi\",\"peso\",\"siempre\",\"nunca\",\"pantalla\",\"gafas\",\"desde\",\"devoluci\\u00f3n\",\"dise\\u00f1o\",\"dentro\",\"comprado\",\"horas\",\"mis\",\"primera\",\"sea\",\"semana\",\"otros\",\"igual\",\"tan\",\"sido\",\"\\u00fanico\",\"ir\",\"caso\",\"usado\",\"tuve\",\"probado\",\"sobre\",\"unas\",\"todos\",\"malo\",\"recibido\",\"tres\",\"llevo\",\"primer\",\"sirve\",\"tela\",\"poder\",\"a\\u00f1os\",\"vale\",\"bicicleta\",\"cada\",\"correcto\",\"decir\",\"funda\",\"gran\",\"van\",\"lleva\",\"paquete\",\"m\\u00f3vil\",\"mano\",\"todas\",\"puedes\",\"cierre\",\"forma\",\"donde\",\"caja\",\"mucha\",\"cual\",\"ten\\u00eda\",\"puesto\",\"falta\",\"buenos\",\"tampoco\",\"botella\",\"carga\",\"goma\",\"trae\",\"descripci\\u00f3n\",\"buenas\",\"hora\",\"espero\",\"casa\",\"s\\u00ed\",\"vienen\",\"fotos\",\"tienes\",\"devolver\",\"tipo\",\"pedir\",\"problemas\",\"esto\",\"grandes\",\"estrellas\",\"fuera\",\"e\",\"cuenta\",\"rompi\\u00f3\",\"nos\",\"totalmente\",\"justo\",\"normal\",\"bonita\",\"sale\",\"ese\",\"ped\\u00ed\",\"s\\u00f3lo\",\"gracias\",\"ideal\",\"excelente\",\"encantado\",\"hijo\",\"ning\\u00fan\",\"aguanta\",\"principio\",\"encima\",\"expectativas\",\"aire\",\"pone\",\"hecho\",\"materiales\",\"modelo\",\"instrucciones\",\"deporte\",\"mu\\u00f1eca\",\"hab\\u00eda\",\"llegar\",\"suelo\",\"l\",\"ella\",\"voy\",\"incluso\",\"dia\",\"devuelto\",\"cualquier\",\"\\u00fatil\",\"m\",\"varios\",\"nuevo\",\"durante\",\"contenta\",\"luego\",\"sistema\",\"tacto\",\"fecha\",\"apenas\",\"cuanto\",\"s\\u00e9\",\"tras\",\"funcionar\",\"deja\",\"estar\",\"dice\",\"rueda\",\"sus\",\"quedan\",\"pesa\",\"cuesta\",\"fuerte\",\"suficiente\",\"final\",\"\\u00fanica\",\"estado\",\"llega\",\"aun\",\"entre\",\"cosa\",\"interior\",\"par\",\"adapta\",\"doy\",\"durado\",\"peor\",\"gusto\",\"super\",\"facilidad\",\"pongo\",\"estas\",\"c\\u00f3modos\",\"semanas\",\"ni\\u00f1os\",\"art\\u00edculo\",\"varias\",\"espacio\",\"guantes\",\"toda\",\"les\",\"todav\\u00eda\",\"caro\",\"baja\",\"nota\",\"correctamente\",\"muchas\",\"capacidad\",\"correas\",\"peque\\u00f1os\",\"realmente\",\"ni\\u00f1o\",\"cosas\",\"ligero\",\"a\\u00f1o\",\"servicio\",\"cremallera\",\"merece\",\"manillar\",\"m\\u00ed\",\"devolv\\u00ed\",\"pasos\",\"calidadprecio\",\"encaja\",\"ninguna\",\"ellos\",\"estos\",\"cinta\",\"vino\",\"colores\",\"utilizar\",\"entra\",\"poca\",\"diferentes\",\"esperado\",\"imposible\",\"muchos\",\"quer\\u00eda\",\"cambiar\",\"peque\\u00f1as\",\"ligera\",\"hoy\",\"esperando\",\"resultado\",\"patinete\",\"montar\",\"duda\",\"deber\\u00eda\",\"devolverlo\",\"tornillos\",\"productos\",\"ven\\u00eda\",\"medio\",\"contacto\",\"hemos\",\"segundo\",\"rapido\",\"cumplen\",\"fr\\u00edo\",\"acabado\",\"qu\\u00e9\",\"pierde\",\"misma\",\"general\",\"agarre\",\"etc\",\"manera\",\"segunda\",\"hacen\",\"gimnasio\",\"veo\",\"bolsillos\",\"encanta\",\"pueden\",\"alguna\",\"pr\\u00e1ctico\",\"volver\\u00eda\",\"envio\",\"hija\",\"pesar\",\"utilizo\",\"pasado\",\"costuras\",\"barato\",\"dias\",\"app\",\"minutos\",\"lado\",\"sujeta\",\"tejido\",\"soporte\",\"punto\",\"seg\\u00fan\",\"seguro\",\"ejercicios\",\"pilas\",\"usarlo\",\"trabajo\",\"rompe\",\"c\\u00f3mo\",\"gps\",\"fino\",\"haber\",\"dar\",\"corresponde\",\"sue\\u00f1o\",\"casco\",\"pieza\",\"mantiene\",\"c\\u00f3modas\",\"podido\",\"zona\",\"dado\",\"manos\",\"inc\\u00f3modo\",\"facil\",\"asi\",\"pinta\",\"decepcionado\",\"funciones\",\"potencia\",\"cremalleras\",\"ruedas\",\"duro\",\"correr\",\"tu\",\"resulta\",\"bajo\",\"pasa\",\"aplicaci\\u00f3n\",\"fina\",\"cable\",\"largo\",\"alg\\u00fan\",\"ejercicio\",\"completo\",\"cabeza\",\"mueve\",\"sujeci\\u00f3n\",\"estan\",\"ocupa\",\"velcro\",\"abrir\",\"cuidado\",\"quitar\",\"fuerza\",\"utilizado\",\"encantada\",\"pensaba\",\"correcta\",\"cierto\",\"mejores\",\"resistentes\",\"pocos\",\"pulsaciones\",\"cambio\",\"cometido\",\"ajustan\",\"ser\\u00eda\",\"permite\",\"calor\",\"opci\\u00f3n\",\"corta\",\"necesitaba\",\"presi\\u00f3n\",\"cm\",\"ven\",\"esa\",\"despues\",\"quiz\\u00e1s\",\"fatal\",\"sol\",\"f\\u00e1cilmente\",\"cargar\",\"anuncio\",\"cabe\",\"salir\",\"perfectas\",\"opini\\u00f3n\",\"pie\",\"mayor\",\"rota\",\"vas\",\"piscina\",\"buscaba\",\"parecen\",\"iba\",\"acabados\",\"esperar\",\"ademas\",\"\\u00e9l\",\"c\\u00e1mara\",\"endeble\",\"hubiera\",\"plazo\",\"gust\\u00f3\",\"cara\",\"debajo\",\"resto\",\"cristal\",\"embalaje\",\"playa\",\"larga\",\"azul\",\"indica\",\"salidas\",\"seguridad\",\"funcionan\",\"imagen\",\"pr\\u00e1ctica\",\"noche\",\"basura\",\"marcas\",\"verano\",\"garmin\",\"coche\",\"sencillo\",\"sensaci\\u00f3n\",\"diario\",\"comodo\",\"enseguida\",\"recib\\u00ed\",\"medida\",\"tarde\",\"euros\",\"ruido\",\"bateria\",\"fin\",\"mientras\",\"monta\\u00f1a\",\"resistencia\",\"satisfecho\",\"tap\\u00f3n\",\"ellas\",\"cuerpo\",\"dejado\",\"usos\",\"quiero\",\"corto\",\"pasar\",\"dicen\",\"ajustar\",\"visto\",\"os\",\"soy\",\"usarla\",\"sino\",\"algunos\",\"ajuste\",\"dan\",\"camiseta\",\"ropa\",\"sitio\",\"usb\",\"llegaron\",\"pala\",\"viaje\",\"funcionamiento\",\"mide\",\"persona\",\"kg\",\"bolsillo\",\"tornillo\",\"piezas\",\"delantera\",\"cadena\",\"medidas\",\"suave\",\"funcionaba\",\"cuatro\",\"perdido\",\"negro\",\"rosca\",\"actividad\",\"exterior\",\"aceptable\",\"s\\u00faper\",\"lugar\",\"base\",\"tallas\",\"simple\",\"sigue\",\"salida\",\"moto\",\"guardar\",\"molesta\",\"perfecci\\u00f3n\",\"saber\",\"olor\",\"personas\",\"haciendo\",\"tel\\u00e9fono\",\"r\\u00e1pida\",\"embargo\",\"previsto\",\"teniendo\",\"funcion\",\"s\",\"montaje\",\"perfectos\",\"desear\",\"podr\\u00eda\",\"vamos\",\"quedado\",\"media\",\"llave\",\"x\",\"rato\",\"diferente\",\"claro\",\"llaves\",\"duraci\\u00f3n\",\"espalda\",\"empresa\",\"superior\",\"pueda\",\"venido\",\"cargador\",\"sirven\",\"primero\",\"recibir\",\"articulo\",\"piel\",\"decepci\\u00f3n\",\"completa\",\"aparato\",\"bot\\u00f3n\",\"compro\",\"comoda\",\"protecci\\u00f3n\",\"defecto\",\"debe\",\"atenci\\u00f3n\",\"tenia\",\"sill\\u00edn\",\"negra\",\"supongo\",\"aspecto\",\"exactamente\",\"gente\",\"llevas\",\"espera\",\"tenga\",\"comodidad\",\"necesario\",\"protege\",\"cae\",\"desastre\",\"eran\",\"abierto\",\"necesito\",\"altura\",\"dif\\u00edcil\",\"vaya\",\"perder\",\"abajo\",\"impermeable\",\"encuentro\",\"volver\",\"enganche\",\"plastico\",\"mitad\",\"quieres\",\"transporte\",\"cuerda\",\"pantal\\u00f3n\",\"cintura\",\"puesta\",\"robusta\",\"hacia\",\"tapa\",\"alguien\",\"barra\",\"opinar\",\"realidad\",\"andar\",\"importante\",\"abre\",\"sacar\",\"colocar\",\"condiciones\",\"suerte\",\"posible\",\"modo\",\"algunas\",\"trasera\",\"estrella\",\"respuesta\",\"estamos\",\"puse\",\"comprarlo\",\"sencilla\",\"accesorios\",\"instalar\",\"llevarla\",\"volver\\u00e9\",\"botellas\",\"usando\",\"parec\\u00eda\",\"hice\",\"comentarios\",\"i\",\"respecto\",\"ejemplo\",\"nueva\",\"campo\",\"tirar\",\"sonido\",\"opiniones\",\"movil\",\"probar\",\"ni\\u00f1a\",\"vista\",\"regular\",\"describe\",\"agradable\",\"importe\",\"enviado\",\"cierra\",\"tienda\",\"lluvia\",\"fallo\",\"m\\u00ednimo\",\"sola\",\"laterales\",\"ojo\",\"ponerlo\",\"meter\",\"notificaciones\",\"ok\",\"sigo\",\"hola\",\"p\\u00e9simo\",\"dicho\",\"devuelvo\",\"viento\",\"error\",\"siguiente\",\"nadie\",\"vida\",\"ayuda\",\"tarda\",\"completamente\",\"demas\",\"ancho\",\"acaba\",\"defectuoso\",\"fiable\",\"trabajar\",\"camino\",\"complicado\",\"arriba\",\"enviaron\",\"suelta\",\"entiendo\",\"siendo\",\"reembolso\",\"marido\",\"ruta\",\"justa\",\"prob\\u00e9\",\"much\\u00edsimo\",\"mujer\",\"d\",\"distancia\",\"llevarlo\",\"hago\",\"tallaje\",\"retraso\",\"garant\\u00eda\",\"sensor\",\"gomas\",\"empez\\u00f3\",\"total\",\"sobra\",\"ser\\u00e1\",\"jugar\",\"deber\\u00edan\",\"maravilla\",\"duran\",\"paso\",\"boquilla\",\"herramienta\",\"adaptan\",\"aconsejo\",\"frio\",\"ah\\u00ed\",\"ido\",\"dejan\",\"mensajes\",\"pens\\u00e9\",\"km\",\"cliente\",\"adecuado\",\"dormir\",\"agujero\",\"rojo\",\"cantidad\",\"aparece\",\"linterna\",\"movimiento\",\"cintur\\u00f3n\",\"doble\",\"da\\u00f1o\",\"sorprendido\",\"dejo\",\"simplemente\",\"pelo\",\"pedales\",\"usa\",\"potente\",\"enciende\",\"pulseras\",\"siquiera\",\"entrenar\",\"darle\",\"ofrece\",\"experiencia\",\"pude\",\"sorpresa\",\"rompen\",\"practico\",\"originales\",\"principal\",\"carretera\",\"chaqueta\",\"ancha\",\"realizar\",\"aguantan\",\"cerrar\",\"practica\",\"funcional\",\"estupendo\",\"cumplido\",\"muestra\",\"soluci\\u00f3n\",\"cubre\",\"bonitos\",\"nataci\\u00f3n\",\"manual\",\"pagar\",\"datos\",\"directamente\",\"band\",\"dedos\",\"saco\",\"piernas\",\"temperatura\",\"funcionado\",\"polar\",\"frecuencia\",\"espectativas\",\"parecido\",\"mejorar\",\"elegante\",\"venir\",\"golpe\",\"salido\",\"bandas\",\"aparte\",\"nariz\",\"ocasiones\",\"bluetooth\",\"juego\",\"bicicletas\",\"timo\",\"informaci\\u00f3n\",\"salen\",\"debido\",\"opciones\",\"sean\",\"gustan\",\"sudor\",\"xl\",\"protector\",\"ma\\u00f1ana\",\"probarlo\",\"dispositivo\",\"gorra\",\"caliente\",\"modelos\",\"barata\",\"coger\",\"bicis\",\"pod\\u00eda\",\"estable\",\"decid\\u00ed\",\"guante\",\"unico\",\"transportar\",\"bonitas\",\"estupenda\",\"fabricante\",\"siento\",\"supone\",\"p\\u00e9sima\",\"sabor\",\"llegan\",\"gustar\\u00eda\",\"venia\",\"entrenamiento\",\"tirado\",\"entregado\",\"repuesto\",\"contra\",\"ello\",\"dibujo\",\"calcetines\",\"veremos\",\"idea\",\"saludo\",\"inferior\",\"bomba\",\"tenemos\",\"incluye\",\"invierno\",\"llegue\",\"estafa\",\"metal\",\"abriga\",\"blanco\",\"intentado\",\"quedo\",\"contactar\",\"di\",\"apretar\",\"delante\",\"rosa\",\"lateral\",\"cuello\",\"puntas\",\"seria\",\"l\\u00edquido\",\"est\\u00e9ticamente\",\"golpes\",\"bolso\",\"evitar\",\"brazos\",\"pese\",\"est\\u00e1s\",\"proteger\",\"v\\u00e1lvula\",\"silicona\",\"valen\",\"pronto\",\"intensidad\",\"caben\",\"diferencia\",\"verde\",\"detalle\",\"camping\",\"posici\\u00f3n\",\"partido\",\"inflar\",\"agujeros\",\"quiere\",\"descosido\",\"correos\",\"haya\",\"aqu\\u00ed\",\"conseguido\",\"favor\",\"alta\",\"mundo\",\"bal\\u00f3n\",\"mont\\u00f3n\",\"partes\",\"freno\",\"impresi\\u00f3n\",\"habitual\",\"k\",\"candado\",\"boca\",\"luces\",\"nivel\",\"relacion\",\"herramientas\",\"quede\",\"beber\",\"fr\\u00e1gil\",\"adulto\",\"tubo\",\"pila\",\"inc\\u00f3moda\",\"grosor\",\"xiaomi\",\"falla\",\"devolverla\",\"metros\",\"pocas\",\"tiras\",\"toalla\",\"roce\",\"espa\\u00f1ol\",\"pesada\",\"aluminio\",\"navaja\",\"valorar\",\"ajustado\",\"ponerla\",\"recomendar\\u00eda\",\"compramos\",\"devolvieron\",\"paraguas\",\"malas\",\"romperse\",\"pared\",\"control\",\"vi\",\"acero\",\"pedi\",\"costura\",\"indicado\",\"necesita\",\"colgar\",\"caracter\\u00edsticas\",\"usas\",\"satisfecha\",\"durabilidad\",\"comodos\",\"prime\",\"tendr\\u00eda\",\"acabo\",\"embalado\",\"banda\",\"pulso\",\"asas\",\"pegan\",\"tensi\\u00f3n\",\"dejar\",\"atr\\u00e1s\",\"sujetan\",\"neopreno\",\"regalar\",\"relojes\",\"responde\",\"sujetar\",\"tendr\\u00e9\",\"tardado\",\"largas\",\"esterilla\",\"mandaron\",\"estabilidad\",\"dedo\",\"lados\",\"mango\",\"pintura\",\"pies\",\"compartimentos\",\"conecta\",\"ves\",\"zapatillas\",\"echo\",\"cristales\",\"r\\u00e1pidamente\",\"forro\",\"inconveniente\",\"est\\u00e9tica\",\"modos\",\"fr\\u00eda\",\"lavado\",\"deportes\",\"ayer\",\"pagado\",\"chino\",\"sitios\",\"rompieron\",\"miedo\",\"cortos\",\"h\",\"dur\\u00f3\",\"use\",\"el\\u00e1stico\",\"ponerle\",\"recambio\",\"das\",\"empa\\u00f1an\",\"pedal\",\"tapones\",\"cinco\",\"prenda\",\"apertura\",\"limpiar\",\"finalmente\",\"ponen\",\"encajan\",\"recomendado\",\"practicar\",\"alto\",\"pelotas\",\"tema\",\"estrecha\",\"pecho\",\"hebilla\",\"cuadro\",\"a\\u00f1adir\",\"zonas\",\"faltan\",\"poquito\",\"dure\",\"empieza\",\"pr\\u00e1cticamente\",\"absoluto\",\"dej\\u00f3\",\"calienta\",\"compatible\",\"funcione\",\"pensando\",\"todavia\",\"vuelto\",\"aprieta\",\"constantemente\",\"dardos\",\"iguales\",\"tard\\u00f3\",\"alumbra\",\"haga\",\"valoraci\\u00f3n\",\"estaban\",\"tercera\",\"reyes\",\"carcasa\",\"efecto\",\"conjunto\",\"quiz\\u00e1\",\"calle\",\"caras\",\"similar\",\"llevan\",\"resbala\",\"r\\u00edgida\",\"rapidez\",\"calor\\u00edas\",\"comida\",\"pack\",\"yoga\",\"detalles\",\"preciso\",\"volveria\",\"robusto\",\"longitud\",\"mido\",\"mu\\u00f1ecas\",\"apaga\",\"l\\u00e1stima\",\"rotas\",\"papel\",\"m\\u00e1ximo\",\"mandan\",\"culpa\",\"decepcionada\",\"comprar\\u00e9\",\"lamentable\",\"u\",\"ninguno\",\"quien\",\"abierta\",\"serie\",\"ordenador\",\"llamadas\",\"huele\",\"romper\",\"mtb\",\"us\\u00e9\",\"flexible\",\"buscar\",\"negativo\",\"cintas\",\"anclaje\",\"haces\",\"motivo\",\"econ\\u00f3mico\",\"trav\\u00e9s\",\"baratas\",\"tambien\",\"ingl\\u00e9s\",\"mando\",\"digo\",\"rodilla\",\"anterior\",\"necesitas\",\"asa\",\"personalmente\",\"buscando\",\"nadar\",\"pones\",\"china\",\"chulo\",\"mediante\",\"fresca\",\"resultados\",\"mandado\",\"mal\\u00edsimo\",\"suelto\",\"pierna\",\"diciembre\",\"sabe\",\"quita\",\"vergenza\",\"comprobar\",\"incomodo\",\"dijeron\",\"proveedor\",\"acierto\",\"horrible\",\"faja\",\"malos\",\"confianza\",\"resumen\",\"enganches\",\"pasada\",\"prevista\",\"b\\u00e1sico\",\"molesto\",\"descripcion\",\"fuertes\",\"distintos\",\"cabo\",\"esfuerzo\",\"considero\",\"uni\\u00f3n\",\"pesado\",\"encant\\u00f3\",\"web\",\"suena\",\"ligeras\",\"fenomenal\",\"juguete\",\"empezar\",\"acolchado\",\"compartimento\",\"arena\",\"chula\",\"utilidad\",\"gruesa\",\"estuche\",\"pesan\",\"adecuada\",\"etiqueta\",\"sali\\u00f3\",\"tuviera\",\"bolas\",\"direcci\\u00f3n\",\"pon\\u00eda\",\"decepcionante\",\"anuncia\",\"colch\\u00f3n\",\"cumplea\\u00f1os\",\"oferta\",\"haberlo\",\"qued\\u00f3\",\"letras\",\"visera\",\"gris\",\"lavar\",\"correo\",\"salvo\",\"tenerlo\",\"velocidad\",\"toque\",\"t\\u00e1ctil\",\"manejar\",\"inflado\",\"recomendables\",\"incre\\u00edble\",\"coincide\",\"rompio\",\"llevado\",\"monte\",\"parecer\",\"conmigo\",\"precisi\\u00f3n\",\"esas\",\"gorro\",\"finos\",\"termo\",\"hizo\",\"salga\",\"tama\\u00f1os\",\"desgaste\",\"led\",\"saludos\",\"quedaba\",\"menor\",\"durar\",\"amplia\",\"ciclismo\",\"geniales\",\"comprar\\u00eda\",\"devolucion\",\"frenos\",\"encontrado\",\"probarla\",\"primeros\",\"mal\\u00edsima\",\"iluminaci\\u00f3n\",\"caminar\",\"comentario\",\"inservible\",\"tabla\",\"ilumina\",\"queria\",\"funcion\\u00f3\",\"empaquetado\",\"baratos\",\"iphone\",\"imagino\",\"contrario\",\"seguramente\",\"tus\",\"decathlon\",\"bastantes\",\"hab\\u00edan\",\"roja\",\"c\\u00e1maras\",\"ningun\",\"marcha\",\"quiera\",\"cambiado\",\"ajustada\",\"efectivo\",\"menudo\",\"ligeros\",\"caen\",\"prestaciones\",\"ajustable\",\"buscas\",\"coge\",\"libre\",\"comprarla\",\"mantener\",\"apariencia\",\"el\\u00e1stica\",\"im\\u00e1n\",\"especialmente\",\"rodillo\",\"despega\",\"pareja\",\"agarra\",\"gastos\",\"habia\",\"disco\",\"central\",\"daba\",\"cuerdas\",\"el\\u00e1sticas\",\"adelante\",\"art\\u00edculos\",\"cortas\",\"enga\\u00f1o\",\"facilmente\",\"vibraciones\",\"medir\",\"venden\",\"shimano\",\"trasero\",\"punta\",\"oscuro\",\"protegido\",\"ca\\u00eddo\",\"aparentemente\",\"presentaci\\u00f3n\",\"normales\",\"detr\\u00e1s\",\"julio\",\"mensaje\",\"empezado\",\"defectuosa\",\"bater\\u00edas\",\"envi\\u00f3\",\"desmontar\",\"estrecho\",\"conectar\",\"necesidades\",\"solamente\",\"real\",\"claramente\",\"brazo\",\"habr\\u00e1\",\"acopla\",\"mercado\",\"m\\u00edo\",\"mar\",\"\\u00fatiles\",\"blanda\",\"m\\u00e1scara\",\"encontrar\",\"estando\",\"ritmo\",\"maleta\",\"eres\",\"comodas\",\"espectacular\",\"inmejorable\",\"noto\",\"sincroniza\",\"chica\",\"mesa\",\"fabricaci\\u00f3n\",\"tira\",\"ojos\",\"gastar\",\"mierda\",\"pat\\u00edn\",\"llena\",\"env\\u00edan\",\"patilla\",\"fijo\",\"descontento\",\"fuese\",\"especie\",\"instalaci\\u00f3n\",\"est\\u00e9\",\"dejando\",\"holgura\",\"enviar\",\"enero\",\"parti\\u00f3\",\"quedar\",\"largos\",\"hecha\",\"tardo\",\"hac\\u00eda\",\"lastima\",\"soporta\",\"cerca\",\"pinchado\",\"publicidad\",\"servido\",\"llevaba\",\"elevado\",\"pq\",\"excesivamente\",\"pelota\",\"mosquitos\",\"leer\",\"encendido\",\"pierden\",\"dudas\",\"izquierdo\"]]]}}},\"view\":{\"type\":\"object\",\"name\":\"CDSView\",\"id\":\"p1068\",\"attributes\":{\"filter\":{\"type\":\"object\",\"name\":\"AllIndices\",\"id\":\"p1069\"}}},\"glyph\":{\"type\":\"object\",\"name\":\"Circle\",\"id\":\"p1064\",\"attributes\":{\"x\":{\"type\":\"field\",\"field\":\"x\"},\"y\":{\"type\":\"field\",\"field\":\"y\"},\"size\":{\"type\":\"value\",\"value\":2},\"line_color\":{\"type\":\"value\",\"value\":\"#1f77b4\"},\"fill_color\":{\"type\":\"value\",\"value\":\"#1f77b4\"}}},\"nonselection_glyph\":{\"type\":\"object\",\"name\":\"Circle\",\"id\":\"p1065\",\"attributes\":{\"x\":{\"type\":\"field\",\"field\":\"x\"},\"y\":{\"type\":\"field\",\"field\":\"y\"},\"size\":{\"type\":\"value\",\"value\":2},\"line_color\":{\"type\":\"value\",\"value\":\"#1f77b4\"},\"line_alpha\":{\"type\":\"value\",\"value\":0.1},\"fill_color\":{\"type\":\"value\",\"value\":\"#1f77b4\"},\"fill_alpha\":{\"type\":\"value\",\"value\":0.1},\"hatch_alpha\":{\"type\":\"value\",\"value\":0.1}}},\"muted_glyph\":{\"type\":\"object\",\"name\":\"Circle\",\"id\":\"p1066\",\"attributes\":{\"x\":{\"type\":\"field\",\"field\":\"x\"},\"y\":{\"type\":\"field\",\"field\":\"y\"},\"size\":{\"type\":\"value\",\"value\":2},\"line_color\":{\"type\":\"value\",\"value\":\"#1f77b4\"},\"line_alpha\":{\"type\":\"value\",\"value\":0.2},\"fill_color\":{\"type\":\"value\",\"value\":\"#1f77b4\"},\"fill_alpha\":{\"type\":\"value\",\"value\":0.2},\"hatch_alpha\":{\"type\":\"value\",\"value\":0.2}}}}}],\"toolbar\":{\"type\":\"object\",\"name\":\"Toolbar\",\"id\":\"p1048\",\"attributes\":{\"tools\":[{\"type\":\"object\",\"name\":\"HoverTool\",\"id\":\"p1070\",\"attributes\":{\"renderers\":\"auto\",\"tooltips\":[[\"Palabra\",\"@words\"],[\"(x,y)\",\"($x, $y)\"]]}}]}},\"left\":[{\"type\":\"object\",\"name\":\"LinearAxis\",\"id\":\"p1056\",\"attributes\":{\"ticker\":{\"type\":\"object\",\"name\":\"BasicTicker\",\"id\":\"p1057\",\"attributes\":{\"mantissas\":[1,2,5]}},\"formatter\":{\"type\":\"object\",\"name\":\"BasicTickFormatter\",\"id\":\"p1058\"},\"major_label_policy\":{\"type\":\"object\",\"name\":\"AllLabels\",\"id\":\"p1059\"}}}],\"below\":[{\"type\":\"object\",\"name\":\"LinearAxis\",\"id\":\"p1051\",\"attributes\":{\"ticker\":{\"type\":\"object\",\"name\":\"BasicTicker\",\"id\":\"p1052\",\"attributes\":{\"mantissas\":[1,2,5]}},\"formatter\":{\"type\":\"object\",\"name\":\"BasicTickFormatter\",\"id\":\"p1053\"},\"major_label_policy\":{\"type\":\"object\",\"name\":\"AllLabels\",\"id\":\"p1054\"}}}],\"center\":[{\"type\":\"object\",\"name\":\"Grid\",\"id\":\"p1055\",\"attributes\":{\"axis\":{\"id\":\"p1051\"}}},{\"type\":\"object\",\"name\":\"Grid\",\"id\":\"p1060\",\"attributes\":{\"dimension\":1,\"axis\":{\"id\":\"p1056\"}}}]}}]}};\n",
              "  const render_items = [{\"docid\":\"37a255c1-eb1c-43de-9238-51f3e75349ba\",\"roots\":{\"p1039\":\"cd617088-caf2-4992-b10a-324fa3bd7e9c\"},\"root_ids\":[\"p1039\"]}];\n",
              "  root.Bokeh.embed.embed_items_notebook(docs_json, render_items);\n",
              "  }\n",
              "  if (root.Bokeh !== undefined) {\n",
              "    embed_document(root);\n",
              "  } else {\n",
              "    let attempts = 0;\n",
              "    const timer = setInterval(function(root) {\n",
              "      if (root.Bokeh !== undefined) {\n",
              "        clearInterval(timer);\n",
              "        embed_document(root);\n",
              "      } else {\n",
              "        attempts++;\n",
              "        if (attempts > 100) {\n",
              "          clearInterval(timer);\n",
              "          console.log(\"Bokeh: ERROR: Unable to run BokehJS code because BokehJS library is missing\");\n",
              "        }\n",
              "      }\n",
              "    }, 10, root)\n",
              "  }\n",
              "})(window);"
            ],
            "application/vnd.bokehjs_exec.v0+json": ""
          },
          "metadata": {
            "application/vnd.bokehjs_exec.v0+json": {
              "id": "p1039"
            }
          }
        }
      ]
    },
    {
      "cell_type": "markdown",
      "source": [
        "# Distancia del coseno\n",
        "Similitud del coseno"
      ],
      "metadata": {
        "id": "nvP7kn3_ZCZ8"
      }
    },
    {
      "cell_type": "code",
      "source": [
        "for v in ['bueno', 'malo', 'horrible']:\n",
        "  k = tokenizer.word_index[v]\n",
        "  print(f'{v}: {k}: {embed_weights[k]}')"
      ],
      "metadata": {
        "colab": {
          "base_uri": "https://localhost:8080/"
        },
        "id": "QtdLGtQYVNn6",
        "outputId": "b13b59cf-83cb-4809-d1b6-0885cf4702a0"
      },
      "execution_count": 27,
      "outputs": [
        {
          "output_type": "stream",
          "name": "stdout",
          "text": [
            "bueno: 92: [-0.37987083  0.4268919 ]\n",
            "malo: 215: [-0.05720437 -0.50714517]\n",
            "horrible: 1265: [ 0.7407763 -0.7420258]\n"
          ]
        }
      ]
    },
    {
      "cell_type": "code",
      "source": [
        "import numpy as np\n",
        "\n",
        "# Recomendacion de películas\n",
        "# (comedia, intriga, terror, thriller, aventuras, sci-fi) n=6 dimensiones\n",
        "\n",
        "v_toy_story     = np.array([3, 1, 0, 1, 5, 4])\n",
        "v_mission_imp   = np.array([2, 5, 0, 5, 4, 2])\n",
        "v_jurassic_park = np.array([1, 2, 1, 3, 5, 3])\n",
        "v_exorcista     = np.array([0, 4, 5, 3, 1, 2])"
      ],
      "metadata": {
        "id": "uFSy3m6lVNly"
      },
      "execution_count": 28,
      "outputs": []
    },
    {
      "cell_type": "code",
      "source": [
        "print(np.dot(v_toy_story, v_mission_imp))\n",
        "print(np.dot(v_toy_story, v_jurassic_park))\n",
        "print(np.dot(v_toy_story, v_exorcista))"
      ],
      "metadata": {
        "colab": {
          "base_uri": "https://localhost:8080/"
        },
        "id": "XIhy56UxVNik",
        "outputId": "5ecb7f20-2fb8-4fbb-9e11-de098b70c8b8"
      },
      "execution_count": 30,
      "outputs": [
        {
          "output_type": "stream",
          "name": "stdout",
          "text": [
            "44\n",
            "45\n",
            "20\n"
          ]
        }
      ]
    },
    {
      "cell_type": "code",
      "source": [
        "# Una película con todo 5s tendría muchos más puntos independientemente de con que\n",
        "# El que tenga más \"puntos\" en el vector es el que más puntos tiene en el producto escalar"
      ],
      "metadata": {
        "id": "VMqAaUg7VNfT"
      },
      "execution_count": 31,
      "outputs": []
    },
    {
      "cell_type": "code",
      "source": [
        "print(v_toy_story.sum())\n",
        "print(v_mission_imp.sum())\n",
        "print(v_jurassic_park.sum())\n",
        "print(v_exorcista.sum())\n"
      ],
      "metadata": {
        "colab": {
          "base_uri": "https://localhost:8080/"
        },
        "id": "U91P0LOSa8WB",
        "outputId": "0c0cd154-84dc-49d9-c53a-60c0e8120dd2"
      },
      "execution_count": 32,
      "outputs": [
        {
          "output_type": "stream",
          "name": "stdout",
          "text": [
            "14\n",
            "18\n",
            "15\n",
            "15\n"
          ]
        }
      ]
    },
    {
      "cell_type": "code",
      "source": [
        "print(np.linalg.norm(v_toy_story))\n",
        "print(np.linalg.norm(v_mission_imp))\n",
        "print(np.linalg.norm(v_jurassic_park))\n",
        "print(np.linalg.norm(v_exorcista))"
      ],
      "metadata": {
        "colab": {
          "base_uri": "https://localhost:8080/"
        },
        "id": "IyPMrdJ4bMlZ",
        "outputId": "96a6a5bc-97f7-4974-db58-421813983091"
      },
      "execution_count": 35,
      "outputs": [
        {
          "output_type": "stream",
          "name": "stdout",
          "text": [
            "7.211102550927978\n",
            "8.602325267042627\n",
            "7.0\n",
            "7.416198487095663\n"
          ]
        }
      ]
    },
    {
      "cell_type": "code",
      "source": [
        "print(np.dot(v_toy_story/ np.linalg.norm(v_toy_story), v_mission_imp / np.linalg.norm(v_mission_imp)))"
      ],
      "metadata": {
        "colab": {
          "base_uri": "https://localhost:8080/"
        },
        "id": "mIcZ-HP-bXi7",
        "outputId": "697fd040-8b7b-4e32-dd91-ac581e9f503f"
      },
      "execution_count": 37,
      "outputs": [
        {
          "output_type": "stream",
          "name": "stdout",
          "text": [
            "0.7093084682410772\n"
          ]
        }
      ]
    },
    {
      "cell_type": "code",
      "source": [
        "print(np.dot(v_toy_story, v_mission_imp) / (np.linalg.norm(v_toy_story) * np.linalg.norm(v_mission_imp)))\n",
        "print(np.dot(v_toy_story, v_jurassic_park) / (np.linalg.norm(v_toy_story) * np.linalg.norm(v_jurassic_park)))\n",
        "print(np.dot(v_toy_story, v_exorcista) / (np.linalg.norm(v_toy_story) * np.linalg.norm(v_exorcista)))"
      ],
      "metadata": {
        "colab": {
          "base_uri": "https://localhost:8080/"
        },
        "id": "MENYQSUAbpqf",
        "outputId": "b19d8b4d-6cee-45ff-d280-bdd64a169d30"
      },
      "execution_count": 40,
      "outputs": [
        {
          "output_type": "stream",
          "name": "stdout",
          "text": [
            "0.7093084682410772\n",
            "0.8914824582191182\n",
            "0.3739787960033829\n"
          ]
        }
      ]
    },
    {
      "cell_type": "code",
      "source": [
        "def dist_cosine(v1, v2):\n",
        "  d = np.dot(v1, v2) / (np.linalg.norm(v1) * np.linalg.norm(v2))\n",
        "  return d\n",
        "\n",
        "# dist_cosine(v_toy_story, v_exorcista)"
      ],
      "metadata": {
        "colab": {
          "base_uri": "https://localhost:8080/"
        },
        "id": "8SIrYrMUcA7i",
        "outputId": "93a46cbc-7585-4bec-9539-cf1774327883"
      },
      "execution_count": 42,
      "outputs": [
        {
          "output_type": "execute_result",
          "data": {
            "text/plain": [
              "0.3739787960033829"
            ]
          },
          "metadata": {},
          "execution_count": 42
        }
      ]
    },
    {
      "cell_type": "code",
      "source": [
        "for v in ['bueno', 'malo', 'horrible', 'encantado','mucho']:\n",
        "  k = tokenizer.word_index[v]\n",
        "  print(f'{v}: {k}: {embed_weights[k]}')"
      ],
      "metadata": {
        "colab": {
          "base_uri": "https://localhost:8080/"
        },
        "id": "6uJ3C97mc5Yx",
        "outputId": "0ee4b93a-cb61-4d6a-d1be-77e43eb54c59"
      },
      "execution_count": 47,
      "outputs": [
        {
          "output_type": "stream",
          "name": "stdout",
          "text": [
            "bueno: 92: [-0.37987083  0.4268919 ]\n",
            "malo: 215: [-0.05720437 -0.50714517]\n",
            "horrible: 1265: [ 0.7407763 -0.7420258]\n",
            "encantado: 285: [-1.0762715  1.2655139]\n",
            "mucho: 41: [-0.09403238  0.07717179]\n"
          ]
        }
      ]
    },
    {
      "cell_type": "code",
      "source": [
        "v_bueno = embed_weights[92]\n",
        "v_malo = embed_weights[215]\n",
        "v_horrible = embed_weights[1265]\n",
        "v_encantado = embed_weights[285]\n",
        "v_mucho = embed_weights[41]\n",
        "\n",
        "\n",
        "print(f'bueno y malo: {dist_cosine(v_bueno, v_malo):.3f}')\n",
        "print(f'bueno y horrible: {dist_cosine(v_bueno, v_horrible):.3f}')\n",
        "print(f'horrible y malo: {dist_cosine(v_horrible, v_malo):.3f}')\n",
        "print(f'horrible y encantado: {dist_cosine(v_horrible, v_encantado):.3f}')\n",
        "print(f'bueno y encantado: {dist_cosine(v_bueno, v_encantado):.3f}')\n",
        "print(f'bueno y mucho: {dist_cosine(v_bueno, v_mucho):.3f}')"
      ],
      "metadata": {
        "colab": {
          "base_uri": "https://localhost:8080/"
        },
        "id": "YGyrASSVcdQG",
        "outputId": "c4749431-18aa-4cbb-ca78-6103f70b2a7c"
      },
      "execution_count": 49,
      "outputs": [
        {
          "output_type": "stream",
          "name": "stdout",
          "text": [
            "bueno y malo: -0.668\n",
            "bueno y horrible: -0.998\n",
            "horrible y malo: 0.624\n",
            "horrible y encantado: -0.997\n",
            "bueno y encantado: 1.000\n",
            "bueno y mucho: 0.988\n"
          ]
        }
      ]
    },
    {
      "cell_type": "markdown",
      "source": [
        "# Word2Vec\n",
        "\n",
        "## Dataset"
      ],
      "metadata": {
        "id": "yLx57KWqh-za"
      }
    },
    {
      "cell_type": "code",
      "source": [
        "reviews = list(df.review_body.values)\n",
        "reviews[:2]"
      ],
      "metadata": {
        "colab": {
          "base_uri": "https://localhost:8080/"
        },
        "id": "Pn-IImTPczxJ",
        "outputId": "7315bb31-3a63-4da4-8cec-f5c08305fdc0"
      },
      "execution_count": 52,
      "outputs": [
        {
          "output_type": "execute_result",
          "data": {
            "text/plain": [
              "['nunca llego el pedido y el vendedor pasa de todo no contestan',\n",
              " 'no sé como es, porque debería haber llegado ayer día  de marzo, y hoy  por la noche sigo esperando que llegue el frontal. y me habéis mandado el formulario de opinión. pues de momento mala no ha cumplido con la fecha de entrega.']"
            ]
          },
          "metadata": {},
          "execution_count": 52
        }
      ]
    },
    {
      "cell_type": "code",
      "source": [
        "sentences = []\n",
        "for rr in reviews:\n",
        "  ss = rr.split('.')\n",
        "  for s in ss:\n",
        "    s = s.strip()\n",
        "    if len(s)>1:\n",
        "      s = s.replace(\" \", \" \")\n",
        "      sentences.append(s)\n",
        "\n",
        "sentences[:10]"
      ],
      "metadata": {
        "id": "a57Jqt_XhwFD",
        "outputId": "185eb085-9283-4adb-a91d-dbc4db02c24f",
        "colab": {
          "base_uri": "https://localhost:8080/"
        }
      },
      "execution_count": 57,
      "outputs": [
        {
          "output_type": "execute_result",
          "data": {
            "text/plain": [
              "['nunca llego el pedido y el vendedor pasa de todo no contestan',\n",
              " 'no sé como es, porque debería haber llegado ayer día  de marzo, y hoy  por la noche sigo esperando que llegue el frontal',\n",
              " 'y me habéis mandado el formulario de opinión',\n",
              " 'pues de momento mala no ha cumplido con la fecha de entrega',\n",
              " 'guantes cómodos, no lo niego, pero de mala calidad',\n",
              " 'yo creo que en caso de caída no valdrian para mucho, dos meses de uso y se están rajando',\n",
              " 'hasta hoy no he visto el producto',\n",
              " 'el pedido hace ya casi  mes',\n",
              " 'y notifico que he usado prime para está compra',\n",
              " 'no puedo valorarla porque, después de casi una semana, aún no he recibido mi pedido']"
            ]
          },
          "metadata": {},
          "execution_count": 57
        }
      ]
    },
    {
      "cell_type": "code",
      "source": [
        "word_senteces = [ss.split() for ss in sentences]\n",
        "word_senteces[0]"
      ],
      "metadata": {
        "id": "baN-Zp5JiQdD",
        "outputId": "fb53d922-85d6-48f1-c89d-e46b86b88c83",
        "colab": {
          "base_uri": "https://localhost:8080/"
        }
      },
      "execution_count": 59,
      "outputs": [
        {
          "output_type": "execute_result",
          "data": {
            "text/plain": [
              "['nunca',\n",
              " 'llego',\n",
              " 'el',\n",
              " 'pedido',\n",
              " 'y',\n",
              " 'el',\n",
              " 'vendedor',\n",
              " 'pasa',\n",
              " 'de',\n",
              " 'todo',\n",
              " 'no',\n",
              " 'contestan']"
            ]
          },
          "metadata": {},
          "execution_count": 59
        }
      ]
    },
    {
      "cell_type": "markdown",
      "source": [
        "## Model"
      ],
      "metadata": {
        "id": "GMMOJq89jB3k"
      }
    },
    {
      "cell_type": "code",
      "source": [
        "import gensim\n",
        "from gensim.models import Word2Vec\n",
        "\n",
        "model = Word2Vec(\n",
        "    sentences=word_senteces,\n",
        "    vector_size=20,\n",
        "    window=3,\n",
        ")"
      ],
      "metadata": {
        "id": "qngR4clhiQbC"
      },
      "execution_count": 64,
      "outputs": []
    },
    {
      "cell_type": "code",
      "source": [
        "model.wv['bueno']"
      ],
      "metadata": {
        "id": "-kWYJrAKiQXa",
        "outputId": "d1bc6360-f960-4528-b119-d736b8d28b39",
        "colab": {
          "base_uri": "https://localhost:8080/"
        }
      },
      "execution_count": 65,
      "outputs": [
        {
          "output_type": "execute_result",
          "data": {
            "text/plain": [
              "array([ 0.7100317 , -0.86969006,  1.2913803 ,  0.99611765, -0.01499331,\n",
              "       -0.12842079,  0.7273801 ,  1.7305533 , -0.97096056,  0.982112  ,\n",
              "        0.46056947,  0.17415763,  0.04773033,  0.22705363,  1.3044175 ,\n",
              "        0.4016647 ,  1.0956801 ,  0.7215947 , -0.6556055 , -0.4012187 ],\n",
              "      dtype=float32)"
            ]
          },
          "metadata": {},
          "execution_count": 65
        }
      ]
    },
    {
      "cell_type": "markdown",
      "source": [
        "## Exploración"
      ],
      "metadata": {
        "id": "2tcMW9VQjffV"
      }
    },
    {
      "cell_type": "code",
      "source": [
        "model.wv.most_similar(positive=['bueno'])"
      ],
      "metadata": {
        "id": "5oaEk9aEiQSk",
        "outputId": "d177480f-1e31-4830-f1b8-5b1f4e589c58",
        "colab": {
          "base_uri": "https://localhost:8080/"
        }
      },
      "execution_count": 66,
      "outputs": [
        {
          "output_type": "execute_result",
          "data": {
            "text/plain": [
              "[('bonito', 0.9754291772842407),\n",
              " ('cómodo', 0.9542643427848816),\n",
              " ('resistente', 0.9531101584434509),\n",
              " ('bonita', 0.9285375475883484),\n",
              " ('cómoda', 0.9209259748458862),\n",
              " ('diseño', 0.9162457585334778),\n",
              " ('práctica,', 0.9131780862808228),\n",
              " ('tacto', 0.9093831777572632),\n",
              " ('tejido', 0.909112274646759),\n",
              " ('bonito,', 0.9078893661499023)]"
            ]
          },
          "metadata": {},
          "execution_count": 66
        }
      ]
    },
    {
      "cell_type": "code",
      "source": [
        "model.wv.most_similar(positive=['buenos'])"
      ],
      "metadata": {
        "id": "UYzOS616iQQM",
        "outputId": "6c5582f9-32ba-476f-de8d-8f453fc84f61",
        "colab": {
          "base_uri": "https://localhost:8080/"
        }
      },
      "execution_count": 68,
      "outputs": [
        {
          "output_type": "execute_result",
          "data": {
            "text/plain": [
              "[('aparentemente', 0.9708684682846069),\n",
              " ('acabados', 0.9703000783920288),\n",
              " ('bonitas', 0.962518572807312),\n",
              " ('materiales', 0.9608908891677856),\n",
              " ('materiales,', 0.9591049551963806),\n",
              " ('facil', 0.9574642777442932),\n",
              " ('cómodos', 0.9557759761810303),\n",
              " ('resistente,', 0.9555202126502991),\n",
              " ('bonitos', 0.955443799495697),\n",
              " ('buenos,', 0.9551437497138977)]"
            ]
          },
          "metadata": {},
          "execution_count": 68
        }
      ]
    },
    {
      "cell_type": "code",
      "source": [
        "model.wv.similarity('buenos','bonitas')"
      ],
      "metadata": {
        "id": "u9qd6UsHiQMj",
        "outputId": "66f357ff-9eb5-4ed2-da42-505ca9bca7de",
        "colab": {
          "base_uri": "https://localhost:8080/"
        }
      },
      "execution_count": 69,
      "outputs": [
        {
          "output_type": "execute_result",
          "data": {
            "text/plain": [
              "0.9625185"
            ]
          },
          "metadata": {},
          "execution_count": 69
        }
      ]
    },
    {
      "cell_type": "code",
      "source": [
        "from sklearn.decomposition import PCA\n",
        "import matplotlib.pyplot as plt\n",
        "import seaborn as sns\n",
        "\n",
        "sns.set_style('darkgrid')"
      ],
      "metadata": {
        "id": "5b4f3_uLj9Ea"
      },
      "execution_count": 70,
      "outputs": []
    },
    {
      "cell_type": "code",
      "source": [
        "words1 = [w for w, _ in model.wv.most_similar(positive=['bueno'])]\n",
        "words1 = words1[:4]\n",
        "words2 = [w for w, _ in model.wv.most_similar(positive=['buenos'])]\n",
        "words2 = words2[:4]\n",
        "\n",
        "print(words1)\n",
        "print(words2)"
      ],
      "metadata": {
        "id": "mn17fuxwj8_r",
        "outputId": "743ca72e-111e-414f-babd-e2fe424d30c8",
        "colab": {
          "base_uri": "https://localhost:8080/"
        }
      },
      "execution_count": 75,
      "outputs": [
        {
          "output_type": "stream",
          "name": "stdout",
          "text": [
            "['bonito', 'cómodo', 'resistente', 'bonita']\n",
            "['aparentemente', 'acabados', 'bonitas', 'materiales']\n"
          ]
        }
      ]
    },
    {
      "cell_type": "code",
      "source": [
        "words = words1 + words2\n",
        "\n",
        "X = model.wv[words]\n",
        "pca = PCA(n_components=2)\n",
        "result = pca.fit_transform(X)"
      ],
      "metadata": {
        "id": "r9E-By4oj897"
      },
      "execution_count": 77,
      "outputs": []
    },
    {
      "cell_type": "code",
      "source": [
        "plt.scatter(result[:len(words1),0], result[:len(words1), 1])\n",
        "plt.scatter(result[len(words1):,0], result[len(words1):, 1])\n",
        "\n",
        "for i, w in enumerate(words):\n",
        "  plt.annotate(w, xy=(result[i, 0], result[i, 1]))\n",
        "plt.title('20 embedding space + 2 component pca')\n",
        "plt.show()"
      ],
      "metadata": {
        "id": "0HfSa95Kj87d",
        "outputId": "3423b767-c50f-454d-bd10-295f4eea3708",
        "colab": {
          "base_uri": "https://localhost:8080/",
          "height": 452
        }
      },
      "execution_count": 78,
      "outputs": [
        {
          "output_type": "display_data",
          "data": {
            "text/plain": [
              "<Figure size 640x480 with 1 Axes>"
            ],
            "image/png": "[encoded data removed]"
          },
          "metadata": {}
        }
      ]
    },
    {
      "cell_type": "code",
      "source": [],
      "metadata": {
        "id": "SAbtMlGNj840"
      },
      "execution_count": null,
      "outputs": []
    },
    {
      "cell_type": "code",
      "source": [],
      "metadata": {
        "id": "jkEXHkwdj82V"
      },
      "execution_count": null,
      "outputs": []
    },
    {
      "cell_type": "code",
      "source": [],
      "metadata": {
        "id": "sgWEtw46j3XP"
      },
      "execution_count": null,
      "outputs": []
    }
  ],
  "metadata": {
    "kernelspec": {
      "display_name": "Python 3",
      "name": "python3"
    },
    "language_info": {
      "codemirror_mode": {
        "name": "ipython",
        "version": 3
      },
      "file_extension": ".py",
      "mimetype": "text/x-python",
      "name": "python",
      "nbconvert_exporter": "python",
      "pygments_lexer": "ipython3",
      "version": "3.10.13"
    },
    "colab": {
      "provenance": [],
      "gpuType": "T4",
      "toc_visible": true,
      "include_colab_link": true
    },
    "accelerator": "GPU"
  },
  "nbformat": 4,
  "nbformat_minor": 0
}