{
  "cells": [
    {
      "cell_type": "markdown",
      "metadata": {
        "id": "view-in-github",
        "colab_type": "text"
      },
      "source": [
        "<a href=\"https://colab.research.google.com/github/mtermor/NTIC_DeepLearning/blob/main/NLP/tarea1_nlp_MTM.ipynb\" target=\"_parent\"><img src=\"https://colab.research.google.com/assets/colab-badge.svg\" alt=\"Open In Colab\"/></a>"
      ]
    },
    {
      "cell_type": "markdown",
      "metadata": {
        "id": "rEJBSTyZIrIb"
      },
      "source": [
        "# Classificaton Fine-tuning\n",
        "\n",
        "La siguiente tarea consiste en entrenar un modelo de HuggingFace (HF) para realizar la _task_ de _classification_. El dataset para entrenar dicho modelo está predefinido. Sin embargo, el modelo, el tokenizador y el trainer pueden ser totalmente personalizados. Es decir, que tendréis que realizar un trabajo de investigación, de prueba y error, para poder ir aprendiendo y ganando destreza con HF.\n",
        "\n",
        "Recomendaciones:\n",
        "- Durante este proceso, tendréis muchas dudas y encontraréis muchos errores. Tratad de resolverlas primero por vuestra cuenta, enteniendo la causa del error. Después con recursos online. Y, finalmente, siempre está el foro, que puede ser utilizado de forma participativa.\n",
        "- No dejeis la tarea para el último día. Los modelos tardan en entrenar. Los problemas no se resuelven en la primera iteración.\n",
        "\n",
        "Finalmente, se pide:\n",
        "- Limpieza rigurosa en la presentación del notebook.\n",
        "- El notebook se entrega con todas las celdas ejecutadas.\n",
        "- Los comentarios (opcionales), mejor sobre el código con '#'.\n",
        "\n",
        "Ánimo!"
      ]
    },
    {
      "cell_type": "markdown",
      "metadata": {
        "id": "1SChLLiK0qnt"
      },
      "source": [
        "## Dataset\n",
        "\n",
        "A continuación, descargarás un DatasectDict llamado _glue_. La target es la columna llamada _label_."
      ]
    },
    {
      "cell_type": "code",
      "source": [
        "#!pip install datasets"
      ],
      "metadata": {
        "id": "haSNbPgI07_u"
      },
      "execution_count": 1,
      "outputs": []
    },
    {
      "cell_type": "code",
      "execution_count": 2,
      "metadata": {
        "colab": {
          "base_uri": "https://localhost:8080/"
        },
        "id": "s_AY1ATSIrIq",
        "outputId": "7d0562a4-f755-4058-dd2d-1d1450684d20"
      },
      "outputs": [
        {
          "output_type": "stream",
          "name": "stderr",
          "text": [
            "/usr/local/lib/python3.10/dist-packages/huggingface_hub/utils/_token.py:89: UserWarning: \n",
            "The secret `HF_TOKEN` does not exist in your Colab secrets.\n",
            "To authenticate with the Hugging Face Hub, create a token in your settings tab (https://huggingface.co/settings/tokens), set it as secret in your Google Colab and restart your session.\n",
            "You will be able to reuse this secret in all of your notebooks.\n",
            "Please note that authentication is recommended but still optional to access public models or datasets.\n",
            "  warnings.warn(\n"
          ]
        },
        {
          "output_type": "execute_result",
          "data": {
            "text/plain": [
              "DatasetDict({\n",
              "    train: Dataset({\n",
              "        features: ['premise', 'hypothesis', 'label', 'idx'],\n",
              "        num_rows: 392702\n",
              "    })\n",
              "    validation_matched: Dataset({\n",
              "        features: ['premise', 'hypothesis', 'label', 'idx'],\n",
              "        num_rows: 9815\n",
              "    })\n",
              "    validation_mismatched: Dataset({\n",
              "        features: ['premise', 'hypothesis', 'label', 'idx'],\n",
              "        num_rows: 9832\n",
              "    })\n",
              "    test_matched: Dataset({\n",
              "        features: ['premise', 'hypothesis', 'label', 'idx'],\n",
              "        num_rows: 9796\n",
              "    })\n",
              "    test_mismatched: Dataset({\n",
              "        features: ['premise', 'hypothesis', 'label', 'idx'],\n",
              "        num_rows: 9847\n",
              "    })\n",
              "})"
            ]
          },
          "metadata": {},
          "execution_count": 2
        }
      ],
      "source": [
        "from datasets import load_dataset\n",
        "\n",
        "ds = load_dataset(\"glue\", \"mnli\")\n",
        "ds"
      ]
    },
    {
      "cell_type": "markdown",
      "metadata": {
        "id": "BRWs5tew0qnv"
      },
      "source": [
        "Lo primero que tendrás que hacer es construir un DatasetDict nuevo, llamado **ds_tarea**, que filtre el anterior DatasetDict para:\n",
        "- quedarse con los registros que tengan el contenido de la columna _context_ con menos (estrictamente) de 20 caracteres.\n",
        "- que solo tenga los Datasets de _train_ y _validation_matched_"
      ]
    },
    {
      "cell_type": "code",
      "execution_count": 3,
      "metadata": {
        "id": "X6HrpprwIrIz",
        "outputId": "2e44ce77-4d13-4c4c-c5cc-904988fcfca4",
        "colab": {
          "base_uri": "https://localhost:8080/"
        }
      },
      "outputs": [
        {
          "output_type": "execute_result",
          "data": {
            "text/plain": [
              "DatasetDict({\n",
              "    train: Dataset({\n",
              "        features: ['premise', 'hypothesis', 'label', 'idx'],\n",
              "        num_rows: 13635\n",
              "    })\n",
              "    validation_matched: Dataset({\n",
              "        features: ['premise', 'hypothesis', 'label', 'idx'],\n",
              "        num_rows: 413\n",
              "    })\n",
              "})"
            ]
          },
          "metadata": {},
          "execution_count": 3
        }
      ],
      "source": [
        "ds_tarea = None\n",
        "\n",
        "### BEGIN SOLUTION\n",
        "from datasets import DatasetDict\n",
        "\n",
        "filtered_datasets = {}\n",
        "for split in ds.keys():\n",
        "    if split == 'train' or split == 'validation_matched':\n",
        "        filtered_dataset = ds[split].filter(lambda example: len(example['premise']) < 20)\n",
        "        filtered_datasets[split] = filtered_dataset\n",
        "\n",
        "ds_tarea = DatasetDict(filtered_datasets)\n",
        "\n",
        "### END SOLUTION\n",
        "\n",
        "ds_tarea"
      ]
    },
    {
      "cell_type": "code",
      "execution_count": 4,
      "metadata": {
        "id": "67vgEvic0qnv"
      },
      "outputs": [],
      "source": [
        "# Celda de control\n",
        "\n",
        "assert len(ds_tarea['train']) == 13635\n",
        "assert len(ds_tarea['validation_matched']) == 413\n",
        "assert set(ds_tarea.keys()) == {'train', 'validation_matched'}"
      ]
    },
    {
      "cell_type": "markdown",
      "metadata": {
        "id": "BLJmeDGZ0qnw"
      },
      "source": [
        "## EDA\n",
        "\n",
        "Si tenéis que realizar alguna exploración del datos, utilizad esta sección."
      ]
    },
    {
      "cell_type": "code",
      "source": [
        "# Celdas de libre uso"
      ],
      "metadata": {
        "id": "Vpy17Olk55E1"
      },
      "execution_count": 5,
      "outputs": []
    },
    {
      "cell_type": "code",
      "source": [
        "import matplotlib.pyplot as plt\n",
        "from collections import Counter"
      ],
      "metadata": {
        "id": "QeM1ucL96RWi"
      },
      "execution_count": 6,
      "outputs": []
    },
    {
      "cell_type": "code",
      "execution_count": 7,
      "metadata": {
        "colab": {
          "base_uri": "https://localhost:8080/"
        },
        "id": "AUO2Y1Eu0qnw",
        "outputId": "cbd988fd-2b79-4184-e1b1-5cdd870f869c"
      },
      "outputs": [
        {
          "output_type": "stream",
          "name": "stdout",
          "text": [
            "train tiene 13635 registros\n",
            "validation_matched tiene 413 registros\n",
            "\n",
            "Características del conjunto de datos train:\n",
            "{'premise': Value(dtype='string', id=None), 'hypothesis': Value(dtype='string', id=None), 'label': ClassLabel(names=['entailment', 'neutral', 'contradiction'], id=None), 'idx': Value(dtype='int32', id=None)}\n",
            "\n",
            "Características del conjunto de datos validation_matched:\n",
            "{'premise': Value(dtype='string', id=None), 'hypothesis': Value(dtype='string', id=None), 'label': ClassLabel(names=['entailment', 'neutral', 'contradiction'], id=None), 'idx': Value(dtype='int32', id=None)}\n"
          ]
        }
      ],
      "source": [
        "## RESUMEN DESCRIPTIVO\n",
        "# Recuento de registros en cada conjunto de datos\n",
        "for split in ds_tarea.keys():\n",
        "    print(f\"{split} tiene {ds_tarea[split].num_rows} registros\")\n",
        "\n",
        "# Tipos de datos y características de cada columna\n",
        "for split in ds_tarea.keys():\n",
        "    print(f\"\\nCaracterísticas del conjunto de datos {split}:\")\n",
        "    print(ds_tarea[split].features)"
      ]
    },
    {
      "cell_type": "code",
      "source": [
        "## VISUALIZAR EJEMPLOS DE DATOS\n",
        "\n",
        "print(\"Ejemplo de entrenamiento:\")\n",
        "print(ds_tarea['train'][0])\n",
        "\n",
        "print(\"\\nEjemplo de validación matched:\")\n",
        "print(ds_tarea['validation_matched'][0])\n"
      ],
      "metadata": {
        "colab": {
          "base_uri": "https://localhost:8080/"
        },
        "id": "k5zHYiUPcwWF",
        "outputId": "367d95a6-a391-427a-c21f-3e5a781ca9c2"
      },
      "execution_count": 8,
      "outputs": [
        {
          "output_type": "stream",
          "name": "stdout",
          "text": [
            "Ejemplo de entrenamiento:\n",
            "{'premise': 'Gays and lesbians.', 'hypothesis': 'Heterosexuals.', 'label': 2, 'idx': 8}\n",
            "\n",
            "Ejemplo de validación matched:\n",
            "{'premise': 'Tuppence rose.', 'hypothesis': 'Tuppence floated into the air.', 'label': 1, 'idx': 65}\n"
          ]
        }
      ]
    },
    {
      "cell_type": "code",
      "source": [
        "## DISTRIBUCIÓN DE LA LONGITUD DEL TEXTO\n",
        "# Análisis de la longitud de los textos en premise y hypothesis con histogramas\n",
        "premise_lengths = [len(text) for text in ds_tarea['train']['premise']]\n",
        "hypothesis_lengths = [len(text) for text in ds_tarea['train']['hypothesis']]\n",
        "\n",
        "fig, axs = plt.subplots(1, 2, figsize=(15, 5))\n",
        "\n",
        "axs[0].hist(premise_lengths, bins=50, alpha=0.7, label='Premise')\n",
        "axs[0].set_xlabel('Longitud del Texto')\n",
        "axs[0].set_ylabel('Frecuencia')\n",
        "axs[0].set_title('Distribución de la Longitud del Texto en Premise')\n",
        "axs[0].legend()\n",
        "\n",
        "axs[1].hist(hypothesis_lengths, bins=50, alpha=0.7, label='Hypothesis')\n",
        "axs[1].set_xlabel('Longitud del Texto')\n",
        "axs[1].set_ylabel('Frecuencia')\n",
        "axs[1].set_title('Distribución de la Longitud del Texto en Hypothesis')\n",
        "axs[1].legend()\n",
        "\n",
        "plt.tight_layout()\n",
        "plt.show()"
      ],
      "metadata": {
        "colab": {
          "base_uri": "https://localhost:8080/",
          "height": 450
        },
        "id": "BhBTn_ce4GUa",
        "outputId": "3968f773-4141-4c95-b942-1e49687f2148"
      },
      "execution_count": 9,
      "outputs": [
        {
          "output_type": "display_data",
          "data": {
            "text/plain": [
              "<Figure size 1500x500 with 2 Axes>"
            ],
            "image/png": "[encoded data removed]"
          },
          "metadata": {}
        }
      ]
    },
    {
      "cell_type": "code",
      "source": [
        "## DISTRIBUCIÓN DE ETIQUETAS\n",
        "# Recuento de cada etiqueta (label) para ver si el dataset está balanceado.\n",
        "label_counts = Counter(ds_tarea['train']['label'])\n",
        "plt.bar(label_counts.keys(), label_counts.values())\n",
        "plt.xlabel('Etiqueta')\n",
        "plt.ylabel('Frecuencia')\n",
        "plt.title('Distribución de Etiquetas en el Conjunto de Entrenamiento')\n",
        "plt.show()"
      ],
      "metadata": {
        "colab": {
          "base_uri": "https://localhost:8080/",
          "height": 472
        },
        "id": "eW2h1j4637Nl",
        "outputId": "6eca0cb1-82af-45b0-ae9c-bce296b7c9bf"
      },
      "execution_count": 10,
      "outputs": [
        {
          "output_type": "display_data",
          "data": {
            "text/plain": [
              "<Figure size 640x480 with 1 Axes>"
            ],
            "image/png": "[encoded data removed]"
          },
          "metadata": {}
        }
      ]
    },
    {
      "cell_type": "code",
      "source": [
        "# VERIFICACIÓN DE VALORES NULOS EN EL CONJUNTO DE ENTRENAMIENTO\n",
        "null_premise = sum([1 for x in ds_tarea['train']['premise'] if x is None])\n",
        "null_hypothesis = sum([1 for x in ds_tarea['train']['hypothesis'] if x is None])\n",
        "print(f\"Premise tiene {null_premise} valores nulos\")\n",
        "print(f\"Hypothesis tiene {null_hypothesis} valores nulos\")"
      ],
      "metadata": {
        "colab": {
          "base_uri": "https://localhost:8080/"
        },
        "id": "n9H1eWVH4XS7",
        "outputId": "d5de1cdf-bbe7-47bf-a22c-e39196df051f"
      },
      "execution_count": 11,
      "outputs": [
        {
          "output_type": "stream",
          "name": "stdout",
          "text": [
            "Premise tiene 0 valores nulos\n",
            "Hypothesis tiene 0 valores nulos\n"
          ]
        }
      ]
    },
    {
      "cell_type": "markdown",
      "metadata": {
        "id": "SGMgfnOv0qnw"
      },
      "source": [
        "## Model y Tokenizer\n",
        "\n",
        "Se pide guardar el modelo y el tokenizador en las variables _model_ y _tokenizer_.\n",
        "Aunque no se utilicen hasta más adelante, declaradlos en esta sección."
      ]
    },
    {
      "cell_type": "code",
      "execution_count": 12,
      "metadata": {
        "colab": {
          "base_uri": "https://localhost:8080/"
        },
        "id": "lsnXvGah0qnw",
        "outputId": "47670021-e80d-4dd2-895f-314177a0fcba"
      },
      "outputs": [
        {
          "output_type": "stream",
          "name": "stderr",
          "text": [
            "Some weights of DistilBertForSequenceClassification were not initialized from the model checkpoint at distilbert-base-uncased and are newly initialized: ['classifier.bias', 'classifier.weight', 'pre_classifier.bias', 'pre_classifier.weight']\n",
            "You should probably TRAIN this model on a down-stream task to be able to use it for predictions and inference.\n"
          ]
        }
      ],
      "source": [
        "tokenizer = None\n",
        "model = None\n",
        "\n",
        "### BEGIN SOLUTION\n",
        "from transformers import AutoTokenizer, AutoModelForSequenceClassification\n",
        "\n",
        "model_name = \"distilbert-base-uncased\"\n",
        "\n",
        "# Cargar el tokenizador y el modelo\n",
        "tokenizer = AutoTokenizer.from_pretrained(model_name)\n",
        "model = AutoModelForSequenceClassification.from_pretrained(model_name, num_labels=3)\n",
        "\n",
        "### END SOLUTION"
      ]
    },
    {
      "cell_type": "markdown",
      "metadata": {
        "id": "z0ooueXj0qnx"
      },
      "source": [
        "## Feature Engineering\n",
        "\n",
        "Si tenéis que realizar alguna modificación de los datos (no siempre es necesaria, pero algunos modelos preentrenados lo piden), podéis utilizar esta sección.\n",
        "\n",
        "Al finalizar la sección, bien si modificais el DatasectDict, bien si no lo modificáis, lo guardaréis en __ds_tarea_featured__."
      ]
    },
    {
      "cell_type": "code",
      "execution_count": 13,
      "metadata": {
        "id": "Zas_fEz40qnx"
      },
      "outputs": [],
      "source": [
        "# Celdas de libre uso"
      ]
    },
    {
      "cell_type": "code",
      "execution_count": 14,
      "metadata": {
        "colab": {
          "base_uri": "https://localhost:8080/",
          "height": 228,
          "referenced_widgets": [
            "ed6f79a6f6e14c3bbd124816880f509a",
            "b1d83a0f6f774e9c92fef1a08fd628f9",
            "b15a94aed986494caa9ffe4354cf6441",
            "8ef102ce76094da8928b7561e5459e1e",
            "504aa0085bc94e20b502063b0c83ce95",
            "0a600518a25b4dd69e4ffb49c6ad0764",
            "3dd69245f4b744b4b25227f2809511c5",
            "374172ec5424443488d22e834037f004",
            "aebe1d82f1a04a7a986460c2f03634f8",
            "88c91e849e084834955b6971fb035e57",
            "c0ae89b524b347a59b6ca784c01f6447"
          ]
        },
        "id": "CWF63XbM0qnx",
        "outputId": "16388216-8dbd-497f-ae98-97b32ae954b6"
      },
      "outputs": [
        {
          "output_type": "display_data",
          "data": {
            "text/plain": [
              "Map:   0%|          | 0/413 [00:00<?, ? examples/s]"
            ],
            "application/vnd.jupyter.widget-view+json": {
              "version_major": 2,
              "version_minor": 0,
              "model_id": "ed6f79a6f6e14c3bbd124816880f509a"
            }
          },
          "metadata": {}
        },
        {
          "output_type": "execute_result",
          "data": {
            "text/plain": [
              "DatasetDict({\n",
              "    train: Dataset({\n",
              "        features: ['premise', 'hypothesis', 'label', 'idx', 'input_ids', 'attention_mask'],\n",
              "        num_rows: 13635\n",
              "    })\n",
              "    validation_matched: Dataset({\n",
              "        features: ['premise', 'hypothesis', 'label', 'idx', 'input_ids', 'attention_mask'],\n",
              "        num_rows: 413\n",
              "    })\n",
              "})"
            ]
          },
          "metadata": {},
          "execution_count": 14
        }
      ],
      "source": [
        "# ds_tarea_featured = ds_tarea # Esta línea tiene sentido en caso de que no se modifique el dataset\n",
        "\n",
        "### BEGIN SOLUTION\n",
        "\n",
        "# Definir la función de preprocesamiento\n",
        "def preprocess_function(examples):\n",
        "    return tokenizer(examples['premise'], examples['hypothesis'], truncation=True, padding='max_length', max_length=128, return_tensors='pt')\n",
        "\n",
        "# Aplicar la función de preprocesamiento al dataset\n",
        "ds_tarea_featured = ds_tarea.map(preprocess_function, batched=True)\n",
        "\n",
        "### END SOLUTION\n",
        "\n",
        "ds_tarea_featured"
      ]
    },
    {
      "cell_type": "code",
      "execution_count": 15,
      "metadata": {
        "id": "h1xXc58M0qnx"
      },
      "outputs": [],
      "source": [
        "# Celda de control\n",
        "\n",
        "assert len(ds_tarea_featured['train']) == 13635\n",
        "assert len(ds_tarea_featured['validation_matched']) == 413"
      ]
    },
    {
      "cell_type": "markdown",
      "metadata": {
        "id": "DEoLqQYg0qnx"
      },
      "source": [
        "## Fine-tuning\n",
        "\n",
        "Para poder evaluar el modelo a lo largo del proceso y no esperar a tener toda la ejecución completa (que podría durar horas), se propone la creación de una métrica que muestre por pantalla la evolución del entrenamiento.\n",
        "\n",
        "Esta métrica se declara en una función, llamada en este caso _compute_metrics_ y se le pide a los argumentos y al trainer que calculen la métrica al final de cada _epoch_ con el _evaluation_dataset_."
      ]
    },
    {
      "cell_type": "code",
      "execution_count": 16,
      "metadata": {
        "id": "q4iW7nSJ0qny"
      },
      "outputs": [],
      "source": [
        "from datasets import load_metric\n",
        "\n",
        "def compute_metrics(eval_pred):\n",
        "    metric = load_metric(\"accuracy\")\n",
        "    logits, labels = eval_pred\n",
        "    predictions = logits.argmax(axis=-1)\n",
        "    return metric.compute(predictions=predictions, references=labels)"
      ]
    },
    {
      "cell_type": "markdown",
      "metadata": {
        "id": "hjZfwvjC0qny"
      },
      "source": [
        "A continuación, de forma libre se pide entrenar un modelo de HuggingFace deseado. Se pide usar un Trainer de HuggingFace que tenga los siguientes argumentos como mínimo (puede haber más argumentos en todas las variables):"
      ]
    },
    {
      "cell_type": "code",
      "source": [
        "#!pip install transformers[torch]"
      ],
      "metadata": {
        "id": "P1PNJJeuCxDt"
      },
      "execution_count": 17,
      "outputs": []
    },
    {
      "cell_type": "code",
      "source": [
        "#!pip install accelerate -U"
      ],
      "metadata": {
        "id": "eg_5q5OtDm9-"
      },
      "execution_count": 18,
      "outputs": []
    },
    {
      "cell_type": "code",
      "execution_count": 19,
      "metadata": {
        "id": "TlqNaB8jIrJW",
        "outputId": "3ee97e4e-acd7-4ded-ab59-efd3d5335886",
        "scrolled": true,
        "colab": {
          "base_uri": "https://localhost:8080/"
        }
      },
      "outputs": [
        {
          "output_type": "stream",
          "name": "stderr",
          "text": [
            "/usr/local/lib/python3.10/dist-packages/transformers/training_args.py:1474: FutureWarning: `evaluation_strategy` is deprecated and will be removed in version 4.46 of 🤗 Transformers. Use `eval_strategy` instead\n",
            "  warnings.warn(\n"
          ]
        }
      ],
      "source": [
        "from transformers import TrainingArguments, Trainer\n",
        "\n",
        "### BEGIN SOLUTION\n",
        "\n",
        "# Definir los argumentos de entrenamiento\n",
        "args = TrainingArguments(\n",
        "    output_dir='./finetuned1',   # Directorio para guardar los resultados\n",
        "    evaluation_strategy=\"epoch\", # Evaluar al final de cada época\n",
        "    save_strategy=\"epoch\",       # Guardar el modelo al final de cada época\n",
        "    per_device_train_batch_size=16, # Tamaño del batch de entrenamiento\n",
        "    per_device_eval_batch_size=16,  # Tamaño del batch de evaluación\n",
        "    num_train_epochs=3,             # Número de épocas de entrenamiento\n",
        "    learning_rate=2e-5,             # Tasa de aprendizaje\n",
        "    weight_decay=0.01,              # Decaimiento del peso\n",
        ")\n",
        "\n",
        "trainer = Trainer(\n",
        "    model=model,\n",
        "    args=args,\n",
        "    train_dataset=ds_tarea_featured[\"train\"],\n",
        "    eval_dataset=ds_tarea_featured[\"validation_matched\"],\n",
        "    tokenizer=tokenizer,\n",
        "    compute_metrics=compute_metrics\n",
        ")\n",
        "\n",
        "### END SOLUTION"
      ]
    },
    {
      "cell_type": "markdown",
      "metadata": {
        "id": "CdzABDVcIrJg"
      },
      "source": [
        "A continuación se entrena el modelo. Se pide no modificar esta celda, solo ejecutar."
      ]
    },
    {
      "cell_type": "code",
      "execution_count": 20,
      "metadata": {
        "id": "uNx5pyRlIrJh",
        "outputId": "0e041b70-e215-4831-ad38-9740988bc5df",
        "colab": {
          "base_uri": "https://localhost:8080/",
          "height": 346,
          "referenced_widgets": [
            "f06ac345cf2d482b975a9e6c2fa28c38",
            "cd1dce01d41740b08ea0181fbf028216",
            "74fce4473ae549628cedf033c5c44d3a",
            "6de1592e55044a40abbc1dce36b408db",
            "1e52b8d045054c26b4da0748dd4f1be1",
            "73eec4a68d31493ba99ded49731df887",
            "df619be8c7ca4dbe9ef76e6e455cd364",
            "386751d6cf3a438dafa83eba9c3bccc9",
            "3c5e4aef1e33413dbde14c8f97e69694",
            "53c8dd305e344145abb8fd445ab9c7fa",
            "545935ced39845538175cb55d25fc4e5"
          ]
        }
      },
      "outputs": [
        {
          "output_type": "display_data",
          "data": {
            "text/plain": [
              "<IPython.core.display.HTML object>"
            ],
            "text/html": [
              "\n",
              "    <div>\n",
              "      \n",
              "      <progress value='2559' max='2559' style='width:300px; height:20px; vertical-align: middle;'></progress>\n",
              "      [2559/2559 08:43, Epoch 3/3]\n",
              "    </div>\n",
              "    <table border=\"1\" class=\"dataframe\">\n",
              "  <thead>\n",
              " <tr style=\"text-align: left;\">\n",
              "      <th>Epoch</th>\n",
              "      <th>Training Loss</th>\n",
              "      <th>Validation Loss</th>\n",
              "      <th>Accuracy</th>\n",
              "    </tr>\n",
              "  </thead>\n",
              "  <tbody>\n",
              "    <tr>\n",
              "      <td>1</td>\n",
              "      <td>0.880200</td>\n",
              "      <td>0.609740</td>\n",
              "      <td>0.716707</td>\n",
              "    </tr>\n",
              "    <tr>\n",
              "      <td>2</td>\n",
              "      <td>0.553000</td>\n",
              "      <td>0.560424</td>\n",
              "      <td>0.774818</td>\n",
              "    </tr>\n",
              "    <tr>\n",
              "      <td>3</td>\n",
              "      <td>0.421500</td>\n",
              "      <td>0.586886</td>\n",
              "      <td>0.779661</td>\n",
              "    </tr>\n",
              "  </tbody>\n",
              "</table><p>"
            ]
          },
          "metadata": {}
        },
        {
          "output_type": "stream",
          "name": "stderr",
          "text": [
            "<ipython-input-16-3b44ea28a3f1>:4: FutureWarning: load_metric is deprecated and will be removed in the next major version of datasets. Use 'evaluate.load' instead, from the new library 🤗 Evaluate: https://huggingface.co/docs/evaluate\n",
            "  metric = load_metric(\"accuracy\")\n"
          ]
        },
        {
          "output_type": "display_data",
          "data": {
            "text/plain": [
              "Downloading builder script:   0%|          | 0.00/1.65k [00:00<?, ?B/s]"
            ],
            "application/vnd.jupyter.widget-view+json": {
              "version_major": 2,
              "version_minor": 0,
              "model_id": "f06ac345cf2d482b975a9e6c2fa28c38"
            }
          },
          "metadata": {}
        },
        {
          "output_type": "stream",
          "name": "stdout",
          "text": [
            "The repository for accuracy contains custom code which must be executed to correctly load the dataset. You can inspect the repository content at https://hf.co/datasets/accuracy.\n",
            "You can avoid this prompt in future by passing the argument `trust_remote_code=True`.\n",
            "\n",
            "Do you wish to run the custom code? [y/N] y\n",
            ">>>>>>>>>>>>> elapsed time: 9m\n"
          ]
        }
      ],
      "source": [
        "# Esta celda, celda tiene que estar ejecutada en la entrega\n",
        "\n",
        "from time import time\n",
        "\n",
        "start = time()\n",
        "\n",
        "trainer.train()\n",
        "\n",
        "end = time()\n",
        "print(f\">>>>>>>>>>>>> elapsed time: {(end-start)/60:.0f}m\")"
      ]
    },
    {
      "cell_type": "code",
      "execution_count": 21,
      "metadata": {
        "colab": {
          "base_uri": "https://localhost:8080/",
          "height": 55
        },
        "id": "s9vXy5uw0qnz",
        "outputId": "18222ba6-1a54-41c9-a37a-47cc90fa6ba8"
      },
      "outputs": [
        {
          "output_type": "display_data",
          "data": {
            "text/plain": [
              "<IPython.core.display.HTML object>"
            ],
            "text/html": [
              "\n",
              "    <div>\n",
              "      \n",
              "      <progress value='26' max='26' style='width:300px; height:20px; vertical-align: middle;'></progress>\n",
              "      [26/26 00:01]\n",
              "    </div>\n",
              "    "
            ]
          },
          "metadata": {}
        },
        {
          "output_type": "stream",
          "name": "stdout",
          "text": [
            "Final Eval Accuracy: 0.78\n"
          ]
        }
      ],
      "source": [
        "# Esta celda tiene que estar ejecutada en la entrega\n",
        "# Se espera un eval_accuracy superior a 0.75\n",
        "# A mayor accuracy no hay mayor nota, con superar el umbral de 0.75 es suficiente\n",
        "\n",
        "results = trainer.evaluate()\n",
        "final_eval_accuracy = results.get(\"eval_accuracy\")\n",
        "\n",
        "print(f\"Final Eval Accuracy: {final_eval_accuracy:.2f}\")"
      ]
    },
    {
      "cell_type": "code",
      "execution_count": 21,
      "metadata": {
        "id": "cdVMWcKj0qnz"
      },
      "outputs": [],
      "source": []
    }
  ],
  "metadata": {
    "colab": {
      "provenance": [],
      "gpuType": "T4",
      "include_colab_link": true
    },
    "kernelspec": {
      "display_name": "Python 3",
      "name": "python3"
    },
    "language_info": {
      "codemirror_mode": {
        "name": "ipython",
        "version": 3
      },
      "file_extension": ".py",
      "mimetype": "text/x-python",
      "name": "python",
      "nbconvert_exporter": "python",
      "pygments_lexer": "ipython3",
      "version": "3.10.13"
    },
    "accelerator": "GPU",
    "widgets": {
      "application/vnd.jupyter.widget-state+json": {
        "ed6f79a6f6e14c3bbd124816880f509a": {
          "model_module": "@jupyter-widgets/controls",
          "model_name": "HBoxModel",
          "model_module_version": "1.5.0",
          "state": {
            "_dom_classes": [],
            "_model_module": "@jupyter-widgets/controls",
            "_model_module_version": "1.5.0",
            "_model_name": "HBoxModel",
            "_view_count": null,
            "_view_module": "@jupyter-widgets/controls",
            "_view_module_version": "1.5.0",
            "_view_name": "HBoxView",
            "box_style": "",
            "children": [
              "IPY_MODEL_b1d83a0f6f774e9c92fef1a08fd628f9",
              "IPY_MODEL_b15a94aed986494caa9ffe4354cf6441",
              "IPY_MODEL_8ef102ce76094da8928b7561e5459e1e"
            ],
            "layout": "IPY_MODEL_504aa0085bc94e20b502063b0c83ce95"
          }
        },
        "b1d83a0f6f774e9c92fef1a08fd628f9": {
          "model_module": "@jupyter-widgets/controls",
          "model_name": "HTMLModel",
          "model_module_version": "1.5.0",
          "state": {
            "_dom_classes": [],
            "_model_module": "@jupyter-widgets/controls",
            "_model_module_version": "1.5.0",
            "_model_name": "HTMLModel",
            "_view_count": null,
            "_view_module": "@jupyter-widgets/controls",
            "_view_module_version": "1.5.0",
            "_view_name": "HTMLView",
            "description": "",
            "description_tooltip": null,
            "layout": "IPY_MODEL_0a600518a25b4dd69e4ffb49c6ad0764",
            "placeholder": "​",
            "style": "IPY_MODEL_3dd69245f4b744b4b25227f2809511c5",
            "value": "Map: 100%"
          }
        },
        "b15a94aed986494caa9ffe4354cf6441": {
          "model_module": "@jupyter-widgets/controls",
          "model_name": "FloatProgressModel",
          "model_module_version": "1.5.0",
          "state": {
            "_dom_classes": [],
            "_model_module": "@jupyter-widgets/controls",
            "_model_module_version": "1.5.0",
            "_model_name": "FloatProgressModel",
            "_view_count": null,
            "_view_module": "@jupyter-widgets/controls",
            "_view_module_version": "1.5.0",
            "_view_name": "ProgressView",
            "bar_style": "success",
            "description": "",
            "description_tooltip": null,
            "layout": "IPY_MODEL_374172ec5424443488d22e834037f004",
            "max": 413,
            "min": 0,
            "orientation": "horizontal",
            "style": "IPY_MODEL_aebe1d82f1a04a7a986460c2f03634f8",
            "value": 413
          }
        },
        "8ef102ce76094da8928b7561e5459e1e": {
          "model_module": "@jupyter-widgets/controls",
          "model_name": "HTMLModel",
          "model_module_version": "1.5.0",
          "state": {
            "_dom_classes": [],
            "_model_module": "@jupyter-widgets/controls",
            "_model_module_version": "1.5.0",
            "_model_name": "HTMLModel",
            "_view_count": null,
            "_view_module": "@jupyter-widgets/controls",
            "_view_module_version": "1.5.0",
            "_view_name": "HTMLView",
            "description": "",
            "description_tooltip": null,
            "layout": "IPY_MODEL_88c91e849e084834955b6971fb035e57",
            "placeholder": "​",
            "style": "IPY_MODEL_c0ae89b524b347a59b6ca784c01f6447",
            "value": " 413/413 [00:00&lt;00:00, 4583.87 examples/s]"
          }
        },
        "504aa0085bc94e20b502063b0c83ce95": {
          "model_module": "@jupyter-widgets/base",
          "model_name": "LayoutModel",
          "model_module_version": "1.2.0",
          "state": {
            "_model_module": "@jupyter-widgets/base",
            "_model_module_version": "1.2.0",
            "_model_name": "LayoutModel",
            "_view_count": null,
            "_view_module": "@jupyter-widgets/base",
            "_view_module_version": "1.2.0",
            "_view_name": "LayoutView",
            "align_content": null,
            "align_items": null,
            "align_self": null,
            "border": null,
            "bottom": null,
            "display": null,
            "flex": null,
            "flex_flow": null,
            "grid_area": null,
            "grid_auto_columns": null,
            "grid_auto_flow": null,
            "grid_auto_rows": null,
            "grid_column": null,
            "grid_gap": null,
            "grid_row": null,
            "grid_template_areas": null,
            "grid_template_columns": null,
            "grid_template_rows": null,
            "height": null,
            "justify_content": null,
            "justify_items": null,
            "left": null,
            "margin": null,
            "max_height": null,
            "max_width": null,
            "min_height": null,
            "min_width": null,
            "object_fit": null,
            "object_position": null,
            "order": null,
            "overflow": null,
            "overflow_x": null,
            "overflow_y": null,
            "padding": null,
            "right": null,
            "top": null,
            "visibility": null,
            "width": null
          }
        },
        "0a600518a25b4dd69e4ffb49c6ad0764": {
          "model_module": "@jupyter-widgets/base",
          "model_name": "LayoutModel",
          "model_module_version": "1.2.0",
          "state": {
            "_model_module": "@jupyter-widgets/base",
            "_model_module_version": "1.2.0",
            "_model_name": "LayoutModel",
            "_view_count": null,
            "_view_module": "@jupyter-widgets/base",
            "_view_module_version": "1.2.0",
            "_view_name": "LayoutView",
            "align_content": null,
            "align_items": null,
            "align_self": null,
            "border": null,
            "bottom": null,
            "display": null,
            "flex": null,
            "flex_flow": null,
            "grid_area": null,
            "grid_auto_columns": null,
            "grid_auto_flow": null,
            "grid_auto_rows": null,
            "grid_column": null,
            "grid_gap": null,
            "grid_row": null,
            "grid_template_areas": null,
            "grid_template_columns": null,
            "grid_template_rows": null,
            "height": null,
            "justify_content": null,
            "justify_items": null,
            "left": null,
            "margin": null,
            "max_height": null,
            "max_width": null,
            "min_height": null,
            "min_width": null,
            "object_fit": null,
            "object_position": null,
            "order": null,
            "overflow": null,
            "overflow_x": null,
            "overflow_y": null,
            "padding": null,
            "right": null,
            "top": null,
            "visibility": null,
            "width": null
          }
        },
        "3dd69245f4b744b4b25227f2809511c5": {
          "model_module": "@jupyter-widgets/controls",
          "model_name": "DescriptionStyleModel",
          "model_module_version": "1.5.0",
          "state": {
            "_model_module": "@jupyter-widgets/controls",
            "_model_module_version": "1.5.0",
            "_model_name": "DescriptionStyleModel",
            "_view_count": null,
            "_view_module": "@jupyter-widgets/base",
            "_view_module_version": "1.2.0",
            "_view_name": "StyleView",
            "description_width": ""
          }
        },
        "374172ec5424443488d22e834037f004": {
          "model_module": "@jupyter-widgets/base",
          "model_name": "LayoutModel",
          "model_module_version": "1.2.0",
          "state": {
            "_model_module": "@jupyter-widgets/base",
            "_model_module_version": "1.2.0",
            "_model_name": "LayoutModel",
            "_view_count": null,
            "_view_module": "@jupyter-widgets/base",
            "_view_module_version": "1.2.0",
            "_view_name": "LayoutView",
            "align_content": null,
            "align_items": null,
            "align_self": null,
            "border": null,
            "bottom": null,
            "display": null,
            "flex": null,
            "flex_flow": null,
            "grid_area": null,
            "grid_auto_columns": null,
            "grid_auto_flow": null,
            "grid_auto_rows": null,
            "grid_column": null,
            "grid_gap": null,
            "grid_row": null,
            "grid_template_areas": null,
            "grid_template_columns": null,
            "grid_template_rows": null,
            "height": null,
            "justify_content": null,
            "justify_items": null,
            "left": null,
            "margin": null,
            "max_height": null,
            "max_width": null,
            "min_height": null,
            "min_width": null,
            "object_fit": null,
            "object_position": null,
            "order": null,
            "overflow": null,
            "overflow_x": null,
            "overflow_y": null,
            "padding": null,
            "right": null,
            "top": null,
            "visibility": null,
            "width": null
          }
        },
        "aebe1d82f1a04a7a986460c2f03634f8": {
          "model_module": "@jupyter-widgets/controls",
          "model_name": "ProgressStyleModel",
          "model_module_version": "1.5.0",
          "state": {
            "_model_module": "@jupyter-widgets/controls",
            "_model_module_version": "1.5.0",
            "_model_name": "ProgressStyleModel",
            "_view_count": null,
            "_view_module": "@jupyter-widgets/base",
            "_view_module_version": "1.2.0",
            "_view_name": "StyleView",
            "bar_color": null,
            "description_width": ""
          }
        },
        "88c91e849e084834955b6971fb035e57": {
          "model_module": "@jupyter-widgets/base",
          "model_name": "LayoutModel",
          "model_module_version": "1.2.0",
          "state": {
            "_model_module": "@jupyter-widgets/base",
            "_model_module_version": "1.2.0",
            "_model_name": "LayoutModel",
            "_view_count": null,
            "_view_module": "@jupyter-widgets/base",
            "_view_module_version": "1.2.0",
            "_view_name": "LayoutView",
            "align_content": null,
            "align_items": null,
            "align_self": null,
            "border": null,
            "bottom": null,
            "display": null,
            "flex": null,
            "flex_flow": null,
            "grid_area": null,
            "grid_auto_columns": null,
            "grid_auto_flow": null,
            "grid_auto_rows": null,
            "grid_column": null,
            "grid_gap": null,
            "grid_row": null,
            "grid_template_areas": null,
            "grid_template_columns": null,
            "grid_template_rows": null,
            "height": null,
            "justify_content": null,
            "justify_items": null,
            "left": null,
            "margin": null,
            "max_height": null,
            "max_width": null,
            "min_height": null,
            "min_width": null,
            "object_fit": null,
            "object_position": null,
            "order": null,
            "overflow": null,
            "overflow_x": null,
            "overflow_y": null,
            "padding": null,
            "right": null,
            "top": null,
            "visibility": null,
            "width": null
          }
        },
        "c0ae89b524b347a59b6ca784c01f6447": {
          "model_module": "@jupyter-widgets/controls",
          "model_name": "DescriptionStyleModel",
          "model_module_version": "1.5.0",
          "state": {
            "_model_module": "@jupyter-widgets/controls",
            "_model_module_version": "1.5.0",
            "_model_name": "DescriptionStyleModel",
            "_view_count": null,
            "_view_module": "@jupyter-widgets/base",
            "_view_module_version": "1.2.0",
            "_view_name": "StyleView",
            "description_width": ""
          }
        },
        "f06ac345cf2d482b975a9e6c2fa28c38": {
          "model_module": "@jupyter-widgets/controls",
          "model_name": "HBoxModel",
          "model_module_version": "1.5.0",
          "state": {
            "_dom_classes": [],
            "_model_module": "@jupyter-widgets/controls",
            "_model_module_version": "1.5.0",
            "_model_name": "HBoxModel",
            "_view_count": null,
            "_view_module": "@jupyter-widgets/controls",
            "_view_module_version": "1.5.0",
            "_view_name": "HBoxView",
            "box_style": "",
            "children": [
              "IPY_MODEL_cd1dce01d41740b08ea0181fbf028216",
              "IPY_MODEL_74fce4473ae549628cedf033c5c44d3a",
              "IPY_MODEL_6de1592e55044a40abbc1dce36b408db"
            ],
            "layout": "IPY_MODEL_1e52b8d045054c26b4da0748dd4f1be1"
          }
        },
        "cd1dce01d41740b08ea0181fbf028216": {
          "model_module": "@jupyter-widgets/controls",
          "model_name": "HTMLModel",
          "model_module_version": "1.5.0",
          "state": {
            "_dom_classes": [],
            "_model_module": "@jupyter-widgets/controls",
            "_model_module_version": "1.5.0",
            "_model_name": "HTMLModel",
            "_view_count": null,
            "_view_module": "@jupyter-widgets/controls",
            "_view_module_version": "1.5.0",
            "_view_name": "HTMLView",
            "description": "",
            "description_tooltip": null,
            "layout": "IPY_MODEL_73eec4a68d31493ba99ded49731df887",
            "placeholder": "​",
            "style": "IPY_MODEL_df619be8c7ca4dbe9ef76e6e455cd364",
            "value": "Downloading builder script: "
          }
        },
        "74fce4473ae549628cedf033c5c44d3a": {
          "model_module": "@jupyter-widgets/controls",
          "model_name": "FloatProgressModel",
          "model_module_version": "1.5.0",
          "state": {
            "_dom_classes": [],
            "_model_module": "@jupyter-widgets/controls",
            "_model_module_version": "1.5.0",
            "_model_name": "FloatProgressModel",
            "_view_count": null,
            "_view_module": "@jupyter-widgets/controls",
            "_view_module_version": "1.5.0",
            "_view_name": "ProgressView",
            "bar_style": "success",
            "description": "",
            "description_tooltip": null,
            "layout": "IPY_MODEL_386751d6cf3a438dafa83eba9c3bccc9",
            "max": 1652,
            "min": 0,
            "orientation": "horizontal",
            "style": "IPY_MODEL_3c5e4aef1e33413dbde14c8f97e69694",
            "value": 1652
          }
        },
        "6de1592e55044a40abbc1dce36b408db": {
          "model_module": "@jupyter-widgets/controls",
          "model_name": "HTMLModel",
          "model_module_version": "1.5.0",
          "state": {
            "_dom_classes": [],
            "_model_module": "@jupyter-widgets/controls",
            "_model_module_version": "1.5.0",
            "_model_name": "HTMLModel",
            "_view_count": null,
            "_view_module": "@jupyter-widgets/controls",
            "_view_module_version": "1.5.0",
            "_view_name": "HTMLView",
            "description": "",
            "description_tooltip": null,
            "layout": "IPY_MODEL_53c8dd305e344145abb8fd445ab9c7fa",
            "placeholder": "​",
            "style": "IPY_MODEL_545935ced39845538175cb55d25fc4e5",
            "value": " 4.21k/? [00:00&lt;00:00, 268kB/s]"
          }
        },
        "1e52b8d045054c26b4da0748dd4f1be1": {
          "model_module": "@jupyter-widgets/base",
          "model_name": "LayoutModel",
          "model_module_version": "1.2.0",
          "state": {
            "_model_module": "@jupyter-widgets/base",
            "_model_module_version": "1.2.0",
            "_model_name": "LayoutModel",
            "_view_count": null,
            "_view_module": "@jupyter-widgets/base",
            "_view_module_version": "1.2.0",
            "_view_name": "LayoutView",
            "align_content": null,
            "align_items": null,
            "align_self": null,
            "border": null,
            "bottom": null,
            "display": null,
            "flex": null,
            "flex_flow": null,
            "grid_area": null,
            "grid_auto_columns": null,
            "grid_auto_flow": null,
            "grid_auto_rows": null,
            "grid_column": null,
            "grid_gap": null,
            "grid_row": null,
            "grid_template_areas": null,
            "grid_template_columns": null,
            "grid_template_rows": null,
            "height": null,
            "justify_content": null,
            "justify_items": null,
            "left": null,
            "margin": null,
            "max_height": null,
            "max_width": null,
            "min_height": null,
            "min_width": null,
            "object_fit": null,
            "object_position": null,
            "order": null,
            "overflow": null,
            "overflow_x": null,
            "overflow_y": null,
            "padding": null,
            "right": null,
            "top": null,
            "visibility": null,
            "width": null
          }
        },
        "73eec4a68d31493ba99ded49731df887": {
          "model_module": "@jupyter-widgets/base",
          "model_name": "LayoutModel",
          "model_module_version": "1.2.0",
          "state": {
            "_model_module": "@jupyter-widgets/base",
            "_model_module_version": "1.2.0",
            "_model_name": "LayoutModel",
            "_view_count": null,
            "_view_module": "@jupyter-widgets/base",
            "_view_module_version": "1.2.0",
            "_view_name": "LayoutView",
            "align_content": null,
            "align_items": null,
            "align_self": null,
            "border": null,
            "bottom": null,
            "display": null,
            "flex": null,
            "flex_flow": null,
            "grid_area": null,
            "grid_auto_columns": null,
            "grid_auto_flow": null,
            "grid_auto_rows": null,
            "grid_column": null,
            "grid_gap": null,
            "grid_row": null,
            "grid_template_areas": null,
            "grid_template_columns": null,
            "grid_template_rows": null,
            "height": null,
            "justify_content": null,
            "justify_items": null,
            "left": null,
            "margin": null,
            "max_height": null,
            "max_width": null,
            "min_height": null,
            "min_width": null,
            "object_fit": null,
            "object_position": null,
            "order": null,
            "overflow": null,
            "overflow_x": null,
            "overflow_y": null,
            "padding": null,
            "right": null,
            "top": null,
            "visibility": null,
            "width": null
          }
        },
        "df619be8c7ca4dbe9ef76e6e455cd364": {
          "model_module": "@jupyter-widgets/controls",
          "model_name": "DescriptionStyleModel",
          "model_module_version": "1.5.0",
          "state": {
            "_model_module": "@jupyter-widgets/controls",
            "_model_module_version": "1.5.0",
            "_model_name": "DescriptionStyleModel",
            "_view_count": null,
            "_view_module": "@jupyter-widgets/base",
            "_view_module_version": "1.2.0",
            "_view_name": "StyleView",
            "description_width": ""
          }
        },
        "386751d6cf3a438dafa83eba9c3bccc9": {
          "model_module": "@jupyter-widgets/base",
          "model_name": "LayoutModel",
          "model_module_version": "1.2.0",
          "state": {
            "_model_module": "@jupyter-widgets/base",
            "_model_module_version": "1.2.0",
            "_model_name": "LayoutModel",
            "_view_count": null,
            "_view_module": "@jupyter-widgets/base",
            "_view_module_version": "1.2.0",
            "_view_name": "LayoutView",
            "align_content": null,
            "align_items": null,
            "align_self": null,
            "border": null,
            "bottom": null,
            "display": null,
            "flex": null,
            "flex_flow": null,
            "grid_area": null,
            "grid_auto_columns": null,
            "grid_auto_flow": null,
            "grid_auto_rows": null,
            "grid_column": null,
            "grid_gap": null,
            "grid_row": null,
            "grid_template_areas": null,
            "grid_template_columns": null,
            "grid_template_rows": null,
            "height": null,
            "justify_content": null,
            "justify_items": null,
            "left": null,
            "margin": null,
            "max_height": null,
            "max_width": null,
            "min_height": null,
            "min_width": null,
            "object_fit": null,
            "object_position": null,
            "order": null,
            "overflow": null,
            "overflow_x": null,
            "overflow_y": null,
            "padding": null,
            "right": null,
            "top": null,
            "visibility": null,
            "width": null
          }
        },
        "3c5e4aef1e33413dbde14c8f97e69694": {
          "model_module": "@jupyter-widgets/controls",
          "model_name": "ProgressStyleModel",
          "model_module_version": "1.5.0",
          "state": {
            "_model_module": "@jupyter-widgets/controls",
            "_model_module_version": "1.5.0",
            "_model_name": "ProgressStyleModel",
            "_view_count": null,
            "_view_module": "@jupyter-widgets/base",
            "_view_module_version": "1.2.0",
            "_view_name": "StyleView",
            "bar_color": null,
            "description_width": ""
          }
        },
        "53c8dd305e344145abb8fd445ab9c7fa": {
          "model_module": "@jupyter-widgets/base",
          "model_name": "LayoutModel",
          "model_module_version": "1.2.0",
          "state": {
            "_model_module": "@jupyter-widgets/base",
            "_model_module_version": "1.2.0",
            "_model_name": "LayoutModel",
            "_view_count": null,
            "_view_module": "@jupyter-widgets/base",
            "_view_module_version": "1.2.0",
            "_view_name": "LayoutView",
            "align_content": null,
            "align_items": null,
            "align_self": null,
            "border": null,
            "bottom": null,
            "display": null,
            "flex": null,
            "flex_flow": null,
            "grid_area": null,
            "grid_auto_columns": null,
            "grid_auto_flow": null,
            "grid_auto_rows": null,
            "grid_column": null,
            "grid_gap": null,
            "grid_row": null,
            "grid_template_areas": null,
            "grid_template_columns": null,
            "grid_template_rows": null,
            "height": null,
            "justify_content": null,
            "justify_items": null,
            "left": null,
            "margin": null,
            "max_height": null,
            "max_width": null,
            "min_height": null,
            "min_width": null,
            "object_fit": null,
            "object_position": null,
            "order": null,
            "overflow": null,
            "overflow_x": null,
            "overflow_y": null,
            "padding": null,
            "right": null,
            "top": null,
            "visibility": null,
            "width": null
          }
        },
        "545935ced39845538175cb55d25fc4e5": {
          "model_module": "@jupyter-widgets/controls",
          "model_name": "DescriptionStyleModel",
          "model_module_version": "1.5.0",
          "state": {
            "_model_module": "@jupyter-widgets/controls",
            "_model_module_version": "1.5.0",
            "_model_name": "DescriptionStyleModel",
            "_view_count": null,
            "_view_module": "@jupyter-widgets/base",
            "_view_module_version": "1.2.0",
            "_view_name": "StyleView",
            "description_width": ""
          }
        }
      }
    }
  },
  "nbformat": 4,
  "nbformat_minor": 0
}