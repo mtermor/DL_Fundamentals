{
  "nbformat": 4,
  "nbformat_minor": 0,
  "metadata": {
    "colab": {
      "provenance": [],
      "authorship_tag": "ABX9TyMgHQZ/wP4NDeXN0oCKCFOq",
      "include_colab_link": true
    },
    "kernelspec": {
      "name": "python3",
      "display_name": "Python 3"
    },
    "language_info": {
      "name": "python"
    }
  },
  "cells": [
    {
      "cell_type": "markdown",
      "metadata": {
        "id": "view-in-github",
        "colab_type": "text"
      },
      "source": [
        "<a href=\"https://colab.research.google.com/github/mtermor/NTIC_DeepLearning/blob/main/NLP/04-attention-intro.ipynb\" target=\"_parent\"><img src=\"https://colab.research.google.com/assets/colab-badge.svg\" alt=\"Open In Colab\"/></a>"
      ]
    },
    {
      "cell_type": "code",
      "execution_count": 1,
      "metadata": {
        "id": "PLnVcgpIdiLH"
      },
      "outputs": [],
      "source": [
        "import numpy as np\n",
        "from scipy.special import softmax\n",
        "\n",
        "import matplotlib.pyplot as plt\n",
        "import seaborn as sns\n",
        "\n",
        "sns.set_style('darkgrid')"
      ]
    },
    {
      "cell_type": "markdown",
      "source": [
        "# Hard Attention"
      ],
      "metadata": {
        "id": "MdbiL6wUd8i1"
      }
    },
    {
      "cell_type": "code",
      "source": [
        "n_dim = 2\n",
        "\n",
        "v1 = np.array([1, 0])\n",
        "v2 = np.array([0, 1])\n",
        "v3 = np.array([-0.5, -0.5])\n",
        "\n",
        "X = np.array([v1, v2, v3])\n",
        "X"
      ],
      "metadata": {
        "colab": {
          "base_uri": "https://localhost:8080/"
        },
        "id": "ddIuZUFDd8Ar",
        "outputId": "4acd63e0-702f-419e-ffd7-43f6d56dbe4f"
      },
      "execution_count": 2,
      "outputs": [
        {
          "output_type": "execute_result",
          "data": {
            "text/plain": [
              "array([[ 1. ,  0. ],\n",
              "       [ 0. ,  1. ],\n",
              "       [-0.5, -0.5]])"
            ]
          },
          "metadata": {},
          "execution_count": 2
        }
      ]
    },
    {
      "cell_type": "code",
      "source": [
        "def plot_vectors(X, A=None):\n",
        "  plt.figure(figsize=(4,4))\n",
        "  ax = plt.axes()\n",
        "  plt.xlim((-2,2))\n",
        "  plt.ylim((-2,2))\n",
        "\n",
        "  for x in X:\n",
        "    ax.arrow(0,0,x[0], x[1], head_width = 0.1, head_length = 0.1, color='blue')\n",
        "\n",
        "  if A is not None:\n",
        "    Y = np.dot(A, X)\n",
        "    print(Y)\n",
        "    for y in Y:\n",
        "      ax.arrow(0,0,y[0], y[1], head_width = 0.1, head_length = 0.1, color='red')\n"
      ],
      "metadata": {
        "id": "QrGDDPWLebRK"
      },
      "execution_count": 13,
      "outputs": []
    },
    {
      "cell_type": "code",
      "source": [
        "# Hard Attention >> prestar atención a solo 1 vector\n",
        "A = np.array([\n",
        "    np.array([1, 0, 0]),\n",
        "    np.array([0, 0, 0]),\n",
        "    np.array([0, 0, 0]),\n",
        "])\n",
        "\n",
        "np.dot(A,X)\n",
        "\n",
        "plot_vectors(X, A)"
      ],
      "metadata": {
        "colab": {
          "base_uri": "https://localhost:8080/",
          "height": 428
        },
        "id": "lsa3G3eYebJN",
        "outputId": "5d98a95c-b9c7-4bf1-975d-10218c5d7f32"
      },
      "execution_count": 14,
      "outputs": [
        {
          "output_type": "stream",
          "name": "stdout",
          "text": [
            "[[1. 0.]\n",
            " [0. 0.]\n",
            " [0. 0.]]\n"
          ]
        },
        {
          "output_type": "display_data",
          "data": {
            "text/plain": [
              "<Figure size 400x400 with 1 Axes>"
            ],
            "image/png": "[encoded data removed]"
          },
          "metadata": {}
        }
      ]
    },
    {
      "cell_type": "markdown",
      "source": [
        "## Soft Attention\n",
        "\n",
        "En vez de prestar atención a un vector, prestar un porcentaje de atención a cada vector."
      ],
      "metadata": {
        "id": "7aEkB8IXgIfd"
      }
    },
    {
      "cell_type": "code",
      "source": [
        "# Soft Attention >> prestar atención de forma proporcional a todos los vectores\n",
        "A = np.array([\n",
        "    np.array([0.8, 0.2, 0.2]),\n",
        "    np.array([0.2, 0.8, 0.2]),\n",
        "    np.array([0.2, 0.2, 0.8]),\n",
        "])\n",
        "\n",
        "plot_vectors(X, A)"
      ],
      "metadata": {
        "colab": {
          "base_uri": "https://localhost:8080/",
          "height": 428
        },
        "id": "buZKjoViflmS",
        "outputId": "850791d8-d97d-4cc6-a5f8-2823c71cdc5a"
      },
      "execution_count": 17,
      "outputs": [
        {
          "output_type": "stream",
          "name": "stdout",
          "text": [
            "[[ 0.7  0.1]\n",
            " [ 0.1  0.7]\n",
            " [-0.2 -0.2]]\n"
          ]
        },
        {
          "output_type": "display_data",
          "data": {
            "text/plain": [
              "<Figure size 400x400 with 1 Axes>"
            ],
            "image/png": "[encoded data removed]"
          },
          "metadata": {}
        }
      ]
    },
    {
      "cell_type": "markdown",
      "source": [
        "# Self Attention"
      ],
      "metadata": {
        "id": "wqg7ftMGgtY_"
      }
    },
    {
      "cell_type": "code",
      "source": [
        "A = softmax(np.dot(X,X.T), 1)\n",
        "A"
      ],
      "metadata": {
        "colab": {
          "base_uri": "https://localhost:8080/"
        },
        "id": "WEVwZ50aflku",
        "outputId": "dd047645-14c2-4ec1-8087-283efd0abe9b"
      },
      "execution_count": 22,
      "outputs": [
        {
          "output_type": "execute_result",
          "data": {
            "text/plain": [
              "array([[0.62853172, 0.2312239 , 0.14024438],\n",
              "       [0.2312239 , 0.62853172, 0.14024438],\n",
              "       [0.21194156, 0.21194156, 0.57611688]])"
            ]
          },
          "metadata": {},
          "execution_count": 22
        }
      ]
    },
    {
      "cell_type": "code",
      "source": [
        "plot_vectors(X, A)"
      ],
      "metadata": {
        "colab": {
          "base_uri": "https://localhost:8080/",
          "height": 428
        },
        "id": "guIA2fXtflg_",
        "outputId": "27dfe314-edea-45c8-ad44-ee24e43465d2"
      },
      "execution_count": 23,
      "outputs": [
        {
          "output_type": "stream",
          "name": "stdout",
          "text": [
            "[[ 0.55840953  0.16110171]\n",
            " [ 0.16110171  0.55840953]\n",
            " [-0.07611688 -0.07611688]]\n"
          ]
        },
        {
          "output_type": "display_data",
          "data": {
            "text/plain": [
              "<Figure size 400x400 with 1 Axes>"
            ],
            "image/png": "[encoded data removed]"
          },
          "metadata": {}
        }
      ]
    },
    {
      "cell_type": "code",
      "source": [],
      "metadata": {
        "id": "xo0PSsMBfldB"
      },
      "execution_count": null,
      "outputs": []
    },
    {
      "cell_type": "code",
      "source": [],
      "metadata": {
        "id": "mAiLV89nflYg"
      },
      "execution_count": null,
      "outputs": []
    },
    {
      "cell_type": "code",
      "source": [],
      "metadata": {
        "id": "qHIorTOmebDN"
      },
      "execution_count": null,
      "outputs": []
    },
    {
      "cell_type": "code",
      "source": [],
      "metadata": {
        "id": "EoLXvQL7eQEJ"
      },
      "execution_count": null,
      "outputs": []
    }
  ]
}