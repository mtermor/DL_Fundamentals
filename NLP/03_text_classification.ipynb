{
  "nbformat": 4,
  "nbformat_minor": 0,
  "metadata": {
    "colab": {
      "provenance": [],
      "toc_visible": true,
      "gpuType": "T4",
      "authorship_tag": "ABX9TyMDNgnT7zIeKENRXFJQhOBA",
      "include_colab_link": true
    },
    "kernelspec": {
      "name": "python3",
      "display_name": "Python 3"
    },
    "language_info": {
      "name": "python"
    },
    "accelerator": "GPU"
  },
  "cells": [
    {
      "cell_type": "markdown",
      "metadata": {
        "id": "view-in-github",
        "colab_type": "text"
      },
      "source": [
        "<a href=\"https://colab.research.google.com/github/mtermor/NTIC_DeepLearning/blob/main/NLP/03_text_classification.ipynb\" target=\"_parent\"><img src=\"https://colab.research.google.com/assets/colab-badge.svg\" alt=\"Open In Colab\"/></a>"
      ]
    },
    {
      "cell_type": "markdown",
      "source": [
        "# Dataset"
      ],
      "metadata": {
        "id": "Kac7kKmfKovp"
      }
    },
    {
      "cell_type": "code",
      "execution_count": 2,
      "metadata": {
        "id": "vyiIkwWdKdbX"
      },
      "outputs": [],
      "source": [
        "import pandas as pd\n",
        "pd.set_option('display.max_colwidth', None)"
      ]
    },
    {
      "cell_type": "code",
      "source": [
        "df = pd.read_csv('https://raw.githubusercontent.com/eduardofc/data/main/amazon_sports.csv')\n",
        "df['review_body'] = df['review_body'].str.replace(\"[^a-zA-ZñÑáéíóú .,:;]\", \"\", regex=True)\n",
        "df['review_body'] = df['review_body'].str.lower()\n",
        "df.head()"
      ],
      "metadata": {
        "colab": {
          "base_uri": "https://localhost:8080/",
          "height": 310
        },
        "id": "W_oO_whqKvzs",
        "outputId": "4fe6855e-5519-4a95-a8f5-1c9c272aae9a"
      },
      "execution_count": 7,
      "outputs": [
        {
          "output_type": "execute_result",
          "data": {
            "text/plain": [
              "   stars  \\\n",
              "0      1   \n",
              "1      1   \n",
              "2      1   \n",
              "3      1   \n",
              "4      1   \n",
              "\n",
              "                                                                                                                                                                                                                                                      review_body  \\\n",
              "0                                                                                                                                                                                                   nunca llego el pedido y el vendedor pasa de todo no contestan   \n",
              "1                            no sé como es, porque debería haber llegado ayer día  de marzo, y hoy  por la noche sigo esperando que llegue el frontal. y me habéis mandado el formulario de opinión. pues de momento mala no ha cumplido con la fecha de entrega.   \n",
              "2                                                                                                                   guantes cómodos, no lo niego, pero de mala calidad. yo creo que en caso de caída no valdrian para mucho, dos meses de uso y se están rajando.   \n",
              "3                                                                                                                                                 hasta hoy no he visto el producto. el pedido hace ya casi  mes. y notifico que he usado prime para está compra.   \n",
              "4  no puedo valorarla porque, después de casi una semana, aún no he recibido mi pedido. pienso que amazon tendría que valorar las compañías de transporte con que trabaja, porque es indignante que pague mi cuota prime y nunca reciba mi pedido el día que toca   \n",
              "\n",
              "              review_title product_category  \n",
              "0           No llego nunca           sports  \n",
              "1    Todavía no ha llegado           sports  \n",
              "2  Guantes de baja calidad           sports  \n",
              "3     Muy Mala experiencia           sports  \n",
              "4         Paquete perdido?           sports  "
            ],
            "text/html": [
              "\n",
              "  <div id=\"df-4980b859-0fcd-4438-866f-d120297462a2\" class=\"colab-df-container\">\n",
              "    <div>\n",
              "<style scoped>\n",
              "    .dataframe tbody tr th:only-of-type {\n",
              "        vertical-align: middle;\n",
              "    }\n",
              "\n",
              "    .dataframe tbody tr th {\n",
              "        vertical-align: top;\n",
              "    }\n",
              "\n",
              "    .dataframe thead th {\n",
              "        text-align: right;\n",
              "    }\n",
              "</style>\n",
              "<table border=\"1\" class=\"dataframe\">\n",
              "  <thead>\n",
              "    <tr style=\"text-align: right;\">\n",
              "      <th></th>\n",
              "      <th>stars</th>\n",
              "      <th>review_body</th>\n",
              "      <th>review_title</th>\n",
              "      <th>product_category</th>\n",
              "    </tr>\n",
              "  </thead>\n",
              "  <tbody>\n",
              "    <tr>\n",
              "      <th>0</th>\n",
              "      <td>1</td>\n",
              "      <td>nunca llego el pedido y el vendedor pasa de todo no contestan</td>\n",
              "      <td>No llego nunca</td>\n",
              "      <td>sports</td>\n",
              "    </tr>\n",
              "    <tr>\n",
              "      <th>1</th>\n",
              "      <td>1</td>\n",
              "      <td>no sé como es, porque debería haber llegado ayer día  de marzo, y hoy  por la noche sigo esperando que llegue el frontal. y me habéis mandado el formulario de opinión. pues de momento mala no ha cumplido con la fecha de entrega.</td>\n",
              "      <td>Todavía no ha llegado</td>\n",
              "      <td>sports</td>\n",
              "    </tr>\n",
              "    <tr>\n",
              "      <th>2</th>\n",
              "      <td>1</td>\n",
              "      <td>guantes cómodos, no lo niego, pero de mala calidad. yo creo que en caso de caída no valdrian para mucho, dos meses de uso y se están rajando.</td>\n",
              "      <td>Guantes de baja calidad</td>\n",
              "      <td>sports</td>\n",
              "    </tr>\n",
              "    <tr>\n",
              "      <th>3</th>\n",
              "      <td>1</td>\n",
              "      <td>hasta hoy no he visto el producto. el pedido hace ya casi  mes. y notifico que he usado prime para está compra.</td>\n",
              "      <td>Muy Mala experiencia</td>\n",
              "      <td>sports</td>\n",
              "    </tr>\n",
              "    <tr>\n",
              "      <th>4</th>\n",
              "      <td>1</td>\n",
              "      <td>no puedo valorarla porque, después de casi una semana, aún no he recibido mi pedido. pienso que amazon tendría que valorar las compañías de transporte con que trabaja, porque es indignante que pague mi cuota prime y nunca reciba mi pedido el día que toca</td>\n",
              "      <td>Paquete perdido?</td>\n",
              "      <td>sports</td>\n",
              "    </tr>\n",
              "  </tbody>\n",
              "</table>\n",
              "</div>\n",
              "    <div class=\"colab-df-buttons\">\n",
              "\n",
              "  <div class=\"colab-df-container\">\n",
              "    <button class=\"colab-df-convert\" onclick=\"convertToInteractive('df-4980b859-0fcd-4438-866f-d120297462a2')\"\n",
              "            title=\"Convert this dataframe to an interactive table.\"\n",
              "            style=\"display:none;\">\n",
              "\n",
              "  <svg xmlns=\"http://www.w3.org/2000/svg\" height=\"24px\" viewBox=\"0 -960 960 960\">\n",
              "    <path d=\"M120-120v-720h720v720H120Zm60-500h600v-160H180v160Zm220 220h160v-160H400v160Zm0 220h160v-160H400v160ZM180-400h160v-160H180v160Zm440 0h160v-160H620v160ZM180-180h160v-160H180v160Zm440 0h160v-160H620v160Z\"/>\n",
              "  </svg>\n",
              "    </button>\n",
              "\n",
              "  <style>\n",
              "    .colab-df-container {\n",
              "      display:flex;\n",
              "      gap: 12px;\n",
              "    }\n",
              "\n",
              "    .colab-df-convert {\n",
              "      background-color: #E8F0FE;\n",
              "      border: none;\n",
              "      border-radius: 50%;\n",
              "      cursor: pointer;\n",
              "      display: none;\n",
              "      fill: #1967D2;\n",
              "      height: 32px;\n",
              "      padding: 0 0 0 0;\n",
              "      width: 32px;\n",
              "    }\n",
              "\n",
              "    .colab-df-convert:hover {\n",
              "      background-color: #E2EBFA;\n",
              "      box-shadow: 0px 1px 2px rgba(60, 64, 67, 0.3), 0px 1px 3px 1px rgba(60, 64, 67, 0.15);\n",
              "      fill: #174EA6;\n",
              "    }\n",
              "\n",
              "    .colab-df-buttons div {\n",
              "      margin-bottom: 4px;\n",
              "    }\n",
              "\n",
              "    [theme=dark] .colab-df-convert {\n",
              "      background-color: #3B4455;\n",
              "      fill: #D2E3FC;\n",
              "    }\n",
              "\n",
              "    [theme=dark] .colab-df-convert:hover {\n",
              "      background-color: #434B5C;\n",
              "      box-shadow: 0px 1px 3px 1px rgba(0, 0, 0, 0.15);\n",
              "      filter: drop-shadow(0px 1px 2px rgba(0, 0, 0, 0.3));\n",
              "      fill: #FFFFFF;\n",
              "    }\n",
              "  </style>\n",
              "\n",
              "    <script>\n",
              "      const buttonEl =\n",
              "        document.querySelector('#df-4980b859-0fcd-4438-866f-d120297462a2 button.colab-df-convert');\n",
              "      buttonEl.style.display =\n",
              "        google.colab.kernel.accessAllowed ? 'block' : 'none';\n",
              "\n",
              "      async function convertToInteractive(key) {\n",
              "        const element = document.querySelector('#df-4980b859-0fcd-4438-866f-d120297462a2');\n",
              "        const dataTable =\n",
              "          await google.colab.kernel.invokeFunction('convertToInteractive',\n",
              "                                                    [key], {});\n",
              "        if (!dataTable) return;\n",
              "\n",
              "        const docLinkHtml = 'Like what you see? Visit the ' +\n",
              "          '<a target=\"_blank\" href=https://colab.research.google.com/notebooks/data_table.ipynb>data table notebook</a>'\n",
              "          + ' to learn more about interactive tables.';\n",
              "        element.innerHTML = '';\n",
              "        dataTable['output_type'] = 'display_data';\n",
              "        await google.colab.output.renderOutput(dataTable, element);\n",
              "        const docLink = document.createElement('div');\n",
              "        docLink.innerHTML = docLinkHtml;\n",
              "        element.appendChild(docLink);\n",
              "      }\n",
              "    </script>\n",
              "  </div>\n",
              "\n",
              "\n",
              "<div id=\"df-c278dc17-a7d0-4654-bc7d-55a7813a124e\">\n",
              "  <button class=\"colab-df-quickchart\" onclick=\"quickchart('df-c278dc17-a7d0-4654-bc7d-55a7813a124e')\"\n",
              "            title=\"Suggest charts\"\n",
              "            style=\"display:none;\">\n",
              "\n",
              "<svg xmlns=\"http://www.w3.org/2000/svg\" height=\"24px\"viewBox=\"0 0 24 24\"\n",
              "     width=\"24px\">\n",
              "    <g>\n",
              "        <path d=\"M19 3H5c-1.1 0-2 .9-2 2v14c0 1.1.9 2 2 2h14c1.1 0 2-.9 2-2V5c0-1.1-.9-2-2-2zM9 17H7v-7h2v7zm4 0h-2V7h2v10zm4 0h-2v-4h2v4z\"/>\n",
              "    </g>\n",
              "</svg>\n",
              "  </button>\n",
              "\n",
              "<style>\n",
              "  .colab-df-quickchart {\n",
              "      --bg-color: #E8F0FE;\n",
              "      --fill-color: #1967D2;\n",
              "      --hover-bg-color: #E2EBFA;\n",
              "      --hover-fill-color: #174EA6;\n",
              "      --disabled-fill-color: #AAA;\n",
              "      --disabled-bg-color: #DDD;\n",
              "  }\n",
              "\n",
              "  [theme=dark] .colab-df-quickchart {\n",
              "      --bg-color: #3B4455;\n",
              "      --fill-color: #D2E3FC;\n",
              "      --hover-bg-color: #434B5C;\n",
              "      --hover-fill-color: #FFFFFF;\n",
              "      --disabled-bg-color: #3B4455;\n",
              "      --disabled-fill-color: #666;\n",
              "  }\n",
              "\n",
              "  .colab-df-quickchart {\n",
              "    background-color: var(--bg-color);\n",
              "    border: none;\n",
              "    border-radius: 50%;\n",
              "    cursor: pointer;\n",
              "    display: none;\n",
              "    fill: var(--fill-color);\n",
              "    height: 32px;\n",
              "    padding: 0;\n",
              "    width: 32px;\n",
              "  }\n",
              "\n",
              "  .colab-df-quickchart:hover {\n",
              "    background-color: var(--hover-bg-color);\n",
              "    box-shadow: 0 1px 2px rgba(60, 64, 67, 0.3), 0 1px 3px 1px rgba(60, 64, 67, 0.15);\n",
              "    fill: var(--button-hover-fill-color);\n",
              "  }\n",
              "\n",
              "  .colab-df-quickchart-complete:disabled,\n",
              "  .colab-df-quickchart-complete:disabled:hover {\n",
              "    background-color: var(--disabled-bg-color);\n",
              "    fill: var(--disabled-fill-color);\n",
              "    box-shadow: none;\n",
              "  }\n",
              "\n",
              "  .colab-df-spinner {\n",
              "    border: 2px solid var(--fill-color);\n",
              "    border-color: transparent;\n",
              "    border-bottom-color: var(--fill-color);\n",
              "    animation:\n",
              "      spin 1s steps(1) infinite;\n",
              "  }\n",
              "\n",
              "  @keyframes spin {\n",
              "    0% {\n",
              "      border-color: transparent;\n",
              "      border-bottom-color: var(--fill-color);\n",
              "      border-left-color: var(--fill-color);\n",
              "    }\n",
              "    20% {\n",
              "      border-color: transparent;\n",
              "      border-left-color: var(--fill-color);\n",
              "      border-top-color: var(--fill-color);\n",
              "    }\n",
              "    30% {\n",
              "      border-color: transparent;\n",
              "      border-left-color: var(--fill-color);\n",
              "      border-top-color: var(--fill-color);\n",
              "      border-right-color: var(--fill-color);\n",
              "    }\n",
              "    40% {\n",
              "      border-color: transparent;\n",
              "      border-right-color: var(--fill-color);\n",
              "      border-top-color: var(--fill-color);\n",
              "    }\n",
              "    60% {\n",
              "      border-color: transparent;\n",
              "      border-right-color: var(--fill-color);\n",
              "    }\n",
              "    80% {\n",
              "      border-color: transparent;\n",
              "      border-right-color: var(--fill-color);\n",
              "      border-bottom-color: var(--fill-color);\n",
              "    }\n",
              "    90% {\n",
              "      border-color: transparent;\n",
              "      border-bottom-color: var(--fill-color);\n",
              "    }\n",
              "  }\n",
              "</style>\n",
              "\n",
              "  <script>\n",
              "    async function quickchart(key) {\n",
              "      const quickchartButtonEl =\n",
              "        document.querySelector('#' + key + ' button');\n",
              "      quickchartButtonEl.disabled = true;  // To prevent multiple clicks.\n",
              "      quickchartButtonEl.classList.add('colab-df-spinner');\n",
              "      try {\n",
              "        const charts = await google.colab.kernel.invokeFunction(\n",
              "            'suggestCharts', [key], {});\n",
              "      } catch (error) {\n",
              "        console.error('Error during call to suggestCharts:', error);\n",
              "      }\n",
              "      quickchartButtonEl.classList.remove('colab-df-spinner');\n",
              "      quickchartButtonEl.classList.add('colab-df-quickchart-complete');\n",
              "    }\n",
              "    (() => {\n",
              "      let quickchartButtonEl =\n",
              "        document.querySelector('#df-c278dc17-a7d0-4654-bc7d-55a7813a124e button');\n",
              "      quickchartButtonEl.style.display =\n",
              "        google.colab.kernel.accessAllowed ? 'block' : 'none';\n",
              "    })();\n",
              "  </script>\n",
              "</div>\n",
              "    </div>\n",
              "  </div>\n"
            ],
            "application/vnd.google.colaboratory.intrinsic+json": {
              "type": "dataframe",
              "variable_name": "df",
              "summary": "{\n  \"name\": \"df\",\n  \"rows\": 13189,\n  \"fields\": [\n    {\n      \"column\": \"stars\",\n      \"properties\": {\n        \"dtype\": \"number\",\n        \"std\": 1,\n        \"min\": 1,\n        \"max\": 5,\n        \"num_unique_values\": 5,\n        \"samples\": [\n          2,\n          5,\n          3\n        ],\n        \"semantic_type\": \"\",\n        \"description\": \"\"\n      }\n    },\n    {\n      \"column\": \"review_body\",\n      \"properties\": {\n        \"dtype\": \"string\",\n        \"num_unique_values\": 13136,\n        \"samples\": [\n          \"los colores muy bonitos pero para mi gusto es muy r\\u00edgida.\",\n          \"en general est\\u00e1 bien. pero las costuras se han descosido al mes del uso.\",\n          \"me han servido para lo que quer\\u00eda, lo \\u00fanico que no ven\\u00edan con arandela de goma para di\\u00e1metro inferior aunque a m\\u00ed no me hizo falta.\"\n        ],\n        \"semantic_type\": \"\",\n        \"description\": \"\"\n      }\n    },\n    {\n      \"column\": \"review_title\",\n      \"properties\": {\n        \"dtype\": \"string\",\n        \"num_unique_values\": 9547,\n        \"samples\": [\n          \"discos..\",\n          \"Facil de montar y muy util\",\n          \"No las volver\\u00e9 a comprar\"\n        ],\n        \"semantic_type\": \"\",\n        \"description\": \"\"\n      }\n    },\n    {\n      \"column\": \"product_category\",\n      \"properties\": {\n        \"dtype\": \"category\",\n        \"num_unique_values\": 1,\n        \"samples\": [\n          \"sports\"\n        ],\n        \"semantic_type\": \"\",\n        \"description\": \"\"\n      }\n    }\n  ]\n}"
            }
          },
          "metadata": {},
          "execution_count": 7
        }
      ]
    },
    {
      "cell_type": "code",
      "source": [
        "# positivos -> 5, 4 stars\n",
        "# negativos -> 1, 2 stars\n",
        "\n",
        "df = df[df.stars !=3]\n",
        "df['bad_product'] = (df.stars > 3).astype(int)\n",
        "df.groupby('bad_product').size()"
      ],
      "metadata": {
        "colab": {
          "base_uri": "https://localhost:8080/"
        },
        "id": "wyigWYbxLH6X",
        "outputId": "56eae116-de74-461d-909b-545da356816f"
      },
      "execution_count": 8,
      "outputs": [
        {
          "output_type": "stream",
          "name": "stderr",
          "text": [
            "<ipython-input-8-efeb28452273>:5: SettingWithCopyWarning: \n",
            "A value is trying to be set on a copy of a slice from a DataFrame.\n",
            "Try using .loc[row_indexer,col_indexer] = value instead\n",
            "\n",
            "See the caveats in the documentation: https://pandas.pydata.org/pandas-docs/stable/user_guide/indexing.html#returning-a-view-versus-a-copy\n",
            "  df['bad_product'] = (df.stars > 3).astype(int)\n"
          ]
        },
        {
          "output_type": "execute_result",
          "data": {
            "text/plain": [
              "bad_product\n",
              "0    4989\n",
              "1    5372\n",
              "dtype: int64"
            ]
          },
          "metadata": {},
          "execution_count": 8
        }
      ]
    },
    {
      "cell_type": "markdown",
      "source": [
        "# Preparación de las variables (X, y)"
      ],
      "metadata": {
        "id": "3kjWtUpyMDCE"
      }
    },
    {
      "cell_type": "code",
      "source": [
        "from sklearn.model_selection import train_test_split\n",
        "from tensorflow.keras.preprocessing.text import Tokenizer\n",
        "from tensorflow.keras.preprocessing.sequence import pad_sequences"
      ],
      "metadata": {
        "id": "6xoG799AL0Ix"
      },
      "execution_count": 10,
      "outputs": []
    },
    {
      "cell_type": "code",
      "source": [
        "X = df.review_body.values\n",
        "y = df.bad_product\n",
        "\n",
        "X_train, X_test, y_train, y_test = train_test_split(X, y, test_size=.2, random_state = 33)\n",
        "\n",
        "print(len(X_train))\n",
        "print(len(X_test))"
      ],
      "metadata": {
        "colab": {
          "base_uri": "https://localhost:8080/"
        },
        "id": "2LZVl4R3MWDg",
        "outputId": "d09826d2-e91d-4254-eddc-7bce06bfdf91"
      },
      "execution_count": 14,
      "outputs": [
        {
          "output_type": "stream",
          "name": "stdout",
          "text": [
            "8288\n",
            "2073\n"
          ]
        }
      ]
    },
    {
      "cell_type": "markdown",
      "source": [
        "## Tokenizer"
      ],
      "metadata": {
        "id": "zZGCg6SYMvtt"
      }
    },
    {
      "cell_type": "code",
      "source": [
        "vocab_size = 5000 # primer parámetro configurable\n",
        "\n",
        "tokenizer = Tokenizer(\n",
        "    num_words = vocab_size,\n",
        "    oov_token = '<OOV>'\n",
        ")\n",
        "tokenizer.fit_on_texts(X_train)"
      ],
      "metadata": {
        "id": "VRweYrnOMV6e"
      },
      "execution_count": 15,
      "outputs": []
    },
    {
      "cell_type": "code",
      "source": [
        "tokenized_train = tokenizer.texts_to_sequences(X_train)\n",
        "tokenized_test = tokenizer.texts_to_sequences(X_test) # para después validar"
      ],
      "metadata": {
        "id": "lDNlnzc4NPcR"
      },
      "execution_count": 18,
      "outputs": []
    },
    {
      "cell_type": "markdown",
      "source": [
        "## Padding"
      ],
      "metadata": {
        "id": "cDtw60bMNYBc"
      }
    },
    {
      "cell_type": "code",
      "source": [
        "max_length = 50\n",
        "\n",
        "padd_train = pad_sequences(tokenized_train, maxlen=max_length, truncating='post')\n",
        "padd_test = pad_sequences(tokenized_test, maxlen=max_length, truncating='post')"
      ],
      "metadata": {
        "id": "PwzGxUSeNPYg"
      },
      "execution_count": 19,
      "outputs": []
    },
    {
      "cell_type": "code",
      "source": [
        "padd_test[0]"
      ],
      "metadata": {
        "colab": {
          "base_uri": "https://localhost:8080/"
        },
        "id": "IElgYsPFNPTL",
        "outputId": "a58de949-3cff-4260-cd55-fab859a15d1d"
      },
      "execution_count": 21,
      "outputs": [
        {
          "output_type": "execute_result",
          "data": {
            "text/plain": [
              "array([   0,    0,    0,    0,    0,    0,    0,    0,    0,    0,    0,\n",
              "          0,    0,    0,    0,    0,    0,    0,    0,    0,    0,    0,\n",
              "          0,    0,    0,    0,   23,  608,   37,  255,    3,    4,  147,\n",
              "         24,   34,  771,    7,    8,   12,  855,   18,   58,    4,    1,\n",
              "          2,   16, 1069,   10,   39,   53], dtype=int32)"
            ]
          },
          "metadata": {},
          "execution_count": 21
        }
      ]
    },
    {
      "cell_type": "markdown",
      "source": [
        "# Models"
      ],
      "metadata": {
        "id": "N6Rm9UKUN5hg"
      }
    },
    {
      "cell_type": "code",
      "source": [
        "import tensorflow.keras as keras\n",
        "import numpy as np\n",
        "from time import time\n",
        "\n",
        "from keras import Sequential\n",
        "from keras.layers import *\n",
        "from keras.optimizers import Adam"
      ],
      "metadata": {
        "id": "IEw2n7bkN9gG"
      },
      "execution_count": 22,
      "outputs": []
    },
    {
      "cell_type": "code",
      "source": [
        "def model_compile(model):\n",
        "  model.compile(\n",
        "    loss = 'binary_crossentropy',\n",
        "    optimizer='adam',\n",
        "    metrics='accuracy'\n",
        "  ) # optimizer could be Adam(lr), SGD...\n",
        "  print(model.summary())\n",
        "\n",
        "def model_fit(model):\n",
        "  start = time()\n",
        "  n_epochs = 20 # no vale la pena poner muy altos, luego se puede fittear 2 veces\n",
        "  n_batch_size = 100 # puede afectar un poco más\n",
        "\n",
        "  model.fit(\n",
        "      padd_train,\n",
        "      y_train,\n",
        "      epochs = n_epochs,\n",
        "      batch_size = n_batch_size,\n",
        "      validation_data = (padd_test, y_test),\n",
        "      verbose = True\n",
        "  )\n",
        "\n",
        "  end = time()\n",
        "  print(f'>>>>> Elapsed time: {(end-start):.2f}s')\n",
        "# Entrena durante una época con train y al final de cada época va dando un report\n",
        "# en función a validation (sin mezclar los datos)"
      ],
      "metadata": {
        "id": "EKDT3aWARcYi"
      },
      "execution_count": 40,
      "outputs": []
    },
    {
      "cell_type": "code",
      "source": [],
      "metadata": {
        "id": "hdrkFnYqRx8x"
      },
      "execution_count": null,
      "outputs": []
    },
    {
      "cell_type": "markdown",
      "source": [
        "## Model 1: Dense"
      ],
      "metadata": {
        "id": "NFs8bqY5N7ix"
      }
    },
    {
      "cell_type": "code",
      "source": [
        "keras.utils.set_random_seed(812)\n",
        "\n",
        "model = Sequential([\n",
        "    Flatten(input_shape=(max_length,)),\n",
        "    Dense(128, activation='relu'),\n",
        "    Dense(64, activation='relu'),\n",
        "    Dense(1, activation='sigmoid')\n",
        "])\n",
        "\n",
        "model_compile(model)\n",
        "model_fit(model)"
      ],
      "metadata": {
        "colab": {
          "base_uri": "https://localhost:8080/"
        },
        "id": "pz4qZc-FOPpi",
        "outputId": "b72d8f9f-d54a-46fd-bd2e-e59ef1f73e83"
      },
      "execution_count": 41,
      "outputs": [
        {
          "output_type": "stream",
          "name": "stdout",
          "text": [
            "Model: \"sequential_5\"\n",
            "_________________________________________________________________\n",
            " Layer (type)                Output Shape              Param #   \n",
            "=================================================================\n",
            " flatten_5 (Flatten)         (None, 50)                0         \n",
            "                                                                 \n",
            " dense_8 (Dense)             (None, 128)               6528      \n",
            "                                                                 \n",
            " dense_9 (Dense)             (None, 64)                8256      \n",
            "                                                                 \n",
            " dense_10 (Dense)            (None, 1)                 65        \n",
            "                                                                 \n",
            "=================================================================\n",
            "Total params: 14849 (58.00 KB)\n",
            "Trainable params: 14849 (58.00 KB)\n",
            "Non-trainable params: 0 (0.00 Byte)\n",
            "_________________________________________________________________\n",
            "None\n",
            "Epoch 1/20\n",
            "83/83 [==============================] - 2s 8ms/step - loss: 32.6198 - accuracy: 0.5159 - val_loss: 17.6781 - val_accuracy: 0.4973\n",
            "Epoch 2/20\n",
            "83/83 [==============================] - 0s 4ms/step - loss: 13.5716 - accuracy: 0.5358 - val_loss: 13.2797 - val_accuracy: 0.5157\n",
            "Epoch 3/20\n",
            "83/83 [==============================] - 0s 5ms/step - loss: 8.6475 - accuracy: 0.5777 - val_loss: 10.7570 - val_accuracy: 0.5084\n",
            "Epoch 4/20\n",
            "83/83 [==============================] - 0s 6ms/step - loss: 6.0919 - accuracy: 0.5998 - val_loss: 9.9733 - val_accuracy: 0.5200\n",
            "Epoch 5/20\n",
            "83/83 [==============================] - 0s 3ms/step - loss: 4.7777 - accuracy: 0.6176 - val_loss: 9.0921 - val_accuracy: 0.5118\n",
            "Epoch 6/20\n",
            "83/83 [==============================] - 0s 3ms/step - loss: 3.7295 - accuracy: 0.6353 - val_loss: 8.6935 - val_accuracy: 0.5123\n",
            "Epoch 7/20\n",
            "83/83 [==============================] - 0s 3ms/step - loss: 2.8856 - accuracy: 0.6576 - val_loss: 8.0143 - val_accuracy: 0.4983\n",
            "Epoch 8/20\n",
            "83/83 [==============================] - 0s 3ms/step - loss: 2.3696 - accuracy: 0.6713 - val_loss: 7.6972 - val_accuracy: 0.5002\n",
            "Epoch 9/20\n",
            "83/83 [==============================] - 0s 3ms/step - loss: 2.1838 - accuracy: 0.6828 - val_loss: 7.5861 - val_accuracy: 0.5215\n",
            "Epoch 10/20\n",
            "83/83 [==============================] - 0s 3ms/step - loss: 1.8021 - accuracy: 0.6939 - val_loss: 6.8807 - val_accuracy: 0.5080\n",
            "Epoch 11/20\n",
            "83/83 [==============================] - 0s 4ms/step - loss: 1.5536 - accuracy: 0.7086 - val_loss: 6.7779 - val_accuracy: 0.5084\n",
            "Epoch 12/20\n",
            "83/83 [==============================] - 0s 3ms/step - loss: 1.3663 - accuracy: 0.7159 - val_loss: 6.4009 - val_accuracy: 0.4901\n",
            "Epoch 13/20\n",
            "83/83 [==============================] - 0s 3ms/step - loss: 1.2144 - accuracy: 0.7195 - val_loss: 6.1510 - val_accuracy: 0.5027\n",
            "Epoch 14/20\n",
            "83/83 [==============================] - 0s 3ms/step - loss: 1.0654 - accuracy: 0.7368 - val_loss: 6.0804 - val_accuracy: 0.4964\n",
            "Epoch 15/20\n",
            "83/83 [==============================] - 0s 3ms/step - loss: 0.9825 - accuracy: 0.7368 - val_loss: 5.7837 - val_accuracy: 0.4973\n",
            "Epoch 16/20\n",
            "83/83 [==============================] - 0s 3ms/step - loss: 0.9276 - accuracy: 0.7444 - val_loss: 5.7032 - val_accuracy: 0.5012\n",
            "Epoch 17/20\n",
            "83/83 [==============================] - 0s 3ms/step - loss: 0.8242 - accuracy: 0.7598 - val_loss: 5.5108 - val_accuracy: 0.5065\n",
            "Epoch 18/20\n",
            "83/83 [==============================] - 0s 3ms/step - loss: 0.7816 - accuracy: 0.7621 - val_loss: 5.4473 - val_accuracy: 0.4978\n",
            "Epoch 19/20\n",
            "83/83 [==============================] - 0s 3ms/step - loss: 0.7162 - accuracy: 0.7648 - val_loss: 5.1472 - val_accuracy: 0.4973\n",
            "Epoch 20/20\n",
            "83/83 [==============================] - 0s 3ms/step - loss: 0.6847 - accuracy: 0.7699 - val_loss: 5.0374 - val_accuracy: 0.5253\n",
            ">>>>> Elapsed time: 7.34s\n"
          ]
        }
      ]
    },
    {
      "cell_type": "markdown",
      "source": [
        "## Model 2: Dense + Embeddings"
      ],
      "metadata": {
        "id": "FQr2BrENQykj"
      }
    },
    {
      "cell_type": "code",
      "source": [
        "keras.utils.set_random_seed(812)\n",
        "\n",
        "embed_dim = 20\n",
        "\n",
        "model = Sequential([\n",
        "    Embedding(\n",
        "        input_length = max_length,\n",
        "        output_dim = embed_dim,\n",
        "        input_dim = vocab_size\n",
        "    ),\n",
        "    Flatten(),\n",
        "    Dense(1, activation='sigmoid')\n",
        "])\n",
        "\n",
        "model_compile(model)\n",
        "model_fit(model)"
      ],
      "metadata": {
        "colab": {
          "base_uri": "https://localhost:8080/"
        },
        "id": "DmjcspNdMSTO",
        "outputId": "25e5fe97-58f8-453f-e28a-140fdb0f7ce6"
      },
      "execution_count": 42,
      "outputs": [
        {
          "output_type": "stream",
          "name": "stdout",
          "text": [
            "Model: \"sequential_6\"\n",
            "_________________________________________________________________\n",
            " Layer (type)                Output Shape              Param #   \n",
            "=================================================================\n",
            " embedding_2 (Embedding)     (None, 50, 20)            100000    \n",
            "                                                                 \n",
            " flatten_6 (Flatten)         (None, 1000)              0         \n",
            "                                                                 \n",
            " dense_11 (Dense)            (None, 1)                 1001      \n",
            "                                                                 \n",
            "=================================================================\n",
            "Total params: 101001 (394.54 KB)\n",
            "Trainable params: 101001 (394.54 KB)\n",
            "Non-trainable params: 0 (0.00 Byte)\n",
            "_________________________________________________________________\n",
            "None\n",
            "Epoch 1/20\n",
            "83/83 [==============================] - 1s 7ms/step - loss: 0.6787 - accuracy: 0.5673 - val_loss: 0.6571 - val_accuracy: 0.6450\n",
            "Epoch 2/20\n",
            "83/83 [==============================] - 0s 5ms/step - loss: 0.5827 - accuracy: 0.7447 - val_loss: 0.5187 - val_accuracy: 0.7685\n",
            "Epoch 3/20\n",
            "83/83 [==============================] - 0s 5ms/step - loss: 0.4286 - accuracy: 0.8342 - val_loss: 0.4185 - val_accuracy: 0.8167\n",
            "Epoch 4/20\n",
            "83/83 [==============================] - 0s 5ms/step - loss: 0.3377 - accuracy: 0.8742 - val_loss: 0.3790 - val_accuracy: 0.8292\n",
            "Epoch 5/20\n",
            "83/83 [==============================] - 1s 8ms/step - loss: 0.2813 - accuracy: 0.8980 - val_loss: 0.3588 - val_accuracy: 0.8418\n",
            "Epoch 6/20\n",
            "83/83 [==============================] - 1s 8ms/step - loss: 0.2423 - accuracy: 0.9174 - val_loss: 0.3492 - val_accuracy: 0.8418\n",
            "Epoch 7/20\n",
            "83/83 [==============================] - 1s 8ms/step - loss: 0.2090 - accuracy: 0.9306 - val_loss: 0.3457 - val_accuracy: 0.8442\n",
            "Epoch 8/20\n",
            "83/83 [==============================] - 1s 8ms/step - loss: 0.1816 - accuracy: 0.9447 - val_loss: 0.3437 - val_accuracy: 0.8452\n",
            "Epoch 9/20\n",
            "83/83 [==============================] - 1s 9ms/step - loss: 0.1589 - accuracy: 0.9531 - val_loss: 0.3460 - val_accuracy: 0.8452\n",
            "Epoch 10/20\n",
            "83/83 [==============================] - 1s 10ms/step - loss: 0.1385 - accuracy: 0.9643 - val_loss: 0.3547 - val_accuracy: 0.8432\n",
            "Epoch 11/20\n",
            "83/83 [==============================] - 0s 6ms/step - loss: 0.1214 - accuracy: 0.9694 - val_loss: 0.3539 - val_accuracy: 0.8437\n",
            "Epoch 12/20\n",
            "83/83 [==============================] - 0s 5ms/step - loss: 0.1057 - accuracy: 0.9742 - val_loss: 0.3595 - val_accuracy: 0.8447\n",
            "Epoch 13/20\n",
            "83/83 [==============================] - 0s 5ms/step - loss: 0.0933 - accuracy: 0.9789 - val_loss: 0.3652 - val_accuracy: 0.8408\n",
            "Epoch 14/20\n",
            "83/83 [==============================] - 0s 5ms/step - loss: 0.0818 - accuracy: 0.9836 - val_loss: 0.3711 - val_accuracy: 0.8398\n",
            "Epoch 15/20\n",
            "83/83 [==============================] - 0s 5ms/step - loss: 0.0715 - accuracy: 0.9878 - val_loss: 0.3766 - val_accuracy: 0.8408\n",
            "Epoch 16/20\n",
            "83/83 [==============================] - 0s 5ms/step - loss: 0.0631 - accuracy: 0.9899 - val_loss: 0.3856 - val_accuracy: 0.8379\n",
            "Epoch 17/20\n",
            "83/83 [==============================] - 0s 5ms/step - loss: 0.0561 - accuracy: 0.9918 - val_loss: 0.3916 - val_accuracy: 0.8365\n",
            "Epoch 18/20\n",
            "83/83 [==============================] - 0s 6ms/step - loss: 0.0497 - accuracy: 0.9931 - val_loss: 0.4012 - val_accuracy: 0.8355\n",
            "Epoch 19/20\n",
            "83/83 [==============================] - 0s 5ms/step - loss: 0.0447 - accuracy: 0.9941 - val_loss: 0.4075 - val_accuracy: 0.8345\n",
            "Epoch 20/20\n",
            "83/83 [==============================] - 0s 5ms/step - loss: 0.0395 - accuracy: 0.9955 - val_loss: 0.4137 - val_accuracy: 0.8403\n",
            ">>>>> Elapsed time: 21.21s\n"
          ]
        }
      ]
    },
    {
      "cell_type": "markdown",
      "source": [
        "## Model 3: CNN"
      ],
      "metadata": {
        "id": "CqHBp_OSUiiy"
      }
    },
    {
      "cell_type": "code",
      "source": [
        "keras.utils.set_random_seed(812)\n",
        "\n",
        "embed_dim = 20\n",
        "\n",
        "n_filters = 64\n",
        "kernel_size = 5\n",
        "\n",
        "model = Sequential([\n",
        "    Embedding(\n",
        "        input_length = max_length,\n",
        "        output_dim = embed_dim,\n",
        "        input_dim = vocab_size\n",
        "    ),\n",
        "    Conv1D(n_filters, kernel_size, activation='relu'),\n",
        "    GlobalAveragePooling1D(),\n",
        "    Dense(6, activation='relu'),\n",
        "    Dense(1, activation='sigmoid')\n",
        "])\n",
        "\n",
        "model_compile(model)\n",
        "model_fit(model)"
      ],
      "metadata": {
        "colab": {
          "base_uri": "https://localhost:8080/"
        },
        "id": "zRvRhPXySX5q",
        "outputId": "62edd93b-a489-4d22-be65-e0272ecb5a0f"
      },
      "execution_count": 44,
      "outputs": [
        {
          "output_type": "stream",
          "name": "stdout",
          "text": [
            "Model: \"sequential_8\"\n",
            "_________________________________________________________________\n",
            " Layer (type)                Output Shape              Param #   \n",
            "=================================================================\n",
            " embedding_4 (Embedding)     (None, 50, 20)            100000    \n",
            "                                                                 \n",
            " conv1d_1 (Conv1D)           (None, 46, 64)            6464      \n",
            "                                                                 \n",
            " global_average_pooling1d (  (None, 64)                0         \n",
            " GlobalAveragePooling1D)                                         \n",
            "                                                                 \n",
            " dense_14 (Dense)            (None, 6)                 390       \n",
            "                                                                 \n",
            " dense_15 (Dense)            (None, 1)                 7         \n",
            "                                                                 \n",
            "=================================================================\n",
            "Total params: 106861 (417.43 KB)\n",
            "Trainable params: 106861 (417.43 KB)\n",
            "Non-trainable params: 0 (0.00 Byte)\n",
            "_________________________________________________________________\n",
            "None\n",
            "Epoch 1/20\n",
            "83/83 [==============================] - 3s 24ms/step - loss: 0.6732 - accuracy: 0.5550 - val_loss: 0.6341 - val_accuracy: 0.6638\n",
            "Epoch 2/20\n",
            "83/83 [==============================] - 1s 12ms/step - loss: 0.5328 - accuracy: 0.7722 - val_loss: 0.4526 - val_accuracy: 0.8013\n",
            "Epoch 3/20\n",
            "83/83 [==============================] - 1s 12ms/step - loss: 0.3271 - accuracy: 0.8733 - val_loss: 0.3606 - val_accuracy: 0.8558\n",
            "Epoch 4/20\n",
            "83/83 [==============================] - 1s 12ms/step - loss: 0.2424 - accuracy: 0.9147 - val_loss: 0.3627 - val_accuracy: 0.8538\n",
            "Epoch 5/20\n",
            "83/83 [==============================] - 1s 12ms/step - loss: 0.1960 - accuracy: 0.9340 - val_loss: 0.3876 - val_accuracy: 0.8534\n",
            "Epoch 6/20\n",
            "83/83 [==============================] - 1s 12ms/step - loss: 0.1648 - accuracy: 0.9469 - val_loss: 0.4217 - val_accuracy: 0.8480\n",
            "Epoch 7/20\n",
            "83/83 [==============================] - 1s 12ms/step - loss: 0.1402 - accuracy: 0.9567 - val_loss: 0.4468 - val_accuracy: 0.8519\n",
            "Epoch 8/20\n",
            "83/83 [==============================] - 1s 12ms/step - loss: 0.1218 - accuracy: 0.9640 - val_loss: 0.4832 - val_accuracy: 0.8476\n",
            "Epoch 9/20\n",
            "83/83 [==============================] - 1s 12ms/step - loss: 0.1091 - accuracy: 0.9695 - val_loss: 0.5354 - val_accuracy: 0.8408\n",
            "Epoch 10/20\n",
            "83/83 [==============================] - 1s 12ms/step - loss: 0.0983 - accuracy: 0.9725 - val_loss: 0.5428 - val_accuracy: 0.8447\n",
            "Epoch 11/20\n",
            "83/83 [==============================] - 1s 12ms/step - loss: 0.0878 - accuracy: 0.9764 - val_loss: 0.6277 - val_accuracy: 0.8297\n",
            "Epoch 12/20\n",
            "83/83 [==============================] - 2s 19ms/step - loss: 0.0802 - accuracy: 0.9768 - val_loss: 0.6144 - val_accuracy: 0.8336\n",
            "Epoch 13/20\n",
            "83/83 [==============================] - 2s 20ms/step - loss: 0.0721 - accuracy: 0.9809 - val_loss: 0.6637 - val_accuracy: 0.8316\n",
            "Epoch 14/20\n",
            "83/83 [==============================] - 1s 18ms/step - loss: 0.0659 - accuracy: 0.9827 - val_loss: 0.7074 - val_accuracy: 0.8365\n",
            "Epoch 15/20\n",
            "83/83 [==============================] - 1s 12ms/step - loss: 0.0608 - accuracy: 0.9841 - val_loss: 0.7639 - val_accuracy: 0.8321\n",
            "Epoch 16/20\n",
            "83/83 [==============================] - 1s 12ms/step - loss: 0.0541 - accuracy: 0.9859 - val_loss: 0.7998 - val_accuracy: 0.8283\n",
            "Epoch 17/20\n",
            "83/83 [==============================] - 1s 12ms/step - loss: 0.0492 - accuracy: 0.9872 - val_loss: 0.8808 - val_accuracy: 0.8263\n",
            "Epoch 18/20\n",
            "83/83 [==============================] - 1s 12ms/step - loss: 0.0443 - accuracy: 0.9889 - val_loss: 0.9100 - val_accuracy: 0.8259\n",
            "Epoch 19/20\n",
            "83/83 [==============================] - 1s 12ms/step - loss: 0.0406 - accuracy: 0.9896 - val_loss: 1.0201 - val_accuracy: 0.8205\n",
            "Epoch 20/20\n",
            "83/83 [==============================] - 1s 12ms/step - loss: 0.0363 - accuracy: 0.9916 - val_loss: 0.9967 - val_accuracy: 0.8215\n",
            ">>>>> Elapsed time: 42.38s\n"
          ]
        }
      ]
    },
    {
      "cell_type": "markdown",
      "source": [
        "## Model 4: (Bi-)LSTM + Embeddings"
      ],
      "metadata": {
        "id": "RLqpMmu4WyJM"
      }
    },
    {
      "cell_type": "code",
      "source": [
        "keras.utils.set_random_seed(812)\n",
        "\n",
        "embed_dim = 20\n",
        "lstm_dim = 32\n",
        "\n",
        "model = Sequential([\n",
        "    Embedding(\n",
        "        input_length = max_length,\n",
        "        output_dim = embed_dim,\n",
        "        input_dim = vocab_size\n",
        "    ),\n",
        "    LSTM(lstm_dim),\n",
        "    Dense(6, activation='relu'),\n",
        "    Dense(1, activation='sigmoid')\n",
        "])\n",
        "\n",
        "model_compile(model)\n",
        "model_fit(model)"
      ],
      "metadata": {
        "colab": {
          "base_uri": "https://localhost:8080/"
        },
        "id": "3XXsVMZHSX0I",
        "outputId": "e18c3bdf-19dc-42d1-90db-74bcf1900580"
      },
      "execution_count": 45,
      "outputs": [
        {
          "output_type": "stream",
          "name": "stdout",
          "text": [
            "Model: \"sequential_9\"\n",
            "_________________________________________________________________\n",
            " Layer (type)                Output Shape              Param #   \n",
            "=================================================================\n",
            " embedding_5 (Embedding)     (None, 50, 20)            100000    \n",
            "                                                                 \n",
            " lstm (LSTM)                 (None, 32)                6784      \n",
            "                                                                 \n",
            " dense_16 (Dense)            (None, 6)                 198       \n",
            "                                                                 \n",
            " dense_17 (Dense)            (None, 1)                 7         \n",
            "                                                                 \n",
            "=================================================================\n",
            "Total params: 106989 (417.93 KB)\n",
            "Trainable params: 106989 (417.93 KB)\n",
            "Non-trainable params: 0 (0.00 Byte)\n",
            "_________________________________________________________________\n",
            "None\n",
            "Epoch 1/20\n",
            "83/83 [==============================] - 7s 40ms/step - loss: 0.6383 - accuracy: 0.6250 - val_loss: 0.5083 - val_accuracy: 0.7877\n",
            "Epoch 2/20\n",
            "83/83 [==============================] - 3s 34ms/step - loss: 0.3679 - accuracy: 0.8479 - val_loss: 0.3593 - val_accuracy: 0.8418\n",
            "Epoch 3/20\n",
            "83/83 [==============================] - 3s 34ms/step - loss: 0.2570 - accuracy: 0.9044 - val_loss: 0.3499 - val_accuracy: 0.8524\n",
            "Epoch 4/20\n",
            "83/83 [==============================] - 4s 43ms/step - loss: 0.1960 - accuracy: 0.9278 - val_loss: 0.3868 - val_accuracy: 0.8596\n",
            "Epoch 5/20\n",
            "83/83 [==============================] - 4s 44ms/step - loss: 0.1548 - accuracy: 0.9487 - val_loss: 0.4120 - val_accuracy: 0.8548\n",
            "Epoch 6/20\n",
            "83/83 [==============================] - 3s 33ms/step - loss: 0.1362 - accuracy: 0.9543 - val_loss: 0.4471 - val_accuracy: 0.8480\n",
            "Epoch 7/20\n",
            "83/83 [==============================] - 3s 33ms/step - loss: 0.1059 - accuracy: 0.9683 - val_loss: 0.5464 - val_accuracy: 0.8432\n",
            "Epoch 8/20\n",
            "83/83 [==============================] - 3s 33ms/step - loss: 0.0950 - accuracy: 0.9701 - val_loss: 0.5327 - val_accuracy: 0.8427\n",
            "Epoch 9/20\n",
            "83/83 [==============================] - 4s 50ms/step - loss: 0.0812 - accuracy: 0.9751 - val_loss: 0.6055 - val_accuracy: 0.8230\n",
            "Epoch 10/20\n",
            "83/83 [==============================] - 3s 38ms/step - loss: 0.0709 - accuracy: 0.9788 - val_loss: 0.5776 - val_accuracy: 0.8341\n",
            "Epoch 11/20\n",
            "83/83 [==============================] - 3s 34ms/step - loss: 0.0625 - accuracy: 0.9817 - val_loss: 0.6717 - val_accuracy: 0.8249\n",
            "Epoch 12/20\n",
            "83/83 [==============================] - 3s 35ms/step - loss: 0.0572 - accuracy: 0.9838 - val_loss: 0.6666 - val_accuracy: 0.8336\n",
            "Epoch 13/20\n",
            "83/83 [==============================] - 3s 39ms/step - loss: 0.0477 - accuracy: 0.9875 - val_loss: 0.8085 - val_accuracy: 0.8278\n",
            "Epoch 14/20\n",
            "83/83 [==============================] - 4s 45ms/step - loss: 0.0497 - accuracy: 0.9867 - val_loss: 0.6929 - val_accuracy: 0.8254\n",
            "Epoch 15/20\n",
            "83/83 [==============================] - 3s 33ms/step - loss: 0.0473 - accuracy: 0.9865 - val_loss: 0.7532 - val_accuracy: 0.8205\n",
            "Epoch 16/20\n",
            "83/83 [==============================] - 3s 35ms/step - loss: 0.0479 - accuracy: 0.9864 - val_loss: 0.7920 - val_accuracy: 0.8263\n",
            "Epoch 17/20\n",
            "83/83 [==============================] - 3s 34ms/step - loss: 0.0365 - accuracy: 0.9907 - val_loss: 0.8416 - val_accuracy: 0.8205\n",
            "Epoch 18/20\n",
            "83/83 [==============================] - 4s 53ms/step - loss: 0.0333 - accuracy: 0.9920 - val_loss: 0.8276 - val_accuracy: 0.8162\n",
            "Epoch 19/20\n",
            "83/83 [==============================] - 3s 34ms/step - loss: 0.0299 - accuracy: 0.9925 - val_loss: 0.9531 - val_accuracy: 0.8201\n",
            "Epoch 20/20\n",
            "83/83 [==============================] - 3s 34ms/step - loss: 0.0308 - accuracy: 0.9928 - val_loss: 0.9320 - val_accuracy: 0.8205\n",
            ">>>>> Elapsed time: 85.14s\n"
          ]
        }
      ]
    },
    {
      "cell_type": "code",
      "source": [
        "keras.utils.set_random_seed(812)\n",
        "\n",
        "embed_dim = 20\n",
        "lstm_dim = 32\n",
        "\n",
        "model = Sequential([\n",
        "    Embedding(\n",
        "        input_length = max_length,\n",
        "        output_dim = embed_dim,\n",
        "        input_dim = vocab_size\n",
        "    ),\n",
        "    Bidirectional(LSTM(lstm_dim)),\n",
        "    Dense(6, activation='relu'),\n",
        "    Dense(1, activation='sigmoid')\n",
        "])\n",
        "\n",
        "model_compile(model)\n",
        "model_fit(model)"
      ],
      "metadata": {
        "colab": {
          "base_uri": "https://localhost:8080/"
        },
        "id": "_602PLGqSXww",
        "outputId": "2dcabe21-7ff9-4dc6-933d-45b08b60ab06"
      },
      "execution_count": 46,
      "outputs": [
        {
          "output_type": "stream",
          "name": "stdout",
          "text": [
            "Model: \"sequential_10\"\n",
            "_________________________________________________________________\n",
            " Layer (type)                Output Shape              Param #   \n",
            "=================================================================\n",
            " embedding_6 (Embedding)     (None, 50, 20)            100000    \n",
            "                                                                 \n",
            " bidirectional (Bidirection  (None, 64)                13568     \n",
            " al)                                                             \n",
            "                                                                 \n",
            " dense_18 (Dense)            (None, 6)                 390       \n",
            "                                                                 \n",
            " dense_19 (Dense)            (None, 1)                 7         \n",
            "                                                                 \n",
            "=================================================================\n",
            "Total params: 113965 (445.18 KB)\n",
            "Trainable params: 113965 (445.18 KB)\n",
            "Non-trainable params: 0 (0.00 Byte)\n",
            "_________________________________________________________________\n",
            "None\n",
            "Epoch 1/20\n",
            "83/83 [==============================] - 11s 68ms/step - loss: 0.6280 - accuracy: 0.6285 - val_loss: 0.4971 - val_accuracy: 0.7540\n",
            "Epoch 2/20\n",
            "83/83 [==============================] - 6s 72ms/step - loss: 0.3733 - accuracy: 0.8477 - val_loss: 0.3609 - val_accuracy: 0.8442\n",
            "Epoch 3/20\n",
            "83/83 [==============================] - 4s 53ms/step - loss: 0.2657 - accuracy: 0.8978 - val_loss: 0.3398 - val_accuracy: 0.8582\n",
            "Epoch 4/20\n",
            "83/83 [==============================] - 4s 52ms/step - loss: 0.2056 - accuracy: 0.9247 - val_loss: 0.3691 - val_accuracy: 0.8553\n",
            "Epoch 5/20\n",
            "83/83 [==============================] - 6s 74ms/step - loss: 0.1627 - accuracy: 0.9453 - val_loss: 0.4027 - val_accuracy: 0.8509\n",
            "Epoch 6/20\n",
            "83/83 [==============================] - 4s 52ms/step - loss: 0.1305 - accuracy: 0.9585 - val_loss: 0.4259 - val_accuracy: 0.8485\n",
            "Epoch 7/20\n",
            "83/83 [==============================] - 4s 51ms/step - loss: 0.1078 - accuracy: 0.9661 - val_loss: 0.5256 - val_accuracy: 0.8447\n",
            "Epoch 8/20\n",
            "83/83 [==============================] - 6s 74ms/step - loss: 0.1040 - accuracy: 0.9671 - val_loss: 0.5288 - val_accuracy: 0.8427\n",
            "Epoch 9/20\n",
            "83/83 [==============================] - 4s 51ms/step - loss: 0.0827 - accuracy: 0.9745 - val_loss: 0.5959 - val_accuracy: 0.8394\n",
            "Epoch 10/20\n",
            "83/83 [==============================] - 4s 51ms/step - loss: 0.0711 - accuracy: 0.9796 - val_loss: 0.7745 - val_accuracy: 0.8283\n",
            "Epoch 11/20\n",
            "83/83 [==============================] - 6s 76ms/step - loss: 0.0624 - accuracy: 0.9830 - val_loss: 0.6594 - val_accuracy: 0.8307\n",
            "Epoch 12/20\n",
            "83/83 [==============================] - 4s 51ms/step - loss: 0.0589 - accuracy: 0.9841 - val_loss: 0.6811 - val_accuracy: 0.8321\n",
            "Epoch 13/20\n",
            "83/83 [==============================] - 4s 51ms/step - loss: 0.0483 - accuracy: 0.9877 - val_loss: 0.7550 - val_accuracy: 0.8302\n",
            "Epoch 14/20\n",
            "83/83 [==============================] - 6s 75ms/step - loss: 0.0418 - accuracy: 0.9897 - val_loss: 0.7632 - val_accuracy: 0.8254\n",
            "Epoch 15/20\n",
            "83/83 [==============================] - 4s 51ms/step - loss: 0.0467 - accuracy: 0.9881 - val_loss: 0.9120 - val_accuracy: 0.8239\n",
            "Epoch 16/20\n",
            "83/83 [==============================] - 6s 71ms/step - loss: 0.0445 - accuracy: 0.9887 - val_loss: 0.8626 - val_accuracy: 0.8230\n",
            "Epoch 17/20\n",
            "83/83 [==============================] - 5s 64ms/step - loss: 0.0411 - accuracy: 0.9900 - val_loss: 0.7997 - val_accuracy: 0.8244\n",
            "Epoch 18/20\n",
            "83/83 [==============================] - 4s 50ms/step - loss: 0.0410 - accuracy: 0.9893 - val_loss: 0.7821 - val_accuracy: 0.8138\n",
            "Epoch 19/20\n",
            "83/83 [==============================] - 5s 62ms/step - loss: 0.0478 - accuracy: 0.9867 - val_loss: 0.9022 - val_accuracy: 0.8201\n",
            "Epoch 20/20\n",
            "83/83 [==============================] - 5s 63ms/step - loss: 0.0288 - accuracy: 0.9949 - val_loss: 0.8582 - val_accuracy: 0.8152\n",
            ">>>>> Elapsed time: 146.86s\n"
          ]
        }
      ]
    },
    {
      "cell_type": "markdown",
      "source": [
        "# Técnicas de mejora"
      ],
      "metadata": {
        "id": "dwMTRGu-YRI3"
      }
    },
    {
      "cell_type": "markdown",
      "source": [
        "## Reducción de overfitting"
      ],
      "metadata": {
        "id": "x4J1ocdxYUVI"
      }
    },
    {
      "cell_type": "code",
      "source": [
        "keras.utils.set_random_seed(812)\n",
        "\n",
        "embed_dim = 20\n",
        "lstm_dim = 32\n",
        "\n",
        "model = Sequential([\n",
        "    Embedding(\n",
        "        input_length = max_length,\n",
        "        output_dim = embed_dim,\n",
        "        input_dim = vocab_size\n",
        "    ),\n",
        "    Dropout(.5),\n",
        "    Bidirectional(LSTM(lstm_dim)),\n",
        "    Dropout(0.5),\n",
        "    BatchNormalization(),\n",
        "    Dense(6, activation='relu'),\n",
        "    Dense(1, activation='sigmoid')\n",
        "])\n",
        "\n",
        "model_compile(model)\n",
        "model_fit(model)"
      ],
      "metadata": {
        "colab": {
          "base_uri": "https://localhost:8080/"
        },
        "id": "jbnkVS10SXud",
        "outputId": "6d86866b-6e4a-41a7-8596-345dc3f6bc32"
      },
      "execution_count": 47,
      "outputs": [
        {
          "output_type": "stream",
          "name": "stdout",
          "text": [
            "Model: \"sequential_11\"\n",
            "_________________________________________________________________\n",
            " Layer (type)                Output Shape              Param #   \n",
            "=================================================================\n",
            " embedding_7 (Embedding)     (None, 50, 20)            100000    \n",
            "                                                                 \n",
            " dropout (Dropout)           (None, 50, 20)            0         \n",
            "                                                                 \n",
            " bidirectional_1 (Bidirecti  (None, 64)                13568     \n",
            " onal)                                                           \n",
            "                                                                 \n",
            " dropout_1 (Dropout)         (None, 64)                0         \n",
            "                                                                 \n",
            " batch_normalization (Batch  (None, 64)                256       \n",
            " Normalization)                                                  \n",
            "                                                                 \n",
            " dense_20 (Dense)            (None, 6)                 390       \n",
            "                                                                 \n",
            " dense_21 (Dense)            (None, 1)                 7         \n",
            "                                                                 \n",
            "=================================================================\n",
            "Total params: 114221 (446.18 KB)\n",
            "Trainable params: 114093 (445.68 KB)\n",
            "Non-trainable params: 128 (512.00 Byte)\n",
            "_________________________________________________________________\n",
            "None\n",
            "Epoch 1/20\n",
            "83/83 [==============================] - 12s 88ms/step - loss: 0.6395 - accuracy: 0.6169 - val_loss: 0.6500 - val_accuracy: 0.7873\n",
            "Epoch 2/20\n",
            "83/83 [==============================] - 5s 55ms/step - loss: 0.4093 - accuracy: 0.8183 - val_loss: 0.5319 - val_accuracy: 0.8350\n",
            "Epoch 3/20\n",
            "83/83 [==============================] - 7s 80ms/step - loss: 0.3182 - accuracy: 0.8687 - val_loss: 0.4704 - val_accuracy: 0.8418\n",
            "Epoch 4/20\n",
            "83/83 [==============================] - 5s 59ms/step - loss: 0.2623 - accuracy: 0.8936 - val_loss: 0.3794 - val_accuracy: 0.8548\n",
            "Epoch 5/20\n",
            "83/83 [==============================] - 5s 54ms/step - loss: 0.2438 - accuracy: 0.9069 - val_loss: 0.3793 - val_accuracy: 0.8336\n",
            "Epoch 6/20\n",
            "83/83 [==============================] - 6s 77ms/step - loss: 0.2094 - accuracy: 0.9182 - val_loss: 0.3641 - val_accuracy: 0.8447\n",
            "Epoch 7/20\n",
            "83/83 [==============================] - 5s 55ms/step - loss: 0.1853 - accuracy: 0.9306 - val_loss: 0.3986 - val_accuracy: 0.8456\n",
            "Epoch 8/20\n",
            "83/83 [==============================] - 5s 65ms/step - loss: 0.1801 - accuracy: 0.9307 - val_loss: 0.4099 - val_accuracy: 0.8442\n",
            "Epoch 9/20\n",
            "83/83 [==============================] - 6s 73ms/step - loss: 0.1601 - accuracy: 0.9408 - val_loss: 0.4678 - val_accuracy: 0.8278\n",
            "Epoch 10/20\n",
            "83/83 [==============================] - 5s 55ms/step - loss: 0.1625 - accuracy: 0.9367 - val_loss: 0.4538 - val_accuracy: 0.8345\n",
            "Epoch 11/20\n",
            "83/83 [==============================] - 7s 80ms/step - loss: 0.1390 - accuracy: 0.9486 - val_loss: 0.4705 - val_accuracy: 0.8374\n",
            "Epoch 12/20\n",
            "83/83 [==============================] - 5s 56ms/step - loss: 0.1286 - accuracy: 0.9523 - val_loss: 0.6404 - val_accuracy: 0.7921\n",
            "Epoch 13/20\n",
            "83/83 [==============================] - 5s 59ms/step - loss: 0.1249 - accuracy: 0.9520 - val_loss: 0.6573 - val_accuracy: 0.7882\n",
            "Epoch 14/20\n",
            "83/83 [==============================] - 6s 73ms/step - loss: 0.1220 - accuracy: 0.9520 - val_loss: 0.4969 - val_accuracy: 0.8157\n",
            "Epoch 15/20\n",
            "83/83 [==============================] - 5s 56ms/step - loss: 0.1153 - accuracy: 0.9576 - val_loss: 0.5515 - val_accuracy: 0.8263\n",
            "Epoch 16/20\n",
            "83/83 [==============================] - 6s 71ms/step - loss: 0.1050 - accuracy: 0.9605 - val_loss: 0.7395 - val_accuracy: 0.8095\n",
            "Epoch 17/20\n",
            "83/83 [==============================] - 5s 58ms/step - loss: 0.1058 - accuracy: 0.9615 - val_loss: 0.6709 - val_accuracy: 0.8162\n",
            "Epoch 18/20\n",
            "83/83 [==============================] - 5s 54ms/step - loss: 0.1052 - accuracy: 0.9611 - val_loss: 0.5842 - val_accuracy: 0.8273\n",
            "Epoch 19/20\n",
            "83/83 [==============================] - 7s 82ms/step - loss: 0.0902 - accuracy: 0.9663 - val_loss: 0.7084 - val_accuracy: 0.8051\n",
            "Epoch 20/20\n",
            "83/83 [==============================] - 4s 54ms/step - loss: 0.0921 - accuracy: 0.9673 - val_loss: 0.6365 - val_accuracy: 0.8249\n",
            ">>>>> Elapsed time: 146.32s\n"
          ]
        }
      ]
    },
    {
      "cell_type": "markdown",
      "source": [
        "## Tamaño del dataset"
      ],
      "metadata": {
        "id": "7C54iD1oZZUY"
      }
    },
    {
      "cell_type": "code",
      "source": [
        "df1 = pd.read_csv('https://raw.githubusercontent.com/eduardofc/data/main/amazon_sports.csv')\n",
        "df2 = pd.read_csv('https://raw.githubusercontent.com/eduardofc/data/main/amazon_home.csv')\n",
        "df3 = pd.read_csv('https://raw.githubusercontent.com/eduardofc/data/main/amazon_electronics.csv')\n",
        "df = pd.concat([df1, df2, df3])\n",
        "\n",
        "df['review_body'] = df['review_body'].str.replace(\"[^a-zA-ZñÑáéíóú .,:;]\", \"\", regex=True)\n",
        "df['review_body'] = df['review_body'].str.lower()\n",
        "df.shape"
      ],
      "metadata": {
        "colab": {
          "base_uri": "https://localhost:8080/"
        },
        "id": "MJ5_9rbTSXqh",
        "outputId": "1ea56cd4-6fc7-499e-e984-b247d958add8"
      },
      "execution_count": 50,
      "outputs": [
        {
          "output_type": "execute_result",
          "data": {
            "text/plain": [
              "(50536, 4)"
            ]
          },
          "metadata": {},
          "execution_count": 50
        }
      ]
    },
    {
      "cell_type": "code",
      "source": [
        "# positivos -> 5, 4 stars\n",
        "# negativos -> 1, 2 stars\n",
        "\n",
        "df = df[df.stars !=3]\n",
        "df['bad_product'] = (df.stars > 3).astype(int)\n",
        "df.groupby('bad_product').size()"
      ],
      "metadata": {
        "colab": {
          "base_uri": "https://localhost:8080/"
        },
        "id": "j6_Rrrq1SXnG",
        "outputId": "4c8d8d69-4474-4caf-bd46-f50b1286ef83"
      },
      "execution_count": 51,
      "outputs": [
        {
          "output_type": "stream",
          "name": "stderr",
          "text": [
            "<ipython-input-51-683f6885605e>:5: SettingWithCopyWarning: \n",
            "A value is trying to be set on a copy of a slice from a DataFrame.\n",
            "Try using .loc[row_indexer,col_indexer] = value instead\n",
            "\n",
            "See the caveats in the documentation: https://pandas.pydata.org/pandas-docs/stable/user_guide/indexing.html#returning-a-view-versus-a-copy\n",
            "  df['bad_product'] = (df.stars > 3).astype(int)\n"
          ]
        },
        {
          "output_type": "execute_result",
          "data": {
            "text/plain": [
              "bad_product\n",
              "0    20512\n",
              "1    19817\n",
              "dtype: int64"
            ]
          },
          "metadata": {},
          "execution_count": 51
        }
      ]
    },
    {
      "cell_type": "code",
      "source": [
        "X = df.review_body.values\n",
        "y = df.bad_product\n",
        "\n",
        "X_train, X_test, y_train, y_test = train_test_split(X, y, test_size=.2, random_state = 33)\n",
        "\n",
        "print(len(X_train))\n",
        "print(len(X_test))"
      ],
      "metadata": {
        "colab": {
          "base_uri": "https://localhost:8080/"
        },
        "id": "o02uUXXJSXT_",
        "outputId": "ddaa8f6e-0690-4ba6-82df-e555bf56a17f"
      },
      "execution_count": 52,
      "outputs": [
        {
          "output_type": "stream",
          "name": "stdout",
          "text": [
            "32263\n",
            "8066\n"
          ]
        }
      ]
    },
    {
      "cell_type": "code",
      "source": [
        "vocab_size = 5000 # primer parámetro configurable\n",
        "\n",
        "tokenizer = Tokenizer(\n",
        "    num_words = vocab_size,\n",
        "    oov_token = '<OOV>'\n",
        ")\n",
        "tokenizer.fit_on_texts(X_train)"
      ],
      "metadata": {
        "id": "h49njzL5Z_Uo"
      },
      "execution_count": 53,
      "outputs": []
    },
    {
      "cell_type": "code",
      "source": [
        "tokenized_train = tokenizer.texts_to_sequences(X_train)\n",
        "tokenized_test = tokenizer.texts_to_sequences(X_test) # para después validar"
      ],
      "metadata": {
        "id": "zIqguYQyaCrq"
      },
      "execution_count": 54,
      "outputs": []
    },
    {
      "cell_type": "code",
      "source": [
        "max_length = 50\n",
        "\n",
        "padd_train = pad_sequences(tokenized_train, maxlen=max_length, truncating='post')\n",
        "padd_test = pad_sequences(tokenized_test, maxlen=max_length, truncating='post')"
      ],
      "metadata": {
        "id": "Mct78DVdaFjv"
      },
      "execution_count": 55,
      "outputs": []
    },
    {
      "cell_type": "markdown",
      "source": [
        "### Modelling"
      ],
      "metadata": {
        "id": "hnLqewOoaIhi"
      }
    },
    {
      "cell_type": "code",
      "source": [
        "keras.utils.set_random_seed(812)\n",
        "\n",
        "embed_dim = 20\n",
        "lstm_dim = 32\n",
        "\n",
        "model = Sequential([\n",
        "    Embedding(\n",
        "        input_length = max_length,\n",
        "        output_dim = embed_dim,\n",
        "        input_dim = vocab_size\n",
        "    ),\n",
        "    Bidirectional(LSTM(lstm_dim)),\n",
        "    Dense(6, activation='relu'),\n",
        "    Dense(1, activation='sigmoid')\n",
        "])\n",
        "\n",
        "model_compile(model)\n",
        "model_fit(model)"
      ],
      "metadata": {
        "colab": {
          "base_uri": "https://localhost:8080/"
        },
        "id": "jY9UR-0LaICh",
        "outputId": "4922e8f2-9693-4a77-d749-19830a3172c5"
      },
      "execution_count": 56,
      "outputs": [
        {
          "output_type": "stream",
          "name": "stdout",
          "text": [
            "Model: \"sequential_12\"\n",
            "_________________________________________________________________\n",
            " Layer (type)                Output Shape              Param #   \n",
            "=================================================================\n",
            " embedding_8 (Embedding)     (None, 50, 20)            100000    \n",
            "                                                                 \n",
            " bidirectional_2 (Bidirecti  (None, 64)                13568     \n",
            " onal)                                                           \n",
            "                                                                 \n",
            " dense_22 (Dense)            (None, 6)                 390       \n",
            "                                                                 \n",
            " dense_23 (Dense)            (None, 1)                 7         \n",
            "                                                                 \n",
            "=================================================================\n",
            "Total params: 113965 (445.18 KB)\n",
            "Trainable params: 113965 (445.18 KB)\n",
            "Non-trainable params: 0 (0.00 Byte)\n",
            "_________________________________________________________________\n",
            "None\n",
            "Epoch 1/20\n",
            "323/323 [==============================] - 26s 62ms/step - loss: 0.4216 - accuracy: 0.8019 - val_loss: 0.2979 - val_accuracy: 0.8802\n",
            "Epoch 2/20\n",
            "323/323 [==============================] - 20s 62ms/step - loss: 0.2769 - accuracy: 0.8906 - val_loss: 0.2925 - val_accuracy: 0.8859\n",
            "Epoch 3/20\n",
            "323/323 [==============================] - 20s 60ms/step - loss: 0.2424 - accuracy: 0.9071 - val_loss: 0.2962 - val_accuracy: 0.8807\n",
            "Epoch 4/20\n",
            "323/323 [==============================] - 19s 58ms/step - loss: 0.2212 - accuracy: 0.9157 - val_loss: 0.2993 - val_accuracy: 0.8828\n",
            "Epoch 5/20\n",
            "323/323 [==============================] - 21s 64ms/step - loss: 0.2018 - accuracy: 0.9239 - val_loss: 0.3048 - val_accuracy: 0.8783\n",
            "Epoch 6/20\n",
            "323/323 [==============================] - 19s 59ms/step - loss: 0.1858 - accuracy: 0.9312 - val_loss: 0.3195 - val_accuracy: 0.8809\n",
            "Epoch 7/20\n",
            "323/323 [==============================] - 19s 59ms/step - loss: 0.1735 - accuracy: 0.9359 - val_loss: 0.3181 - val_accuracy: 0.8805\n",
            "Epoch 8/20\n",
            "323/323 [==============================] - 21s 64ms/step - loss: 0.1620 - accuracy: 0.9422 - val_loss: 0.3506 - val_accuracy: 0.8773\n",
            "Epoch 9/20\n",
            "323/323 [==============================] - 19s 59ms/step - loss: 0.1519 - accuracy: 0.9459 - val_loss: 0.3536 - val_accuracy: 0.8753\n",
            "Epoch 10/20\n",
            "323/323 [==============================] - 19s 59ms/step - loss: 0.1387 - accuracy: 0.9512 - val_loss: 0.3557 - val_accuracy: 0.8773\n",
            "Epoch 11/20\n",
            "323/323 [==============================] - 21s 65ms/step - loss: 0.1323 - accuracy: 0.9534 - val_loss: 0.3927 - val_accuracy: 0.8809\n",
            "Epoch 12/20\n",
            "323/323 [==============================] - 19s 58ms/step - loss: 0.1223 - accuracy: 0.9579 - val_loss: 0.3815 - val_accuracy: 0.8729\n",
            "Epoch 13/20\n",
            "323/323 [==============================] - 20s 62ms/step - loss: 0.1100 - accuracy: 0.9633 - val_loss: 0.3998 - val_accuracy: 0.8729\n",
            "Epoch 14/20\n",
            "323/323 [==============================] - 19s 58ms/step - loss: 0.1029 - accuracy: 0.9652 - val_loss: 0.4128 - val_accuracy: 0.8750\n",
            "Epoch 15/20\n",
            "323/323 [==============================] - 19s 59ms/step - loss: 0.0923 - accuracy: 0.9696 - val_loss: 0.4245 - val_accuracy: 0.8724\n",
            "Epoch 16/20\n",
            "323/323 [==============================] - 22s 69ms/step - loss: 0.0855 - accuracy: 0.9725 - val_loss: 0.4445 - val_accuracy: 0.8639\n",
            "Epoch 17/20\n",
            "323/323 [==============================] - 19s 59ms/step - loss: 0.0817 - accuracy: 0.9744 - val_loss: 0.4505 - val_accuracy: 0.8702\n",
            "Epoch 18/20\n",
            "323/323 [==============================] - 21s 64ms/step - loss: 0.0722 - accuracy: 0.9773 - val_loss: 0.4813 - val_accuracy: 0.8713\n",
            "Epoch 19/20\n",
            "323/323 [==============================] - 19s 59ms/step - loss: 0.0705 - accuracy: 0.9786 - val_loss: 0.4516 - val_accuracy: 0.8634\n",
            "Epoch 20/20\n",
            "323/323 [==============================] - 19s 58ms/step - loss: 0.0678 - accuracy: 0.9794 - val_loss: 0.5191 - val_accuracy: 0.8711\n",
            ">>>>> Elapsed time: 447.41s\n"
          ]
        }
      ]
    },
    {
      "cell_type": "code",
      "source": [],
      "metadata": {
        "id": "0qckirjcaRUN"
      },
      "execution_count": null,
      "outputs": []
    }
  ]
}