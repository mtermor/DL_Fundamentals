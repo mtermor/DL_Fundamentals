{
  "nbformat": 4,
  "nbformat_minor": 0,
  "metadata": {
    "colab": {
      "provenance": [],
      "authorship_tag": "ABX9TyNvKeMIRP0SvBACy43g6Cca",
      "include_colab_link": true
    },
    "kernelspec": {
      "name": "python3",
      "display_name": "Python 3"
    },
    "language_info": {
      "name": "python"
    }
  },
  "cells": [
    {
      "cell_type": "markdown",
      "metadata": {
        "id": "view-in-github",
        "colab_type": "text"
      },
      "source": [
        "<a href=\"https://colab.research.google.com/github/mtermor/NTIC_DeepLearning/blob/main/CNN/OCR_with_OpenCV_and_Tesseract.ipynb\" target=\"_parent\"><img src=\"https://colab.research.google.com/assets/colab-badge.svg\" alt=\"Open In Colab\"/></a>"
      ]
    },
    {
      "cell_type": "markdown",
      "source": [
        "# Introduction to Optical Character Recognition (OCR)\n",
        "\n",
        "Optical Character Recognition, or OCR, is a technology used to convert different types of documents, such as scanned paper documents, PDF files, or images captured by a digital camera, into editable and searchable data. OCR is widely used for digitizing printed texts so that they can be electronically edited, searched, stored more compactly, displayed online, and used in machine processes such as machine translation, text-to-speech, and data mining.\n",
        "\n",
        "## Challenges in OCR\n",
        "OCR is not always straightforward due to various challenges, such as:\n",
        "\n",
        "1. **Font Variability:** Different font styles and sizes can affect the OCR accuracy.\n",
        "2. **Background Noise:** Images with noisy backgrounds can make text detection difficult.\n",
        "3. **Layout and Formatting:** Complex layouts with columns, boxes, and other formatting elements can complicate text extraction.\n",
        "4. **Image Quality:** Low resolution or blurry images can lead to poor OCR results.\n",
        "\n",
        "## Tesseract OCR\n",
        "\n",
        "Tesseract is an open-source OCR engine. It can read and recognize text in various languages and is widely regarded as one of the most accurate free OCR engines available.\n",
        "\n",
        "### Key Functions of Tesseract\n",
        "\n",
        "1. **Text Detection:** Identifying and extracting textual content from images.\n",
        "2. **Language Support:** Recognizing multiple languages.\n",
        "3. **Customization:** Ability to train Tesseract for new fonts or languages.\n",
        "\n",
        "## Using Tesseract with OpenCV\n",
        "\n",
        "OpenCV (Open Source Computer Vision Library) is an open-source computer vision and machine learning software library. It can be used in conjunction with Tesseract to preprocess images for better OCR results.\n",
        "\n",
        "\n",
        "### Installing Required Libraries\n",
        "\n",
        "\n",
        "#### Install Tesseract OCR\n",
        "\n",
        "First, you need to check if Tesseract OCR is installed on your system.\n",
        "\n",
        "- **For Windows:**\n",
        "  - Download the installer from [Tesseract at UB Mannheim](https://github.com/UB-Mannheim/tesseract/wiki).\n",
        "  - Run the installer and remember the path where you install Tesseract (e.g., `C:\\Program Files\\Tesseract-OCR`).\n",
        "  - You will need this path to set the environment variable.\n",
        "\n",
        "- **For macOS:**\n",
        "  - You can install Tesseract using Homebrew with the command: `brew install tesseract`.\n",
        "\n",
        "- **For Linux:**\n",
        "  - Use the package manager to install Tesseract. For example, on Ubuntu, you can use `sudo apt-get install tesseract-ocr`.\n",
        "\n",
        "#### Set the PATH Environment Variable\n",
        "\n",
        "If Tesseract is installed but not found, you might need to add its installation directory to your system's PATH.\n",
        "\n",
        "- **For Windows:**\n",
        "  - Go to the Control Panel -> System and Security -> System -> Advanced system settings -> Environment Variables.\n",
        "  - Under System Variables, find and select the variable named PATH, then click Edit.\n",
        "  - Add the path to the Tesseract installation directory (e.g., `C:\\Program Files\\Tesseract-OCR`).\n",
        "  - Click OK to save the changes.\n",
        "\n",
        "- **For macOS and Linux:**\n",
        "  - The Tesseract path is usually added to the system PATH automatically. If not, you can add it by modifying the `.bashrc` or `.zshrc` file in your home directory with the command like `export PATH=$PATH:/usr/local/bin/tesseract` (adjust the path as necessary).\n",
        "\n",
        "#### Specify the Path in Your Python Code\n",
        "\n",
        "Alternatively, you can specify the path to the Tesseract executable directly in your Python code:\n",
        "\n",
        "```python\n",
        "import pytesseract\n",
        "\n",
        "# Specify the path to tesseract.exe\n",
        "pytesseract.pytesseract.tesseract_cmd = r'C:\\Program Files\\Tesseract-OCR\\tesseract.exe'  # Update this path\n",
        "\n",
        "# Rest of your code\n",
        "```\n",
        "\n",
        "Replace `C:\\Program Files\\Tesseract-OCR\\tesseract.exe` with the actual path where Tesseract OCR is installed on your system.\n",
        "\n",
        "\n",
        "```python\n",
        "!pip install opencv-python\n",
        "!pip install pytesseract\n",
        "```\n",
        "\n",
        "### Basic OCR Example\n"
      ],
      "metadata": {
        "id": "BURgPiZKHltM"
      }
    },
    {
      "cell_type": "code",
      "execution_count": 2,
      "metadata": {
        "id": "WETL4bRDk0PY",
        "outputId": "a794dbab-1135-4856-c2fe-a1cca8765e97",
        "colab": {
          "base_uri": "https://localhost:8080/"
        }
      },
      "outputs": [
        {
          "output_type": "stream",
          "name": "stdout",
          "text": [
            "Requirement already satisfied: opencv-python in /usr/local/lib/python3.10/dist-packages (4.8.0.76)\n",
            "Requirement already satisfied: numpy>=1.21.2 in /usr/local/lib/python3.10/dist-packages (from opencv-python) (1.25.2)\n",
            "Collecting pytesseract\n",
            "  Downloading pytesseract-0.3.10-py3-none-any.whl (14 kB)\n",
            "Requirement already satisfied: packaging>=21.3 in /usr/local/lib/python3.10/dist-packages (from pytesseract) (24.0)\n",
            "Requirement already satisfied: Pillow>=8.0.0 in /usr/local/lib/python3.10/dist-packages (from pytesseract) (9.4.0)\n",
            "Installing collected packages: pytesseract\n",
            "Successfully installed pytesseract-0.3.10\n",
            "Reading package lists... Done\n",
            "Building dependency tree... Done\n",
            "Reading state information... Done\n",
            "The following additional packages will be installed:\n",
            "  tesseract-ocr-eng tesseract-ocr-osd\n",
            "The following NEW packages will be installed:\n",
            "  tesseract-ocr tesseract-ocr-eng tesseract-ocr-osd\n",
            "0 upgraded, 3 newly installed, 0 to remove and 45 not upgraded.\n",
            "Need to get 4,816 kB of archives.\n",
            "After this operation, 15.6 MB of additional disk space will be used.\n",
            "Get:1 http://archive.ubuntu.com/ubuntu jammy/universe amd64 tesseract-ocr-eng all 1:4.00~git30-7274cfa-1.1 [1,591 kB]\n",
            "Get:2 http://archive.ubuntu.com/ubuntu jammy/universe amd64 tesseract-ocr-osd all 1:4.00~git30-7274cfa-1.1 [2,990 kB]\n",
            "Get:3 http://archive.ubuntu.com/ubuntu jammy/universe amd64 tesseract-ocr amd64 4.1.1-2.1build1 [236 kB]\n",
            "Fetched 4,816 kB in 2s (2,865 kB/s)\n",
            "debconf: unable to initialize frontend: Dialog\n",
            "debconf: (No usable dialog-like program is installed, so the dialog based frontend cannot be used. at /usr/share/perl5/Debconf/FrontEnd/Dialog.pm line 78, <> line 3.)\n",
            "debconf: falling back to frontend: Readline\n",
            "debconf: unable to initialize frontend: Readline\n",
            "debconf: (This frontend requires a controlling tty.)\n",
            "debconf: falling back to frontend: Teletype\n",
            "dpkg-preconfigure: unable to re-open stdin: \n",
            "Selecting previously unselected package tesseract-ocr-eng.\n",
            "(Reading database ... 121918 files and directories currently installed.)\n",
            "Preparing to unpack .../tesseract-ocr-eng_1%3a4.00~git30-7274cfa-1.1_all.deb ...\n",
            "Unpacking tesseract-ocr-eng (1:4.00~git30-7274cfa-1.1) ...\n",
            "Selecting previously unselected package tesseract-ocr-osd.\n",
            "Preparing to unpack .../tesseract-ocr-osd_1%3a4.00~git30-7274cfa-1.1_all.deb ...\n",
            "Unpacking tesseract-ocr-osd (1:4.00~git30-7274cfa-1.1) ...\n",
            "Selecting previously unselected package tesseract-ocr.\n",
            "Preparing to unpack .../tesseract-ocr_4.1.1-2.1build1_amd64.deb ...\n",
            "Unpacking tesseract-ocr (4.1.1-2.1build1) ...\n",
            "Setting up tesseract-ocr-eng (1:4.00~git30-7274cfa-1.1) ...\n",
            "Setting up tesseract-ocr-osd (1:4.00~git30-7274cfa-1.1) ...\n",
            "Setting up tesseract-ocr (4.1.1-2.1build1) ...\n",
            "Processing triggers for man-db (2.10.2-1) ...\n"
          ]
        }
      ],
      "source": [
        "!pip install opencv-python\n",
        "!pip install pytesseract\n",
        "!sudo apt-get install tesseract-ocr"
      ]
    },
    {
      "cell_type": "code",
      "source": [
        "import cv2\n",
        "import urllib\n",
        "import pytesseract\n",
        "import matplotlib.pyplot as plt\n",
        "\n",
        "url = \"https://github.com/ezponda/intro_deep_learning/blob/main/images/restaurant-bar-receipt-sample.jpg?raw=true\"\n",
        "urllib.request.urlretrieve(url, \"restaurant-bar-receipt-sample.jpg\")\n",
        "\n",
        "# Path to the image\n",
        "image_path = \"restaurant-bar-receipt-sample.jpg\"\n",
        "# Load an image\n",
        "image = cv2.imread(image_path, cv2.IMREAD_GRAYSCALE)\n",
        "\n",
        "plt.imshow(image, cmap='gray')\n",
        "plt.axis('off')\n",
        "plt.show()"
      ],
      "metadata": {
        "id": "Z3YLevFrHpdi",
        "outputId": "7223b8d2-c311-4461-d08b-d7b01812ccd2",
        "colab": {
          "base_uri": "https://localhost:8080/",
          "height": 406
        }
      },
      "execution_count": 3,
      "outputs": [
        {
          "output_type": "display_data",
          "data": {
            "text/plain": [
              "<Figure size 640x480 with 1 Axes>"
            ],
            "image/png": "[encoded data removed]"
          },
          "metadata": {}
        }
      ]
    },
    {
      "cell_type": "markdown",
      "source": [
        "## `pytesseract.image_to_string`\n",
        "The function takes an image as input and returns the text contained within that image as a string. It's important to preprocess the image to improve OCR accuracy."
      ],
      "metadata": {
        "id": "Eha633CUH9Kz"
      }
    },
    {
      "cell_type": "code",
      "source": [
        "text = pytesseract.image_to_string(image)\n",
        "print(text)"
      ],
      "metadata": {
        "id": "531KsiwtHqrQ",
        "outputId": "b184cd67-93e4-4e82-cb54-0706c8a28438",
        "colab": {
          "base_uri": "https://localhost:8080/"
        }
      },
      "execution_count": 4,
      "outputs": [
        {
          "output_type": "stream",
          "name": "stdout",
          "text": [
            "Hotel Restaurant and Bar\n",
            "6th Ave\n",
            "New York, NY\n",
            "Tel: 650-309-1992\n",
            "\n",
            "09/25/2020 12:54PM\n",
            "\n",
            "TERMINAL 2\n",
            "Hendrick Gin & Tonic $10.50\n",
            "Ginger Mule $9.50\n",
            "Glass Camus Zin $24.00\n",
            "Titos Vodka Soda $12.00\n",
            "Amount $60.76\n",
            "SUB-TOTAL $56.00\n",
            "TAX $4.76\n",
            "BALANCE $60.76\n",
            "\n",
            "CREDIT CARD AUTH VISA ####3993\n",
            "\n",
            "TIP\n",
            "TOTAL\n",
            "\n",
            " \n",
            "\n",
            "SIGNATURE\n",
            "\f\n"
          ]
        }
      ]
    },
    {
      "cell_type": "markdown",
      "source": [
        "## Tesseract OCR Options\n",
        "\n",
        "Tesseract provides several command-line options that can be used to optimize its OCR capabilities. These include specifying the tessdata path, language, page segmentation modes (PSM), and OCR Engine modes (OEM), among others. Let's explore some of these options:\n",
        "\n",
        "#### Tessdata Directory\n",
        "- `--tessdata-dir PATH`: Sets the location of the tessdata directory containing language files and other data.\n",
        "\n",
        "#### Language Options\n",
        "- `-l LANG[+LANG]`: Sets the language(s) for OCR. Tesseract supports multiple languages, and you can specify more than one language separated by a plus sign.\n",
        "\n",
        "#### Config Variables\n",
        "- `-c VAR=VALUE`: Sets various configuration variables. You can use multiple `-c` arguments.\n",
        "\n",
        "#### Page Segmentation Modes (PSM)\n",
        "Tesseract offers different page segmentation modes suitable for various image layouts:\n",
        "1. `0`: Orientation and script detection (OSD) only.\n",
        "2. `1`: Automatic page segmentation with OSD.\n",
        "3. `3`: Fully automatic page segmentation, but no OSD. (Default)\n",
        "4. `4`: Assume a single column of text of variable sizes.\n",
        "5. `6`: Assume a single uniform block of text.\n",
        "6. `7`: Treat the image as a single text line.\n",
        "7. `8`: Treat the image as a single word.\n",
        "8. `10`: Treat the image as a single character.\n",
        "9. `11`: Sparse text. Find as much text as possible in no particular order.\n",
        "\n",
        "#### OCR Engine Modes (OEM)\n",
        "Tesseract has different OCR engine modes:\n",
        "1. `0`: Legacy engine only.\n",
        "2. `1`: Neural nets LSTM engine only.\n",
        "3. `2`: Legacy + LSTM engines.\n",
        "4. `3`: Default, based on what is available.\n"
      ],
      "metadata": {
        "id": "KupUpPIkIEAx"
      }
    },
    {
      "cell_type": "code",
      "source": [
        "!tesseract --help-psm"
      ],
      "metadata": {
        "id": "0ft8f5_cH-ox",
        "outputId": "fbf4f3e0-e85a-47d2-a66c-e11aa3361ea6",
        "colab": {
          "base_uri": "https://localhost:8080/"
        }
      },
      "execution_count": 10,
      "outputs": [
        {
          "output_type": "stream",
          "name": "stdout",
          "text": [
            "Page segmentation modes:\n",
            "  0    Orientation and script detection (OSD) only.\n",
            "  1    Automatic page segmentation with OSD.\n",
            "  2    Automatic page segmentation, but no OSD, or OCR. (not implemented)\n",
            "  3    Fully automatic page segmentation, but no OSD. (Default)\n",
            "  4    Assume a single column of text of variable sizes.\n",
            "  5    Assume a single uniform block of vertically aligned text.\n",
            "  6    Assume a single uniform block of text.\n",
            "  7    Treat the image as a single text line.\n",
            "  8    Treat the image as a single word.\n",
            "  9    Treat the image as a single word in a circle.\n",
            " 10    Treat the image as a single character.\n",
            " 11    Sparse text. Find as much text as possible in no particular order.\n",
            " 12    Sparse text with OSD.\n",
            " 13    Raw line. Treat the image as a single text line,\n",
            "       bypassing hacks that are Tesseract-specific.\n"
          ]
        }
      ]
    },
    {
      "cell_type": "markdown",
      "source": [
        "### Question 1: Use the correct PSM mode for extracting the tex in the next image\n",
        "\n",
        "```python\n",
        "config = '--psm <PSM mode>'\n",
        "\n",
        "text = pytesseract.image_to_string(image, config=config)\n",
        "```\n",
        "\n",
        "`PSM mode` can be `0, 1, ..., 11`"
      ],
      "metadata": {
        "id": "uayfVBCgIQBW"
      }
    },
    {
      "cell_type": "code",
      "source": [
        "url = 'https://github.com/ezponda/intro_deep_learning/blob/main/images/car_plate.png?raw=true'\n",
        "urllib.request.urlretrieve(url, \"car_plate.png\")\n",
        "\n",
        "\n",
        "image_1 = cv2.imread(\"car_plate.png\", cv2.IMREAD_GRAYSCALE)\n",
        "\n",
        "plt.imshow(image_1, cmap='gray')\n",
        "plt.axis('off')\n",
        "plt.show()"
      ],
      "metadata": {
        "id": "vIN7OnLwIQSC",
        "outputId": "b7630b64-412c-42f4-a47d-7af116695eb9",
        "colab": {
          "base_uri": "https://localhost:8080/",
          "height": 387
        }
      },
      "execution_count": 5,
      "outputs": [
        {
          "output_type": "display_data",
          "data": {
            "text/plain": [
              "<Figure size 640x480 with 1 Axes>"
            ],
            "image/png": "[encoded data removed]"
          },
          "metadata": {}
        }
      ]
    },
    {
      "cell_type": "code",
      "source": [
        "# Sin decir en que modo debe buscar la imagen\n",
        "text = pytesseract.image_to_string(image_1)\n",
        "print(text)"
      ],
      "metadata": {
        "id": "aqhBvr9cIUSA",
        "outputId": "85ba1f33-054b-4e20-c0a7-00fa997e9b01",
        "colab": {
          "base_uri": "https://localhost:8080/"
        }
      },
      "execution_count": 7,
      "outputs": [
        {
          "output_type": "stream",
          "name": "stdout",
          "text": [
            " \n",
            "\f\n"
          ]
        }
      ]
    },
    {
      "cell_type": "markdown",
      "source": [
        "### Question 1: Change the `config` parameter"
      ],
      "metadata": {
        "id": "vm5NnrpTIpBQ"
      }
    },
    {
      "cell_type": "code",
      "source": [
        "config = '--psm <0>'\n",
        "\n",
        "text = pytesseract.image_to_string(image_1, config = config)\n",
        "print(text)"
      ],
      "metadata": {
        "id": "rmm392AoIWXw",
        "outputId": "5ee8d75f-103c-489d-efa0-dfbc1b5f1084",
        "colab": {
          "base_uri": "https://localhost:8080/",
          "height": 507
        }
      },
      "execution_count": 12,
      "outputs": [
        {
          "output_type": "error",
          "ename": "TesseractError",
          "evalue": "(1, 'Tesseract Open Source OCR Engine v4.1.1 with Leptonica Warning: Invalid resolution 0 dpi. Using 70 instead. Estimating resolution as 1701 Too few characters. Skipping this page Warning. Invalid resolution 0 dpi. Using 70 instead. Too few characters. Skipping this page Error during processing.')",
          "traceback": [
            "\u001b[0;31m---------------------------------------------------------------------------\u001b[0m",
            "\u001b[0;31mTesseractError\u001b[0m                            Traceback (most recent call last)",
            "\u001b[0;32m<ipython-input-12-eeaa0d2c0ced>\u001b[0m in \u001b[0;36m<cell line: 3>\u001b[0;34m()\u001b[0m\n\u001b[1;32m      1\u001b[0m \u001b[0mconfig\u001b[0m \u001b[0;34m=\u001b[0m \u001b[0;34m'--psm <0>'\u001b[0m\u001b[0;34m\u001b[0m\u001b[0;34m\u001b[0m\u001b[0m\n\u001b[1;32m      2\u001b[0m \u001b[0;34m\u001b[0m\u001b[0m\n\u001b[0;32m----> 3\u001b[0;31m \u001b[0mtext\u001b[0m \u001b[0;34m=\u001b[0m \u001b[0mpytesseract\u001b[0m\u001b[0;34m.\u001b[0m\u001b[0mimage_to_string\u001b[0m\u001b[0;34m(\u001b[0m\u001b[0mimage_1\u001b[0m\u001b[0;34m,\u001b[0m \u001b[0mconfig\u001b[0m \u001b[0;34m=\u001b[0m \u001b[0mconfig\u001b[0m\u001b[0;34m)\u001b[0m\u001b[0;34m\u001b[0m\u001b[0;34m\u001b[0m\u001b[0m\n\u001b[0m\u001b[1;32m      4\u001b[0m \u001b[0mprint\u001b[0m\u001b[0;34m(\u001b[0m\u001b[0mtext\u001b[0m\u001b[0;34m)\u001b[0m\u001b[0;34m\u001b[0m\u001b[0;34m\u001b[0m\u001b[0m\n",
            "\u001b[0;32m/usr/local/lib/python3.10/dist-packages/pytesseract/pytesseract.py\u001b[0m in \u001b[0;36mimage_to_string\u001b[0;34m(image, lang, config, nice, output_type, timeout)\u001b[0m\n\u001b[1;32m    421\u001b[0m     \u001b[0margs\u001b[0m \u001b[0;34m=\u001b[0m \u001b[0;34m[\u001b[0m\u001b[0mimage\u001b[0m\u001b[0;34m,\u001b[0m \u001b[0;34m'txt'\u001b[0m\u001b[0;34m,\u001b[0m \u001b[0mlang\u001b[0m\u001b[0;34m,\u001b[0m \u001b[0mconfig\u001b[0m\u001b[0;34m,\u001b[0m \u001b[0mnice\u001b[0m\u001b[0;34m,\u001b[0m \u001b[0mtimeout\u001b[0m\u001b[0;34m]\u001b[0m\u001b[0;34m\u001b[0m\u001b[0;34m\u001b[0m\u001b[0m\n\u001b[1;32m    422\u001b[0m \u001b[0;34m\u001b[0m\u001b[0m\n\u001b[0;32m--> 423\u001b[0;31m     return {\n\u001b[0m\u001b[1;32m    424\u001b[0m         \u001b[0mOutput\u001b[0m\u001b[0;34m.\u001b[0m\u001b[0mBYTES\u001b[0m\u001b[0;34m:\u001b[0m \u001b[0;32mlambda\u001b[0m\u001b[0;34m:\u001b[0m \u001b[0mrun_and_get_output\u001b[0m\u001b[0;34m(\u001b[0m\u001b[0;34m*\u001b[0m\u001b[0;34m(\u001b[0m\u001b[0margs\u001b[0m \u001b[0;34m+\u001b[0m \u001b[0;34m[\u001b[0m\u001b[0;32mTrue\u001b[0m\u001b[0;34m]\u001b[0m\u001b[0;34m)\u001b[0m\u001b[0;34m)\u001b[0m\u001b[0;34m,\u001b[0m\u001b[0;34m\u001b[0m\u001b[0;34m\u001b[0m\u001b[0m\n\u001b[1;32m    425\u001b[0m         \u001b[0mOutput\u001b[0m\u001b[0;34m.\u001b[0m\u001b[0mDICT\u001b[0m\u001b[0;34m:\u001b[0m \u001b[0;32mlambda\u001b[0m\u001b[0;34m:\u001b[0m \u001b[0;34m{\u001b[0m\u001b[0;34m'text'\u001b[0m\u001b[0;34m:\u001b[0m \u001b[0mrun_and_get_output\u001b[0m\u001b[0;34m(\u001b[0m\u001b[0;34m*\u001b[0m\u001b[0margs\u001b[0m\u001b[0;34m)\u001b[0m\u001b[0;34m}\u001b[0m\u001b[0;34m,\u001b[0m\u001b[0;34m\u001b[0m\u001b[0;34m\u001b[0m\u001b[0m\n",
            "\u001b[0;32m/usr/local/lib/python3.10/dist-packages/pytesseract/pytesseract.py\u001b[0m in \u001b[0;36m<lambda>\u001b[0;34m()\u001b[0m\n\u001b[1;32m    424\u001b[0m         \u001b[0mOutput\u001b[0m\u001b[0;34m.\u001b[0m\u001b[0mBYTES\u001b[0m\u001b[0;34m:\u001b[0m \u001b[0;32mlambda\u001b[0m\u001b[0;34m:\u001b[0m \u001b[0mrun_and_get_output\u001b[0m\u001b[0;34m(\u001b[0m\u001b[0;34m*\u001b[0m\u001b[0;34m(\u001b[0m\u001b[0margs\u001b[0m \u001b[0;34m+\u001b[0m \u001b[0;34m[\u001b[0m\u001b[0;32mTrue\u001b[0m\u001b[0;34m]\u001b[0m\u001b[0;34m)\u001b[0m\u001b[0;34m)\u001b[0m\u001b[0;34m,\u001b[0m\u001b[0;34m\u001b[0m\u001b[0;34m\u001b[0m\u001b[0m\n\u001b[1;32m    425\u001b[0m         \u001b[0mOutput\u001b[0m\u001b[0;34m.\u001b[0m\u001b[0mDICT\u001b[0m\u001b[0;34m:\u001b[0m \u001b[0;32mlambda\u001b[0m\u001b[0;34m:\u001b[0m \u001b[0;34m{\u001b[0m\u001b[0;34m'text'\u001b[0m\u001b[0;34m:\u001b[0m \u001b[0mrun_and_get_output\u001b[0m\u001b[0;34m(\u001b[0m\u001b[0;34m*\u001b[0m\u001b[0margs\u001b[0m\u001b[0;34m)\u001b[0m\u001b[0;34m}\u001b[0m\u001b[0;34m,\u001b[0m\u001b[0;34m\u001b[0m\u001b[0;34m\u001b[0m\u001b[0m\n\u001b[0;32m--> 426\u001b[0;31m         \u001b[0mOutput\u001b[0m\u001b[0;34m.\u001b[0m\u001b[0mSTRING\u001b[0m\u001b[0;34m:\u001b[0m \u001b[0;32mlambda\u001b[0m\u001b[0;34m:\u001b[0m \u001b[0mrun_and_get_output\u001b[0m\u001b[0;34m(\u001b[0m\u001b[0;34m*\u001b[0m\u001b[0margs\u001b[0m\u001b[0;34m)\u001b[0m\u001b[0;34m,\u001b[0m\u001b[0;34m\u001b[0m\u001b[0;34m\u001b[0m\u001b[0m\n\u001b[0m\u001b[1;32m    427\u001b[0m     }[output_type]()\n\u001b[1;32m    428\u001b[0m \u001b[0;34m\u001b[0m\u001b[0m\n",
            "\u001b[0;32m/usr/local/lib/python3.10/dist-packages/pytesseract/pytesseract.py\u001b[0m in \u001b[0;36mrun_and_get_output\u001b[0;34m(image, extension, lang, config, nice, timeout, return_bytes)\u001b[0m\n\u001b[1;32m    286\u001b[0m         }\n\u001b[1;32m    287\u001b[0m \u001b[0;34m\u001b[0m\u001b[0m\n\u001b[0;32m--> 288\u001b[0;31m         \u001b[0mrun_tesseract\u001b[0m\u001b[0;34m(\u001b[0m\u001b[0;34m**\u001b[0m\u001b[0mkwargs\u001b[0m\u001b[0;34m)\u001b[0m\u001b[0;34m\u001b[0m\u001b[0;34m\u001b[0m\u001b[0m\n\u001b[0m\u001b[1;32m    289\u001b[0m         \u001b[0mfilename\u001b[0m \u001b[0;34m=\u001b[0m \u001b[0;34mf\"{kwargs['output_filename_base']}{extsep}{extension}\"\u001b[0m\u001b[0;34m\u001b[0m\u001b[0;34m\u001b[0m\u001b[0m\n\u001b[1;32m    290\u001b[0m         \u001b[0;32mwith\u001b[0m \u001b[0mopen\u001b[0m\u001b[0;34m(\u001b[0m\u001b[0mfilename\u001b[0m\u001b[0;34m,\u001b[0m \u001b[0;34m'rb'\u001b[0m\u001b[0;34m)\u001b[0m \u001b[0;32mas\u001b[0m \u001b[0moutput_file\u001b[0m\u001b[0;34m:\u001b[0m\u001b[0;34m\u001b[0m\u001b[0;34m\u001b[0m\u001b[0m\n",
            "\u001b[0;32m/usr/local/lib/python3.10/dist-packages/pytesseract/pytesseract.py\u001b[0m in \u001b[0;36mrun_tesseract\u001b[0;34m(input_filename, output_filename_base, extension, lang, config, nice, timeout)\u001b[0m\n\u001b[1;32m    262\u001b[0m     \u001b[0;32mwith\u001b[0m \u001b[0mtimeout_manager\u001b[0m\u001b[0;34m(\u001b[0m\u001b[0mproc\u001b[0m\u001b[0;34m,\u001b[0m \u001b[0mtimeout\u001b[0m\u001b[0;34m)\u001b[0m \u001b[0;32mas\u001b[0m \u001b[0merror_string\u001b[0m\u001b[0;34m:\u001b[0m\u001b[0;34m\u001b[0m\u001b[0;34m\u001b[0m\u001b[0m\n\u001b[1;32m    263\u001b[0m         \u001b[0;32mif\u001b[0m \u001b[0mproc\u001b[0m\u001b[0;34m.\u001b[0m\u001b[0mreturncode\u001b[0m\u001b[0;34m:\u001b[0m\u001b[0;34m\u001b[0m\u001b[0;34m\u001b[0m\u001b[0m\n\u001b[0;32m--> 264\u001b[0;31m             \u001b[0;32mraise\u001b[0m \u001b[0mTesseractError\u001b[0m\u001b[0;34m(\u001b[0m\u001b[0mproc\u001b[0m\u001b[0;34m.\u001b[0m\u001b[0mreturncode\u001b[0m\u001b[0;34m,\u001b[0m \u001b[0mget_errors\u001b[0m\u001b[0;34m(\u001b[0m\u001b[0merror_string\u001b[0m\u001b[0;34m)\u001b[0m\u001b[0;34m)\u001b[0m\u001b[0;34m\u001b[0m\u001b[0;34m\u001b[0m\u001b[0m\n\u001b[0m\u001b[1;32m    265\u001b[0m \u001b[0;34m\u001b[0m\u001b[0m\n\u001b[1;32m    266\u001b[0m \u001b[0;34m\u001b[0m\u001b[0m\n",
            "\u001b[0;31mTesseractError\u001b[0m: (1, 'Tesseract Open Source OCR Engine v4.1.1 with Leptonica Warning: Invalid resolution 0 dpi. Using 70 instead. Estimating resolution as 1701 Too few characters. Skipping this page Warning. Invalid resolution 0 dpi. Using 70 instead. Too few characters. Skipping this page Error during processing.')"
          ]
        }
      ]
    },
    {
      "cell_type": "code",
      "source": [],
      "metadata": {
        "id": "85LSwcQLI4Zy"
      },
      "execution_count": null,
      "outputs": []
    }
  ]
}