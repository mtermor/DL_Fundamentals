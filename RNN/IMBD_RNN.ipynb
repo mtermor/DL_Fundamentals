{
  "nbformat": 4,
  "nbformat_minor": 0,
  "metadata": {
    "colab": {
      "provenance": [],
      "gpuType": "T4",
      "authorship_tag": "ABX9TyOqQ7WHoimNb7BGVNZO35JT",
      "include_colab_link": true
    },
    "kernelspec": {
      "name": "python3",
      "display_name": "Python 3"
    },
    "language_info": {
      "name": "python"
    },
    "accelerator": "GPU"
  },
  "cells": [
    {
      "cell_type": "markdown",
      "metadata": {
        "id": "view-in-github",
        "colab_type": "text"
      },
      "source": [
        "<a href=\"https://colab.research.google.com/github/mtermor/NTIC_DeepLearning/blob/main/RNN/IMBD_RNN.ipynb\" target=\"_parent\"><img src=\"https://colab.research.google.com/assets/colab-badge.svg\" alt=\"Open In Colab\"/></a>"
      ]
    },
    {
      "cell_type": "markdown",
      "source": [
        "# Classification Example\n",
        " Two-class classification, or binary classification, may be the most widely applied kind of machine-learning problem. In this example, you’ll learn to classify movie reviews as positive or negative, based on the text content of the reviews.\n"
      ],
      "metadata": {
        "id": "mQK64iuE0UYf"
      }
    },
    {
      "cell_type": "code",
      "execution_count": 1,
      "metadata": {
        "id": "WKXBogER0JL0"
      },
      "outputs": [],
      "source": [
        "import tensorflow as tf\n",
        "from tensorflow import keras\n",
        "from tensorflow.keras import layers\n",
        "import numpy as np\n",
        "import matplotlib.pyplot as plt\n",
        "import pandas as pd"
      ]
    },
    {
      "cell_type": "code",
      "source": [
        "def show_loss_accuracy_evolution(history):\n",
        "    hist = pd.DataFrame(history.history)\n",
        "    hist['epoch'] = history.epoch\n",
        "\n",
        "    fig, (ax1, ax2) = plt.subplots(1, 2, figsize=(16, 6))\n",
        "\n",
        "    ax1.set_xlabel('Epoch')\n",
        "    ax1.set_ylabel('Sparse Categorical Crossentropy')\n",
        "    ax1.plot(hist['epoch'], hist['loss'], label='Train Error')\n",
        "    ax1.plot(hist['epoch'], hist['val_loss'], label='Val Error')\n",
        "    ax1.grid()\n",
        "    ax1.legend()\n",
        "\n",
        "    ax2.set_xlabel('Epoch')\n",
        "    ax2.set_ylabel('Accuracy')\n",
        "    ax2.plot(hist['epoch'], hist['accuracy'], label='Train Accuracy')\n",
        "    ax2.plot(hist['epoch'], hist['val_accuracy'], label='Val Accuracy')\n",
        "    ax2.grid()\n",
        "    ax2.legend()\n",
        "\n",
        "    plt.show()"
      ],
      "metadata": {
        "id": "0issk-Fc0q-i"
      },
      "execution_count": 2,
      "outputs": []
    },
    {
      "cell_type": "markdown",
      "source": [
        "## The Dataset: The IMDB dataset\n",
        "We’ll work with the IMDB dataset: a set of 50,000 highly polarized reviews from the Internet Movie Database. They’re split into 25,000 reviews for training and 25,000 reviews for testing, each set consisting of 50% negative and 50% positive reviews. The  parameter `num_words` controls how many words different we want to use."
      ],
      "metadata": {
        "id": "i4PSgKum0wpm"
      }
    },
    {
      "cell_type": "code",
      "source": [
        "from tensorflow.keras.datasets import imdb\n",
        "num_words = 10000\n",
        "(train_data, train_labels),(test_data, test_labels) = imdb.load_data(num_words = num_words)"
      ],
      "metadata": {
        "id": "3F1PGSbd0wPf",
        "outputId": "489e18e3-2dfe-40dd-b857-c01c15c9d3a5",
        "colab": {
          "base_uri": "https://localhost:8080/"
        }
      },
      "execution_count": 4,
      "outputs": [
        {
          "output_type": "stream",
          "name": "stdout",
          "text": [
            "Downloading data from https://storage.googleapis.com/tensorflow/tf-keras-datasets/imdb.npz\n",
            "17464789/17464789 [==============================] - 0s 0us/step\n"
          ]
        }
      ]
    },
    {
      "cell_type": "code",
      "source": [
        "# Transform word_id to word and reverse\n",
        "word2int = imdb.get_word_index()\n",
        "word2int = {w: i+3 for w, i in word2int.items()}\n",
        "word2int[\"<PAD>\"] = 0\n",
        "word2int[\"<START>\"] = 1\n",
        "word2int[\"<UNK>\"] = 2\n",
        "word2int[\"<UNUSED>\"] = 3\n",
        "int2word = {i: w for w, i in word2int.items()}\n",
        "num_words = num_words+3"
      ],
      "metadata": {
        "id": "csNBJwPB09CM",
        "outputId": "8ba9b5de-f17c-448b-ed32-5f7a5c27a88e",
        "colab": {
          "base_uri": "https://localhost:8080/"
        }
      },
      "execution_count": 5,
      "outputs": [
        {
          "output_type": "stream",
          "name": "stdout",
          "text": [
            "Downloading data from https://storage.googleapis.com/tensorflow/tf-keras-datasets/imdb_word_index.json\n",
            "1641221/1641221 [==============================] - 0s 0us/step\n"
          ]
        }
      ]
    },
    {
      "cell_type": "markdown",
      "source": [
        "For transforming an id-sequence to a phrase use get_words"
      ],
      "metadata": {
        "id": "gwCEMmy-1Xci"
      }
    },
    {
      "cell_type": "code",
      "source": [
        "def get_words(sentence, int2word):\n",
        "    return ' '.join([int2word.get(i, '<UNK>') for i in sentence])\n",
        "\n",
        "\n",
        "get_words(train_data[0], int2word)"
      ],
      "metadata": {
        "id": "a3CzJgp_1XoG",
        "outputId": "56315fdd-0313-42c2-bef9-b39c587fea89",
        "colab": {
          "base_uri": "https://localhost:8080/",
          "height": 268
        }
      },
      "execution_count": 6,
      "outputs": [
        {
          "output_type": "execute_result",
          "data": {
            "text/plain": [
              "\"<START> this film was just brilliant casting location scenery story direction everyone's really suited the part they played and you could just imagine being there robert <UNK> is an amazing actor and now the same being director <UNK> father came from the same scottish island as myself so i loved the fact there was a real connection with this film the witty remarks throughout the film were great it was just brilliant so much that i bought the film as soon as it was released for <UNK> and would recommend it to everyone to watch and the fly fishing was amazing really cried at the end it was so sad and you know what they say if you cry at a film it must have been good and this definitely was also <UNK> to the two little boy's that played the <UNK> of norman and paul they were just brilliant children are often left out of the <UNK> list i think because the stars that play them all grown up are such a big profile for the whole film but these children are amazing and should be praised for what they have done don't you think the whole story was so lovely because it was true and was someone's life after all that was shared with us all\""
            ],
            "application/vnd.google.colaboratory.intrinsic+json": {
              "type": "string"
            }
          },
          "metadata": {},
          "execution_count": 6
        }
      ]
    },
    {
      "cell_type": "markdown",
      "source": [
        "# MLP model\n",
        "\n",
        "## Data Preprocessing\n",
        "\n",
        "You need to convert your raw text to an appropriate input to a sequential model"
      ],
      "metadata": {
        "id": "8F2A_l4z1oZK"
      }
    },
    {
      "cell_type": "code",
      "source": [
        "def vectorize_text_sentence(text, word2int):\n",
        "  tokens = text.split(' ')\n",
        "  tokens_id = [word2int.get(tk, 2) for tk in tokens]\n",
        "  return tokens_id\n",
        "\n",
        "text = get_words(train_data[0], int2word)\n",
        "print(text)\n",
        "print(vectorize_text_sentence(text, word2int))"
      ],
      "metadata": {
        "id": "Bs3DlAxF1joN",
        "outputId": "bffc1b6f-4966-4466-e692-c7b37e626e2e",
        "colab": {
          "base_uri": "https://localhost:8080/"
        }
      },
      "execution_count": 21,
      "outputs": [
        {
          "output_type": "stream",
          "name": "stdout",
          "text": [
            "<START> this film was just brilliant casting location scenery story direction everyone's really suited the part they played and you could just imagine being there robert <UNK> is an amazing actor and now the same being director <UNK> father came from the same scottish island as myself so i loved the fact there was a real connection with this film the witty remarks throughout the film were great it was just brilliant so much that i bought the film as soon as it was released for <UNK> and would recommend it to everyone to watch and the fly fishing was amazing really cried at the end it was so sad and you know what they say if you cry at a film it must have been good and this definitely was also <UNK> to the two little boy's that played the <UNK> of norman and paul they were just brilliant children are often left out of the <UNK> list i think because the stars that play them all grown up are such a big profile for the whole film but these children are amazing and should be praised for what they have done don't you think the whole story was so lovely because it was true and was someone's life after all that was shared with us all\n",
            "[1, 14, 22, 16, 43, 530, 973, 1622, 1385, 65, 458, 4468, 66, 3941, 4, 173, 36, 256, 5, 25, 100, 43, 838, 112, 50, 670, 2, 9, 35, 480, 284, 5, 150, 4, 172, 112, 167, 2, 336, 385, 39, 4, 172, 4536, 1111, 17, 546, 38, 13, 447, 4, 192, 50, 16, 6, 147, 2025, 19, 14, 22, 4, 1920, 4613, 469, 4, 22, 71, 87, 12, 16, 43, 530, 38, 76, 15, 13, 1247, 4, 22, 17, 515, 17, 12, 16, 626, 18, 2, 5, 62, 386, 12, 8, 316, 8, 106, 5, 4, 2223, 5244, 16, 480, 66, 3785, 33, 4, 130, 12, 16, 38, 619, 5, 25, 124, 51, 36, 135, 48, 25, 1415, 33, 6, 22, 12, 215, 28, 77, 52, 5, 14, 407, 16, 82, 2, 8, 4, 107, 117, 5952, 15, 256, 4, 2, 7, 3766, 5, 723, 36, 71, 43, 530, 476, 26, 400, 317, 46, 7, 4, 2, 1029, 13, 104, 88, 4, 381, 15, 297, 98, 32, 2071, 56, 26, 141, 6, 194, 7486, 18, 4, 226, 22, 21, 134, 476, 26, 480, 5, 144, 30, 5535, 18, 51, 36, 28, 224, 92, 25, 104, 4, 226, 65, 16, 38, 1334, 88, 12, 16, 283, 5, 16, 4472, 113, 103, 32, 15, 16, 5345, 19, 178, 32]\n"
          ]
        }
      ]
    },
    {
      "cell_type": "markdown",
      "source": [
        "We are going to use a bag of words model. BoW is a simplifying representation used in natural language processing. In this model, a text (such as a sentence or a document) is represented as the Each key is the word, and each value is the frequency of occurrences of that word in the given text document.\n",
        "\n",
        "- **Input document**: `\"John likes to watch movies Mary likes movies too\"`\n",
        "- **BoW**: `{'John': 0.11, 'likes': 0.22, 'to': 0.11, 'watch': 0.11, 'movies': 0.22, 'Mary': 0.11, 'too': 0.11}`\n"
      ],
      "metadata": {
        "id": "F_oBKole2f6K"
      }
    },
    {
      "cell_type": "code",
      "source": [
        "from collections import Counter\n",
        "\n",
        "def get_bag_of_words(sequence, norm=True):\n",
        "    word_count = Counter(sequence)\n",
        "    if norm:\n",
        "        total = sum(word_count.values())\n",
        "        word_freq = {w: n / total for w, n in word_count.items()}\n",
        "        return word_freq\n",
        "    else:\n",
        "        return dict(word_count.items())\n",
        "\n",
        "\n",
        "text_example = \"John likes to watch movies Mary likes movies too\"\n",
        "print('text_example', text_example)\n",
        "text_sequence = text_example.split()\n",
        "print('text splitted', text_sequence)\n",
        "bag_of_words = get_bag_of_words(text_sequence)\n",
        "print('bag_of_words', bag_of_words)\n",
        "print('bag_of_words norm=False', get_bag_of_words(text_sequence, norm=False))\n",
        "print(\n",
        "    'bag_of_words with indexes', {\n",
        "        word2int[w.lower()]: p\n",
        "        for w, p in get_bag_of_words(text_sequence, norm=False).items()\n",
        "    })"
      ],
      "metadata": {
        "id": "FtNhcU842b8e",
        "outputId": "93854947-af59-4573-83a2-14cfd9e2dd81",
        "colab": {
          "base_uri": "https://localhost:8080/"
        }
      },
      "execution_count": 22,
      "outputs": [
        {
          "output_type": "stream",
          "name": "stdout",
          "text": [
            "text_example John likes to watch movies Mary likes movies too\n",
            "text splitted ['John', 'likes', 'to', 'watch', 'movies', 'Mary', 'likes', 'movies', 'too']\n",
            "bag_of_words {'John': 0.1111111111111111, 'likes': 0.2222222222222222, 'to': 0.1111111111111111, 'watch': 0.1111111111111111, 'movies': 0.2222222222222222, 'Mary': 0.1111111111111111, 'too': 0.1111111111111111}\n",
            "bag_of_words norm=False {'John': 1, 'likes': 2, 'to': 1, 'watch': 1, 'movies': 2, 'Mary': 1, 'too': 1}\n",
            "bag_of_words with indexes {308: 1, 1232: 2, 8: 1, 106: 1, 102: 2, 1083: 1, 99: 1}\n"
          ]
        }
      ]
    },
    {
      "cell_type": "markdown",
      "source": [
        "After that, we convert every BoW to a vector of `dim=num_words` with `vectorize_sequences`"
      ],
      "metadata": {
        "id": "9giMUY5z2sFr"
      }
    },
    {
      "cell_type": "code",
      "source": [
        "def vectorize_sequence(sequence, num_words, norm=True):\n",
        "    vec = np.zeros(num_words)\n",
        "    bow = get_bag_of_words(sequence, norm)\n",
        "    for w, freq in bow.items():\n",
        "        if w < num_words:\n",
        "            vec[w] = freq\n",
        "    return vec\n",
        "\n",
        "\n",
        "def vectorize_sequences(sequences, num_words=num_words, norm=True):\n",
        "    \"\"\"Creates an all-zero matrix of shape (len(sequences), num_words)\"\"\"\n",
        "    results = np.zeros((len(sequences), num_words))\n",
        "    for i, sequence in enumerate(sequences):\n",
        "        results[i, :] = vectorize_sequence(sequence, num_words, norm)\n",
        "    return results\n",
        "\n",
        "\n",
        "x_train = vectorize_sequences(train_data, num_words=num_words)\n",
        "x_test = vectorize_sequences(test_data, num_words=num_words)\n",
        "y_train =np.asarray(train_labels).astype('float32')\n",
        "y_test = np.asarray(test_labels).astype('float32')\n",
        "x_train.shape, y_train.shape"
      ],
      "metadata": {
        "id": "zqc5UB7s2nOO",
        "outputId": "d89fbec8-565f-4081-bdb9-3b55017cd45f",
        "colab": {
          "base_uri": "https://localhost:8080/"
        }
      },
      "execution_count": 23,
      "outputs": [
        {
          "output_type": "execute_result",
          "data": {
            "text/plain": [
              "((25000, 10003), (25000,))"
            ]
          },
          "metadata": {},
          "execution_count": 23
        }
      ]
    },
    {
      "cell_type": "markdown",
      "source": [
        "# RNN model\n",
        "\n",
        "Lets use a recurrent neural network and compare results\n"
      ],
      "metadata": {
        "id": "93gY8D4l3Cs-"
      }
    },
    {
      "cell_type": "markdown",
      "source": [
        "### Simple RNN model\n",
        "\n",
        "There are three built-in RNN layers in Keras:\n",
        "\n",
        "1. [`keras.layers.SimpleRNN`](https://keras.io/api/layers/recurrent_layers/simple_rnn/), a fully-connected RNN where the output from previous\n",
        "timestep is to be fed to next timestep.\n",
        "\n",
        "```python\n",
        "tf.keras.layers.SimpleRNN(\n",
        "    units,\n",
        "    dropout=0.0,\n",
        "    recurrent_dropout=0.0,\n",
        "    return_sequences=False,\n",
        "    return_state=False,\n",
        "    go_backwards=False,\n",
        "    stateful=False,\n",
        ")\n",
        "````\n",
        "\n",
        "2. [`keras.layers.GRU`](https://keras.io/api/layers/recurrent_layers/gru/), first proposed in\n",
        "[Cho et al., 2014](https://arxiv.org/abs/1406.1078).\n",
        "```python\n",
        "tf.keras.layers.GRU(\n",
        "    units,\n",
        "    dropout=0.0,\n",
        "    recurrent_dropout=0.0,\n",
        "    return_sequences=False,\n",
        "    return_state=False,\n",
        "    go_backwards=False,\n",
        "    stateful=False,\n",
        ")\n",
        "```\n",
        "\n",
        "3. [`keras.layers.LSTM`](https://keras.io/api/layers/recurrent_layers/lstm/), first proposed in\n",
        "[Hochreiter & Schmidhuber, 1997](https://www.bioinf.jku.at/publications/older/2604.pdf).\n",
        "```python\n",
        "tf.keras.layers.LSTM(\n",
        "    units,\n",
        "    dropout=0.0,\n",
        "    recurrent_dropout=0.0,\n",
        "    return_sequences=False,\n",
        "    return_state=False,\n",
        "    go_backwards=False,\n",
        "    stateful=False,\n",
        ")\n",
        "````\n",
        "For more information, see the\n",
        "[RNN API documentation](https://keras.io/api/layers/recurrent_layers/).\n",
        "\n",
        "\n",
        "\n",
        "\n",
        "\n",
        "In sequence classification we are going to use the **many-to-one** architecture with default parameter `return_sequences=False`.\n",
        "\n",
        "The shape of the output  for this architecture  is `(batch_size, units)`.\n",
        "where `units` corresponds to the `units` argument passed to the layer's constructor.\n",
        "\n",
        "Lets see one some examples for understanding the input/output dimensions:"
      ],
      "metadata": {
        "id": "paVls02w3PRB"
      }
    },
    {
      "cell_type": "code",
      "source": [
        "# dims of input: [batch, timesteps, features]\n",
        "inputs = tf.random.normal([32, 10, 4])\n",
        "print('input dim (batch, timesteps, feature): ', inputs.shape)\n",
        "# return_sequences=False, return_state=False\n",
        "lstm = tf.keras.layers.LSTM(units= 2)\n",
        "output = lstm(inputs)\n",
        "print('return_state=False output shape: ',output.shape)"
      ],
      "metadata": {
        "id": "EyjzajGA22Hy",
        "outputId": "d033dc8e-cb98-465e-9f7d-87caf30db205",
        "colab": {
          "base_uri": "https://localhost:8080/"
        }
      },
      "execution_count": 24,
      "outputs": [
        {
          "output_type": "stream",
          "name": "stdout",
          "text": [
            "input dim (batch, timesteps, feature):  (32, 10, 4)\n",
            "return_state=False output shape:  (32, 2)\n"
          ]
        }
      ]
    },
    {
      "cell_type": "markdown",
      "source": [
        "### Deep RNN\n",
        "We can stack multiple layers of RNNs on top of each other. Each hidden state is continuously passed to both the next time step of the current layer and the current time step of the next layer.\n",
        "\n",
        "For stack another RNN layer to an existing one, we need to use the states with `return_sequences=True`"
      ],
      "metadata": {
        "id": "0isGOGDN3obE"
      }
    },
    {
      "cell_type": "code",
      "source": [
        "## We can modify the imput vector before the run cell with TimeDistributed\n",
        "timesteps = 10\n",
        "features = 8 # dimension of the input of every cell\n",
        "\n",
        "# Shape [batch, timesteps, features]\n",
        "inputs = tf.keras.Input(shape=(timesteps, features), name='input')\n",
        "lstm_1 = layers.LSTM(64, return_sequences=True, name='lstm_1')(inputs)\n",
        "lstm_2 = layers.LSTM(64, return_sequences=True, name='lstm_2')(lstm_1)\n",
        "\n",
        "# Last LSTM layer depends in [one to many or many to many]\n",
        "lstm_3 = layers.LSTM(64, return_sequences=False, name='lstm_3')(lstm_2)\n",
        "\n",
        "model = keras.Model(inputs=inputs, outputs=lstm_3, name='rnn_exammple')\n",
        "print(model.summary())\n",
        "\n",
        "inputs = tf.random.normal([32, timesteps, features])\n",
        "print(model(inputs).shape)"
      ],
      "metadata": {
        "id": "51SWDvEO3jge",
        "outputId": "fd5179f0-adb5-4f83-f49e-e12ed23f831a",
        "colab": {
          "base_uri": "https://localhost:8080/"
        }
      },
      "execution_count": 25,
      "outputs": [
        {
          "output_type": "stream",
          "name": "stdout",
          "text": [
            "Model: \"rnn_exammple\"\n",
            "_________________________________________________________________\n",
            " Layer (type)                Output Shape              Param #   \n",
            "=================================================================\n",
            " input (InputLayer)          [(None, 10, 8)]           0         \n",
            "                                                                 \n",
            " lstm_1 (LSTM)               (None, 10, 64)            18688     \n",
            "                                                                 \n",
            " lstm_2 (LSTM)               (None, 10, 64)            33024     \n",
            "                                                                 \n",
            " lstm_3 (LSTM)               (None, 64)                33024     \n",
            "                                                                 \n",
            "=================================================================\n",
            "Total params: 84736 (331.00 KB)\n",
            "Trainable params: 84736 (331.00 KB)\n",
            "Non-trainable params: 0 (0.00 Byte)\n",
            "_________________________________________________________________\n",
            "None\n",
            "(32, 64)\n"
          ]
        }
      ]
    },
    {
      "cell_type": "markdown",
      "source": [
        "### Bidirectional RNNs\n",
        "\n",
        "For sequences other than time series (e.g. text), it is often the case that a RNN model\n",
        "can perform better if it not only processes sequence from start to end, but also\n",
        "backwards. For example, to predict the next word in a sentence, it is often useful to\n",
        "have the context around the word, not only just the words that come before it.\n",
        "\n",
        "Keras provides an easy API for you to build such bidirectional RNNs: the\n",
        "`keras.layers.Bidirectional` wrapper.\n",
        "\n",
        "[link to documentation](https://www.tensorflow.org/api_docs/python/tf/keras/layers/Bidirectional)"
      ],
      "metadata": {
        "id": "nrIK5gkn4nL0"
      }
    },
    {
      "cell_type": "code",
      "source": [
        "model = keras.Sequential()\n",
        "\n",
        "# If you create a second layer you must set return_sequences = True\n",
        "model.add(\n",
        "    layers.Bidirectional(layers.LSTM(64, return_sequences=True), input_shape =(timesteps, features))\n",
        ")\n",
        "\n",
        "# Second Bidirectional layer\n",
        "model.add(layers.Bidirectional(layers.LSTM(32))) #return_sequences=False by default\n",
        "\n",
        "# Output\n",
        "model.add(layers.Dense(10))\n",
        "\n",
        "model.summary()\n"
      ],
      "metadata": {
        "id": "zhez6GyO4fSK",
        "outputId": "c90051f7-15e4-4485-ff41-8be7a6ec7e32",
        "colab": {
          "base_uri": "https://localhost:8080/"
        }
      },
      "execution_count": 26,
      "outputs": [
        {
          "output_type": "stream",
          "name": "stdout",
          "text": [
            "Model: \"sequential\"\n",
            "_________________________________________________________________\n",
            " Layer (type)                Output Shape              Param #   \n",
            "=================================================================\n",
            " bidirectional (Bidirection  (None, 10, 128)           37376     \n",
            " al)                                                             \n",
            "                                                                 \n",
            " bidirectional_1 (Bidirecti  (None, 64)                41216     \n",
            " onal)                                                           \n",
            "                                                                 \n",
            " dense (Dense)               (None, 10)                650       \n",
            "                                                                 \n",
            "=================================================================\n",
            "Total params: 79242 (309.54 KB)\n",
            "Trainable params: 79242 (309.54 KB)\n",
            "Non-trainable params: 0 (0.00 Byte)\n",
            "_________________________________________________________________\n"
          ]
        }
      ]
    },
    {
      "cell_type": "markdown",
      "source": [
        "### Loading Data"
      ],
      "metadata": {
        "id": "8X7YEua55Mja"
      }
    },
    {
      "cell_type": "code",
      "source": [
        "from tensorflow.keras.datasets import imdb\n",
        "num_words = 2000\n",
        "((train_data, train_labels), (test_data, test_labels)\n",
        " ) = imdb.load_data(num_words=num_words)\n",
        "\n",
        "#  limit the data for class time\n",
        "'''size = 15000\n",
        "(train_data, train_labels), (test_data, test_labels) = (\n",
        "    (train_data[:size], train_labels[:size]), (test_data[:size], test_labels[:size]))\n",
        "'''\n",
        "# Transform word_id to word and reverse\n",
        "word2int = imdb.get_word_index()\n",
        "word2int = {w: i+3 for w, i in word2int.items()}\n",
        "word2int[\"<PAD>\"] = 0\n",
        "word2int[\"<START>\"] = 1\n",
        "word2int[\"<UNK>\"] = 2\n",
        "word2int[\"<UNUSED>\"] = 3\n",
        "int2word = {i: w for w, i in word2int.items()}\n",
        "num_words = num_words+3\n",
        "\n",
        "print(train_data.shape, test_data.shape)"
      ],
      "metadata": {
        "id": "-0qXXTh25Fl9",
        "outputId": "ddb20564-b9cf-4b8a-eb6e-a77c6c926748",
        "colab": {
          "base_uri": "https://localhost:8080/"
        }
      },
      "execution_count": 27,
      "outputs": [
        {
          "output_type": "stream",
          "name": "stdout",
          "text": [
            "(25000,) (25000,)\n"
          ]
        }
      ]
    },
    {
      "cell_type": "markdown",
      "source": [
        "#### Data Preprocessing\n",
        "\n",
        "For data preprocessing we first use [pad_sequences](https://www.tensorflow.org/api_docs/python/tf/keras/preprocessing/sequence/pad_sequences):\n",
        "```python\n",
        "tf.keras.preprocessing.sequence.pad_sequences(\n",
        "    sequences, maxlen=None, dtype='int32', padding='pre',\n",
        "    truncating='pre', value=0.0\n",
        ")\n",
        "```\n",
        "- **padding**:\t'pre' or 'post' (optional, defaults to 'pre'): pad either before or after each sequence.\n",
        "- **truncating**:\tString, 'pre' or 'post' (optional, defaults to 'pre'): remove values from sequences larger than maxlen, either at the beginning or at the end of the sequences.\n",
        "\n",
        "\n",
        "Our RNN will take sequences of constant length. In our case this length is the `maxlen`"
      ],
      "metadata": {
        "id": "049SObJc5W-u"
      }
    },
    {
      "cell_type": "code",
      "source": [
        "from tensorflow.keras.preprocessing import sequence\n",
        "input_seq = [1, 2, 3]\n",
        "max_len = 5\n",
        "print('input sequence: ', input_seq)\n",
        "pad_seq = sequence.pad_sequences([input_seq], maxlen=max_len)\n",
        "print('input sequence with padding: ', pad_seq)\n",
        "\n",
        "input_seq = [1, 2, 3, 4, 5, 6, 7, 8, 9]\n",
        "max_len = 5\n",
        "print('input sequence: ', input_seq)\n",
        "pad_seq = sequence.pad_sequences([input_seq], maxlen=max_len)\n",
        "print('input sequence with padding: ', pad_seq)\n"
      ],
      "metadata": {
        "id": "4HYBZKGo5UuK",
        "outputId": "385a777f-4353-43d8-c196-c1e436a0e2ec",
        "colab": {
          "base_uri": "https://localhost:8080/"
        }
      },
      "execution_count": 28,
      "outputs": [
        {
          "output_type": "stream",
          "name": "stdout",
          "text": [
            "input sequence:  [1, 2, 3]\n",
            "input sequence with padding:  [[0 0 1 2 3]]\n",
            "input sequence:  [1, 2, 3, 4, 5, 6, 7, 8, 9]\n",
            "input sequence with padding:  [[5 6 7 8 9]]\n"
          ]
        }
      ]
    },
    {
      "cell_type": "code",
      "source": [
        "input_seq = [1, 2, 3]\n",
        "max_len = 5\n",
        "print('input sequence: ', input_seq)\n",
        "pad_seq = sequence.pad_sequences([input_seq], maxlen=max_len, padding='post')\n",
        "print('input sequence with padding: ', pad_seq)\n",
        "\n",
        "input_seq = [1, 2, 3, 4, 5, 6, 7, 8, 9]\n",
        "max_len = 5\n",
        "print('input sequence: ', input_seq)\n",
        "pad_seq = sequence.pad_sequences([input_seq], maxlen=max_len, truncating='post')\n",
        "print('input sequence with padding: ', pad_seq)\n"
      ],
      "metadata": {
        "id": "Qk6zTlYo50Gj",
        "outputId": "5b7d6fec-557a-4112-c02a-bf9a74c71132",
        "colab": {
          "base_uri": "https://localhost:8080/"
        }
      },
      "execution_count": 29,
      "outputs": [
        {
          "output_type": "stream",
          "name": "stdout",
          "text": [
            "input sequence:  [1, 2, 3]\n",
            "input sequence with padding:  [[1 2 3 0 0]]\n",
            "input sequence:  [1, 2, 3, 4, 5, 6, 7, 8, 9]\n",
            "input sequence with padding:  [[1 2 3 4 5]]\n"
          ]
        }
      ]
    },
    {
      "cell_type": "code",
      "source": [
        "max_len = 100\n",
        "x_train_seq = sequence.pad_sequences(train_data, maxlen=max_len, truncating='post', padding='post')\n",
        "x_test_seq = sequence.pad_sequences(test_data, maxlen=max_len, truncating='post', padding='post')\n",
        "\n",
        "print('train shape: ', x_train_seq.shape)\n",
        "print('test shape: ', x_test_seq.shape)\n"
      ],
      "metadata": {
        "id": "mTtIcxcG5677",
        "outputId": "5eeb7054-8528-4f4f-b9dd-7e3b0bcb9272",
        "colab": {
          "base_uri": "https://localhost:8080/"
        }
      },
      "execution_count": 32,
      "outputs": [
        {
          "output_type": "stream",
          "name": "stdout",
          "text": [
            "train shape:  (25000, 100)\n",
            "test shape:  (25000, 100)\n"
          ]
        }
      ]
    },
    {
      "cell_type": "markdown",
      "source": [
        "### Create the RNN model\n",
        "\n",
        "For the input of the first rnn layer we need a tensor of `(timesteps, features)` or `(batchsize, timesteps, features)`. We have a matrix of sentences of `(train_size, max_len)`. Every sentence is a  `max_len`, we need to convert it to a sentence of one-hot vectors of dim `(max_len, num_words)`.\n",
        "For get the one-hot encoding of every sequence we are going to use:\n",
        "\n",
        "```python\n",
        "layers.Embedding(input_dim=num_words, output_dim=num_words,\n",
        "  input_length=max_len, embeddings_initializer='identity', trainable=False)\n",
        "```\n",
        "\n",
        "This layer converts the input tensor `(batch_size, max_len)` to one-hot encoded sequences `(batch_size, max_len, num_words)`\n",
        "\n",
        "\n",
        "\n"
      ],
      "metadata": {
        "id": "MHyzep367lXO"
      }
    },
    {
      "cell_type": "code",
      "source": [
        "seq = np.array([[[0, 1, 2, 2, 0]]])\n",
        "print(seq, seq.shape)\n",
        "layers.Embedding(input_dim=3, output_dim=3,\n",
        "                 input_length=5, embeddings_initializer='identity',\n",
        "                 trainable=False)(seq)"
      ],
      "metadata": {
        "id": "BMFf6Man6TA-",
        "outputId": "becaadad-0649-439c-a2ad-2f4392d1dfc0",
        "colab": {
          "base_uri": "https://localhost:8080/"
        }
      },
      "execution_count": 33,
      "outputs": [
        {
          "output_type": "stream",
          "name": "stdout",
          "text": [
            "[[[0 1 2 2 0]]] (1, 1, 5)\n"
          ]
        },
        {
          "output_type": "execute_result",
          "data": {
            "text/plain": [
              "<tf.Tensor: shape=(1, 1, 5, 3), dtype=float32, numpy=\n",
              "array([[[[1., 0., 0.],\n",
              "         [0., 1., 0.],\n",
              "         [0., 0., 1.],\n",
              "         [0., 0., 1.],\n",
              "         [1., 0., 0.]]]], dtype=float32)>"
            ]
          },
          "metadata": {},
          "execution_count": 33
        }
      ]
    },
    {
      "cell_type": "markdown",
      "source": [
        "### RNN model\n",
        "Use `keras.layers.SimpleRNN`,  `keras.layers.GRU`,  `keras.layers.LSTM` or `keras.layers.Bidirectional`\n"
      ],
      "metadata": {
        "id": "CuC66V5N7snh"
      }
    },
    {
      "cell_type": "code",
      "source": [
        "model = tf.keras.models.Sequential()\n",
        "model.add(tf.keras.Input(shape=(max_len,), name='input'))\n",
        "# One-hot encoding\n",
        "model.add(layers.Embedding(input_dim=num_words, output_dim=num_words,\n",
        "                           input_length=max_len, embeddings_initializer='identity',\n",
        "                           trainable=False))\n",
        "# Complete the model with recurrent layers\n",
        "model.add(layers.SimpleRNN(16, return_sequences=False))\n",
        "# Add binary classification\n",
        "model.add(layers.Dense(1, activation='sigmoid'))"
      ],
      "metadata": {
        "id": "A_jsdOok7qmm"
      },
      "execution_count": 40,
      "outputs": []
    },
    {
      "cell_type": "code",
      "source": [
        "# Set the loss and see the results\n",
        "model.compile(\n",
        "    optimizer = 'adam',\n",
        "    loss= 'binary_crossentropy',\n",
        "    metrics=['accuracy']\n",
        ")\n",
        "epochs = 5\n",
        "history = model.fit(x_train_seq, train_labels,\n",
        "                    validation_split=0.1, epochs=epochs,\n",
        "                    batch_size=256)"
      ],
      "metadata": {
        "id": "kBTGKX-Y8gdW",
        "outputId": "ec95fd0b-38e9-439e-b9bd-379b0731c49a",
        "colab": {
          "base_uri": "https://localhost:8080/"
        }
      },
      "execution_count": 42,
      "outputs": [
        {
          "output_type": "stream",
          "name": "stdout",
          "text": [
            "Epoch 1/5\n",
            "88/88 [==============================] - 10s 86ms/step - loss: 0.6507 - accuracy: 0.6313 - val_loss: 0.5923 - val_accuracy: 0.7168\n",
            "Epoch 2/5\n",
            "88/88 [==============================] - 6s 68ms/step - loss: 0.5409 - accuracy: 0.7513 - val_loss: 0.5145 - val_accuracy: 0.7664\n",
            "Epoch 3/5\n",
            "88/88 [==============================] - 7s 85ms/step - loss: 0.4701 - accuracy: 0.7964 - val_loss: 0.4925 - val_accuracy: 0.7836\n",
            "Epoch 4/5\n",
            "88/88 [==============================] - 6s 67ms/step - loss: 0.4195 - accuracy: 0.8258 - val_loss: 0.4485 - val_accuracy: 0.8024\n",
            "Epoch 5/5\n",
            "88/88 [==============================] - 7s 84ms/step - loss: 0.3843 - accuracy: 0.8436 - val_loss: 0.4379 - val_accuracy: 0.8028\n"
          ]
        }
      ]
    },
    {
      "cell_type": "code",
      "source": [
        "show_loss_accuracy_evolution(history)\n",
        "results = model.evaluate(x_test_seq, test_labels, verbose=1)\n",
        "print('Test Loss: {}'.format(results[0]))\n",
        "print('Test Accuracy: {}'.format(results[1]))"
      ],
      "metadata": {
        "id": "9_IEvVR78-5l",
        "outputId": "8b8f47bf-fa96-4a7f-93c2-c54018b4ec2c",
        "colab": {
          "base_uri": "https://localhost:8080/",
          "height": 341
        }
      },
      "execution_count": 43,
      "outputs": [
        {
          "output_type": "display_data",
          "data": {
            "text/plain": [
              "<Figure size 1600x600 with 2 Axes>"
            ],
            "image/png": "[encoded data removed]"
          },
          "metadata": {}
        },
        {
          "output_type": "stream",
          "name": "stdout",
          "text": [
            "782/782 [==============================] - 9s 11ms/step - loss: 0.4560 - accuracy: 0.7923\n",
            "Test Loss: 0.45603281259536743\n",
            "Test Accuracy: 0.7922800183296204\n"
          ]
        }
      ]
    },
    {
      "cell_type": "code",
      "source": [
        "def show_errors(x_test, model, labels, int2word, n_samples=10):\n",
        "    preds = 1.0 * (model.predict(x_test).flatten() > 0.5)\n",
        "    bad_pred_inds = np.where(preds != labels)[0]\n",
        "    n_samples = min(len(bad_pred_inds), n_samples)\n",
        "    samples_inds = np.random.choice(bad_pred_inds, n_samples)\n",
        "    for ind in samples_inds:\n",
        "        print('Predicted : {0}, real : {1}, lenght: {2}'.format(\n",
        "            int(preds[ind]), labels[ind], len(test_data[ind])))\n",
        "        print(get_words(test_data[ind], int2word))\n",
        "        print()\n",
        "    return\n",
        "\n",
        "show_errors(x_test_seq, model, test_labels, int2word, n_samples=10)"
      ],
      "metadata": {
        "id": "MEVaqEd59qD8",
        "outputId": "be692fd8-c790-499e-d36a-a7c3612921a4",
        "colab": {
          "base_uri": "https://localhost:8080/"
        }
      },
      "execution_count": 44,
      "outputs": [
        {
          "output_type": "stream",
          "name": "stdout",
          "text": [
            "782/782 [==============================] - 9s 11ms/step\n",
            "Predicted : 1, real : 0, lenght: 285\n",
            "<START> i'm not one of those folks who <UNK> <UNK> a film based on an old tv show comes out rather i usually run out and see it if i had watched the show and try to get <UNK> but if anyone feels like running down films based on old shows this is <UNK> a so you can actually say something more than just <UNK> <UNK> <UNK> is <UNK> <UNK> and <UNK> at least the original series was <UNK> <UNK> long before anyone knew <UNK> could be so <UNK> making it <UNK> this is just <UNK> <UNK> <UNK> is nice to look at but does nothing else but mood <UNK> and <UNK> around <UNK> on the <UNK> <UNK> <UNK> acting <UNK> in this flick is that <UNK> the dog look for an hour and <UNK> five minutes and <UNK> <UNK> looks like he wants to <UNK> the set but the <UNK> has <UNK> him sure the production is nice with the now seemingly <UNK> <UNK> opening action sequence and <UNK> <UNK> oh and the kids <UNK> and get mad at each other and their <UNK> a lot too it's kind of like <UNK> to use the <UNK> <UNK> mystery machine to go on a family <UNK> to hollywood with your teenage kids who you and your <UNK> know need heavy <UNK> and <UNK> drugs i really wanted to like this movie and there were <UNK> moments but the next scene would <UNK> the life out of it you can <UNK> another <UNK> remake <UNK> <UNK> all you want but at least that film knew it wanted to have fun with itself the <UNK> <UNK> makes you wonder where the <UNK> from the original series went\n",
            "\n",
            "Predicted : 0, real : 1, lenght: 121\n",
            "<START> the <UNK> trip is one of those silly comedies that they <UNK> out in the <UNK> in this case <UNK> <UNK> plays a mental <UNK> who <UNK> as a <UNK> and he goes to <UNK> <UNK> to sub for charles <UNK> most of the movie's humor <UNK> from their <UNK> look at <UNK> <UNK> and <UNK> empty lives there a woman has a power struggle with her <UNK> br br it's the sort of movie that you just watch to have a good time don't expect any kind of religious experience but you'll most likely laugh a lot at how the <UNK> <UNK> people <UNK> their <UNK> also starring <UNK> <UNK> <UNK> <UNK> <UNK> <UNK> and <UNK> jackson of <UNK>\n",
            "\n",
            "Predicted : 1, real : 0, lenght: 34\n",
            "<START> if it wasn't for the terrific music i would not <UNK> to give this cinematic 2 10 but the music actually makes me like certain <UNK> and so i give it 5 10\n",
            "\n",
            "Predicted : 0, real : 1, lenght: 192\n",
            "<START> episode no <UNK> of the <UNK> excuse the incredibly gay <UNK> <UNK> tv series <UNK> sam and <UNK> <UNK> to <UNK> where they have been called upon by an old <UNK> of <UNK> to <UNK> a <UNK> of mysterious murders <UNK> in their small town as it turns out a large pick up <UNK> with an <UNK> <UNK> is running down <UNK> americans on a <UNK> <UNK> of road while <UNK> attempts to <UNK> his past love affair more <UNK> people turn up as <UNK> the cause appears to be due to a past <UNK> <UNK> back in the <UNK> <UNK> a <UNK> <UNK> spirit to <UNK> in <UNK> <UNK> <UNK> to kill black <UNK> <UNK> <UNK> is another good <UNK> which isn't <UNK> i've noticed which contains a few <UNK> aspects <UNK> to the <UNK> of main characters such as <UNK> getting <UNK> and <UNK> <UNK> <UNK> for having left college the killer <UNK> come across as the most <UNK> thing in the world though for an hour long show it does it's job well not a hands down fantastic episode but a solid concept with more horror movie <UNK>\n",
            "\n",
            "Predicted : 0, real : 1, lenght: 1375\n",
            "<START> films <UNK> to the film noir genre usually <UNK> similar elements a <UNK> ex <UNK> plot twist that <UNK> the main character <UNK> into <UNK> a pretty but <UNK> girl a <UNK> but <UNK> <UNK> lots of money lots of <UNK> and usually a <UNK> in the <UNK> think high <UNK> or white <UNK> br br there is plenty of hard <UNK> bad film noir out there but when film noir is good you can't take your eyes off the train <UNK> of human lives br br it is this latter <UNK> that <UNK> spot <UNK> to the film follows danny <UNK> a <UNK> <UNK> <UNK> played with depth grace emotional <UNK> and <UNK> by james <UNK> who <UNK> himself completely into this role who has <UNK> in love with the <UNK> <UNK> <UNK> br br from the beginning you know this is going to be bad br br <UNK> <UNK> danny to his house but the house is empty and for <UNK> and a bloody check for <UNK> of <UNK> is on the floor danny is <UNK> of his <UNK> and <UNK> but uses the check to track down the <UNK> <UNK> other lover when they <UNK> real home they find <UNK> a <UNK> <UNK> <UNK> down for the money he's <UNK> together the three manage to <UNK> <UNK> in a <UNK> run down <UNK> in the <UNK> but that's only the beginning of the tale as <UNK> <UNK> drugs gun running a creepy <UNK> home <UNK> <UNK> and a <UNK> half finished house in the <UNK> bring events to an <UNK> head in an <UNK> outside a <UNK> <UNK> in <UNK> <UNK> br br this film contains some of the best noir cinematography i have seen in years in one scene danny <UNK> on <UNK> through the <UNK> to the half finished house in the <UNK> where he <UNK> <UNK> may have been taken that <UNK> by <UNK> a very long shot with <UNK> lighting effects shows danny <UNK> and <UNK> <UNK> <UNK> fear <UNK> on his face <UNK> even at this <UNK> <UNK> <UNK> <UNK> behind him as the wind <UNK> in his direction <UNK> across the <UNK> <UNK> toward the house the <UNK> the <UNK> the <UNK> danny feels is shocking <UNK> there are many such scenes in this film wonderfully <UNK> by the <UNK> this is oscar winning material br br the editing too is just <UNK> the film contains little moments where the characters <UNK> <UNK> into themselves or their situation bits of time where memory and feeling come <UNK> back at these times quick <UNK> of images <UNK> across the screen this is superb editing by director writer <UNK> <UNK> in one early <UNK> danny <UNK> the <UNK> feelings he has now that <UNK> has <UNK> his life quick images of <UNK> <UNK> <UNK> across the screen the words 4 life <UNK> and <UNK> stop <UNK> while page upon page of words the <UNK> of a human heart race across the screen out of focus too quick to read it's like the <UNK> of emotion danny himself feels br br the <UNK> of images <UNK> something else about this film just how beautiful <UNK> <UNK> production design is <UNK> home is the perfect match of high <UNK> and <UNK> a <UNK> to the of set <UNK> <UNK> <UNK> the stunning <UNK> house scene is just <UNK> creepy the <UNK> <UNK> where <UNK> <UNK> out can be found in any <UNK> small town in america the creepy and <UNK> <UNK> <UNK> home where the plot takes a <UNK> turn <UNK> <UNK> with the <UNK> of death <UNK> over the entire film it's too bad the film's lighting director is not <UNK> this film has a superb production design one that <UNK> every single <UNK> and every <UNK> performance br br that's the <UNK> element of this film which makes it <UNK> you and hold on to you the acting james <UNK> is a superb actor even in <UNK> man where he was given <UNK> nothing to do <UNK> showed that he <UNK> human emotion like no other actor of his <UNK> he's no pretty boy <UNK> on his good looks like <UNK> <UNK> <UNK> <UNK> deep emotion with full force his performances <UNK> pure human heart consider the scene in the phone <UNK> outside the <UNK> home where danny <UNK> after telling <UNK> and <UNK> that <UNK> is dead <UNK> actors couldn't carry off the complete emotional <UNK> of a human being <UNK> does br br <UNK> <UNK> in her first film simply <UNK> you away with her performance as the <UNK> <UNK> deeply in love with <UNK> <UNK> from <UNK> <UNK> after having to <UNK> alone her <UNK> child after the <UNK> <UNK> <UNK> in a <UNK> box in the woods her life of <UNK> and <UNK> now a <UNK> <UNK> is one of the best drawn characters on film that i have ever seen while <UNK> relationship to <UNK> is slowly <UNK> out during the film <UNK> <UNK> <UNK> is <UNK> only to the audience neither danny nor <UNK> seem particularly interested in her as a human being <UNK> <UNK> when she <UNK> danny has also been lover is <UNK> and <UNK> even if it is <UNK> by the character's complete <UNK> to feel any emotion for very long now <UNK> brings to <UNK> a <UNK> that puts your heart through the <UNK> br br mark <UNK> <UNK> is given the <UNK> job in the film having to make something human and real out of the <UNK> <UNK> at first <UNK> is simply one of any number of violent <UNK> <UNK> <UNK> drug <UNK> gun <UNK> that appears in any number of films from <UNK> cop to <UNK> <UNK> cop 2 <UNK> does very well with what he's given but he doesn't quite get to where you feel much for <UNK> it's difficult to say whether this is <UNK> problem or the <UNK> there is one moment where <UNK> who is brother although neither danny nor <UNK> know this <UNK> <UNK> <UNK> and <UNK> the sexual and emotional <UNK> between the two men where you just know that <UNK> is going to go <UNK> on <UNK> ass but the <UNK> never comes thank god <UNK> plots are death to film noir once the <UNK> about the <UNK> comes at the film's end the audience is fairly <UNK> to realize the depth of love and <UNK> <UNK> truly felt for <UNK> so deep that <UNK> <UNK> <UNK> <UNK> love for his <UNK> brother but this all happens off screen <UNK> is never given a chance to act out <UNK> feelings it must have been very <UNK> for the <UNK> br br the story is rather <UNK> although the <UNK> <UNK> seen at the end of the film is likely to <UNK> viewers of <UNK> are forever yes james bond a <UNK> narrative voice over which proves <UNK> is as great a voice talent as he is a physical actor provides terrific atmosphere although it does <UNK> to <UNK> over into <UNK> a few times toward the end of the film <UNK> some <UNK> <UNK> terrific <UNK> play key visual roles in the film <UNK> to the location <UNK> for finding such <UNK> <UNK> the end of the film <UNK> me as a bit <UNK> not <UNK> but a little too <UNK> for my film noir <UNK> br br now i've seen audiences either hate or love <UNK> spot modern film audiences <UNK> to the most extreme <UNK> and violence often have little <UNK> for the <UNK> of film noir my <UNK> is to take a small group of friends who don't see <UNK> emotional <UNK> <UNK> or <UNK> as laughable take them to a small theater where they can <UNK> in the <UNK> of the film's vision but where their viewing won't be <UNK> by a <UNK> of people who won't <UNK> good film noir get them some <UNK> trust me <UNK> be so <UNK> they won't finish it get them a <UNK> and let them be <UNK> go some place bright and <UNK> <UNK> to <UNK> the <UNK> and out of your soul because this film is so good at making you feel you'll need that\n",
            "\n",
            "Predicted : 1, real : 0, lenght: 226\n",
            "<START> i really liked this movie number 5 the star <UNK> of the movie gets hit by <UNK> and some thing happened to his <UNK> he act and thinks more like a human the <UNK> <UNK> <UNK> he <UNK> after watching tv he then <UNK> these <UNK> to his <UNK> number 5 is quick <UNK> and funny the character <UNK> <UNK> of stars tries to dance like john <UNK> in <UNK> alive and a lot of other things he has a saying for most of his <UNK> that he <UNK> the actions of the <UNK> is really good number 5 wants to drive <UNK> and please with all the <UNK> of a human the way the <UNK> move and line up is really <UNK> i am disappointed that the writers could not keep this <UNK> for all viewers this movie has a ending something you would not expect i hate movies that have <UNK> in them even though i like them i give them a <UNK> rating this movie had <UNK> words jesus <UNK> was used as <UNK> word which <UNK> me it is used a least 3 times g d d m <UNK> <UNK> t etc it could have been a wonderful movie with out all this <UNK> language there is no sex in this film some violence like <UNK> <UNK> up cars and <UNK>\n",
            "\n",
            "Predicted : 0, real : 1, lenght: 542\n",
            "<START> i'm not sure what i can add that hasn't already been said in some of these other fine and quite hilarious comments but ill try br br so you know the plot there is a bed <UNK> by a <UNK> that <UNK> and <UNK> <UNK> the <UNK> of <UNK> or whatever <UNK> on it with its <UNK> <UNK> filled body we have the man in some scenes looking <UNK> like robert smith of the <UNK> <UNK> out inside the wall <UNK> on the <UNK> on and we have our various victims that just <UNK> <UNK> the <UNK> of this <UNK> bed br br this is no ordinary bed no <UNK> not only does it eat people but it <UNK> up after itself <UNK> the <UNK> back and it even makes itself who wouldn't want a bed like that it can even use its <UNK> as a <UNK> <UNK> to <UNK> <UNK> victims back in especially if they're taking up half the length of the film to try and escape br br our main story if you can call it that is about these three girls who go out to this <UNK> area to house sit i don't <UNK> exactly but it doesn't really matter though as there are plenty of things that <UNK> <UNK> that you just have to give in and accept the dialogue in the film is like no other the characters talk to each other seemingly by <UNK> as their <UNK> never seem to move and there is a constant <UNK> one of our girls <UNK> she isn't liked by the rest of the gang and makes sure to tell us all her feelings on this matter through an <UNK> voice over but we don't care character development was thrown out the <UNK> a long time before in this film so why start now there are scenes when the bed laughs <UNK> and makes various other <UNK> that we <UNK> <UNK> by our <UNK> non <UNK> to said <UNK> <UNK> be heard this and the <UNK> makes the issue of very difficult to <UNK> but thats ok this is death bed the bed that <UNK> and it <UNK> all <UNK> so its ok it makes for a <UNK> <UNK> quality to this most bizarre film if you buy <UNK> buy did i say buy this dvd make sure to check out the <UNK> by the director he <UNK> that the filming of this flick started in <UNK> didn't <UNK> up until <UNK> he <UNK> it for a few years with no luck and then fast forward <UNK> years to <UNK> it gets released on dvd supposedly someone somewhere had a <UNK> of this in some other country and made <UNK> after <UNK> of it and it was quite by chance on a message <UNK> no less that our director found <UNK> that people knew and <UNK> <UNK> about his little known film its from there that he decided to give it a shot and release it i'm glad he did once you've even so much as heard the title to this film you must see it i for one am going to buy this and i'm going to <UNK> its <UNK> around the world starting with this comment\n",
            "\n",
            "Predicted : 0, real : 1, lenght: 171\n",
            "<START> a very watchable film and one which was <UNK> <UNK> having seen the trailer a number of times br br the whole thing looks superb from the <UNK> <UNK> of the <UNK> <UNK> class to <UNK> themselves from the <UNK> to the <UNK> class <UNK> just trying to keep their heads above the <UNK> the film <UNK> the spirit of the <UNK> century <UNK> br br <UNK> lee <UNK> plays <UNK> extremely well though the part does not exactly <UNK> him and robert <UNK> seems a little wasted on <UNK> <UNK> <UNK> br br the real star of the show was <UNK> <UNK> who plays mr chance a kind of <UNK> of police with an evil <UNK> that set him out from the rest of the cast br br a great film and anyone that <UNK> the <UNK> and style of peter <UNK> films will love the look of this although the <UNK> of the plot becomes apparent before the 2 hours are up br br well worth a viewing\n",
            "\n",
            "Predicted : 1, real : 0, lenght: 225\n",
            "<START> three young movie theater <UNK> are given the <UNK> of re opening a long <UNK> old time theater at which many years before a shocking series of <UNK> murders took place it seems many more murders have <UNK> since then but all of this remains unknown to these three young <UNK> <UNK> hoping to finally make it big on their own as they approach the grand re opening night things keep getting <UNK> and more <UNK> with <UNK> suddenly starting to move around by themselves without any seen <UNK> and a <UNK> old man seemingly <UNK> the <UNK> br br oh this is truly horrible in fact if it wasn't for mary <UNK> <UNK> character being such a <UNK> independent <UNK> <UNK> young woman who <UNK> <UNK> every scene in which she appears and the incredibly hot <UNK> who played the <UNK> <UNK> yet totally sexy <UNK> this would be a total loss the only other good thing i have to say about this film is some of the movie theater murders are done in truly <UNK> <UNK> not <UNK> <UNK> a <UNK> for me but not <UNK> for others fashion the rest just <UNK> in constant <UNK> so extreme the rare few may actually find humor in it and runs through the predictable slasher kills annoying characters off one after the other <UNK>\n",
            "\n",
            "Predicted : 1, real : 0, lenght: 96\n",
            "<START> first of all the genre of this movie isn't comedy it's more of a drama br br i had low expectations on the movie and still they didn't come up them as some of the other reviews point out there are some nice music in the movie but if you want to listen to good music i suggest spend the time looking at some <UNK> <UNK> with <UNK> <UNK> or <UNK> <UNK> be more quality time br br last if you want to watch a good movie in this <UNK> genre i recommend almost famous\n",
            "\n"
          ]
        }
      ]
    },
    {
      "cell_type": "markdown",
      "source": [
        "#### Making predictioins with new data"
      ],
      "metadata": {
        "id": "nuoYybfg93mC"
      }
    },
    {
      "cell_type": "code",
      "source": [
        "reviews = ['the film was really bad and i am very disappointed',\n",
        "           'The film was very funny entertaining and good we had a great time . brilliant film',\n",
        "           'this film was just brilliant',\n",
        "           'the film is not good',\n",
        "           'the film is not bad',\n",
        "          'the movie is not bad I like it']\n",
        "sequences = [vectorize_text_sentence(review.lower(), word2int)\n",
        "             for review in reviews]\n",
        "\n",
        "## Padding the sequences\n",
        "x_pred  = sequence.pad_sequences(sequences, maxlen=max_len, truncating='post', padding='post')# ...\n",
        "\n",
        "np.round(model.predict(x_pred), 4)\n",
        "\n",
        "# 0 negativo, 1 positivo"
      ],
      "metadata": {
        "id": "7ZfmMtJk9xAy",
        "outputId": "1488adef-eef1-4cd5-dab6-d3020910c99b",
        "colab": {
          "base_uri": "https://localhost:8080/"
        }
      },
      "execution_count": 46,
      "outputs": [
        {
          "output_type": "stream",
          "name": "stdout",
          "text": [
            "1/1 [==============================] - 0s 78ms/step\n"
          ]
        },
        {
          "output_type": "execute_result",
          "data": {
            "text/plain": [
              "array([[0.1403],\n",
              "       [0.9106],\n",
              "       [0.9097],\n",
              "       [0.9081],\n",
              "       [0.1456],\n",
              "       [0.1451]], dtype=float32)"
            ]
          },
          "metadata": {},
          "execution_count": 46
        }
      ]
    },
    {
      "cell_type": "code",
      "source": [
        "1.0*(model.predict(x_pred) > 0.5)"
      ],
      "metadata": {
        "id": "dncrTDAm99p6",
        "outputId": "f97875dd-b81a-4055-91e3-0c44447c3730",
        "colab": {
          "base_uri": "https://localhost:8080/"
        }
      },
      "execution_count": 47,
      "outputs": [
        {
          "output_type": "stream",
          "name": "stdout",
          "text": [
            "1/1 [==============================] - 0s 45ms/step\n"
          ]
        },
        {
          "output_type": "execute_result",
          "data": {
            "text/plain": [
              "array([[0.],\n",
              "       [1.],\n",
              "       [1.],\n",
              "       [1.],\n",
              "       [0.],\n",
              "       [0.]])"
            ]
          },
          "metadata": {},
          "execution_count": 47
        }
      ]
    },
    {
      "cell_type": "code",
      "source": [
        "# El modelo no se fija demasiado en el orden de las palabras, si no en el bag of words\n",
        "# No aprende que \"not\" niega el sentimiento"
      ],
      "metadata": {
        "id": "68fSQr3s-QYv"
      },
      "execution_count": null,
      "outputs": []
    },
    {
      "cell_type": "markdown",
      "source": [
        "### GRU model\n",
        "Use `keras.layers.GRU`\n"
      ],
      "metadata": {
        "id": "CGn5Eu7j-etb"
      }
    },
    {
      "cell_type": "code",
      "source": [
        "model = tf.keras.models.Sequential()\n",
        "model.add(tf.keras.Input(shape=(max_len,), name='input'))\n",
        "## one-hot encoding\n",
        "model.add(layers.Embedding(input_dim=num_words, output_dim=num_words,\n",
        "                           input_length=max_len, embeddings_initializer='identity',\n",
        "                           trainable=False))\n",
        "\n",
        "## complete the model with recurrent layers\n",
        "model.add(layers.GRU(64, return_sequences=False))\n",
        "## add binary classification output\n",
        "model.add(layers.Dense(1, activation='sigmoid'))"
      ],
      "metadata": {
        "id": "eErThlde-e4l"
      },
      "execution_count": 48,
      "outputs": []
    },
    {
      "cell_type": "code",
      "source": [
        "## set the loss and see the results\n",
        "model.compile(\n",
        "    optimizer='adam',\n",
        "    loss='binary_crossentropy',\n",
        "    metrics=['accuracy']\n",
        ")\n",
        "epochs = 5\n",
        "history = model.fit(x_train_seq, train_labels,\n",
        "                    validation_split=0.1, epochs=epochs,\n",
        "                    batch_size=256)"
      ],
      "metadata": {
        "id": "CtBQufDX-g3p",
        "outputId": "29a621c6-ca38-4fa0-c562-7c56f19b2d04",
        "colab": {
          "base_uri": "https://localhost:8080/"
        }
      },
      "execution_count": 49,
      "outputs": [
        {
          "output_type": "stream",
          "name": "stdout",
          "text": [
            "Epoch 1/5\n",
            "88/88 [==============================] - 5s 30ms/step - loss: 0.6803 - accuracy: 0.5551 - val_loss: 0.6686 - val_accuracy: 0.5760\n",
            "Epoch 2/5\n",
            "88/88 [==============================] - 2s 25ms/step - loss: 0.4935 - accuracy: 0.7655 - val_loss: 0.4357 - val_accuracy: 0.7996\n",
            "Epoch 3/5\n",
            "88/88 [==============================] - 2s 25ms/step - loss: 0.3915 - accuracy: 0.8252 - val_loss: 0.4501 - val_accuracy: 0.7932\n",
            "Epoch 4/5\n",
            "88/88 [==============================] - 3s 31ms/step - loss: 0.3654 - accuracy: 0.8412 - val_loss: 0.4152 - val_accuracy: 0.8172\n",
            "Epoch 5/5\n",
            "88/88 [==============================] - 2s 25ms/step - loss: 0.3542 - accuracy: 0.8445 - val_loss: 0.4174 - val_accuracy: 0.8128\n"
          ]
        }
      ]
    },
    {
      "cell_type": "code",
      "source": [
        "results = model.evaluate(x_test_seq, test_labels, verbose=1)\n",
        "print('Test Loss: {}'.format(results[0]))\n",
        "print('Test Accuracy: {}'.format(results[1]))"
      ],
      "metadata": {
        "id": "coLOGZx2-q3u",
        "outputId": "26853793-172f-454b-aa13-a51cbd3621bb",
        "colab": {
          "base_uri": "https://localhost:8080/"
        }
      },
      "execution_count": 50,
      "outputs": [
        {
          "output_type": "stream",
          "name": "stdout",
          "text": [
            "782/782 [==============================] - 4s 5ms/step - loss: 0.4339 - accuracy: 0.7946\n",
            "Test Loss: 0.4338851273059845\n",
            "Test Accuracy: 0.7945600152015686\n"
          ]
        }
      ]
    },
    {
      "cell_type": "markdown",
      "source": [
        "### LSTM model\n",
        "Use `keras.layers.LSTM`"
      ],
      "metadata": {
        "id": "S6RvSjwu-tlb"
      }
    },
    {
      "cell_type": "code",
      "source": [
        "model = tf.keras.models.Sequential()\n",
        "model.add(tf.keras.Input(shape=(max_len,), name='input'))\n",
        "## one-hot encoding\n",
        "model.add(layers.Embedding(input_dim=num_words, output_dim=num_words,\n",
        "                           input_length=max_len, embeddings_initializer='identity',\n",
        "                           trainable=False))\n",
        "\n",
        "## complete the model with recurrent layers\n",
        "model.add(layers.LSTM(64, return_sequences=False))\n",
        "## add binary classification output\n",
        "model.add(layers.Dense(1, activation='sigmoid'))"
      ],
      "metadata": {
        "id": "mLZgdA-3-vmn"
      },
      "execution_count": 51,
      "outputs": []
    },
    {
      "cell_type": "code",
      "source": [
        "## set the loss and see the results\n",
        "model.compile(\n",
        "    optimizer='adam',\n",
        "    loss='binary_crossentropy',\n",
        "    metrics=['accuracy']\n",
        ")\n",
        "epochs = 5\n",
        "history = model.fit(x_train_seq, train_labels,\n",
        "                    validation_split=0.1, epochs=epochs,\n",
        "                    batch_size=256)"
      ],
      "metadata": {
        "id": "71WBNtr4-yyC",
        "outputId": "de47327d-6bb3-4fd2-ae71-c8443810a187",
        "colab": {
          "base_uri": "https://localhost:8080/"
        }
      },
      "execution_count": 52,
      "outputs": [
        {
          "output_type": "stream",
          "name": "stdout",
          "text": [
            "Epoch 1/5\n",
            "88/88 [==============================] - 6s 36ms/step - loss: 0.6005 - accuracy: 0.6596 - val_loss: 0.4938 - val_accuracy: 0.7852\n",
            "Epoch 2/5\n",
            "88/88 [==============================] - 3s 28ms/step - loss: 0.4260 - accuracy: 0.8146 - val_loss: 0.4212 - val_accuracy: 0.8060\n",
            "Epoch 3/5\n",
            "88/88 [==============================] - 2s 28ms/step - loss: 0.3806 - accuracy: 0.8345 - val_loss: 0.4078 - val_accuracy: 0.8152\n",
            "Epoch 4/5\n",
            "88/88 [==============================] - 3s 29ms/step - loss: 0.3665 - accuracy: 0.8386 - val_loss: 0.4167 - val_accuracy: 0.8084\n",
            "Epoch 5/5\n",
            "88/88 [==============================] - 2s 28ms/step - loss: 0.3574 - accuracy: 0.8447 - val_loss: 0.4092 - val_accuracy: 0.8112\n"
          ]
        }
      ]
    },
    {
      "cell_type": "code",
      "source": [
        "results = model.evaluate(x_test_seq, test_labels, verbose=1)\n",
        "print('Test Loss: {}'.format(results[0]))\n",
        "print('Test Accuracy: {}'.format(results[1]))"
      ],
      "metadata": {
        "id": "Ukh2lsjo-3Ii",
        "outputId": "e05cd022-9a2e-43f3-a8cf-f13d72d8045c",
        "colab": {
          "base_uri": "https://localhost:8080/"
        }
      },
      "execution_count": 53,
      "outputs": [
        {
          "output_type": "stream",
          "name": "stdout",
          "text": [
            "782/782 [==============================] - 4s 5ms/step - loss: 0.4164 - accuracy: 0.8057\n",
            "Test Loss: 0.4164426624774933\n",
            "Test Accuracy: 0.8057199716567993\n"
          ]
        }
      ]
    },
    {
      "cell_type": "markdown",
      "source": [
        "### Deep model\n",
        "Use `keras.layers.SimpleRNN`,  `keras.layers.GRU`,  `keras.layers.LSTM` or `keras.layers.Bidirectional`\n"
      ],
      "metadata": {
        "id": "X_bs0BHJ-3x5"
      }
    },
    {
      "cell_type": "code",
      "source": [
        "model = tf.keras.models.Sequential()\n",
        "model.add(tf.keras.Input(shape=(max_len,), name='input'))\n",
        "## one-hot encoding\n",
        "model.add(layers.Embedding(input_dim=num_words, output_dim=num_words,\n",
        "                           input_length=max_len, embeddings_initializer='identity',\n",
        "                           trainable=False))\n",
        "\n",
        "## complete the model with recurrent layers\n",
        "model.add(layers.GRU(64, return_sequences=True))\n",
        "model.add(layers.GRU(64, return_sequences=False))\n",
        "## add binary classification output\n",
        "model.add(layers.Dense(1, activation='sigmoid'))"
      ],
      "metadata": {
        "id": "CzpUM-8M-6Qx"
      },
      "execution_count": 54,
      "outputs": []
    },
    {
      "cell_type": "code",
      "source": [
        "## set the loss and see the results\n",
        "model.compile(\n",
        "    optimizer='adam',\n",
        "    loss='binary_crossentropy',\n",
        "    metrics=['accuracy']\n",
        ")\n",
        "epochs = 5\n",
        "history = model.fit(x_train_seq, train_labels,\n",
        "                    validation_split=0.1, epochs=epochs,\n",
        "                    batch_size=256)"
      ],
      "metadata": {
        "id": "b3mlgCtN_CU6",
        "outputId": "2e12788f-79d3-41eb-c997-df934904f664",
        "colab": {
          "base_uri": "https://localhost:8080/"
        }
      },
      "execution_count": 55,
      "outputs": [
        {
          "output_type": "stream",
          "name": "stdout",
          "text": [
            "Epoch 1/5\n",
            "88/88 [==============================] - 8s 44ms/step - loss: 0.6298 - accuracy: 0.6180 - val_loss: 0.4694 - val_accuracy: 0.7852\n",
            "Epoch 2/5\n",
            "88/88 [==============================] - 3s 30ms/step - loss: 0.4198 - accuracy: 0.8070 - val_loss: 0.4107 - val_accuracy: 0.8148\n",
            "Epoch 3/5\n",
            "88/88 [==============================] - 3s 31ms/step - loss: 0.3727 - accuracy: 0.8347 - val_loss: 0.4210 - val_accuracy: 0.8124\n",
            "Epoch 4/5\n",
            "88/88 [==============================] - 3s 30ms/step - loss: 0.3634 - accuracy: 0.8409 - val_loss: 0.4230 - val_accuracy: 0.8044\n",
            "Epoch 5/5\n",
            "88/88 [==============================] - 3s 33ms/step - loss: 0.3460 - accuracy: 0.8516 - val_loss: 0.4233 - val_accuracy: 0.8076\n"
          ]
        }
      ]
    },
    {
      "cell_type": "code",
      "source": [
        "results = model.evaluate(x_test_seq, test_labels, verbose=1)\n",
        "print('Test Loss: {}'.format(results[0]))\n",
        "print('Test Accuracy: {}'.format(results[1]))"
      ],
      "metadata": {
        "id": "zyvD-94e_DsH",
        "outputId": "ad9a9b17-3300-48c8-c0a1-b9781e31e46d",
        "colab": {
          "base_uri": "https://localhost:8080/"
        }
      },
      "execution_count": 56,
      "outputs": [
        {
          "output_type": "stream",
          "name": "stdout",
          "text": [
            "782/782 [==============================] - 4s 6ms/step - loss: 0.4337 - accuracy: 0.8023\n",
            "Test Loss: 0.43369609117507935\n",
            "Test Accuracy: 0.8022800087928772\n"
          ]
        }
      ]
    },
    {
      "cell_type": "markdown",
      "source": [
        "### Bidirectional model\n",
        "Use `keras.layers.SimpleRNN`,  `keras.layers.GRU`,  `keras.layers.LSTM` with `keras.layers.Bidirectional`\n"
      ],
      "metadata": {
        "id": "kVMSmAQu_Fae"
      }
    },
    {
      "cell_type": "code",
      "source": [
        "model = tf.keras.models.Sequential()\n",
        "model.add(tf.keras.Input(shape=(max_len,), name='input'))\n",
        "## one-hot encoding\n",
        "model.add(layers.Embedding(input_dim=num_words, output_dim=num_words,\n",
        "                           input_length=max_len, embeddings_initializer='identity',\n",
        "                           trainable=False))\n",
        "\n",
        "## complete the model with recurrent layers\n",
        "model.add(layers.Bidirectional(layers.GRU(64, return_sequences=False)))\n",
        "model.add(layers.Dense(1, activation='sigmoid'))"
      ],
      "metadata": {
        "id": "IJauNUnk_Grq"
      },
      "execution_count": 57,
      "outputs": []
    },
    {
      "cell_type": "code",
      "source": [
        "## set the loss and see the results\n",
        "model.compile(\n",
        "    optimizer='adam',\n",
        "    loss='binary_crossentropy',\n",
        "    metrics=['accuracy']\n",
        ")\n",
        "epochs = 5\n",
        "history = model.fit(x_train_seq, train_labels,\n",
        "                    validation_split=0.1, epochs=epochs,\n",
        "                    batch_size=256)"
      ],
      "metadata": {
        "id": "F4bApItt_Kb4",
        "outputId": "7a4ae260-b82b-4ba8-975d-a47330f663c3",
        "colab": {
          "base_uri": "https://localhost:8080/"
        }
      },
      "execution_count": 58,
      "outputs": [
        {
          "output_type": "stream",
          "name": "stdout",
          "text": [
            "Epoch 1/5\n",
            "88/88 [==============================] - 10s 57ms/step - loss: 0.6378 - accuracy: 0.6114 - val_loss: 0.4824 - val_accuracy: 0.7692\n",
            "Epoch 2/5\n",
            "88/88 [==============================] - 4s 49ms/step - loss: 0.4300 - accuracy: 0.8034 - val_loss: 0.4211 - val_accuracy: 0.8100\n",
            "Epoch 3/5\n",
            "88/88 [==============================] - 4s 49ms/step - loss: 0.3714 - accuracy: 0.8353 - val_loss: 0.4253 - val_accuracy: 0.8160\n",
            "Epoch 4/5\n",
            "88/88 [==============================] - 4s 49ms/step - loss: 0.3525 - accuracy: 0.8480 - val_loss: 0.4273 - val_accuracy: 0.8156\n",
            "Epoch 5/5\n",
            "88/88 [==============================] - 5s 53ms/step - loss: 0.3293 - accuracy: 0.8593 - val_loss: 0.4407 - val_accuracy: 0.8044\n"
          ]
        }
      ]
    },
    {
      "cell_type": "code",
      "source": [
        "results = model.evaluate(x_test_seq, test_labels, verbose=1)\n",
        "print('Test Loss: {}'.format(results[0]))\n",
        "print('Test Accuracy: {}'.format(results[1]))"
      ],
      "metadata": {
        "id": "Gtnq_RA-_Nyi"
      },
      "execution_count": null,
      "outputs": []
    },
    {
      "cell_type": "markdown",
      "source": [
        "#### Making predictioins with new data"
      ],
      "metadata": {
        "id": "IeZGuoJb_OiO"
      }
    },
    {
      "cell_type": "code",
      "source": [
        "reviews = ['the film was really bad and i am very disappointed',\n",
        "           'The film was very funny entertaining and good we had a great time . brilliant film',\n",
        "           'this film was just brilliant',\n",
        "           'the film is not good',\n",
        "           'the film is not bad',\n",
        "           'the movie is not bad I like it']\n",
        "sequences = [vectorize_text_sentence(review.lower(), word2int)\n",
        "             for review in reviews]\n",
        "\n",
        "## Padding the sequences\n",
        "x_pred  = sequence.pad_sequences(sequences, maxlen=max_len, truncating='post', padding='post')# ...\n",
        "\n",
        "np.round(model.predict(x_pred), 4)"
      ],
      "metadata": {
        "id": "ysFICImx_YZG",
        "outputId": "0f956710-9408-47f5-a292-2f1898ca0677",
        "colab": {
          "base_uri": "https://localhost:8080/"
        }
      },
      "execution_count": 59,
      "outputs": [
        {
          "output_type": "stream",
          "name": "stdout",
          "text": [
            "1/1 [==============================] - 1s 1s/step\n"
          ]
        },
        {
          "output_type": "execute_result",
          "data": {
            "text/plain": [
              "array([[0.1072],\n",
              "       [0.8887],\n",
              "       [0.6055],\n",
              "       [0.4269],\n",
              "       [0.2083],\n",
              "       [0.2154]], dtype=float32)"
            ]
          },
          "metadata": {},
          "execution_count": 59
        }
      ]
    },
    {
      "cell_type": "code",
      "source": [
        "show_errors(x_test_seq, model, test_labels, int2word, n_samples=10)"
      ],
      "metadata": {
        "id": "W1tivPpw_Zw7",
        "outputId": "cb4aa996-41f7-487b-e3cc-2b312f7becf8",
        "colab": {
          "base_uri": "https://localhost:8080/"
        }
      },
      "execution_count": 60,
      "outputs": [
        {
          "output_type": "stream",
          "name": "stdout",
          "text": [
            "782/782 [==============================] - 4s 6ms/step\n",
            "Predicted : 0, real : 1, lenght: 274\n",
            "<START> <UNK> <UNK> is a <UNK> yet very solid thriller that never really received the attention or good comments it deserves the film  written and directed entirely by <UNK> <UNK>  is a <UNK> action <UNK> thriller with black comedy aspects and horror <UNK> no pointless <UNK> <UNK> or <UNK> plot straight to the point mystery <UNK> <UNK> <UNK> about the <UNK> <UNK> of movies and is <UNK> set in <UNK> spoilers since the production <UNK> are <UNK> there a us film crew <UNK> moves to <UNK> for shooting a horror film an old <UNK> is used as film location the female make up artist of the team <UNK> gets <UNK> up <UNK> and while trying to find a way out she <UNK> the <UNK> of an <UNK> <UNK> movie she's caught and tries to escape but since she's a <UNK> she can't cry for help and neither can she explain what she saw to the police <UNK> the <UNK> life is in real <UNK> now since there's a whole hidden <UNK> behind these <UNK> <UNK> and they don't want the <UNK> to be end spoilers <UNK> <UNK> contains <UNK> highly <UNK> action sequences and is rather bloody some of the mystery <UNK> are <UNK> kept secret <UNK> the very end <UNK> the similar <UNK> i'd say it's definitely better than the more famous 8 directed by <UNK> <UNK> and starring <UNK> cage the acting in <UNK> <UNK> isn't great but the leading actress who's russian herself looks really cute <UNK> <UNK> <UNK> makes a special appearance too and a very cool one i may say surely recommended with <UNK> fun and <UNK>\n",
            "\n",
            "Predicted : 1, real : 0, lenght: 438\n",
            "<START> <UNK> <UNK> who was once a famous movie star plays martin <UNK> an <UNK> <UNK> who <UNK> <UNK> up a school <UNK> full of children who is so <UNK> by his actions decides to leave the <UNK> and goes on the run in london br br <UNK> spoilers br br the movie's opening is rather disturbing as the lives of little children are ended in a <UNK> things like this happened throughout the <UNK> and <UNK> and into the <UNK> in <UNK> <UNK> which gives a <UNK> for the dying a <UNK> realism however as soon as <UNK> decides he's going to give up violence what he's a <UNK> and he's never <UNK> up innocent before realism <UNK> and clichés and ridiculous plot twists take place martin is <UNK> by the london <UNK> don't they have their own hit men to <UNK> a hit while he <UNK> an <UNK> <UNK> never knew the <UNK> <UNK> at a <UNK> in <UNK> <UNK> wouldn't an <UNK> man use a <UNK> <UNK> under a car where he's <UNK> by a <UNK> who <UNK> him while he was in the <UNK> hands up who thinks i'm <UNK> i'm not and we're half way through the running time and there's still several clichés to come br br this all sounds very silly and it is but what do you expect from a novel by jack <UNK> everything is <UNK> <UNK> and <UNK> and the bits that aren't are just plain bizarre the critics <UNK> this movie when it came out most <UNK> they <UNK> that it might have some potential if the movie had <UNK> <UNK> playing <UNK> jack and alan <UNK> playing the <UNK> soldier turned <UNK> and for once the critics would have been right they should also <UNK> the film might have been less <UNK> if <UNK> was played by someone who was <UNK> of doing an <UNK> accent <UNK> might be <UNK> and <UNK> oh <UNK> another movie with an <UNK> but <UNK> aren't his strong point any more than character acting is to give you an idea how disappointing <UNK> for the dying is the director ended up <UNK> it which is always a bad sign br br as a <UNK> the original release of <UNK> for the dying in <UNK> was <UNK> for several months because of the <UNK> in <UNK> <UNK> the <UNK> <UNK> <UNK> a <UNK> in the <UNK> of where a <UNK> day <UNK> which <UNK> war dead was being held <UNK> 11 people were killed and <UNK> more <UNK> it wasn't an accident and no one left the <UNK> because of it\n",
            "\n",
            "Predicted : 1, real : 0, lenght: 232\n",
            "<START> this film brought a whole new meaning to that well <UNK> <UNK> <UNK> watching <UNK> because this was <UNK> watching <UNK> <UNK> in the middle of a br br i was <UNK> to the film by its location on the west <UNK> of <UNK> which i have <UNK> it is a <UNK> beautiful place and the black and white introduced a whole new <UNK> to the beauty that was the only good thing the story was <UNK> <UNK> and <UNK> you have to have some story br br a film crew runs out of film and the entire crew then have to wait well a wait is a wait i can wait for a number 15 <UNK> on <UNK> street in <UNK> i can spend hours on a <UNK> <UNK> station in the middle of nowhere on cold <UNK> <UNK> <UNK> however a wait is boring and yes this wait was boring too br br so the <UNK> goes off to america to with the film <UNK> who <UNK> him for not making the whole thing in <UNK> after a number of <UNK> two <UNK> <UNK> ring out from <UNK> and the <UNK> <UNK> end finally <UNK> and not before time br br yes i would see this film again if someone <UNK> me with a couple of <UNK> of <UNK> film so that i can <UNK> them at the screen\n",
            "\n",
            "Predicted : 1, real : 0, lenght: 295\n",
            "<START> while this isn't an all time classic comedy it is a pretty good little movie to watch if you catch it on a <UNK> <UNK> morning with not a lot else going on right then br br <UNK> <UNK> plays <UNK> <UNK> an american coming home after growing up in <UNK> where his dad was a <UNK> he has come home from <UNK> to find an american wife and <UNK> to return to <UNK> to continue his <UNK> work <UNK> <UNK> is <UNK> to run for <UNK> of his <UNK> home town when the <UNK> political machine that <UNK> the town <UNK> that he would make a perfect <UNK> to run against the <UNK> <UNK> who also is the head of the <UNK> <UNK> they figure the <UNK> <UNK> <UNK> has no chance to win and therefore the <UNK> <UNK> continues to run the town and run his <UNK> which makes them all rich br br <UNK> isn't doing the physical comedy here like he did in his silent films he does a convincing portrayal of <UNK> with a <UNK> <UNK> <UNK> the acting was good from all involved and the story and script were also quite good br br being made in <UNK> the film does have some rather <UNK> language when talking about the chinese and it also has a typical black character from that era but these <UNK> aren't nearly as mean as i've seen from other films from that time br br although not close to being <UNK> best film this movie does <UNK> and <UNK> is very good as <UNK> you won't be <UNK> away by this film but it may be enough to <UNK> your interest in <UNK> and make you want to see more of his work\n",
            "\n",
            "Predicted : 1, real : 0, lenght: 874\n",
            "<START> it's like someone took a fantasy type video game and put it in a <UNK> and the <UNK> scene <UNK> is what we have to sit through br br now let me go on record by saying how much i love chinese fantasy films from the fun and silly to those <UNK> on martial arts to the more dramatic and romantic a genre i very much enjoy films like a chinese <UNK> <UNK> box and a chinese <UNK> <UNK> both of which were written and or directed by <UNK> <UNK> the <UNK> with white hair <UNK> <UNK> green <UNK> a chinese ghost story ii <UNK> <UNK> from the magic <UNK> <UNK> <UNK> hidden <UNK> and others which is why i was looking forward to a chinese <UNK> story one of the film's characters is the <UNK> king <UNK> <UNK> an extremely well known character in chinese <UNK> first told in the stories of the journey to the west the epic adventure written about <UNK> years ago the story of the <UNK> king and his <UNK> is also the focus of the chinese <UNK> films <UNK> many others other familiar characters that appear in the film are <UNK> the <UNK> character and <UNK> br br so how does it all go wrong well let's take an example familiar to western audiences how about the <UNK> <UNK> <UNK> a well known story from <UNK> <UNK> days let's say that our <UNK> <UNK> film <UNK> <UNK> <UNK> as <UNK> <UNK> and <UNK> <UNK> <UNK> as <UNK> <UNK> <UNK> <UNK> is none other than <UNK> <UNK> let's give <UNK> <UNK> an <UNK> as well because you never know when you might have to waste the <UNK> of <UNK> they might need <UNK> <UNK> also and while we're at it give them a <UNK> <UNK> <UNK> because that sure could come in <UNK> if you think this sounds like a really <UNK> <UNK> of the <UNK> <UNK> tale then a chinese <UNK> story is the movie for you as i <UNK> above this movie is a <UNK> mess in the first 30 minutes we are introduced not only to <UNK> <UNK> and <UNK> but also to the <UNK> who is actually the main <UNK> <UNK> children a <UNK> <UNK> <UNK> which <UNK> <UNK> <UNK> an <UNK> <UNK> god a <UNK> <UNK> <UNK> an <UNK> girl in an <UNK> <UNK> the lord <UNK> <UNK> a <UNK> <UNK> king a ever <UNK> magic <UNK> <UNK> a <UNK> girl <UNK> in space and the four <UNK> <UNK> all this wouldn't be too bad the <UNK> and <UNK> <UNK> down over the years certainly do have all <UNK> of <UNK> elements but i <UNK> you the chinese <UNK> does not include much of the stuff we get <UNK> to in the last half of the film <UNK> <UNK> to the filmmakers just because your computer effects guys can come up with cool looking <UNK> and <UNK> of <UNK> war does not mean they should br br you know your chinese <UNK> movie is on the wrong track when the director asks and i am not making this a direct <UNK> from the commentary i asked the <UNK> whether or not we can have a more rock and roll type music when she <UNK> into some kind of <UNK> like thing is there a story hidden in here somewhere yes yes there is most of the adventure follows played by <UNK> <UNK> x cops time and <UNK> my <UNK> the <UNK> and the <UNK> <UNK> girl played by <UNK> <UNK> and a computer <UNK> is the best thing going in this film you may know her as half of the <UNK> pop group <UNK> and from other films such as the <UNK> effect a fun flick and just one look a surprisingly good drama romance comedy poor <UNK> being a <UNK> <UNK> and all is hardly <UNK> with her <UNK> <UNK> out <UNK> <UNK> and <UNK> back that is until the <UNK> get a hold of and <UNK> her which somehow makes it worse <UNK> is <UNK> but all of the supporting actors were <UNK> a couple of <UNK> faces in bit parts are wasted br br at one point i was <UNK> with myself if a chinese <UNK> story was a <UNK> i was almost able to <UNK> myself that it was when the <UNK> <UNK> girl played by a very pretty fan <UNK> <UNK> got out and <UNK> up a <UNK> while talking with who was <UNK> martial arts dressed in a <UNK> man <UNK> but it is not a <UNK> of course there is the typical <UNK> kong <UNK> but the movie takes itself seriously enough with enough scenes of romance and <UNK> <UNK> with a of <UNK> and <UNK> and <UNK> action and adventure br br you might think that you could watch this on a <UNK> <UNK> and it wouldn't <UNK> you anything oh but <UNK> <UNK> you all right br br is there anything good to say sure the <UNK> are <UNK> they are the best thing about this movie and the filmmakers certainly were trying very hard too bad all that effort went into a movie that is not much more than a bad video game\n",
            "\n",
            "Predicted : 1, real : 0, lenght: 279\n",
            "<START> after having watched <UNK> nightmare one must have the impression of being a living hell with its <UNK> being <UNK> <UNK> <UNK> the finest <UNK> to the well <UNK> <UNK> while leaving the <UNK> <UNK> to the <UNK> <UNK> in <UNK> for the <UNK> they get western made <UNK> which the mainly <UNK> <UNK> <UNK> <UNK> to use because being a soldier is their only <UNK> of <UNK> br br so everything is all dark with <UNK> as the <UNK> of evil and <UNK> of all <UNK> not quite <UNK> <UNK> nightmare shows the dark <UNK> only and completely <UNK> the positive aspects in fact the documentary hardly tells anything about the <UNK> and <UNK> <UNK> the has for the <UNK> br br for the <UNK> around <UNK> <UNK> the is the second to third most important <UNK> of <UNK> the <UNK> in the <UNK> industry are way above average has <UNK> huge to <UNK> the <UNK> of <UNK> of <UNK> the <UNK> states have met <UNK> to keep <UNK> on a <UNK> level <UNK> at the <UNK> are <UNK> from the <UNK> the have to pay for each caught <UNK> and the <UNK> on the <UNK> and <UNK> <UNK> has <UNK> the local <UNK> <UNK> which still play an important role <UNK> the local <UNK> br br by <UNK> those positive <UNK> the documentary <UNK> the badly needed western <UNK> and <UNK> and thus <UNK> to <UNK> the situation br br for further reading i can recommend two <UNK> the german <UNK> <UNK> <UNK> wrote on the subject <UNK> <UNK> <UNK> de <UNK> <UNK> <UNK> <UNK> 1 <UNK> <UNK> <UNK> de <UNK> <UNK> <UNK> <UNK> 1 <UNK>\n",
            "\n",
            "Predicted : 0, real : 1, lenght: 248\n",
            "<START> some people don't like led <UNK> but <UNK> the number of people who <UNK> the number of people who don't is way <UNK> i am the <UNK> of 2 or 3 led <UNK> fans and the only reason i was able to do this is because of this dvd br br for one how someone can listen to <UNK> to heaven or <UNK> song without falling in love with <UNK> is beyond me but to play the <UNK> and not like page that is like being christian and not <UNK> jesus my friend was like led <UNK> sucks and i was like oh yeah watch this after about 2 <UNK> of watching page pick through white summer black <UNK> side he was <UNK> to the screen and has never said a bad thing about <UNK> since br br <UNK> you haven't been following the running <UNK> i am <UNK> this dvd the <UNK> of led <UNK> held high by the <UNK> and used as a for the <UNK> <UNK> br br course there are some things missing like over the <UNK> and far away a good version of <UNK> song and i really didn't need 2 version of whole <UNK> love but what the hell i'll take <UNK> br br because there is nothing besides the song remains the same to compare this too i gave it a 10 and even if there were more to compare it too i still would have given it a 10\n",
            "\n",
            "Predicted : 0, real : 1, lenght: 51\n",
            "<START> i have never missed an episode david <UNK> is a wonderful actor and i am hoping that this show can <UNK> it certainly <UNK> out that <UNK> crap i love the storyline and would actually like to see him as a cop again <UNK> i give the show a 10\n",
            "\n",
            "Predicted : 0, real : 1, lenght: 227\n",
            "<START> i had read up on the film and thought it would be cute a feel good <UNK> night movie i wasn't expecting anything great <UNK> it would be mostly <UNK> but <UNK> not a totally bad experience i have to admit i was <UNK> surprised br br the dialogue was <UNK> perfect most of the actors were <UNK> good and it <UNK> nicely <UNK> christian was perfect his ability to turn an <UNK> moment into something touching was nice to see he could have turned this character into something <UNK> all seen before but instead <UNK> away from <UNK> and <UNK> on the <UNK> of the character it was wonderful to see <UNK> again i didn't know what he would do after <UNK> <UNK> is gem a great young character actress that <UNK> will get more work br br there are moments in the film that could have used some work but all in all not a bad time at the cinema my friend <UNK> it as a gay <UNK> <UNK> <UNK> but it's something more than that it's a character <UNK> into what it's like to <UNK> up gay in a small town the pain is there but the humor behind that pain that only age can make <UNK> is <UNK> i look forward to seeing more of <UNK> christian <UNK> <UNK> and <UNK> soon\n",
            "\n",
            "Predicted : 1, real : 0, lenght: 442\n",
            "<START> i bought the video for at <UNK> we pay more in <UNK> as a friend had told me it was highly rated and the reviews on this <UNK> were generally impressive br br i have to say that the opening credits were a let down the dancing music not very powerful br br the car ride and <UNK> <UNK> just as the lady <UNK> was going to be <UNK> was a nice touch something <UNK> though the way she <UNK> away from the car with hair perfectly <UNK> and still <UNK> a <UNK> looked <UNK> for most directors but for <UNK> was something else br br her <UNK> walking around after such a shock was <UNK> by a regular low <UNK> similar to <UNK> <UNK> along a <UNK> i thought another <UNK> master touch perhaps <UNK> the <UNK> <UNK> into her <UNK> and <UNK> self <UNK> after a while this <UNK> became somewhat annoying and on further <UNK> i discovered the new video <UNK> <UNK> br br i <UNK> know whether this <UNK> took away a lot of my <UNK> but this movie became a waste of time and money br br the two female characters had some presence and the <UNK> scenes were fair enough though predictable there were no male characters of any <UNK> and apart from a few <UNK> good scenes the <UNK> <UNK> on there were far too many <UNK> scenes that were plain weak and ridiculous <UNK> the <UNK> being <UNK> into the <UNK> by the <UNK> <UNK> and the silly monster face at the back of the <UNK> oh and what about the <UNK> in the <UNK> boring and <UNK> br br this whole film gives you the feel of the failed genius you know when you listen to the worst <UNK> track ever and think my god that was <UNK> was that really <UNK> br br the whole feel is that of a failed tv movie badly put together with a few not many extra bits to give it a 15 rating br br i it on during the last 30 minutes br br do i give it another chance and watch again if i want to be <UNK> and work hard at understanding a film i will watch frank woods <UNK> to <UNK> <UNK> br br <UNK> did one classic blue <UNK> and straight story was nice br br this like wild at heart was a let down his <UNK> is now predictable and <UNK> anybody want to buy a <UNK> hand video br br make way for some younger original talent david br br four out of ten and no more sorry\n",
            "\n"
          ]
        }
      ]
    },
    {
      "cell_type": "markdown",
      "source": [
        "###  Use a convolutional network instead of a RNN\n",
        "\n",
        "```python\n",
        "tf.keras.layers.Conv1D(\n",
        "    filters, kernel_size\n",
        ")\n",
        "```\n",
        "\n",
        "```python\n",
        "tf.keras.layers.MaxPool1D(\n",
        "    pool_size=2\n",
        ")\n",
        "```\n",
        "\n",
        "```python\n",
        "tf.keras.layers.Flatten()\n",
        "```"
      ],
      "metadata": {
        "id": "GIiGZEh9_dJp"
      }
    },
    {
      "cell_type": "code",
      "source": [
        "from tensorflow.keras.datasets import imdb\n",
        "num_words = 2000\n",
        "((train_data, train_labels), (test_data, test_labels)\n",
        " ) = imdb.load_data(num_words=num_words)\n",
        "\n",
        "#  limit the data for class time\n",
        "# Transform word_id to word and reverse\n",
        "word2int = imdb.get_word_index()\n",
        "word2int = {w: i+3 for w, i in word2int.items()}\n",
        "word2int[\"<PAD>\"] = 0\n",
        "word2int[\"<START>\"] = 1\n",
        "word2int[\"<UNK>\"] = 2\n",
        "word2int[\"<UNUSED>\"] = 3\n",
        "int2word = {i: w for w, i in word2int.items()}\n",
        "num_words = num_words+3"
      ],
      "metadata": {
        "id": "gG2F7YS4_bN6"
      },
      "execution_count": 61,
      "outputs": []
    },
    {
      "cell_type": "code",
      "source": [
        "max_len = 100\n",
        "x_train_seq = sequence.pad_sequences(train_data, maxlen=max_len, truncating='post', padding='post')\n",
        "x_test_seq = sequence.pad_sequences(test_data, maxlen=max_len, truncating='post', padding='post')\n",
        "\n",
        "print('train shape:', x_train_seq.shape)\n",
        "print('test shape:', x_test_seq.shape)"
      ],
      "metadata": {
        "id": "cnNDNwVa_fgL",
        "outputId": "7ace74bf-5ac9-4f84-c38c-6ee73a521b30",
        "colab": {
          "base_uri": "https://localhost:8080/"
        }
      },
      "execution_count": 62,
      "outputs": [
        {
          "output_type": "stream",
          "name": "stdout",
          "text": [
            "train shape: (25000, 100)\n",
            "test shape: (25000, 100)\n"
          ]
        }
      ]
    },
    {
      "cell_type": "code",
      "source": [
        "model = tf.keras.models.Sequential()\n",
        "model.add(tf.keras.Input(shape=(max_len,), name='input'))\n",
        "## one-hot encoding\n",
        "model.add(layers.Embedding(input_dim=num_words, output_dim=num_words,\n",
        "                           input_length=max_len, embeddings_initializer='identity',\n",
        "                           trainable=False))\n",
        "\n",
        "\n",
        "model.add(layers.Conv1D(32, 3, activation='relu'))\n",
        "model.add(layers.MaxPooling1D(2))\n",
        "\n",
        "model.add(layers.Dropout(0.5))\n",
        "model.add(layers.Conv1D(32, 3, activation='relu'))\n",
        "model.add(layers.MaxPooling1D(2))\n",
        "\n",
        "model.add(layers.Dropout(0.5))\n",
        "model.add(layers.Flatten())\n",
        "model.add(layers.Dense(32, activation='relu'))\n",
        "model.add(layers.Dense(1, activation='sigmoid'))"
      ],
      "metadata": {
        "id": "aCUDsP3L_hzp"
      },
      "execution_count": 63,
      "outputs": []
    },
    {
      "cell_type": "code",
      "source": [
        "model.compile(\n",
        "    optimizer='adam',\n",
        "    loss='binary_crossentropy',\n",
        "    metrics=['accuracy']\n",
        ")\n",
        "epochs = 5\n",
        "history = model.fit(x_train_seq, train_labels,\n",
        "                    validation_split=0.1, epochs=epochs,\n",
        "                    batch_size=256)"
      ],
      "metadata": {
        "id": "ufYagrd9_jou",
        "outputId": "ded38355-2f25-4089-c69b-657bf2b7ca27",
        "colab": {
          "base_uri": "https://localhost:8080/"
        }
      },
      "execution_count": 64,
      "outputs": [
        {
          "output_type": "stream",
          "name": "stdout",
          "text": [
            "Epoch 1/5\n",
            "88/88 [==============================] - 8s 27ms/step - loss: 0.6923 - accuracy: 0.5125 - val_loss: 0.6868 - val_accuracy: 0.5288\n",
            "Epoch 2/5\n",
            "88/88 [==============================] - 1s 15ms/step - loss: 0.5632 - accuracy: 0.7033 - val_loss: 0.4434 - val_accuracy: 0.7984\n",
            "Epoch 3/5\n",
            "88/88 [==============================] - 1s 16ms/step - loss: 0.4057 - accuracy: 0.8146 - val_loss: 0.4169 - val_accuracy: 0.8020\n",
            "Epoch 4/5\n",
            "88/88 [==============================] - 1s 16ms/step - loss: 0.3571 - accuracy: 0.8416 - val_loss: 0.4079 - val_accuracy: 0.8096\n",
            "Epoch 5/5\n",
            "88/88 [==============================] - 1s 16ms/step - loss: 0.3210 - accuracy: 0.8620 - val_loss: 0.4045 - val_accuracy: 0.8192\n"
          ]
        }
      ]
    },
    {
      "cell_type": "code",
      "source": [
        "reviews = ['the film was really bad and i am very disappointed',\n",
        "           'The film was very funny entertaining and good we had a great time . brilliant film',\n",
        "           'this film was just brilliant',\n",
        "           'the film is not good',\n",
        "           'the film is not bad']\n",
        "sequences = [vectorize_text_sentence(review.lower(), word2int)\n",
        "             for review in reviews]\n",
        "\n",
        "## Padding the sequences\n",
        "x_pred  = sequence.pad_sequences(sequences, maxlen=max_len, truncating='post', padding='post')# ...\n",
        "\n",
        "np.round(model.predict(x_pred), 4)"
      ],
      "metadata": {
        "id": "ZNnnuclZ_lDl",
        "outputId": "ba1f4220-b6d7-4a9d-a141-86146f5d883b",
        "colab": {
          "base_uri": "https://localhost:8080/"
        }
      },
      "execution_count": 65,
      "outputs": [
        {
          "output_type": "stream",
          "name": "stdout",
          "text": [
            "1/1 [==============================] - 0s 190ms/step\n"
          ]
        },
        {
          "output_type": "execute_result",
          "data": {
            "text/plain": [
              "array([[0.1338],\n",
              "       [0.9038],\n",
              "       [0.8166],\n",
              "       [0.5175],\n",
              "       [0.2975]], dtype=float32)"
            ]
          },
          "metadata": {},
          "execution_count": 65
        }
      ]
    },
    {
      "cell_type": "code",
      "source": [
        "show_errors(x_test_seq, model, test_labels, int2word, n_samples=10)"
      ],
      "metadata": {
        "id": "TSGbbsAi_pLg",
        "outputId": "77db51f6-8e23-479d-9114-ff98b2d787a7",
        "colab": {
          "base_uri": "https://localhost:8080/"
        }
      },
      "execution_count": 66,
      "outputs": [
        {
          "output_type": "stream",
          "name": "stdout",
          "text": [
            "782/782 [==============================] - 2s 2ms/step\n",
            "Predicted : 1, real : 0, lenght: 218\n",
            "<START> this movie certainly is a weird one to say the least the basic plot is 3 old business <UNK> <UNK> 2 <UNK> into their home for <UNK> a lost <UNK> with 10 <UNK> in it the two whom show up fall in love the 3 older business men die and come back as <UNK> to try to help the two younger <UNK> out okay so that may make sense but then we have 3 old guys whom apparently have some <UNK> living together slightly weird here harry <UNK> plays his part way off <UNK> you can't tell if he is a nice guy or really a <UNK> i mean really make up my mind i can <UNK> it then there is richard <UNK> playing james <UNK> from <UNK> <UNK> he sounds way more like a <UNK> <UNK> from <UNK> than a person from <UNK> this one isn't even close then we take the 3 <UNK> whom would stand a better chance of <UNK> the new <UNK> <UNK> win a play off game than actually <UNK> out in fact they are really no help at all and why they are even in the film is beyond any <UNK> of knowledge silly film in which a cast of characters act totally out of character you can avoid this one\n",
            "\n",
            "Predicted : 0, real : 1, lenght: 147\n",
            "<START> i <UNK> this video on <UNK> <UNK> in a good will store for us 50 <UNK> i have taken quite a few <UNK> i <UNK> back for them to <UNK> to others after i <UNK> them considering the 50 <UNK> <UNK> as a <UNK> this is the only one that will never go back it is an <UNK> of artistic talent color and sound i don't know if i should <UNK> it <UNK> dance or both it is bigger than life itself they will only be able to do this well for just a few brief years in their life these are the <UNK> for the <UNK> if gene kelly and <UNK> <UNK> were alive today and saw them live they would be <UNK> <UNK> i would <UNK> it to others to watch but i know if i do that i will never get it back\n",
            "\n",
            "Predicted : 0, real : 1, lenght: 381\n",
            "<START> star rating <UNK> night <UNK> night <UNK> morning <UNK> night <UNK> morning br br mr <UNK> <UNK> <UNK> is in this world but not of this world his mind simply doesn't seem to <UNK> things the way an average person would and his life is one long disaster because of this getting himself into constant <UNK> and far out <UNK> situations which he is left to sort out on his own as he doesn't seem to mix with anyone and he rarely <UNK> but he never gives up and despite the <UNK> of <UNK> being a constant struggle for him <UNK> his own <UNK> <UNK> of <UNK> the problem always <UNK> off for him in the end br br to look at the sorry state of modern british humour with all it's focus of sex and general <UNK> you'd be <UNK> for <UNK> that a show like mr <UNK> was made at one time there's nothing <UNK> going on here just good <UNK> u rated humour of the type <UNK> <UNK> and the like made in the <UNK> and i find it just as laugh out loud funny now in my early <UNK> as i did when i was a young boy in the early <UNK> br br although i can look at it a little <UNK> now and see there must be more to this character than than meets the eye there must be a reason why he does things the way he does and things seem to keep going wrong for him as others have <UNK> it looks like he may have a type of <UNK> in fact i'm so <UNK> about it that i really think were a professional <UNK> to <UNK> him i think mr <UNK> could be the first famous <UNK> character to be <UNK> with something like <UNK> br br if you'd like to see some truly hilarious british humour at it's very best before it all became <UNK> with sex and <UNK> then this would come highly recommended shows like little <UNK> do work because it's well <UNK> but it's really just as <UNK> as the rest shows like this show we were more <UNK> and <UNK> once and <UNK> we might start putting out this type of humour more again <UNK> soon\n",
            "\n",
            "Predicted : 0, real : 1, lenght: 144\n",
            "<START> in a really <UNK> <UNK> on <UNK> <UNK> billy <UNK> and <UNK> danny <UNK> lead <UNK> lives <UNK> ex wife has gotten rich by <UNK> a book that he wrote and <UNK> has the most <UNK> mother <UNK> when <UNK> tells <UNK> to <UNK> down by watching <UNK> on a train <UNK> gets the idea that they should do <UNK> cross murders like in the movie and just like in the movie <UNK> thinks that it's a joke but <UNK> serious br br how they came up with the idea for throw <UNK> from the train i'll never know but it's a hilarious movie there isn't a dull moment in it and that ending was a <UNK> <UNK> and <UNK> are at their best and <UNK> <UNK> is as much of a <UNK> here as she was in the <UNK> a modern classic\n",
            "\n",
            "Predicted : 0, real : 1, lenght: 170\n",
            "<START> a light <UNK> and engaging movie watching <UNK> <UNK> is a <UNK> as you watch her she <UNK> to be <UNK> <UNK> and becomes in every way <UNK> <UNK> br br i have enjoyed <UNK> <UNK> in every movie that i have seen and that would be nearly all of them what a shame that most of her movies need <UNK> so badly i do hope <UNK> <UNK> movie are <UNK> before it is too late they are such <UNK> thank <UNK> this is not the case with over <UNK> br br it is a must see if you like superb acting and witty comedy with serious <UNK> i agree with a previous comment on the <UNK> the world and <UNK> <UNK> it was one of the many <UNK> of the movie i read somewhere that <UNK> <UNK> helped in writing that <UNK> along with director <UNK> <UNK> <UNK> was a very good and <UNK> person in private life and it certainly seems to show through in her movies\n",
            "\n",
            "Predicted : 0, real : 1, lenght: 145\n",
            "<START> fred was such a great show it was simple but somehow very <UNK> i can still remember the days when i'd watch this on kids <UNK> <UNK> but then kids <UNK> did the <UNK> kids <UNK> became like that older <UNK> that tries to act <UNK> and <UNK> fresh <UNK> they became like that <UNK> who tries to act all cool but the attempt is a cheesy disaster they pulled <UNK> <UNK> <UNK> <UNK> <UNK> and all the other good shows to put on some of the most pointless shows i've ever seen in my life johnny <UNK> the only thing that keeps me watching anymore is the <UNK> bits of the old shows and the <UNK> on <UNK> it was such a huge mistake to pull this show off of the <UNK> this brings me back to my first point bring it back\n",
            "\n",
            "Predicted : 0, real : 1, lenght: 202\n",
            "<START> there was a video out in america called that <UNK> about an hours worth of <UNK> <UNK> br br most of them were <UNK> era that's where i first saw and heard of this one br br the <UNK> during the opening news <UNK> turns into a with an <UNK> face saying a <UNK> <UNK> please ' after that it's <UNK> minutes of <UNK> played out like a <UNK> br br <UNK> <UNK> but when you look at it as the piece of history it is it can and should be <UNK> br br <UNK> <UNK> <UNK> to make <UNK> br br showing the <UNK> of <UNK> while <UNK> 1 ' br br a <UNK> using a <UNK> br br a <UNK> <UNK> with the pilot saying me out of here ' br br and of course the <UNK> every japanese was drawn with big <UNK> constantly <UNK> and saying at the end of every broken <UNK> br br the funniest bit the air <UNK> <UNK> that was two <UNK> men <UNK> each other in the <UNK> with <UNK> <UNK> <UNK> br br hey <UNK> let this one out it deserves notice my wife laughed at this and she's 100 japanese\n",
            "\n",
            "Predicted : 1, real : 0, lenght: 518\n",
            "<START> for me this movie is <UNK> like a feature length pilot episode for a tv series it reminds me particularly of the british remake of the tv series starring <UNK> <UNK> people <UNK> by the police are <UNK> and often as <UNK> as the <UNK> the lead <UNK> has huge family problems <UNK> <UNK> lead to <UNK> of the <UNK> past and the <UNK> is <UNK> with strange <UNK> and <UNK> making sense only at the end both have excellent cinematography br br the <UNK> of <UNK> city is <UNK> <UNK> of a standard <UNK> or us crime series <UNK> you could take the plots of any of the episodes of touch of <UNK> and <UNK> them on top of the <UNK> <UNK> in this movie and have an effective sequel br br really the script couldn't be more obviously from the <UNK> <UNK> you get even the most familiar of <UNK> such as the police going to the local prison to <UNK> a <UNK> and dangerous <UNK> who <UNK> <UNK> at the end of the <UNK> br br i'm absolutely <UNK> that this is <UNK> and <UNK> for many <UNK> but i feel it needs <UNK> out to people like myself who do not go to the cinema to watch television what i felt a <UNK> lack of was message the movie takes as its theme the <UNK> <UNK> in <UNK> in <UNK> terms have <UNK> <UNK> <UNK> from the outside world <UNK> a great opportunity for <UNK> to <UNK> their <UNK> lots of information <UNK> the <UNK> of the <UNK> has been kept and many <UNK> <UNK> unique to <UNK> can be <UNK> <UNK> in a <UNK> that has <UNK> from and is <UNK> <UNK> <UNK> it's like trying to put together a <UNK> <UNK> of the london <UNK> <UNK> instead of a <UNK> <UNK> of a field of <UNK> a company called <UNK> <UNK> <UNK> to set up a <UNK> <UNK> all the <UNK> and <UNK> information for the entire <UNK> of <UNK> due to <UNK> <UNK> this project was <UNK> and at the end of last year <UNK> <UNK> went <UNK> in <UNK> the episode is a rich <UNK> for <UNK> br br but in this movie <UNK> and <UNK> science are not there for <UNK> they're there for weird atmosphere br br it's a <UNK> movie if you are interested in that and there's often a <UNK> focus on food to <UNK> events like a <UNK> who <UNK> <UNK> in between <UNK> the most <UNK> for me was when the lead <UNK> <UNK> a <UNK> head unfortunately for me this <UNK> became <UNK> the movie attempts the rather <UNK> <UNK> of <UNK> the <UNK> with the <UNK> and ended up <UNK> <UNK> humour towards the end this is the <UNK> in cinematic terms of <UNK> to <UNK> if you're not well <UNK> <UNK> of hand and <UNK> of eye you <UNK> the <UNK> this rather <UNK> director should have <UNK> the on his performance br br i <UNK> out of this movie feeling rather bad about myself and about life in general\n",
            "\n",
            "Predicted : 1, real : 0, lenght: 271\n",
            "<START> when i was 8 years old and going through my <UNK> brothers <UNK> my father read in the tv <UNK> that they were showing the <UNK> brothers film the big store late on <UNK> night and set the <UNK> to <UNK> it for me when i <UNK> up on <UNK> due no doubt to a in the tv <UNK> my father and i discovered the story of <UNK> had been <UNK> instead br br the big store was probably one of the least funny of all the <UNK> brothers movies and <UNK> it stands as one of the <UNK> finest works of cinema when compared with the story of <UNK> i can almost <UNK> tv <UNK> in that the <UNK> brothers <UNK> <UNK> and <UNK> appear in both movies although in the story of <UNK> they are <UNK> up into a series of <UNK> scenes <UNK> plays peter <UNK> plays some guy talking to christopher <UNK> and <UNK> plays <UNK> <UNK> <UNK> scene <UNK> about half a minute <UNK> only has two or three lines <UNK> scene is at least funny but <UNK> <UNK> <UNK> by today's standards the rest of the movie doesn't <UNK> <UNK> they <UNK> out some of the finest actors of the day and made them <UNK> total garbage what a disappointment br br tv <UNK> i sent you a nice <UNK> i'm still waiting for an <UNK> br br for the record the big store has a wonderful bit of physical comedy with the <UNK> brothers on <UNK> <UNK> and a couple of songs by <UNK> <UNK> i was really looking forward to seeing it\n",
            "\n",
            "Predicted : 1, real : 0, lenght: 228\n",
            "<START> brilliant acting excellent plot wonderful special effects this is what i would say about this movie if i had been watching it with a <UNK> of on my head for the entire film instead i <UNK> a 2 hour crap o <UNK> our brilliant story begins with some <UNK> who has nothing better to do than look in <UNK> in a <UNK> attempt to find his <UNK> <UNK> instead he finds a man in a cheesy <UNK> <UNK> suit and some <UNK> <UNK> <UNK> br br in his <UNK> <UNK> along with his <UNK> large <UNK> he decides to go inside this <UNK> with a team of special people to <UNK> to this <UNK> land they go by plane no <UNK> no they use this giant <UNK> can with a solid <UNK> <UNK> on the end that i <UNK> i saw <UNK> in <UNK> this movie was <UNK> than oh that's right this was the <UNK> movie i've seen for those of you who haven't seen it and are thinking of sitting down on a <UNK> <UNK> with this wonderful movie i <UNK> you if you watch this movie you should be <UNK> to cut of any <UNK> of your <UNK> and give yourself a full <UNK> <UNK> br br the rating system only <UNK> for a <UNK> of 1 10 i give this a 10 10\n",
            "\n"
          ]
        }
      ]
    },
    {
      "cell_type": "code",
      "source": [],
      "metadata": {
        "id": "8BbsmWbk_s_5"
      },
      "execution_count": null,
      "outputs": []
    }
  ]
}