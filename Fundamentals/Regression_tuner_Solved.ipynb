{
  "nbformat": 4,
  "nbformat_minor": 0,
  "metadata": {
    "colab": {
      "provenance": [],
      "authorship_tag": "ABX9TyPpLCxmfRg1z054YAMV/Pid",
      "include_colab_link": true
    },
    "kernelspec": {
      "name": "python3",
      "display_name": "Python 3"
    },
    "language_info": {
      "name": "python"
    }
  },
  "cells": [
    {
      "cell_type": "markdown",
      "metadata": {
        "id": "view-in-github",
        "colab_type": "text"
      },
      "source": [
        "<a href=\"https://colab.research.google.com/github/mtermor/NTIC_DeepLearning/blob/main/Fundamentals/Regression_tuner_Solved.ipynb\" target=\"_parent\"><img src=\"https://colab.research.google.com/assets/colab-badge.svg\" alt=\"Open In Colab\"/></a>"
      ]
    },
    {
      "cell_type": "code",
      "execution_count": 2,
      "metadata": {
        "id": "WETL4bRDk0PY"
      },
      "outputs": [],
      "source": [
        "import tensorflow as tf\n",
        "from tensorflow import keras\n",
        "from tensorflow.keras import layers\n",
        "import pandas as pd\n",
        "tf.keras.utils.set_random_seed(0)"
      ]
    },
    {
      "cell_type": "markdown",
      "source": [
        "# Abalone Dataset\n",
        "\n",
        "Abalones are marine snails that can be found along coasts of almost every continent.\n",
        "\n",
        "<img src=\"https://upload.wikimedia.org/wikipedia/commons/thumb/0/0b/AbaloneInside.jpg/440px-AbaloneInside.jpg\" alt=\"abalone\" border=\"0\" width=\"400\" height=\"500\">\n",
        "\n",
        "\n",
        "\n",
        "In this notebook we are going to Predict the age of abalone from physical measurements. [Link to documentation](https://archive.ics.uci.edu/ml/datasets/abalone)."
      ],
      "metadata": {
        "id": "PMlfjSovj1a8"
      }
    },
    {
      "cell_type": "code",
      "source": [
        "df_train = pd.read_csv(\n",
        "    \"https://storage.googleapis.com/download.tensorflow.org/data/abalone_train.csv\",\n",
        "    names=[\"Length\", \"Diameter\", \"Height\", \"Whole weight\", \"Shucked weight\",\n",
        "           \"Viscera weight\", \"Shell weight\", \"Age\"])\n",
        "\n",
        "df_test = pd.read_csv(\n",
        "    \"https://storage.googleapis.com/download.tensorflow.org/data/abalone_test.csv\",\n",
        "    names=[\"Length\", \"Diameter\", \"Height\", \"Whole weight\", \"Shucked weight\",\n",
        "           \"Viscera weight\", \"Shell weight\", \"Age\"])\n",
        "\n",
        "df_train.head()"
      ],
      "metadata": {
        "id": "scE4G0KFj0Y3",
        "outputId": "0d7af96a-63b4-4196-aab9-cf9a52dd8e3b",
        "colab": {
          "base_uri": "https://localhost:8080/",
          "height": 224
        }
      },
      "execution_count": 7,
      "outputs": [
        {
          "output_type": "execute_result",
          "data": {
            "text/plain": [
              "   Length  Diameter  Height  Whole weight  Shucked weight  Viscera weight  Shell weight  Age\n",
              "0   0.435     0.335   0.110         0.334          0.1355          0.0775        0.0965    7\n",
              "1   0.585     0.450   0.125         0.874          0.3545          0.2075        0.2250    6\n",
              "2   0.655     0.510   0.160         1.092          0.3960          0.2825        0.3700   14\n",
              "3   0.545     0.425   0.125         0.768          0.2940          0.1495        0.2600   16\n",
              "4   0.545     0.420   0.130         0.879          0.3740          0.1695        0.2300   13"
            ],
            "text/html": [
              "\n",
              "  <div id=\"df-0cc3bca3-e6a4-4f87-83ea-4fa018737431\" class=\"colab-df-container\">\n",
              "    <div>\n",
              "<style scoped>\n",
              "    .dataframe tbody tr th:only-of-type {\n",
              "        vertical-align: middle;\n",
              "    }\n",
              "\n",
              "    .dataframe tbody tr th {\n",
              "        vertical-align: top;\n",
              "    }\n",
              "\n",
              "    .dataframe thead th {\n",
              "        text-align: right;\n",
              "    }\n",
              "</style>\n",
              "<table border=\"1\" class=\"dataframe\">\n",
              "  <thead>\n",
              "    <tr style=\"text-align: right;\">\n",
              "      <th></th>\n",
              "      <th>Length</th>\n",
              "      <th>Diameter</th>\n",
              "      <th>Height</th>\n",
              "      <th>Whole weight</th>\n",
              "      <th>Shucked weight</th>\n",
              "      <th>Viscera weight</th>\n",
              "      <th>Shell weight</th>\n",
              "      <th>Age</th>\n",
              "    </tr>\n",
              "  </thead>\n",
              "  <tbody>\n",
              "    <tr>\n",
              "      <th>0</th>\n",
              "      <td>0.435</td>\n",
              "      <td>0.335</td>\n",
              "      <td>0.110</td>\n",
              "      <td>0.334</td>\n",
              "      <td>0.1355</td>\n",
              "      <td>0.0775</td>\n",
              "      <td>0.0965</td>\n",
              "      <td>7</td>\n",
              "    </tr>\n",
              "    <tr>\n",
              "      <th>1</th>\n",
              "      <td>0.585</td>\n",
              "      <td>0.450</td>\n",
              "      <td>0.125</td>\n",
              "      <td>0.874</td>\n",
              "      <td>0.3545</td>\n",
              "      <td>0.2075</td>\n",
              "      <td>0.2250</td>\n",
              "      <td>6</td>\n",
              "    </tr>\n",
              "    <tr>\n",
              "      <th>2</th>\n",
              "      <td>0.655</td>\n",
              "      <td>0.510</td>\n",
              "      <td>0.160</td>\n",
              "      <td>1.092</td>\n",
              "      <td>0.3960</td>\n",
              "      <td>0.2825</td>\n",
              "      <td>0.3700</td>\n",
              "      <td>14</td>\n",
              "    </tr>\n",
              "    <tr>\n",
              "      <th>3</th>\n",
              "      <td>0.545</td>\n",
              "      <td>0.425</td>\n",
              "      <td>0.125</td>\n",
              "      <td>0.768</td>\n",
              "      <td>0.2940</td>\n",
              "      <td>0.1495</td>\n",
              "      <td>0.2600</td>\n",
              "      <td>16</td>\n",
              "    </tr>\n",
              "    <tr>\n",
              "      <th>4</th>\n",
              "      <td>0.545</td>\n",
              "      <td>0.420</td>\n",
              "      <td>0.130</td>\n",
              "      <td>0.879</td>\n",
              "      <td>0.3740</td>\n",
              "      <td>0.1695</td>\n",
              "      <td>0.2300</td>\n",
              "      <td>13</td>\n",
              "    </tr>\n",
              "  </tbody>\n",
              "</table>\n",
              "</div>\n",
              "    <div class=\"colab-df-buttons\">\n",
              "\n",
              "  <div class=\"colab-df-container\">\n",
              "    <button class=\"colab-df-convert\" onclick=\"convertToInteractive('df-0cc3bca3-e6a4-4f87-83ea-4fa018737431')\"\n",
              "            title=\"Convert this dataframe to an interactive table.\"\n",
              "            style=\"display:none;\">\n",
              "\n",
              "  <svg xmlns=\"http://www.w3.org/2000/svg\" height=\"24px\" viewBox=\"0 -960 960 960\">\n",
              "    <path d=\"M120-120v-720h720v720H120Zm60-500h600v-160H180v160Zm220 220h160v-160H400v160Zm0 220h160v-160H400v160ZM180-400h160v-160H180v160Zm440 0h160v-160H620v160ZM180-180h160v-160H180v160Zm440 0h160v-160H620v160Z\"/>\n",
              "  </svg>\n",
              "    </button>\n",
              "\n",
              "  <style>\n",
              "    .colab-df-container {\n",
              "      display:flex;\n",
              "      gap: 12px;\n",
              "    }\n",
              "\n",
              "    .colab-df-convert {\n",
              "      background-color: #E8F0FE;\n",
              "      border: none;\n",
              "      border-radius: 50%;\n",
              "      cursor: pointer;\n",
              "      display: none;\n",
              "      fill: #1967D2;\n",
              "      height: 32px;\n",
              "      padding: 0 0 0 0;\n",
              "      width: 32px;\n",
              "    }\n",
              "\n",
              "    .colab-df-convert:hover {\n",
              "      background-color: #E2EBFA;\n",
              "      box-shadow: 0px 1px 2px rgba(60, 64, 67, 0.3), 0px 1px 3px 1px rgba(60, 64, 67, 0.15);\n",
              "      fill: #174EA6;\n",
              "    }\n",
              "\n",
              "    .colab-df-buttons div {\n",
              "      margin-bottom: 4px;\n",
              "    }\n",
              "\n",
              "    [theme=dark] .colab-df-convert {\n",
              "      background-color: #3B4455;\n",
              "      fill: #D2E3FC;\n",
              "    }\n",
              "\n",
              "    [theme=dark] .colab-df-convert:hover {\n",
              "      background-color: #434B5C;\n",
              "      box-shadow: 0px 1px 3px 1px rgba(0, 0, 0, 0.15);\n",
              "      filter: drop-shadow(0px 1px 2px rgba(0, 0, 0, 0.3));\n",
              "      fill: #FFFFFF;\n",
              "    }\n",
              "  </style>\n",
              "\n",
              "    <script>\n",
              "      const buttonEl =\n",
              "        document.querySelector('#df-0cc3bca3-e6a4-4f87-83ea-4fa018737431 button.colab-df-convert');\n",
              "      buttonEl.style.display =\n",
              "        google.colab.kernel.accessAllowed ? 'block' : 'none';\n",
              "\n",
              "      async function convertToInteractive(key) {\n",
              "        const element = document.querySelector('#df-0cc3bca3-e6a4-4f87-83ea-4fa018737431');\n",
              "        const dataTable =\n",
              "          await google.colab.kernel.invokeFunction('convertToInteractive',\n",
              "                                                    [key], {});\n",
              "        if (!dataTable) return;\n",
              "\n",
              "        const docLinkHtml = 'Like what you see? Visit the ' +\n",
              "          '<a target=\"_blank\" href=https://colab.research.google.com/notebooks/data_table.ipynb>data table notebook</a>'\n",
              "          + ' to learn more about interactive tables.';\n",
              "        element.innerHTML = '';\n",
              "        dataTable['output_type'] = 'display_data';\n",
              "        await google.colab.output.renderOutput(dataTable, element);\n",
              "        const docLink = document.createElement('div');\n",
              "        docLink.innerHTML = docLinkHtml;\n",
              "        element.appendChild(docLink);\n",
              "      }\n",
              "    </script>\n",
              "  </div>\n",
              "\n",
              "\n",
              "<div id=\"df-9c30e021-2306-4971-86d7-b36234bec37b\">\n",
              "  <button class=\"colab-df-quickchart\" onclick=\"quickchart('df-9c30e021-2306-4971-86d7-b36234bec37b')\"\n",
              "            title=\"Suggest charts\"\n",
              "            style=\"display:none;\">\n",
              "\n",
              "<svg xmlns=\"http://www.w3.org/2000/svg\" height=\"24px\"viewBox=\"0 0 24 24\"\n",
              "     width=\"24px\">\n",
              "    <g>\n",
              "        <path d=\"M19 3H5c-1.1 0-2 .9-2 2v14c0 1.1.9 2 2 2h14c1.1 0 2-.9 2-2V5c0-1.1-.9-2-2-2zM9 17H7v-7h2v7zm4 0h-2V7h2v10zm4 0h-2v-4h2v4z\"/>\n",
              "    </g>\n",
              "</svg>\n",
              "  </button>\n",
              "\n",
              "<style>\n",
              "  .colab-df-quickchart {\n",
              "      --bg-color: #E8F0FE;\n",
              "      --fill-color: #1967D2;\n",
              "      --hover-bg-color: #E2EBFA;\n",
              "      --hover-fill-color: #174EA6;\n",
              "      --disabled-fill-color: #AAA;\n",
              "      --disabled-bg-color: #DDD;\n",
              "  }\n",
              "\n",
              "  [theme=dark] .colab-df-quickchart {\n",
              "      --bg-color: #3B4455;\n",
              "      --fill-color: #D2E3FC;\n",
              "      --hover-bg-color: #434B5C;\n",
              "      --hover-fill-color: #FFFFFF;\n",
              "      --disabled-bg-color: #3B4455;\n",
              "      --disabled-fill-color: #666;\n",
              "  }\n",
              "\n",
              "  .colab-df-quickchart {\n",
              "    background-color: var(--bg-color);\n",
              "    border: none;\n",
              "    border-radius: 50%;\n",
              "    cursor: pointer;\n",
              "    display: none;\n",
              "    fill: var(--fill-color);\n",
              "    height: 32px;\n",
              "    padding: 0;\n",
              "    width: 32px;\n",
              "  }\n",
              "\n",
              "  .colab-df-quickchart:hover {\n",
              "    background-color: var(--hover-bg-color);\n",
              "    box-shadow: 0 1px 2px rgba(60, 64, 67, 0.3), 0 1px 3px 1px rgba(60, 64, 67, 0.15);\n",
              "    fill: var(--button-hover-fill-color);\n",
              "  }\n",
              "\n",
              "  .colab-df-quickchart-complete:disabled,\n",
              "  .colab-df-quickchart-complete:disabled:hover {\n",
              "    background-color: var(--disabled-bg-color);\n",
              "    fill: var(--disabled-fill-color);\n",
              "    box-shadow: none;\n",
              "  }\n",
              "\n",
              "  .colab-df-spinner {\n",
              "    border: 2px solid var(--fill-color);\n",
              "    border-color: transparent;\n",
              "    border-bottom-color: var(--fill-color);\n",
              "    animation:\n",
              "      spin 1s steps(1) infinite;\n",
              "  }\n",
              "\n",
              "  @keyframes spin {\n",
              "    0% {\n",
              "      border-color: transparent;\n",
              "      border-bottom-color: var(--fill-color);\n",
              "      border-left-color: var(--fill-color);\n",
              "    }\n",
              "    20% {\n",
              "      border-color: transparent;\n",
              "      border-left-color: var(--fill-color);\n",
              "      border-top-color: var(--fill-color);\n",
              "    }\n",
              "    30% {\n",
              "      border-color: transparent;\n",
              "      border-left-color: var(--fill-color);\n",
              "      border-top-color: var(--fill-color);\n",
              "      border-right-color: var(--fill-color);\n",
              "    }\n",
              "    40% {\n",
              "      border-color: transparent;\n",
              "      border-right-color: var(--fill-color);\n",
              "      border-top-color: var(--fill-color);\n",
              "    }\n",
              "    60% {\n",
              "      border-color: transparent;\n",
              "      border-right-color: var(--fill-color);\n",
              "    }\n",
              "    80% {\n",
              "      border-color: transparent;\n",
              "      border-right-color: var(--fill-color);\n",
              "      border-bottom-color: var(--fill-color);\n",
              "    }\n",
              "    90% {\n",
              "      border-color: transparent;\n",
              "      border-bottom-color: var(--fill-color);\n",
              "    }\n",
              "  }\n",
              "</style>\n",
              "\n",
              "  <script>\n",
              "    async function quickchart(key) {\n",
              "      const quickchartButtonEl =\n",
              "        document.querySelector('#' + key + ' button');\n",
              "      quickchartButtonEl.disabled = true;  // To prevent multiple clicks.\n",
              "      quickchartButtonEl.classList.add('colab-df-spinner');\n",
              "      try {\n",
              "        const charts = await google.colab.kernel.invokeFunction(\n",
              "            'suggestCharts', [key], {});\n",
              "      } catch (error) {\n",
              "        console.error('Error during call to suggestCharts:', error);\n",
              "      }\n",
              "      quickchartButtonEl.classList.remove('colab-df-spinner');\n",
              "      quickchartButtonEl.classList.add('colab-df-quickchart-complete');\n",
              "    }\n",
              "    (() => {\n",
              "      let quickchartButtonEl =\n",
              "        document.querySelector('#df-9c30e021-2306-4971-86d7-b36234bec37b button');\n",
              "      quickchartButtonEl.style.display =\n",
              "        google.colab.kernel.accessAllowed ? 'block' : 'none';\n",
              "    })();\n",
              "  </script>\n",
              "</div>\n",
              "    </div>\n",
              "  </div>\n"
            ],
            "application/vnd.google.colaboratory.intrinsic+json": {
              "type": "dataframe",
              "variable_name": "df_train",
              "summary": "{\n  \"name\": \"df_train\",\n  \"rows\": 3320,\n  \"fields\": [\n    {\n      \"column\": \"Length\",\n      \"properties\": {\n        \"dtype\": \"number\",\n        \"std\": 0.1211637312978371,\n        \"min\": 0.075,\n        \"max\": 0.815,\n        \"num_unique_values\": 132,\n        \"samples\": [\n          0.64,\n          0.26,\n          0.575\n        ],\n        \"semantic_type\": \"\",\n        \"description\": \"\"\n      }\n    },\n    {\n      \"column\": \"Diameter\",\n      \"properties\": {\n        \"dtype\": \"number\",\n        \"std\": 0.10011993587250158,\n        \"min\": 0.055,\n        \"max\": 0.65,\n        \"num_unique_values\": 110,\n        \"samples\": [\n          0.23,\n          0.3,\n          0.42\n        ],\n        \"semantic_type\": \"\",\n        \"description\": \"\"\n      }\n    },\n    {\n      \"column\": \"Height\",\n      \"properties\": {\n        \"dtype\": \"number\",\n        \"std\": 0.042708242545774634,\n        \"min\": 0.0,\n        \"max\": 1.13,\n        \"num_unique_values\": 51,\n        \"samples\": [\n          0.22,\n          0.04,\n          0.015\n        ],\n        \"semantic_type\": \"\",\n        \"description\": \"\"\n      }\n    },\n    {\n      \"column\": \"Whole weight\",\n      \"properties\": {\n        \"dtype\": \"number\",\n        \"std\": 0.4911819792381134,\n        \"min\": 0.002,\n        \"max\": 2.8255,\n        \"num_unique_values\": 2145,\n        \"samples\": [\n          1.145,\n          0.499,\n          0.9415\n        ],\n        \"semantic_type\": \"\",\n        \"description\": \"\"\n      }\n    },\n    {\n      \"column\": \"Shucked weight\",\n      \"properties\": {\n        \"dtype\": \"number\",\n        \"std\": 0.22222323442145425,\n        \"min\": 0.001,\n        \"max\": 1.488,\n        \"num_unique_values\": 1409,\n        \"samples\": [\n          0.13,\n          0.4,\n          0.214\n        ],\n        \"semantic_type\": \"\",\n        \"description\": \"\"\n      }\n    },\n    {\n      \"column\": \"Viscera weight\",\n      \"properties\": {\n        \"dtype\": \"number\",\n        \"std\": 0.11018177158931347,\n        \"min\": 0.0005,\n        \"max\": 0.76,\n        \"num_unique_values\": 845,\n        \"samples\": [\n          0.097,\n          0.071,\n          0.541\n        ],\n        \"semantic_type\": \"\",\n        \"description\": \"\"\n      }\n    },\n    {\n      \"column\": \"Shell weight\",\n      \"properties\": {\n        \"dtype\": \"number\",\n        \"std\": 0.14026098949905888,\n        \"min\": 0.0015,\n        \"max\": 1.005,\n        \"num_unique_values\": 855,\n        \"samples\": [\n          0.3045,\n          0.1255,\n          0.2035\n        ],\n        \"semantic_type\": \"\",\n        \"description\": \"\"\n      }\n    },\n    {\n      \"column\": \"Age\",\n      \"properties\": {\n        \"dtype\": \"number\",\n        \"std\": 3,\n        \"min\": 1,\n        \"max\": 27,\n        \"num_unique_values\": 26,\n        \"samples\": [\n          12,\n          4,\n          7\n        ],\n        \"semantic_type\": \"\",\n        \"description\": \"\"\n      }\n    }\n  ]\n}"
            }
          },
          "metadata": {},
          "execution_count": 7
        }
      ]
    },
    {
      "cell_type": "code",
      "source": [
        "df_train.describe()"
      ],
      "metadata": {
        "id": "Ng2xH05ukOG1",
        "outputId": "b0e58b98-4ba2-4f4a-cab3-a6d5afaf0c6f",
        "colab": {
          "base_uri": "https://localhost:8080/",
          "height": 338
        }
      },
      "execution_count": 4,
      "outputs": [
        {
          "output_type": "execute_result",
          "data": {
            "text/plain": [
              "            Length     Diameter       Height  ...  Viscera weight  Shell weight          Age\n",
              "count  3320.000000  3320.000000  3320.000000  ...     3320.000000   3320.000000  3320.000000\n",
              "mean      0.522693     0.406575     0.139271  ...        0.180162      0.237921     9.896988\n",
              "std       0.121164     0.100120     0.042708  ...        0.110182      0.140261     3.205654\n",
              "min       0.075000     0.055000     0.000000  ...        0.000500      0.001500     1.000000\n",
              "25%       0.450000     0.345000     0.115000  ...        0.092000      0.127375     8.000000\n",
              "50%       0.540000     0.425000     0.140000  ...        0.170750      0.230000     9.000000\n",
              "75%       0.615000     0.480000     0.165000  ...        0.253125      0.325000    11.000000\n",
              "max       0.815000     0.650000     1.130000  ...        0.760000      1.005000    27.000000\n",
              "\n",
              "[8 rows x 8 columns]"
            ],
            "text/html": [
              "\n",
              "  <div id=\"df-6a820501-7066-4741-bad6-d7b459de2809\" class=\"colab-df-container\">\n",
              "    <div>\n",
              "<style scoped>\n",
              "    .dataframe tbody tr th:only-of-type {\n",
              "        vertical-align: middle;\n",
              "    }\n",
              "\n",
              "    .dataframe tbody tr th {\n",
              "        vertical-align: top;\n",
              "    }\n",
              "\n",
              "    .dataframe thead th {\n",
              "        text-align: right;\n",
              "    }\n",
              "</style>\n",
              "<table border=\"1\" class=\"dataframe\">\n",
              "  <thead>\n",
              "    <tr style=\"text-align: right;\">\n",
              "      <th></th>\n",
              "      <th>Length</th>\n",
              "      <th>Diameter</th>\n",
              "      <th>Height</th>\n",
              "      <th>Whole weight</th>\n",
              "      <th>Shucked weight</th>\n",
              "      <th>Viscera weight</th>\n",
              "      <th>Shell weight</th>\n",
              "      <th>Age</th>\n",
              "    </tr>\n",
              "  </thead>\n",
              "  <tbody>\n",
              "    <tr>\n",
              "      <th>count</th>\n",
              "      <td>3320.000000</td>\n",
              "      <td>3320.000000</td>\n",
              "      <td>3320.000000</td>\n",
              "      <td>3320.000000</td>\n",
              "      <td>3320.000000</td>\n",
              "      <td>3320.000000</td>\n",
              "      <td>3320.000000</td>\n",
              "      <td>3320.000000</td>\n",
              "    </tr>\n",
              "    <tr>\n",
              "      <th>mean</th>\n",
              "      <td>0.522693</td>\n",
              "      <td>0.406575</td>\n",
              "      <td>0.139271</td>\n",
              "      <td>0.824734</td>\n",
              "      <td>0.357705</td>\n",
              "      <td>0.180162</td>\n",
              "      <td>0.237921</td>\n",
              "      <td>9.896988</td>\n",
              "    </tr>\n",
              "    <tr>\n",
              "      <th>std</th>\n",
              "      <td>0.121164</td>\n",
              "      <td>0.100120</td>\n",
              "      <td>0.042708</td>\n",
              "      <td>0.491182</td>\n",
              "      <td>0.222223</td>\n",
              "      <td>0.110182</td>\n",
              "      <td>0.140261</td>\n",
              "      <td>3.205654</td>\n",
              "    </tr>\n",
              "    <tr>\n",
              "      <th>min</th>\n",
              "      <td>0.075000</td>\n",
              "      <td>0.055000</td>\n",
              "      <td>0.000000</td>\n",
              "      <td>0.002000</td>\n",
              "      <td>0.001000</td>\n",
              "      <td>0.000500</td>\n",
              "      <td>0.001500</td>\n",
              "      <td>1.000000</td>\n",
              "    </tr>\n",
              "    <tr>\n",
              "      <th>25%</th>\n",
              "      <td>0.450000</td>\n",
              "      <td>0.345000</td>\n",
              "      <td>0.115000</td>\n",
              "      <td>0.436375</td>\n",
              "      <td>0.181500</td>\n",
              "      <td>0.092000</td>\n",
              "      <td>0.127375</td>\n",
              "      <td>8.000000</td>\n",
              "    </tr>\n",
              "    <tr>\n",
              "      <th>50%</th>\n",
              "      <td>0.540000</td>\n",
              "      <td>0.425000</td>\n",
              "      <td>0.140000</td>\n",
              "      <td>0.795250</td>\n",
              "      <td>0.335500</td>\n",
              "      <td>0.170750</td>\n",
              "      <td>0.230000</td>\n",
              "      <td>9.000000</td>\n",
              "    </tr>\n",
              "    <tr>\n",
              "      <th>75%</th>\n",
              "      <td>0.615000</td>\n",
              "      <td>0.480000</td>\n",
              "      <td>0.165000</td>\n",
              "      <td>1.150000</td>\n",
              "      <td>0.504500</td>\n",
              "      <td>0.253125</td>\n",
              "      <td>0.325000</td>\n",
              "      <td>11.000000</td>\n",
              "    </tr>\n",
              "    <tr>\n",
              "      <th>max</th>\n",
              "      <td>0.815000</td>\n",
              "      <td>0.650000</td>\n",
              "      <td>1.130000</td>\n",
              "      <td>2.825500</td>\n",
              "      <td>1.488000</td>\n",
              "      <td>0.760000</td>\n",
              "      <td>1.005000</td>\n",
              "      <td>27.000000</td>\n",
              "    </tr>\n",
              "  </tbody>\n",
              "</table>\n",
              "</div>\n",
              "    <div class=\"colab-df-buttons\">\n",
              "\n",
              "  <div class=\"colab-df-container\">\n",
              "    <button class=\"colab-df-convert\" onclick=\"convertToInteractive('df-6a820501-7066-4741-bad6-d7b459de2809')\"\n",
              "            title=\"Convert this dataframe to an interactive table.\"\n",
              "            style=\"display:none;\">\n",
              "\n",
              "  <svg xmlns=\"http://www.w3.org/2000/svg\" height=\"24px\" viewBox=\"0 -960 960 960\">\n",
              "    <path d=\"M120-120v-720h720v720H120Zm60-500h600v-160H180v160Zm220 220h160v-160H400v160Zm0 220h160v-160H400v160ZM180-400h160v-160H180v160Zm440 0h160v-160H620v160ZM180-180h160v-160H180v160Zm440 0h160v-160H620v160Z\"/>\n",
              "  </svg>\n",
              "    </button>\n",
              "\n",
              "  <style>\n",
              "    .colab-df-container {\n",
              "      display:flex;\n",
              "      gap: 12px;\n",
              "    }\n",
              "\n",
              "    .colab-df-convert {\n",
              "      background-color: #E8F0FE;\n",
              "      border: none;\n",
              "      border-radius: 50%;\n",
              "      cursor: pointer;\n",
              "      display: none;\n",
              "      fill: #1967D2;\n",
              "      height: 32px;\n",
              "      padding: 0 0 0 0;\n",
              "      width: 32px;\n",
              "    }\n",
              "\n",
              "    .colab-df-convert:hover {\n",
              "      background-color: #E2EBFA;\n",
              "      box-shadow: 0px 1px 2px rgba(60, 64, 67, 0.3), 0px 1px 3px 1px rgba(60, 64, 67, 0.15);\n",
              "      fill: #174EA6;\n",
              "    }\n",
              "\n",
              "    .colab-df-buttons div {\n",
              "      margin-bottom: 4px;\n",
              "    }\n",
              "\n",
              "    [theme=dark] .colab-df-convert {\n",
              "      background-color: #3B4455;\n",
              "      fill: #D2E3FC;\n",
              "    }\n",
              "\n",
              "    [theme=dark] .colab-df-convert:hover {\n",
              "      background-color: #434B5C;\n",
              "      box-shadow: 0px 1px 3px 1px rgba(0, 0, 0, 0.15);\n",
              "      filter: drop-shadow(0px 1px 2px rgba(0, 0, 0, 0.3));\n",
              "      fill: #FFFFFF;\n",
              "    }\n",
              "  </style>\n",
              "\n",
              "    <script>\n",
              "      const buttonEl =\n",
              "        document.querySelector('#df-6a820501-7066-4741-bad6-d7b459de2809 button.colab-df-convert');\n",
              "      buttonEl.style.display =\n",
              "        google.colab.kernel.accessAllowed ? 'block' : 'none';\n",
              "\n",
              "      async function convertToInteractive(key) {\n",
              "        const element = document.querySelector('#df-6a820501-7066-4741-bad6-d7b459de2809');\n",
              "        const dataTable =\n",
              "          await google.colab.kernel.invokeFunction('convertToInteractive',\n",
              "                                                    [key], {});\n",
              "        if (!dataTable) return;\n",
              "\n",
              "        const docLinkHtml = 'Like what you see? Visit the ' +\n",
              "          '<a target=\"_blank\" href=https://colab.research.google.com/notebooks/data_table.ipynb>data table notebook</a>'\n",
              "          + ' to learn more about interactive tables.';\n",
              "        element.innerHTML = '';\n",
              "        dataTable['output_type'] = 'display_data';\n",
              "        await google.colab.output.renderOutput(dataTable, element);\n",
              "        const docLink = document.createElement('div');\n",
              "        docLink.innerHTML = docLinkHtml;\n",
              "        element.appendChild(docLink);\n",
              "      }\n",
              "    </script>\n",
              "  </div>\n",
              "\n",
              "\n",
              "<div id=\"df-9c38a9a5-4ce8-4a7b-9a04-839d04c97ad3\">\n",
              "  <button class=\"colab-df-quickchart\" onclick=\"quickchart('df-9c38a9a5-4ce8-4a7b-9a04-839d04c97ad3')\"\n",
              "            title=\"Suggest charts\"\n",
              "            style=\"display:none;\">\n",
              "\n",
              "<svg xmlns=\"http://www.w3.org/2000/svg\" height=\"24px\"viewBox=\"0 0 24 24\"\n",
              "     width=\"24px\">\n",
              "    <g>\n",
              "        <path d=\"M19 3H5c-1.1 0-2 .9-2 2v14c0 1.1.9 2 2 2h14c1.1 0 2-.9 2-2V5c0-1.1-.9-2-2-2zM9 17H7v-7h2v7zm4 0h-2V7h2v10zm4 0h-2v-4h2v4z\"/>\n",
              "    </g>\n",
              "</svg>\n",
              "  </button>\n",
              "\n",
              "<style>\n",
              "  .colab-df-quickchart {\n",
              "      --bg-color: #E8F0FE;\n",
              "      --fill-color: #1967D2;\n",
              "      --hover-bg-color: #E2EBFA;\n",
              "      --hover-fill-color: #174EA6;\n",
              "      --disabled-fill-color: #AAA;\n",
              "      --disabled-bg-color: #DDD;\n",
              "  }\n",
              "\n",
              "  [theme=dark] .colab-df-quickchart {\n",
              "      --bg-color: #3B4455;\n",
              "      --fill-color: #D2E3FC;\n",
              "      --hover-bg-color: #434B5C;\n",
              "      --hover-fill-color: #FFFFFF;\n",
              "      --disabled-bg-color: #3B4455;\n",
              "      --disabled-fill-color: #666;\n",
              "  }\n",
              "\n",
              "  .colab-df-quickchart {\n",
              "    background-color: var(--bg-color);\n",
              "    border: none;\n",
              "    border-radius: 50%;\n",
              "    cursor: pointer;\n",
              "    display: none;\n",
              "    fill: var(--fill-color);\n",
              "    height: 32px;\n",
              "    padding: 0;\n",
              "    width: 32px;\n",
              "  }\n",
              "\n",
              "  .colab-df-quickchart:hover {\n",
              "    background-color: var(--hover-bg-color);\n",
              "    box-shadow: 0 1px 2px rgba(60, 64, 67, 0.3), 0 1px 3px 1px rgba(60, 64, 67, 0.15);\n",
              "    fill: var(--button-hover-fill-color);\n",
              "  }\n",
              "\n",
              "  .colab-df-quickchart-complete:disabled,\n",
              "  .colab-df-quickchart-complete:disabled:hover {\n",
              "    background-color: var(--disabled-bg-color);\n",
              "    fill: var(--disabled-fill-color);\n",
              "    box-shadow: none;\n",
              "  }\n",
              "\n",
              "  .colab-df-spinner {\n",
              "    border: 2px solid var(--fill-color);\n",
              "    border-color: transparent;\n",
              "    border-bottom-color: var(--fill-color);\n",
              "    animation:\n",
              "      spin 1s steps(1) infinite;\n",
              "  }\n",
              "\n",
              "  @keyframes spin {\n",
              "    0% {\n",
              "      border-color: transparent;\n",
              "      border-bottom-color: var(--fill-color);\n",
              "      border-left-color: var(--fill-color);\n",
              "    }\n",
              "    20% {\n",
              "      border-color: transparent;\n",
              "      border-left-color: var(--fill-color);\n",
              "      border-top-color: var(--fill-color);\n",
              "    }\n",
              "    30% {\n",
              "      border-color: transparent;\n",
              "      border-left-color: var(--fill-color);\n",
              "      border-top-color: var(--fill-color);\n",
              "      border-right-color: var(--fill-color);\n",
              "    }\n",
              "    40% {\n",
              "      border-color: transparent;\n",
              "      border-right-color: var(--fill-color);\n",
              "      border-top-color: var(--fill-color);\n",
              "    }\n",
              "    60% {\n",
              "      border-color: transparent;\n",
              "      border-right-color: var(--fill-color);\n",
              "    }\n",
              "    80% {\n",
              "      border-color: transparent;\n",
              "      border-right-color: var(--fill-color);\n",
              "      border-bottom-color: var(--fill-color);\n",
              "    }\n",
              "    90% {\n",
              "      border-color: transparent;\n",
              "      border-bottom-color: var(--fill-color);\n",
              "    }\n",
              "  }\n",
              "</style>\n",
              "\n",
              "  <script>\n",
              "    async function quickchart(key) {\n",
              "      const quickchartButtonEl =\n",
              "        document.querySelector('#' + key + ' button');\n",
              "      quickchartButtonEl.disabled = true;  // To prevent multiple clicks.\n",
              "      quickchartButtonEl.classList.add('colab-df-spinner');\n",
              "      try {\n",
              "        const charts = await google.colab.kernel.invokeFunction(\n",
              "            'suggestCharts', [key], {});\n",
              "      } catch (error) {\n",
              "        console.error('Error during call to suggestCharts:', error);\n",
              "      }\n",
              "      quickchartButtonEl.classList.remove('colab-df-spinner');\n",
              "      quickchartButtonEl.classList.add('colab-df-quickchart-complete');\n",
              "    }\n",
              "    (() => {\n",
              "      let quickchartButtonEl =\n",
              "        document.querySelector('#df-9c38a9a5-4ce8-4a7b-9a04-839d04c97ad3 button');\n",
              "      quickchartButtonEl.style.display =\n",
              "        google.colab.kernel.accessAllowed ? 'block' : 'none';\n",
              "    })();\n",
              "  </script>\n",
              "</div>\n",
              "    </div>\n",
              "  </div>\n"
            ],
            "application/vnd.google.colaboratory.intrinsic+json": {
              "type": "dataframe",
              "summary": "{\n  \"name\": \"df_train\",\n  \"rows\": 8,\n  \"fields\": [\n    {\n      \"column\": \"Length\",\n      \"properties\": {\n        \"dtype\": \"number\",\n        \"std\": 1173.638746293758,\n        \"min\": 0.075,\n        \"max\": 3320.0,\n        \"num_unique_values\": 8,\n        \"samples\": [\n          0.5226927710843373,\n          0.54,\n          3320.0\n        ],\n        \"semantic_type\": \"\",\n        \"description\": \"\"\n      }\n    },\n    {\n      \"column\": \"Diameter\",\n      \"properties\": {\n        \"dtype\": \"number\",\n        \"std\": 1173.6729385238689,\n        \"min\": 0.055,\n        \"max\": 3320.0,\n        \"num_unique_values\": 8,\n        \"samples\": [\n          0.4065753012048193,\n          0.425,\n          3320.0\n        ],\n        \"semantic_type\": \"\",\n        \"description\": \"\"\n      }\n    },\n    {\n      \"column\": \"Height\",\n      \"properties\": {\n        \"dtype\": \"number\",\n        \"std\": 1173.70983517831,\n        \"min\": 0.0,\n        \"max\": 3320.0,\n        \"num_unique_values\": 8,\n        \"samples\": [\n          0.1392710843373494,\n          0.14,\n          3320.0\n        ],\n        \"semantic_type\": \"\",\n        \"description\": \"\"\n      }\n    },\n    {\n      \"column\": \"Whole weight\",\n      \"properties\": {\n        \"dtype\": \"number\",\n        \"std\": 1173.4679948041758,\n        \"min\": 0.002,\n        \"max\": 3320.0,\n        \"num_unique_values\": 8,\n        \"samples\": [\n          0.8247344879518074,\n          0.79525,\n          3320.0\n        ],\n        \"semantic_type\": \"\",\n        \"description\": \"\"\n      }\n    },\n    {\n      \"column\": \"Shucked weight\",\n      \"properties\": {\n        \"dtype\": \"number\",\n        \"std\": 1173.641253444102,\n        \"min\": 0.001,\n        \"max\": 3320.0,\n        \"num_unique_values\": 8,\n        \"samples\": [\n          0.35770466867469874,\n          0.3355,\n          3320.0\n        ],\n        \"semantic_type\": \"\",\n        \"description\": \"\"\n      }\n    },\n    {\n      \"column\": \"Viscera weight\",\n      \"properties\": {\n        \"dtype\": \"number\",\n        \"std\": 1173.7181482484305,\n        \"min\": 0.0005,\n        \"max\": 3320.0,\n        \"num_unique_values\": 8,\n        \"samples\": [\n          0.1801617469879518,\n          0.17075,\n          3320.0\n        ],\n        \"semantic_type\": \"\",\n        \"description\": \"\"\n      }\n    },\n    {\n      \"column\": \"Shell weight\",\n      \"properties\": {\n        \"dtype\": \"number\",\n        \"std\": 1173.6928942426212,\n        \"min\": 0.0015,\n        \"max\": 3320.0,\n        \"num_unique_values\": 8,\n        \"samples\": [\n          0.2379206325301205,\n          0.23,\n          3320.0\n        ],\n        \"semantic_type\": \"\",\n        \"description\": \"\"\n      }\n    },\n    {\n      \"column\": \"Age\",\n      \"properties\": {\n        \"dtype\": \"number\",\n        \"std\": 1170.332805946877,\n        \"min\": 1.0,\n        \"max\": 3320.0,\n        \"num_unique_values\": 8,\n        \"samples\": [\n          9.89698795180723,\n          9.0,\n          3320.0\n        ],\n        \"semantic_type\": \"\",\n        \"description\": \"\"\n      }\n    }\n  ]\n}"
            }
          },
          "metadata": {},
          "execution_count": 4
        }
      ]
    },
    {
      "cell_type": "code",
      "source": [
        "y_train = df_train.pop('Age')\n",
        "X_train = df_train.copy()\n",
        "\n",
        "y_test = df_test.pop('Age')\n",
        "X_test = df_test.copy()"
      ],
      "metadata": {
        "id": "Mln-SOMIkc6C"
      },
      "execution_count": 8,
      "outputs": []
    },
    {
      "cell_type": "code",
      "source": [
        "print(f'X_train shape: {X_train.shape}, X_test shape: {X_test.shape}')"
      ],
      "metadata": {
        "id": "EBpzGFHykmYr",
        "outputId": "c65c4aef-6ad1-46d9-d6cb-19e999c14acc",
        "colab": {
          "base_uri": "https://localhost:8080/"
        }
      },
      "execution_count": 9,
      "outputs": [
        {
          "output_type": "stream",
          "name": "stdout",
          "text": [
            "X_train shape: (3320, 7), X_test shape: (850, 7)\n"
          ]
        }
      ]
    },
    {
      "cell_type": "markdown",
      "source": [
        "## Regression Losses\n",
        "\n",
        "- **Mean Squared Error (MSE)**:\n",
        "\n",
        "```python\n",
        "tf.keras.losses.MSE\n",
        "```\n",
        "```python\n",
        "model.compile(loss='mse') or model.compile(loss=tf.keras.losses.MSE)\n",
        "```\n",
        "\n",
        "$$ \\mathrm{MSE} = \\frac{\\sum_{i=1}^n\\left( y_i - \\hat{y_i}\\right)^2}{n}$$\n",
        "\n",
        "\n",
        "- **Mean Absolute Error (MAE)**:\n",
        "\n",
        "```python\n",
        "tf.keras.losses.MAE\n",
        "```\n",
        "```python\n",
        "model.compile(loss='mae') or model.compile(loss=tf.keras.losses.MAE)\n",
        "```\n",
        "\n",
        "$$ \\mathrm{MAE} = \\frac{\\sum_{i=1}^n\\left| y_i - \\hat{y_i}\\right|}{n}$$\n"
      ],
      "metadata": {
        "id": "ImqPwUzxlKkh"
      }
    },
    {
      "cell_type": "markdown",
      "source": [
        "## Question 1: Create a sequential net with at least 1 hidden layer"
      ],
      "metadata": {
        "id": "jrHfIjAelPfZ"
      }
    },
    {
      "cell_type": "code",
      "source": [
        "model = keras.Sequential()\n",
        "\n",
        "model.add(layers.Dense(64, input_shape=(7,), activation='relu'))\n",
        "\n",
        "model.add(layers.Dense(1, activation='linear'))\n",
        "\n",
        "## model summary\n",
        "model.summary()"
      ],
      "metadata": {
        "id": "G-lncRcgkrwZ",
        "outputId": "e6100f39-8826-4b1f-fb2d-373a02f0e006",
        "colab": {
          "base_uri": "https://localhost:8080/"
        }
      },
      "execution_count": 10,
      "outputs": [
        {
          "output_type": "stream",
          "name": "stdout",
          "text": [
            "Model: \"sequential\"\n",
            "_________________________________________________________________\n",
            " Layer (type)                Output Shape              Param #   \n",
            "=================================================================\n",
            " dense (Dense)               (None, 64)                512       \n",
            "                                                                 \n",
            " dense_1 (Dense)             (None, 1)                 65        \n",
            "                                                                 \n",
            "=================================================================\n",
            "Total params: 577 (2.25 KB)\n",
            "Trainable params: 577 (2.25 KB)\n",
            "Non-trainable params: 0 (0.00 Byte)\n",
            "_________________________________________________________________\n"
          ]
        }
      ]
    },
    {
      "cell_type": "code",
      "source": [
        "model.compile(\n",
        "    optimizer='adam',\n",
        "    loss=tf.keras.losses.MSE,\n",
        "    metrics=['mae']\n",
        ")\n",
        "model.fit(X_train, y_train, epochs=50, validation_split=0.2, batch_size=32)"
      ],
      "metadata": {
        "id": "HD05UaLIl-vt",
        "outputId": "30c30c91-303c-4334-a014-1e7b51699830",
        "colab": {
          "base_uri": "https://localhost:8080/"
        }
      },
      "execution_count": 11,
      "outputs": [
        {
          "output_type": "stream",
          "name": "stdout",
          "text": [
            "Epoch 1/50\n",
            "83/83 [==============================] - 1s 8ms/step - loss: 95.2452 - mae: 9.2369 - val_loss: 75.6884 - val_mae: 8.1784\n",
            "Epoch 2/50\n",
            "83/83 [==============================] - 0s 3ms/step - loss: 52.7590 - mae: 6.6252 - val_loss: 31.0324 - val_mae: 4.8844\n",
            "Epoch 3/50\n",
            "83/83 [==============================] - 0s 2ms/step - loss: 18.2592 - mae: 3.3052 - val_loss: 10.7482 - val_mae: 2.3619\n",
            "Epoch 4/50\n",
            "83/83 [==============================] - 0s 2ms/step - loss: 9.0700 - mae: 2.1246 - val_loss: 8.4788 - val_mae: 2.1284\n",
            "Epoch 5/50\n",
            "83/83 [==============================] - 0s 2ms/step - loss: 8.3732 - mae: 2.0876 - val_loss: 8.2488 - val_mae: 2.0982\n",
            "Epoch 6/50\n",
            "83/83 [==============================] - 0s 2ms/step - loss: 8.1716 - mae: 2.0533 - val_loss: 8.0250 - val_mae: 2.0658\n",
            "Epoch 7/50\n",
            "83/83 [==============================] - 0s 2ms/step - loss: 7.9500 - mae: 2.0254 - val_loss: 7.8132 - val_mae: 2.0316\n",
            "Epoch 8/50\n",
            "83/83 [==============================] - 0s 3ms/step - loss: 7.7464 - mae: 1.9915 - val_loss: 7.6155 - val_mae: 2.0042\n",
            "Epoch 9/50\n",
            "83/83 [==============================] - 0s 2ms/step - loss: 7.5358 - mae: 1.9688 - val_loss: 7.3970 - val_mae: 1.9663\n",
            "Epoch 10/50\n",
            "83/83 [==============================] - 0s 2ms/step - loss: 7.3074 - mae: 1.9288 - val_loss: 7.1720 - val_mae: 1.9323\n",
            "Epoch 11/50\n",
            "83/83 [==============================] - 0s 2ms/step - loss: 7.1010 - mae: 1.9005 - val_loss: 6.9858 - val_mae: 1.9011\n",
            "Epoch 12/50\n",
            "83/83 [==============================] - 0s 3ms/step - loss: 6.9105 - mae: 1.8762 - val_loss: 6.7990 - val_mae: 1.9062\n",
            "Epoch 13/50\n",
            "83/83 [==============================] - 0s 3ms/step - loss: 6.7607 - mae: 1.8662 - val_loss: 6.6549 - val_mae: 1.9059\n",
            "Epoch 14/50\n",
            "83/83 [==============================] - 0s 3ms/step - loss: 6.6353 - mae: 1.8477 - val_loss: 6.5471 - val_mae: 1.8900\n",
            "Epoch 15/50\n",
            "83/83 [==============================] - 0s 2ms/step - loss: 6.5250 - mae: 1.8450 - val_loss: 6.4599 - val_mae: 1.8654\n",
            "Epoch 16/50\n",
            "83/83 [==============================] - 0s 2ms/step - loss: 6.4428 - mae: 1.8297 - val_loss: 6.3780 - val_mae: 1.9014\n",
            "Epoch 17/50\n",
            "83/83 [==============================] - 0s 3ms/step - loss: 6.3487 - mae: 1.8154 - val_loss: 6.2917 - val_mae: 1.8645\n",
            "Epoch 18/50\n",
            "83/83 [==============================] - 0s 3ms/step - loss: 6.2684 - mae: 1.8130 - val_loss: 6.2206 - val_mae: 1.8444\n",
            "Epoch 19/50\n",
            "83/83 [==============================] - 0s 2ms/step - loss: 6.1813 - mae: 1.8074 - val_loss: 6.1670 - val_mae: 1.8108\n",
            "Epoch 20/50\n",
            "83/83 [==============================] - 0s 2ms/step - loss: 6.0877 - mae: 1.7726 - val_loss: 6.0740 - val_mae: 1.8511\n",
            "Epoch 21/50\n",
            "83/83 [==============================] - 0s 3ms/step - loss: 5.9960 - mae: 1.7663 - val_loss: 5.9785 - val_mae: 1.7886\n",
            "Epoch 22/50\n",
            "83/83 [==============================] - 0s 3ms/step - loss: 5.8987 - mae: 1.7566 - val_loss: 5.8847 - val_mae: 1.7761\n",
            "Epoch 23/50\n",
            "83/83 [==============================] - 0s 2ms/step - loss: 5.8187 - mae: 1.7276 - val_loss: 5.7964 - val_mae: 1.7944\n",
            "Epoch 24/50\n",
            "83/83 [==============================] - 0s 3ms/step - loss: 5.7482 - mae: 1.7415 - val_loss: 5.7348 - val_mae: 1.8019\n",
            "Epoch 25/50\n",
            "83/83 [==============================] - 0s 2ms/step - loss: 5.6337 - mae: 1.7156 - val_loss: 5.6727 - val_mae: 1.7122\n",
            "Epoch 26/50\n",
            "83/83 [==============================] - 0s 3ms/step - loss: 5.5498 - mae: 1.7035 - val_loss: 5.5568 - val_mae: 1.7500\n",
            "Epoch 27/50\n",
            "83/83 [==============================] - 0s 2ms/step - loss: 5.4716 - mae: 1.6867 - val_loss: 5.4819 - val_mae: 1.7385\n",
            "Epoch 28/50\n",
            "83/83 [==============================] - 0s 3ms/step - loss: 5.3817 - mae: 1.6803 - val_loss: 5.4246 - val_mae: 1.7369\n",
            "Epoch 29/50\n",
            "83/83 [==============================] - 0s 2ms/step - loss: 5.3090 - mae: 1.6690 - val_loss: 5.3853 - val_mae: 1.6655\n",
            "Epoch 30/50\n",
            "83/83 [==============================] - 0s 2ms/step - loss: 5.2389 - mae: 1.6531 - val_loss: 5.3219 - val_mae: 1.7364\n",
            "Epoch 31/50\n",
            "83/83 [==============================] - 0s 2ms/step - loss: 5.1556 - mae: 1.6517 - val_loss: 5.2367 - val_mae: 1.6864\n",
            "Epoch 32/50\n",
            "83/83 [==============================] - 0s 2ms/step - loss: 5.1178 - mae: 1.6439 - val_loss: 5.1920 - val_mae: 1.6752\n",
            "Epoch 33/50\n",
            "83/83 [==============================] - 0s 3ms/step - loss: 5.0806 - mae: 1.6366 - val_loss: 5.1652 - val_mae: 1.6872\n",
            "Epoch 34/50\n",
            "83/83 [==============================] - 0s 2ms/step - loss: 5.0474 - mae: 1.6347 - val_loss: 5.1769 - val_mae: 1.6271\n",
            "Epoch 35/50\n",
            "83/83 [==============================] - 0s 2ms/step - loss: 5.0135 - mae: 1.6274 - val_loss: 5.1656 - val_mae: 1.7182\n",
            "Epoch 36/50\n",
            "83/83 [==============================] - 0s 2ms/step - loss: 4.9733 - mae: 1.6389 - val_loss: 5.0937 - val_mae: 1.6300\n",
            "Epoch 37/50\n",
            "83/83 [==============================] - 0s 3ms/step - loss: 4.9305 - mae: 1.6202 - val_loss: 5.0578 - val_mae: 1.6435\n",
            "Epoch 38/50\n",
            "83/83 [==============================] - 0s 2ms/step - loss: 4.8978 - mae: 1.6148 - val_loss: 5.0442 - val_mae: 1.6298\n",
            "Epoch 39/50\n",
            "83/83 [==============================] - 0s 2ms/step - loss: 4.9382 - mae: 1.6314 - val_loss: 5.0345 - val_mae: 1.6238\n",
            "Epoch 40/50\n",
            "83/83 [==============================] - 0s 3ms/step - loss: 4.8642 - mae: 1.6076 - val_loss: 5.0130 - val_mae: 1.6427\n",
            "Epoch 41/50\n",
            "83/83 [==============================] - 0s 3ms/step - loss: 4.8518 - mae: 1.6057 - val_loss: 5.0453 - val_mae: 1.6786\n",
            "Epoch 42/50\n",
            "83/83 [==============================] - 0s 2ms/step - loss: 4.8633 - mae: 1.6136 - val_loss: 5.0135 - val_mae: 1.6102\n",
            "Epoch 43/50\n",
            "83/83 [==============================] - 0s 3ms/step - loss: 4.8405 - mae: 1.6152 - val_loss: 4.9864 - val_mae: 1.6202\n",
            "Epoch 44/50\n",
            "83/83 [==============================] - 0s 2ms/step - loss: 4.8185 - mae: 1.6079 - val_loss: 5.0342 - val_mae: 1.6792\n",
            "Epoch 45/50\n",
            "83/83 [==============================] - 0s 2ms/step - loss: 4.8390 - mae: 1.6148 - val_loss: 5.0092 - val_mae: 1.6650\n",
            "Epoch 46/50\n",
            "83/83 [==============================] - 0s 2ms/step - loss: 4.8255 - mae: 1.6068 - val_loss: 5.0004 - val_mae: 1.6002\n",
            "Epoch 47/50\n",
            "83/83 [==============================] - 0s 2ms/step - loss: 4.7919 - mae: 1.6116 - val_loss: 4.9936 - val_mae: 1.5987\n",
            "Epoch 48/50\n",
            "83/83 [==============================] - 0s 3ms/step - loss: 4.8018 - mae: 1.6028 - val_loss: 4.9533 - val_mae: 1.6210\n",
            "Epoch 49/50\n",
            "83/83 [==============================] - 0s 3ms/step - loss: 4.7961 - mae: 1.6075 - val_loss: 4.9718 - val_mae: 1.6008\n",
            "Epoch 50/50\n",
            "83/83 [==============================] - 0s 2ms/step - loss: 4.7898 - mae: 1.6075 - val_loss: 4.9652 - val_mae: 1.6017\n"
          ]
        },
        {
          "output_type": "execute_result",
          "data": {
            "text/plain": [
              "<keras.src.callbacks.History at 0x7b8ac51d6f20>"
            ]
          },
          "metadata": {},
          "execution_count": 11
        }
      ]
    },
    {
      "cell_type": "code",
      "source": [
        "results = model.evaluate(X_test, y_test, verbose=1)\n",
        "print('Test Loss: {}'.format(results[0]))"
      ],
      "metadata": {
        "id": "AFkOrCCWmXkt",
        "outputId": "fd94dc8a-403e-4cf7-a37b-53161f7b705b",
        "colab": {
          "base_uri": "https://localhost:8080/"
        }
      },
      "execution_count": 12,
      "outputs": [
        {
          "output_type": "stream",
          "name": "stdout",
          "text": [
            "27/27 [==============================] - 0s 2ms/step - loss: 5.5443 - mae: 1.6291\n",
            "Test Loss: 5.544280052185059\n"
          ]
        }
      ]
    },
    {
      "cell_type": "markdown",
      "source": [
        "## Question 2: Normalize the inputs and train the same model"
      ],
      "metadata": {
        "id": "3iV4vdRZmbOm"
      }
    },
    {
      "cell_type": "code",
      "source": [
        "from sklearn.preprocessing import StandardScaler\n",
        "scaler = StandardScaler()\n",
        "X_train_norm = scaler.fit_transform(X_train)\n",
        "X_test_norm = scaler.transform(X_test)\n",
        "print('X_train mu, sigma', X_train_norm.mean(0), X_train_norm.std(0))\n",
        "print('X_test mu, sigma', X_test_norm.mean(0), X_test_norm.std(0))\n",
        "\n",
        "\"\"\"\n",
        "StandardScaler is first fitted to the training data using fit_transform(X_train).\n",
        "This step calculates the mean and standard deviation of each feature in the training\n",
        "data and then transforms the training data based on these statistics.\n",
        "\n",
        "Once the scaler is fitted to the training data, it has learned the parameters (mean\n",
        "and standard deviation) necessary for standardization. Therefore, when you apply\n",
        "transform(X_test) to the test data, it applies the same transformation (subtracting\n",
        "the mean and dividing by the standard deviation) that was learned from the training\n",
        "data. This ensures that the test data is scaled in the same way as the training data,\n",
        "maintaining consistency and preventing data leakage.\n",
        "\n",
        "In summary, you only need to call transform on the test data after fitting the\n",
        "scaler to the training data because the scaler has already been fitted and learned\n",
        "the necessary parameters during the fit_transform step on the training data.\n",
        "\"\"\";"
      ],
      "metadata": {
        "id": "onL2Zgscmcjd",
        "outputId": "f6113729-3468-41ae-f3f6-f32117a3eb65",
        "colab": {
          "base_uri": "https://localhost:8080/"
        }
      },
      "execution_count": 13,
      "outputs": [
        {
          "output_type": "stream",
          "name": "stdout",
          "text": [
            "X_train mu, sigma [ 2.77689518e-16  4.65491099e-17  2.50402109e-16 -2.81434849e-16\n",
            "  2.18299274e-16  1.77100637e-16 -1.05404306e-16] [1. 1. 1. 1. 1. 1. 1.]\n",
            "X_test mu, sigma [0.05808422 0.06917445 0.03098307 0.04461505 0.04160742 0.02421514\n",
            " 0.03516632] [0.95187926 0.95135017 0.89294094 0.99223632 0.99454932 0.97495047\n",
            " 0.96304109]\n"
          ]
        }
      ]
    },
    {
      "cell_type": "code",
      "source": [
        "model = keras.Sequential()\n",
        "\n",
        "model.add(layers.Dense(64, input_shape=(7,), activation='relu'))\n",
        "\n",
        "model.add(layers.Dense(1, activation='linear'))\n",
        "\n",
        "## model summary\n",
        "model.summary()"
      ],
      "metadata": {
        "id": "d7CCp3MgncHu",
        "outputId": "027423a8-36bf-408e-b0b0-72a42f89410d",
        "colab": {
          "base_uri": "https://localhost:8080/"
        }
      },
      "execution_count": 14,
      "outputs": [
        {
          "output_type": "stream",
          "name": "stdout",
          "text": [
            "Model: \"sequential_1\"\n",
            "_________________________________________________________________\n",
            " Layer (type)                Output Shape              Param #   \n",
            "=================================================================\n",
            " dense_2 (Dense)             (None, 64)                512       \n",
            "                                                                 \n",
            " dense_3 (Dense)             (None, 1)                 65        \n",
            "                                                                 \n",
            "=================================================================\n",
            "Total params: 577 (2.25 KB)\n",
            "Trainable params: 577 (2.25 KB)\n",
            "Non-trainable params: 0 (0.00 Byte)\n",
            "_________________________________________________________________\n"
          ]
        }
      ]
    },
    {
      "cell_type": "code",
      "source": [
        "model.compile(\n",
        "    optimizer='adam',\n",
        "    loss=tf.keras.losses.MSE,\n",
        "    metrics=['mae']\n",
        ")\n",
        "model.fit(X_train_norm, y_train, epochs=50, validation_split=0.2, batch_size=32)"
      ],
      "metadata": {
        "id": "UXSCkqYeniQB",
        "outputId": "f695f756-ccfa-4082-cbaf-8b97dcb6d174",
        "colab": {
          "base_uri": "https://localhost:8080/"
        }
      },
      "execution_count": 15,
      "outputs": [
        {
          "output_type": "stream",
          "name": "stdout",
          "text": [
            "Epoch 1/50\n",
            "83/83 [==============================] - 1s 7ms/step - loss: 88.3675 - mae: 8.7536 - val_loss: 63.7507 - val_mae: 7.1937\n",
            "Epoch 2/50\n",
            "83/83 [==============================] - 0s 6ms/step - loss: 48.5968 - mae: 5.9797 - val_loss: 35.5796 - val_mae: 4.9740\n",
            "Epoch 3/50\n",
            "83/83 [==============================] - 0s 5ms/step - loss: 33.1911 - mae: 4.6880 - val_loss: 28.1183 - val_mae: 4.3733\n",
            "Epoch 4/50\n",
            "83/83 [==============================] - 0s 5ms/step - loss: 26.4509 - mae: 4.1167 - val_loss: 21.5599 - val_mae: 3.7581\n",
            "Epoch 5/50\n",
            "83/83 [==============================] - 0s 3ms/step - loss: 19.2551 - mae: 3.3954 - val_loss: 14.6489 - val_mae: 2.9634\n",
            "Epoch 6/50\n",
            "83/83 [==============================] - 0s 3ms/step - loss: 12.6672 - mae: 2.5850 - val_loss: 9.4219 - val_mae: 2.2134\n",
            "Epoch 7/50\n",
            "83/83 [==============================] - 0s 4ms/step - loss: 8.6633 - mae: 2.0389 - val_loss: 7.1384 - val_mae: 1.8835\n",
            "Epoch 8/50\n",
            "83/83 [==============================] - 0s 4ms/step - loss: 7.1037 - mae: 1.8526 - val_loss: 6.4316 - val_mae: 1.8363\n",
            "Epoch 9/50\n",
            "83/83 [==============================] - 0s 4ms/step - loss: 6.5008 - mae: 1.8196 - val_loss: 6.1602 - val_mae: 1.8113\n",
            "Epoch 10/50\n",
            "83/83 [==============================] - 0s 4ms/step - loss: 6.1479 - mae: 1.7871 - val_loss: 5.9649 - val_mae: 1.7826\n",
            "Epoch 11/50\n",
            "83/83 [==============================] - 0s 4ms/step - loss: 5.8872 - mae: 1.7581 - val_loss: 5.8076 - val_mae: 1.7519\n",
            "Epoch 12/50\n",
            "83/83 [==============================] - 0s 3ms/step - loss: 5.6554 - mae: 1.7260 - val_loss: 5.6378 - val_mae: 1.7277\n",
            "Epoch 13/50\n",
            "83/83 [==============================] - 0s 3ms/step - loss: 5.4682 - mae: 1.7121 - val_loss: 5.5004 - val_mae: 1.7065\n",
            "Epoch 14/50\n",
            "83/83 [==============================] - 0s 5ms/step - loss: 5.2935 - mae: 1.6843 - val_loss: 5.4099 - val_mae: 1.6790\n",
            "Epoch 15/50\n",
            "83/83 [==============================] - 0s 4ms/step - loss: 5.1808 - mae: 1.6681 - val_loss: 5.2755 - val_mae: 1.6708\n",
            "Epoch 16/50\n",
            "83/83 [==============================] - 0s 4ms/step - loss: 5.0560 - mae: 1.6471 - val_loss: 5.2178 - val_mae: 1.6792\n",
            "Epoch 17/50\n",
            "83/83 [==============================] - 0s 4ms/step - loss: 4.9511 - mae: 1.6328 - val_loss: 5.1474 - val_mae: 1.6516\n",
            "Epoch 18/50\n",
            "83/83 [==============================] - 0s 4ms/step - loss: 4.8697 - mae: 1.6254 - val_loss: 5.0514 - val_mae: 1.6299\n",
            "Epoch 19/50\n",
            "83/83 [==============================] - 0s 4ms/step - loss: 4.7901 - mae: 1.6129 - val_loss: 5.0042 - val_mae: 1.6068\n",
            "Epoch 20/50\n",
            "83/83 [==============================] - 0s 3ms/step - loss: 4.7428 - mae: 1.6038 - val_loss: 4.9617 - val_mae: 1.6140\n",
            "Epoch 21/50\n",
            "83/83 [==============================] - 0s 4ms/step - loss: 4.6990 - mae: 1.5977 - val_loss: 4.9021 - val_mae: 1.5910\n",
            "Epoch 22/50\n",
            "83/83 [==============================] - 0s 2ms/step - loss: 4.6478 - mae: 1.5880 - val_loss: 4.8795 - val_mae: 1.5860\n",
            "Epoch 23/50\n",
            "83/83 [==============================] - 0s 2ms/step - loss: 4.6204 - mae: 1.5770 - val_loss: 4.8267 - val_mae: 1.6099\n",
            "Epoch 24/50\n",
            "83/83 [==============================] - 0s 2ms/step - loss: 4.6026 - mae: 1.5829 - val_loss: 4.7914 - val_mae: 1.5857\n",
            "Epoch 25/50\n",
            "83/83 [==============================] - 0s 3ms/step - loss: 4.5561 - mae: 1.5737 - val_loss: 4.8124 - val_mae: 1.5591\n",
            "Epoch 26/50\n",
            "83/83 [==============================] - 0s 2ms/step - loss: 4.5399 - mae: 1.5658 - val_loss: 4.7586 - val_mae: 1.6126\n",
            "Epoch 27/50\n",
            "83/83 [==============================] - 0s 3ms/step - loss: 4.5437 - mae: 1.5725 - val_loss: 4.7202 - val_mae: 1.5733\n",
            "Epoch 28/50\n",
            "83/83 [==============================] - 0s 3ms/step - loss: 4.5085 - mae: 1.5622 - val_loss: 4.7051 - val_mae: 1.5762\n",
            "Epoch 29/50\n",
            "83/83 [==============================] - 0s 2ms/step - loss: 4.5076 - mae: 1.5646 - val_loss: 4.7180 - val_mae: 1.5455\n",
            "Epoch 30/50\n",
            "83/83 [==============================] - 0s 3ms/step - loss: 4.4726 - mae: 1.5521 - val_loss: 4.6631 - val_mae: 1.5665\n",
            "Epoch 31/50\n",
            "83/83 [==============================] - 0s 3ms/step - loss: 4.4529 - mae: 1.5526 - val_loss: 4.6783 - val_mae: 1.5633\n",
            "Epoch 32/50\n",
            "83/83 [==============================] - 0s 2ms/step - loss: 4.4370 - mae: 1.5490 - val_loss: 4.6436 - val_mae: 1.5708\n",
            "Epoch 33/50\n",
            "83/83 [==============================] - 0s 3ms/step - loss: 4.4369 - mae: 1.5492 - val_loss: 4.6439 - val_mae: 1.5523\n",
            "Epoch 34/50\n",
            "83/83 [==============================] - 0s 2ms/step - loss: 4.4205 - mae: 1.5460 - val_loss: 4.6356 - val_mae: 1.5370\n",
            "Epoch 35/50\n",
            "83/83 [==============================] - 0s 2ms/step - loss: 4.4032 - mae: 1.5393 - val_loss: 4.6069 - val_mae: 1.5711\n",
            "Epoch 36/50\n",
            "83/83 [==============================] - 0s 3ms/step - loss: 4.3970 - mae: 1.5453 - val_loss: 4.6029 - val_mae: 1.5319\n",
            "Epoch 37/50\n",
            "83/83 [==============================] - 0s 3ms/step - loss: 4.3799 - mae: 1.5332 - val_loss: 4.5757 - val_mae: 1.5388\n",
            "Epoch 38/50\n",
            "83/83 [==============================] - 0s 2ms/step - loss: 4.3730 - mae: 1.5374 - val_loss: 4.5718 - val_mae: 1.5334\n",
            "Epoch 39/50\n",
            "83/83 [==============================] - 0s 3ms/step - loss: 4.3761 - mae: 1.5360 - val_loss: 4.5583 - val_mae: 1.5312\n",
            "Epoch 40/50\n",
            "83/83 [==============================] - 0s 3ms/step - loss: 4.3593 - mae: 1.5273 - val_loss: 4.5429 - val_mae: 1.5425\n",
            "Epoch 41/50\n",
            "83/83 [==============================] - 0s 3ms/step - loss: 4.3441 - mae: 1.5256 - val_loss: 4.5733 - val_mae: 1.5611\n",
            "Epoch 42/50\n",
            "83/83 [==============================] - 0s 2ms/step - loss: 4.3374 - mae: 1.5268 - val_loss: 4.5489 - val_mae: 1.5368\n",
            "Epoch 43/50\n",
            "83/83 [==============================] - 0s 2ms/step - loss: 4.3451 - mae: 1.5324 - val_loss: 4.5396 - val_mae: 1.5183\n",
            "Epoch 44/50\n",
            "83/83 [==============================] - 0s 2ms/step - loss: 4.3323 - mae: 1.5240 - val_loss: 4.5509 - val_mae: 1.5350\n",
            "Epoch 45/50\n",
            "83/83 [==============================] - 0s 3ms/step - loss: 4.3624 - mae: 1.5326 - val_loss: 4.5170 - val_mae: 1.5503\n",
            "Epoch 46/50\n",
            "83/83 [==============================] - 0s 3ms/step - loss: 4.3306 - mae: 1.5284 - val_loss: 4.5214 - val_mae: 1.5252\n",
            "Epoch 47/50\n",
            "83/83 [==============================] - 0s 3ms/step - loss: 4.3226 - mae: 1.5237 - val_loss: 4.5120 - val_mae: 1.5212\n",
            "Epoch 48/50\n",
            "83/83 [==============================] - 0s 2ms/step - loss: 4.2958 - mae: 1.5168 - val_loss: 4.5405 - val_mae: 1.5107\n",
            "Epoch 49/50\n",
            "83/83 [==============================] - 0s 2ms/step - loss: 4.2942 - mae: 1.5139 - val_loss: 4.4831 - val_mae: 1.5249\n",
            "Epoch 50/50\n",
            "83/83 [==============================] - 0s 3ms/step - loss: 4.2982 - mae: 1.5172 - val_loss: 4.4697 - val_mae: 1.5303\n"
          ]
        },
        {
          "output_type": "execute_result",
          "data": {
            "text/plain": [
              "<keras.src.callbacks.History at 0x7b8ab4255480>"
            ]
          },
          "metadata": {},
          "execution_count": 15
        }
      ]
    },
    {
      "cell_type": "code",
      "source": [
        "results = model.evaluate(X_test_norm, y_test, verbose=1)\n",
        "print('Test Loss: {}'.format(results[0]))"
      ],
      "metadata": {
        "id": "mRmalIP7nq8v",
        "outputId": "77807509-fb47-4108-8e71-199ab5fdbb5f",
        "colab": {
          "base_uri": "https://localhost:8080/"
        }
      },
      "execution_count": 16,
      "outputs": [
        {
          "output_type": "stream",
          "name": "stdout",
          "text": [
            "27/27 [==============================] - 0s 3ms/step - loss: 5.1795 - mae: 1.5734\n",
            "Test Loss: 5.179525852203369\n"
          ]
        }
      ]
    },
    {
      "cell_type": "markdown",
      "source": [
        "## Optimizers:\n",
        "\n",
        "- [SGD](https://www.tensorflow.org/api_docs/python/tf/keras/optimizers/SGD): Gradient descent with momentum\n",
        "```python\n",
        "tf.keras.optimizers.SGD(\n",
        "    learning_rate=0.01, momentum=0.0, nesterov=False, name='SGD', **kwargs\n",
        ")\n",
        "```\n",
        "If momentum is 0:\n",
        "```python\n",
        "w = w - learning_rate * gradient\n",
        "```\n",
        "If we have momentum:\n",
        "\n",
        " ```python\n",
        "velocity = momentum * velocity - learning_rate * g\n",
        "w = w + velocity\n",
        "```\n",
        "\n",
        "\n",
        "- [RMSprop](https://www.tensorflow.org/api_docs/python/tf/keras/optimizers/RMSprop): Root Mean Square Propagation\n",
        "```python\n",
        "tf.keras.optimizers.RMSprop(\n",
        "    learning_rate=0.001, rho=0.9, momentum=0.0, epsilon=1e-07, centered=False,\n",
        "    name='RMSprop', **kwargs\n",
        ")\n",
        "```\n",
        "- [Adam](https://www.tensorflow.org/api_docs/python/tf/keras/optimizers/Adam): Adaptive Moment Estimation,  is an update to the RMSProp algorithm\n",
        "```python\n",
        "tf.keras.optimizers.Adam(\n",
        "    learning_rate=0.001, beta_1=0.9, beta_2=0.999, epsilon=1e-07, amsgrad=False,\n",
        "    name='Adam', **kwargs\n",
        ")\n",
        "```\n",
        "\n",
        "```python\n",
        "model.compile(loss='mse', optimizer='adam')\n",
        "model.compile(loss='mse', optimizer=tf.keras.optimizers.Adam(learning_rate=0.001))\n",
        "```"
      ],
      "metadata": {
        "id": "QD5ehnO_nzRw"
      }
    },
    {
      "cell_type": "markdown",
      "source": [
        "## Question 3: Train the same model with different optimizers"
      ],
      "metadata": {
        "id": "QclYLbXMn6me"
      }
    },
    {
      "cell_type": "code",
      "source": [
        "model = keras.Sequential()\n",
        "\n",
        "model.add(layers.Dense(64, input_shape=(7,), activation='relu'))\n",
        "\n",
        "model.add(layers.Dense(1, activation='linear'))\n",
        "\n",
        "## model summary\n",
        "model.summary()"
      ],
      "metadata": {
        "id": "IvnGHVR6nw4o",
        "outputId": "fa733edd-b2c5-4f0d-94c1-baa0b23c7d65",
        "colab": {
          "base_uri": "https://localhost:8080/"
        }
      },
      "execution_count": 17,
      "outputs": [
        {
          "output_type": "stream",
          "name": "stdout",
          "text": [
            "Model: \"sequential_2\"\n",
            "_________________________________________________________________\n",
            " Layer (type)                Output Shape              Param #   \n",
            "=================================================================\n",
            " dense_4 (Dense)             (None, 64)                512       \n",
            "                                                                 \n",
            " dense_5 (Dense)             (None, 1)                 65        \n",
            "                                                                 \n",
            "=================================================================\n",
            "Total params: 577 (2.25 KB)\n",
            "Trainable params: 577 (2.25 KB)\n",
            "Non-trainable params: 0 (0.00 Byte)\n",
            "_________________________________________________________________\n"
          ]
        }
      ]
    },
    {
      "cell_type": "code",
      "source": [
        "model.compile(\n",
        "    optimizer=tf.keras.optimizers.Adam(learning_rate=0.001),\n",
        "    loss=tf.keras.losses.MSE,\n",
        "    metrics=['mae']\n",
        ")\n",
        "model.fit(X_train_norm, y_train, epochs=50, validation_split=0.2, batch_size=32)"
      ],
      "metadata": {
        "id": "bPlEr-RWoVWt",
        "outputId": "f333eed9-0e54-4f75-a1da-e949bd233235",
        "colab": {
          "base_uri": "https://localhost:8080/"
        }
      },
      "execution_count": 18,
      "outputs": [
        {
          "output_type": "stream",
          "name": "stdout",
          "text": [
            "Epoch 1/50\n",
            "83/83 [==============================] - 2s 13ms/step - loss: 73.7994 - mae: 7.8047 - val_loss: 51.7320 - val_mae: 6.2388\n",
            "Epoch 2/50\n",
            "83/83 [==============================] - 1s 7ms/step - loss: 41.9875 - mae: 5.4103 - val_loss: 32.7266 - val_mae: 4.7615\n",
            "Epoch 3/50\n",
            "83/83 [==============================] - 1s 9ms/step - loss: 30.5096 - mae: 4.4525 - val_loss: 24.3289 - val_mae: 4.0345\n",
            "Epoch 4/50\n",
            "83/83 [==============================] - 0s 6ms/step - loss: 21.2568 - mae: 3.5903 - val_loss: 15.2346 - val_mae: 3.0370\n",
            "Epoch 5/50\n",
            "83/83 [==============================] - 0s 4ms/step - loss: 12.9448 - mae: 2.5977 - val_loss: 9.0044 - val_mae: 2.1595\n",
            "Epoch 6/50\n",
            "83/83 [==============================] - 0s 5ms/step - loss: 8.4225 - mae: 1.9923 - val_loss: 6.7469 - val_mae: 1.8460\n",
            "Epoch 7/50\n",
            "83/83 [==============================] - 0s 3ms/step - loss: 6.8570 - mae: 1.8289 - val_loss: 6.1299 - val_mae: 1.7905\n",
            "Epoch 8/50\n",
            "83/83 [==============================] - 0s 3ms/step - loss: 6.2855 - mae: 1.7772 - val_loss: 5.8522 - val_mae: 1.7600\n",
            "Epoch 9/50\n",
            "83/83 [==============================] - 0s 4ms/step - loss: 5.9366 - mae: 1.7543 - val_loss: 5.6808 - val_mae: 1.7288\n",
            "Epoch 10/50\n",
            "83/83 [==============================] - 0s 3ms/step - loss: 5.6740 - mae: 1.7206 - val_loss: 5.5332 - val_mae: 1.7020\n",
            "Epoch 11/50\n",
            "83/83 [==============================] - 0s 3ms/step - loss: 5.4665 - mae: 1.6963 - val_loss: 5.4171 - val_mae: 1.6746\n",
            "Epoch 12/50\n",
            "83/83 [==============================] - 0s 2ms/step - loss: 5.2828 - mae: 1.6681 - val_loss: 5.2631 - val_mae: 1.6609\n",
            "Epoch 13/50\n",
            "83/83 [==============================] - 0s 3ms/step - loss: 5.1335 - mae: 1.6555 - val_loss: 5.1777 - val_mae: 1.6451\n",
            "Epoch 14/50\n",
            "83/83 [==============================] - 0s 2ms/step - loss: 4.9988 - mae: 1.6299 - val_loss: 5.0918 - val_mae: 1.6225\n",
            "Epoch 15/50\n",
            "83/83 [==============================] - 0s 3ms/step - loss: 4.9247 - mae: 1.6216 - val_loss: 4.9800 - val_mae: 1.6128\n",
            "Epoch 16/50\n",
            "83/83 [==============================] - 0s 3ms/step - loss: 4.8252 - mae: 1.6048 - val_loss: 4.9393 - val_mae: 1.6251\n",
            "Epoch 17/50\n",
            "83/83 [==============================] - 0s 3ms/step - loss: 4.7436 - mae: 1.5909 - val_loss: 4.8873 - val_mae: 1.6047\n",
            "Epoch 18/50\n",
            "83/83 [==============================] - 0s 2ms/step - loss: 4.6885 - mae: 1.5880 - val_loss: 4.8361 - val_mae: 1.5918\n",
            "Epoch 19/50\n",
            "83/83 [==============================] - 0s 2ms/step - loss: 4.6313 - mae: 1.5797 - val_loss: 4.8091 - val_mae: 1.5631\n",
            "Epoch 20/50\n",
            "83/83 [==============================] - 0s 3ms/step - loss: 4.6017 - mae: 1.5730 - val_loss: 4.7589 - val_mae: 1.5740\n",
            "Epoch 21/50\n",
            "83/83 [==============================] - 0s 2ms/step - loss: 4.5699 - mae: 1.5689 - val_loss: 4.7339 - val_mae: 1.5563\n",
            "Epoch 22/50\n",
            "83/83 [==============================] - 0s 3ms/step - loss: 4.5335 - mae: 1.5616 - val_loss: 4.7250 - val_mae: 1.5517\n",
            "Epoch 23/50\n",
            "83/83 [==============================] - 0s 3ms/step - loss: 4.5157 - mae: 1.5537 - val_loss: 4.6754 - val_mae: 1.5744\n",
            "Epoch 24/50\n",
            "83/83 [==============================] - 0s 2ms/step - loss: 4.5103 - mae: 1.5600 - val_loss: 4.6635 - val_mae: 1.5598\n",
            "Epoch 25/50\n",
            "83/83 [==============================] - 0s 2ms/step - loss: 4.4635 - mae: 1.5509 - val_loss: 4.7006 - val_mae: 1.5339\n",
            "Epoch 26/50\n",
            "83/83 [==============================] - 0s 2ms/step - loss: 4.4597 - mae: 1.5474 - val_loss: 4.6512 - val_mae: 1.5906\n",
            "Epoch 27/50\n",
            "83/83 [==============================] - 0s 3ms/step - loss: 4.4693 - mae: 1.5542 - val_loss: 4.6151 - val_mae: 1.5483\n",
            "Epoch 28/50\n",
            "83/83 [==============================] - 0s 2ms/step - loss: 4.4397 - mae: 1.5436 - val_loss: 4.6002 - val_mae: 1.5505\n",
            "Epoch 29/50\n",
            "83/83 [==============================] - 0s 3ms/step - loss: 4.4464 - mae: 1.5498 - val_loss: 4.6445 - val_mae: 1.5236\n",
            "Epoch 30/50\n",
            "83/83 [==============================] - 0s 5ms/step - loss: 4.4167 - mae: 1.5372 - val_loss: 4.5756 - val_mae: 1.5514\n",
            "Epoch 31/50\n",
            "83/83 [==============================] - 0s 5ms/step - loss: 4.3971 - mae: 1.5385 - val_loss: 4.5978 - val_mae: 1.5466\n",
            "Epoch 32/50\n",
            "83/83 [==============================] - 0s 5ms/step - loss: 4.3881 - mae: 1.5337 - val_loss: 4.5857 - val_mae: 1.5616\n",
            "Epoch 33/50\n",
            "83/83 [==============================] - 1s 7ms/step - loss: 4.3979 - mae: 1.5369 - val_loss: 4.5669 - val_mae: 1.5361\n",
            "Epoch 34/50\n",
            "83/83 [==============================] - 0s 5ms/step - loss: 4.3843 - mae: 1.5329 - val_loss: 4.5741 - val_mae: 1.5231\n",
            "Epoch 35/50\n",
            "83/83 [==============================] - 0s 6ms/step - loss: 4.3639 - mae: 1.5274 - val_loss: 4.5422 - val_mae: 1.5563\n",
            "Epoch 36/50\n",
            "83/83 [==============================] - 1s 8ms/step - loss: 4.3613 - mae: 1.5329 - val_loss: 4.5490 - val_mae: 1.5168\n",
            "Epoch 37/50\n",
            "83/83 [==============================] - 1s 6ms/step - loss: 4.3487 - mae: 1.5229 - val_loss: 4.5174 - val_mae: 1.5256\n",
            "Epoch 38/50\n",
            "83/83 [==============================] - 1s 8ms/step - loss: 4.3422 - mae: 1.5276 - val_loss: 4.5119 - val_mae: 1.5223\n",
            "Epoch 39/50\n",
            "83/83 [==============================] - 0s 4ms/step - loss: 4.3481 - mae: 1.5259 - val_loss: 4.5088 - val_mae: 1.5197\n",
            "Epoch 40/50\n",
            "83/83 [==============================] - 0s 4ms/step - loss: 4.3320 - mae: 1.5191 - val_loss: 4.4884 - val_mae: 1.5300\n",
            "Epoch 41/50\n",
            "83/83 [==============================] - 0s 3ms/step - loss: 4.3208 - mae: 1.5166 - val_loss: 4.4979 - val_mae: 1.5463\n",
            "Epoch 42/50\n",
            "83/83 [==============================] - 0s 3ms/step - loss: 4.3105 - mae: 1.5170 - val_loss: 4.5023 - val_mae: 1.5252\n",
            "Epoch 43/50\n",
            "83/83 [==============================] - 0s 2ms/step - loss: 4.3249 - mae: 1.5238 - val_loss: 4.4886 - val_mae: 1.5050\n",
            "Epoch 44/50\n",
            "83/83 [==============================] - 0s 2ms/step - loss: 4.3125 - mae: 1.5158 - val_loss: 4.4982 - val_mae: 1.5242\n",
            "Epoch 45/50\n",
            "83/83 [==============================] - 0s 2ms/step - loss: 4.3419 - mae: 1.5254 - val_loss: 4.4613 - val_mae: 1.5417\n",
            "Epoch 46/50\n",
            "83/83 [==============================] - 0s 3ms/step - loss: 4.3165 - mae: 1.5214 - val_loss: 4.4776 - val_mae: 1.5091\n",
            "Epoch 47/50\n",
            "83/83 [==============================] - 0s 3ms/step - loss: 4.3109 - mae: 1.5175 - val_loss: 4.4648 - val_mae: 1.5122\n",
            "Epoch 48/50\n",
            "83/83 [==============================] - 0s 2ms/step - loss: 4.2757 - mae: 1.5071 - val_loss: 4.4922 - val_mae: 1.4967\n",
            "Epoch 49/50\n",
            "83/83 [==============================] - 0s 4ms/step - loss: 4.2754 - mae: 1.5064 - val_loss: 4.4348 - val_mae: 1.5122\n",
            "Epoch 50/50\n",
            "83/83 [==============================] - 0s 4ms/step - loss: 4.2841 - mae: 1.5108 - val_loss: 4.4202 - val_mae: 1.5199\n"
          ]
        },
        {
          "output_type": "execute_result",
          "data": {
            "text/plain": [
              "<keras.src.callbacks.History at 0x7b8ab284d090>"
            ]
          },
          "metadata": {},
          "execution_count": 18
        }
      ]
    },
    {
      "cell_type": "code",
      "source": [
        "results = model.evaluate(X_test_norm, y_test, verbose=1)\n",
        "print('Test Loss: {}'.format(results[0]))"
      ],
      "metadata": {
        "id": "bI32477-oiVE",
        "outputId": "d315d502-e5c6-467e-878a-326db044ca48",
        "colab": {
          "base_uri": "https://localhost:8080/"
        }
      },
      "execution_count": 19,
      "outputs": [
        {
          "output_type": "stream",
          "name": "stdout",
          "text": [
            "27/27 [==============================] - 0s 3ms/step - loss: 5.1502 - mae: 1.5661\n",
            "Test Loss: 5.150193214416504\n"
          ]
        }
      ]
    },
    {
      "cell_type": "markdown",
      "source": [
        "# Keras Tuner\n",
        "\n",
        "The [Keras Tuner](https://www.tensorflow.org/tutorials/keras/keras_tuner) is a library for hyper-parameter tuning.\n"
      ],
      "metadata": {
        "id": "ZVnCey4LolQr"
      }
    },
    {
      "cell_type": "code",
      "source": [
        "#!pip install -U keras-tuner"
      ],
      "metadata": {
        "id": "P7NPs9TKomnR",
        "outputId": "269ace98-60c2-42d7-ae92-190c2698bbc2",
        "colab": {
          "base_uri": "https://localhost:8080/"
        }
      },
      "execution_count": 22,
      "outputs": [
        {
          "output_type": "stream",
          "name": "stdout",
          "text": [
            "Collecting keras-tuner\n",
            "  Downloading keras_tuner-1.4.7-py3-none-any.whl (129 kB)\n",
            "\u001b[?25l     \u001b[90m━━━━━━━━━━━━━━━━━━━━━━━━━━━━━━━━━━━━━━━━\u001b[0m \u001b[32m0.0/129.1 kB\u001b[0m \u001b[31m?\u001b[0m eta \u001b[36m-:--:--\u001b[0m\r\u001b[2K     \u001b[90m━━━━━━━━━━━━━━━━━━━━━━━━━━━━━━━━━━━━━━━━\u001b[0m \u001b[32m129.1/129.1 kB\u001b[0m \u001b[31m3.7 MB/s\u001b[0m eta \u001b[36m0:00:00\u001b[0m\n",
            "\u001b[?25hRequirement already satisfied: keras in /usr/local/lib/python3.10/dist-packages (from keras-tuner) (2.15.0)\n",
            "Requirement already satisfied: packaging in /usr/local/lib/python3.10/dist-packages (from keras-tuner) (24.0)\n",
            "Requirement already satisfied: requests in /usr/local/lib/python3.10/dist-packages (from keras-tuner) (2.31.0)\n",
            "Collecting kt-legacy (from keras-tuner)\n",
            "  Downloading kt_legacy-1.0.5-py3-none-any.whl (9.6 kB)\n",
            "Requirement already satisfied: charset-normalizer<4,>=2 in /usr/local/lib/python3.10/dist-packages (from requests->keras-tuner) (3.3.2)\n",
            "Requirement already satisfied: idna<4,>=2.5 in /usr/local/lib/python3.10/dist-packages (from requests->keras-tuner) (3.7)\n",
            "Requirement already satisfied: urllib3<3,>=1.21.1 in /usr/local/lib/python3.10/dist-packages (from requests->keras-tuner) (2.0.7)\n",
            "Requirement already satisfied: certifi>=2017.4.17 in /usr/local/lib/python3.10/dist-packages (from requests->keras-tuner) (2024.2.2)\n",
            "Installing collected packages: kt-legacy, keras-tuner\n",
            "Successfully installed keras-tuner-1.4.7 kt-legacy-1.0.5\n"
          ]
        }
      ]
    },
    {
      "cell_type": "code",
      "source": [
        "import kerastuner as kt"
      ],
      "metadata": {
        "id": "oX3G5Tz1osXl",
        "outputId": "ff95649f-3fe3-4245-fa52-b33e760ed309",
        "colab": {
          "base_uri": "https://localhost:8080/"
        }
      },
      "execution_count": 23,
      "outputs": [
        {
          "output_type": "stream",
          "name": "stderr",
          "text": [
            "<ipython-input-23-5fd8096cdee5>:1: DeprecationWarning: `import kerastuner` is deprecated, please use `import keras_tuner`.\n",
            "  import kerastuner as kt\n"
          ]
        }
      ]
    },
    {
      "cell_type": "markdown",
      "source": [
        "Hyperparameters are of two types:\n",
        "1. **Model hyperparameters** like number of units, type of activation or number hidden layers.\n",
        "2. **Algorithm hyperparameters** like the learning rate in adam.\n",
        "\n",
        "The model-building function takes an argument `hp` from which you can sample hyper-parameters.\n",
        "\n",
        "```python\n",
        "def build_model(hp):\n",
        "    ...\n",
        "    return model\n",
        "\n",
        "```\n",
        "\n",
        "- `hp.Int` to sample an integer from a certain range:\n",
        "```python\n",
        "hp.Int('units', min_value=32, max_value=256, step=32, default=64)\n",
        "```\n",
        "- `hp.Float` to sample a float number from a certain range:\n",
        "```python\n",
        "hp.Float('dropout', min_value=0.0, max_value=0.1, default=0.005, step=0.05)\n",
        "```\n",
        "- `hp.Choice` to select values in a list:\n",
        "```python\n",
        "hp.Choice('learning_rate', [1e-2, 1e-3, 1e-4])\n",
        "```\n",
        "- [list of hyperparameter methods](https://keras-team.github.io/keras-tuner/documentation/hyperparameters/)"
      ],
      "metadata": {
        "id": "zPXaHnT7pDwJ"
      }
    },
    {
      "cell_type": "code",
      "source": [
        "def build_model(hp):\n",
        "    model = keras.Sequential()\n",
        "    # Sample different number of layers with hp.Int\n",
        "    for i in range(hp.Int('num_layers', 1, 3)):\n",
        "        # Sample different number of layers with hp.Int\n",
        "        model.add(layers.Dense(units=hp.Int('units_' + str(i),\n",
        "                                            min_value=32,\n",
        "                                            max_value=128,\n",
        "                                            step=32),\n",
        "                               activation='relu'))\n",
        "    # Sample different activation functions with hp.Choice\n",
        "    model.add(layers.Dense(1, activation=hp.Choice('output_activation', ['relu', 'linear'])))\n",
        "\n",
        "    # Sample different activation functions with hp.Choice\n",
        "    model.compile(\n",
        "        optimizer=keras.optimizers.Adam(\n",
        "            hp.Choice('learning_rate', [1e-2, 1e-3, 1e-4])),\n",
        "        loss='mse',\n",
        "        metrics=['mae'])\n",
        "    return model"
      ],
      "metadata": {
        "id": "C9esq9kAosun"
      },
      "execution_count": 24,
      "outputs": []
    },
    {
      "cell_type": "markdown",
      "source": [
        "The Keras Tuner has four [tuners](https://keras-team.github.io/keras-tuner/documentation/tuners/) available  `RandomSearch`, `Hyperband`, `BayesianOptimization`, and `Sklearn`\n"
      ],
      "metadata": {
        "id": "OoWQOM2sph1R"
      }
    },
    {
      "cell_type": "code",
      "source": [
        "tuner = kt.Hyperband(build_model,\n",
        "                     objective='val_loss',\n",
        "                     max_epochs=35,\n",
        "                     factor=2,\n",
        "                     hyperband_iterations=1,\n",
        "                     directory='my_dir',\n",
        "                     project_name='intro_to_kt')\n",
        "'''\n",
        "tuner = kt.RandomSearch(build_model,\n",
        "                     objective='val_loss',\n",
        "                     max_trials=100,\n",
        "                     directory='my_dir',\n",
        "                     project_name='intro_to_kt')\n",
        "''';\n",
        "stop_early = tf.keras.callbacks.EarlyStopping(monitor='val_loss', patience=5)"
      ],
      "metadata": {
        "id": "sDu6em4MpggN"
      },
      "execution_count": 25,
      "outputs": []
    },
    {
      "cell_type": "code",
      "source": [
        "tuner.search(X_train_norm, y_train, epochs=30, validation_split=0.15, batch_size=32, callbacks=[stop_early])\n",
        "\n",
        "# Get the optimal hyperparameters\n",
        "best_hps=tuner.get_best_hyperparameters(num_trials=1)[0]\n",
        "print(best_hps.get_config())"
      ],
      "metadata": {
        "id": "JPWUkOiZptCD",
        "outputId": "72bb4e50-a8ac-4aa0-cb87-0b4118079b59",
        "colab": {
          "base_uri": "https://localhost:8080/"
        }
      },
      "execution_count": 26,
      "outputs": [
        {
          "output_type": "stream",
          "name": "stdout",
          "text": [
            "Trial 186 Complete [00h 00m 13s]\n",
            "val_loss: 4.683409690856934\n",
            "\n",
            "Best val_loss So Far: 4.482764720916748\n",
            "Total elapsed time: 00h 12m 35s\n",
            "{'space': [{'class_name': 'Int', 'config': {'name': 'num_layers', 'default': None, 'conditions': [], 'min_value': 1, 'max_value': 3, 'step': 1, 'sampling': 'linear'}}, {'class_name': 'Int', 'config': {'name': 'units_0', 'default': None, 'conditions': [], 'min_value': 32, 'max_value': 128, 'step': 32, 'sampling': 'linear'}}, {'class_name': 'Choice', 'config': {'name': 'output_activation', 'default': 'relu', 'conditions': [], 'values': ['relu', 'linear'], 'ordered': False}}, {'class_name': 'Choice', 'config': {'name': 'learning_rate', 'default': 0.01, 'conditions': [], 'values': [0.01, 0.001, 0.0001], 'ordered': True}}, {'class_name': 'Int', 'config': {'name': 'units_1', 'default': None, 'conditions': [], 'min_value': 32, 'max_value': 128, 'step': 32, 'sampling': 'linear'}}, {'class_name': 'Int', 'config': {'name': 'units_2', 'default': None, 'conditions': [], 'min_value': 32, 'max_value': 128, 'step': 32, 'sampling': 'linear'}}], 'values': {'num_layers': 2, 'units_0': 96, 'output_activation': 'linear', 'learning_rate': 0.01, 'units_1': 128, 'units_2': 64, 'tuner/epochs': 35, 'tuner/initial_epoch': 18, 'tuner/bracket': 1, 'tuner/round': 1, 'tuner/trial_id': '0173'}}\n"
          ]
        }
      ]
    },
    {
      "cell_type": "code",
      "source": [
        "print(f\"Best learning rate: {best_hps.get('learning_rate')}\")\n",
        "print(f\"Best output activation function: {best_hps.get('output_activation')}\")\n",
        "print(f\"Best number of hidden layers: {best_hps.get('num_layers')}\")\n",
        "for i in range(best_hps.get('num_layers')):\n",
        "    print(f\"Number of units of hidden layer {i+1}: {best_hps.get('units_' + str(i))}\")"
      ],
      "metadata": {
        "id": "znX9j03JpzJe",
        "outputId": "7d4fe63b-b490-4364-bbb4-3f70122021ad",
        "colab": {
          "base_uri": "https://localhost:8080/"
        }
      },
      "execution_count": 27,
      "outputs": [
        {
          "output_type": "stream",
          "name": "stdout",
          "text": [
            "Best learning rate: 0.01\n",
            "Best output activation function: linear\n",
            "Best number of hidden layers: 2\n",
            "Number of units of hidden layer 1: 96\n",
            "Number of units of hidden layer 2: 128\n"
          ]
        }
      ]
    },
    {
      "cell_type": "markdown",
      "source": [
        "## Train the model"
      ],
      "metadata": {
        "id": "c_MkXi2DqBgD"
      }
    },
    {
      "cell_type": "code",
      "source": [
        "# Training the best model\n",
        "model = tuner.hypermodel.build(best_hps)\n",
        "history = model.fit(X_train_norm, y_train, epochs=50, validation_split=0.15, callbacks=[stop_early])"
      ],
      "metadata": {
        "id": "zPSNpxdTqB6P",
        "outputId": "13e087f0-7503-4fd3-911d-9875dd46c8dd",
        "colab": {
          "base_uri": "https://localhost:8080/"
        }
      },
      "execution_count": 28,
      "outputs": [
        {
          "output_type": "stream",
          "name": "stdout",
          "text": [
            "Epoch 1/50\n",
            "89/89 [==============================] - 2s 5ms/step - loss: 16.9735 - mae: 2.7079 - val_loss: 9.9755 - val_mae: 2.6187\n",
            "Epoch 2/50\n",
            "89/89 [==============================] - 0s 2ms/step - loss: 5.6317 - mae: 1.7829 - val_loss: 6.1853 - val_mae: 1.8779\n",
            "Epoch 3/50\n",
            "89/89 [==============================] - 0s 3ms/step - loss: 5.2722 - mae: 1.6623 - val_loss: 5.7752 - val_mae: 1.8922\n",
            "Epoch 4/50\n",
            "89/89 [==============================] - 0s 2ms/step - loss: 4.7798 - mae: 1.6134 - val_loss: 4.7301 - val_mae: 1.5560\n",
            "Epoch 5/50\n",
            "89/89 [==============================] - 0s 3ms/step - loss: 4.7734 - mae: 1.6222 - val_loss: 4.9155 - val_mae: 1.6478\n",
            "Epoch 6/50\n",
            "89/89 [==============================] - 0s 2ms/step - loss: 4.5293 - mae: 1.5580 - val_loss: 4.7606 - val_mae: 1.5320\n",
            "Epoch 7/50\n",
            "89/89 [==============================] - 0s 3ms/step - loss: 4.5878 - mae: 1.5720 - val_loss: 4.6335 - val_mae: 1.5290\n",
            "Epoch 8/50\n",
            "89/89 [==============================] - 0s 2ms/step - loss: 4.6276 - mae: 1.5856 - val_loss: 5.0538 - val_mae: 1.7501\n",
            "Epoch 9/50\n",
            "89/89 [==============================] - 0s 3ms/step - loss: 4.4137 - mae: 1.5303 - val_loss: 4.6219 - val_mae: 1.5474\n",
            "Epoch 10/50\n",
            "89/89 [==============================] - 0s 3ms/step - loss: 4.5628 - mae: 1.5605 - val_loss: 5.7369 - val_mae: 1.6341\n",
            "Epoch 11/50\n",
            "89/89 [==============================] - 0s 3ms/step - loss: 4.4765 - mae: 1.5466 - val_loss: 5.3913 - val_mae: 1.8336\n",
            "Epoch 12/50\n",
            "89/89 [==============================] - 0s 2ms/step - loss: 4.6066 - mae: 1.5692 - val_loss: 5.0505 - val_mae: 1.7387\n",
            "Epoch 13/50\n",
            "89/89 [==============================] - 0s 2ms/step - loss: 4.4118 - mae: 1.5477 - val_loss: 4.6099 - val_mae: 1.5510\n",
            "Epoch 14/50\n",
            "89/89 [==============================] - 0s 3ms/step - loss: 4.5045 - mae: 1.5418 - val_loss: 4.5657 - val_mae: 1.5185\n",
            "Epoch 15/50\n",
            "89/89 [==============================] - 0s 3ms/step - loss: 4.3722 - mae: 1.5342 - val_loss: 4.9036 - val_mae: 1.5829\n",
            "Epoch 16/50\n",
            "89/89 [==============================] - 0s 2ms/step - loss: 4.5572 - mae: 1.5735 - val_loss: 4.7653 - val_mae: 1.6236\n",
            "Epoch 17/50\n",
            "89/89 [==============================] - 0s 2ms/step - loss: 4.4675 - mae: 1.5489 - val_loss: 4.9000 - val_mae: 1.5368\n",
            "Epoch 18/50\n",
            "89/89 [==============================] - 0s 3ms/step - loss: 4.5175 - mae: 1.5524 - val_loss: 5.2317 - val_mae: 1.7732\n",
            "Epoch 19/50\n",
            "89/89 [==============================] - 0s 3ms/step - loss: 4.4143 - mae: 1.5418 - val_loss: 5.0169 - val_mae: 1.6607\n"
          ]
        }
      ]
    },
    {
      "cell_type": "code",
      "source": [
        "results = model.evaluate(X_test_norm, y_test, verbose=1)\n",
        "print('Test Loss: {}'.format(results[0]))"
      ],
      "metadata": {
        "id": "JrAqmYL2tiJq",
        "outputId": "1ae8fb71-d501-45b4-aa00-fa1d5ca2a27e",
        "colab": {
          "base_uri": "https://localhost:8080/"
        }
      },
      "execution_count": 29,
      "outputs": [
        {
          "output_type": "stream",
          "name": "stdout",
          "text": [
            "27/27 [==============================] - 0s 2ms/step - loss: 5.6948 - mae: 1.6952\n",
            "Test Loss: 5.694775581359863\n"
          ]
        }
      ]
    },
    {
      "cell_type": "markdown",
      "source": [
        "## Question 4: Try to search with dropout"
      ],
      "metadata": {
        "id": "Xgip91gKtmi4"
      }
    },
    {
      "cell_type": "code",
      "source": [
        "def build_model(hp):\n",
        "    model = keras.Sequential()\n",
        "\n",
        "    # Sample different number of layers with hp.Int\n",
        "    for i in range(hp.Int('num_layers',1,3)):\n",
        "        # Sample different number of nodes per layer with hp.Int\n",
        "        model.add(layers.Dense(units=hp.Int('units_'+str(i),\n",
        "                                            min_value = 32,\n",
        "                                            max_value = 128,\n",
        "                                            step = 32),\n",
        "                               activation = 'relu'))\n",
        "\n",
        "        model.add(layers.Dropout(hp.Float('dp_'+str(i),\n",
        "                                          min_value = 0.0,\n",
        "                                          max_value = 0.35,\n",
        "                                          default = 0.0,\n",
        "                                          step = 0.05)))\n",
        "\n",
        "\n",
        "        # Sample different activation functions with hp.Choice (at output only)\n",
        "        model.add(layers.Dense(1,activation=hp.Choice('output_activation',['relu','linear'])))\n",
        "\n",
        "        # Sample different learning rates with hp.Choice\n",
        "        model.compile(\n",
        "            optimizer=keras.optimizers.Adam(\n",
        "                hp.Choice('learning_rate', [1e-2, 1e-3, 1e-4])),\n",
        "            loss = 'mse',\n",
        "            metrics = ['mae']\n",
        "            )\n",
        "\n",
        "    return model\n",
        "\n",
        "tuner = kt.Hyperband(build_model,\n",
        "                     objective='val_loss',\n",
        "                     max_epochs=40,\n",
        "                     factor=2,\n",
        "                     hyperband_iterations=2,\n",
        "                     directory='my_dir_2',\n",
        "                     project_name='intro_to_kt')\n",
        "\n",
        "stop_early = tf.keras.callbacks.EarlyStopping(monitor='val_loss', patience=5)\n",
        "tuner.search(X_train_norm, y_train, epochs=30, validation_split=0.15,\n",
        "             batch_size=32, callbacks=[stop_early])\n",
        "\n",
        "# Get the optimal hyperparameters\n",
        "best_hps = tuner.get_best_hyperparameters(num_trials=1)[0]\n",
        "print(best_hps.get_config())"
      ],
      "metadata": {
        "id": "yEh5odOVtn8J",
        "outputId": "6c1fb1b1-7c61-42e6-b172-8a9d4e121f03",
        "colab": {
          "base_uri": "https://localhost:8080/"
        }
      },
      "execution_count": 30,
      "outputs": [
        {
          "output_type": "stream",
          "name": "stdout",
          "text": [
            "Trial 372 Complete [00h 00m 12s]\n",
            "val_loss: 4.636750221252441\n",
            "\n",
            "Best val_loss So Far: 4.485107898712158\n",
            "Total elapsed time: 00h 35m 53s\n",
            "{'space': [{'class_name': 'Int', 'config': {'name': 'num_layers', 'default': None, 'conditions': [], 'min_value': 1, 'max_value': 3, 'step': 1, 'sampling': 'linear'}}, {'class_name': 'Int', 'config': {'name': 'units_0', 'default': None, 'conditions': [], 'min_value': 32, 'max_value': 128, 'step': 32, 'sampling': 'linear'}}, {'class_name': 'Float', 'config': {'name': 'dp_0', 'default': 0.0, 'conditions': [], 'min_value': 0.0, 'max_value': 0.35, 'step': 0.05, 'sampling': 'linear'}}, {'class_name': 'Choice', 'config': {'name': 'output_activation', 'default': 'relu', 'conditions': [], 'values': ['relu', 'linear'], 'ordered': False}}, {'class_name': 'Choice', 'config': {'name': 'learning_rate', 'default': 0.01, 'conditions': [], 'values': [0.01, 0.001, 0.0001], 'ordered': True}}, {'class_name': 'Int', 'config': {'name': 'units_1', 'default': None, 'conditions': [], 'min_value': 32, 'max_value': 128, 'step': 32, 'sampling': 'linear'}}, {'class_name': 'Float', 'config': {'name': 'dp_1', 'default': 0.0, 'conditions': [], 'min_value': 0.0, 'max_value': 0.35, 'step': 0.05, 'sampling': 'linear'}}, {'class_name': 'Int', 'config': {'name': 'units_2', 'default': None, 'conditions': [], 'min_value': 32, 'max_value': 128, 'step': 32, 'sampling': 'linear'}}, {'class_name': 'Float', 'config': {'name': 'dp_2', 'default': 0.0, 'conditions': [], 'min_value': 0.0, 'max_value': 0.35, 'step': 0.05, 'sampling': 'linear'}}], 'values': {'num_layers': 2, 'units_0': 32, 'dp_0': 0.25, 'output_activation': 'linear', 'learning_rate': 0.01, 'units_1': 96, 'dp_1': 0.25, 'units_2': 96, 'dp_2': 0.15000000000000002, 'tuner/epochs': 40, 'tuner/initial_epoch': 20, 'tuner/bracket': 2, 'tuner/round': 2, 'tuner/trial_id': '0160'}}\n"
          ]
        }
      ]
    },
    {
      "cell_type": "code",
      "source": [
        "print(f\"Best learning rate: {best_hps.get('learning_rate')}\")\n",
        "print(f\"Best output activation function: {best_hps.get('output_activation')}\")\n",
        "print(f\"Best number of hidden layers: {best_hps.get('num_layers')}\")\n",
        "for i in range(best_hps.get('num_layers')):\n",
        "    print(f\"Number of units of hidden layer {i+1}: {best_hps.get('units_' + str(i))}\")\n",
        "    #print(f\"Dropout rate of hidden layer {i+1}: {best_hps.get('dp_' + str(i))}\")"
      ],
      "metadata": {
        "id": "iQIah3QJvyk2",
        "outputId": "859bd7db-497f-45fa-a5d5-0e74adc60880",
        "colab": {
          "base_uri": "https://localhost:8080/"
        }
      },
      "execution_count": 31,
      "outputs": [
        {
          "output_type": "stream",
          "name": "stdout",
          "text": [
            "Best learning rate: 0.01\n",
            "Best output activation function: linear\n",
            "Best number of hidden layers: 2\n",
            "Number of units of hidden layer 1: 32\n",
            "Number of units of hidden layer 2: 96\n"
          ]
        }
      ]
    },
    {
      "cell_type": "code",
      "source": [
        "model = tuner.hypermodel.build(best_hps)\n",
        "history = model.fit(X_train_norm, y_train, epochs=50, validation_split=0.15, callbacks=[stop_early])"
      ],
      "metadata": {
        "id": "y3ktO16dvzz9",
        "outputId": "d4fbb7c9-f12e-4104-b270-a22653c942de",
        "colab": {
          "base_uri": "https://localhost:8080/"
        }
      },
      "execution_count": 32,
      "outputs": [
        {
          "output_type": "stream",
          "name": "stdout",
          "text": [
            "Epoch 1/50\n",
            "89/89 [==============================] - 1s 5ms/step - loss: 23.2513 - mae: 3.4333 - val_loss: 5.9550 - val_mae: 1.7729\n",
            "Epoch 2/50\n",
            "89/89 [==============================] - 0s 2ms/step - loss: 6.7210 - mae: 1.8832 - val_loss: 5.4545 - val_mae: 1.6847\n",
            "Epoch 3/50\n",
            "89/89 [==============================] - 0s 3ms/step - loss: 6.0792 - mae: 1.8031 - val_loss: 5.2861 - val_mae: 1.7466\n",
            "Epoch 4/50\n",
            "89/89 [==============================] - 0s 3ms/step - loss: 5.7907 - mae: 1.7640 - val_loss: 5.0204 - val_mae: 1.5841\n",
            "Epoch 5/50\n",
            "89/89 [==============================] - 0s 3ms/step - loss: 5.5884 - mae: 1.7384 - val_loss: 5.0802 - val_mae: 1.7031\n",
            "Epoch 6/50\n",
            "89/89 [==============================] - 0s 3ms/step - loss: 5.3879 - mae: 1.6836 - val_loss: 5.2226 - val_mae: 1.5578\n",
            "Epoch 7/50\n",
            "89/89 [==============================] - 0s 3ms/step - loss: 6.3928 - mae: 1.8548 - val_loss: 5.2855 - val_mae: 1.7118\n",
            "Epoch 8/50\n",
            "89/89 [==============================] - 0s 3ms/step - loss: 5.3139 - mae: 1.6832 - val_loss: 4.9312 - val_mae: 1.5416\n",
            "Epoch 9/50\n",
            "89/89 [==============================] - 0s 2ms/step - loss: 5.2024 - mae: 1.6533 - val_loss: 4.7158 - val_mae: 1.5741\n",
            "Epoch 10/50\n",
            "89/89 [==============================] - 0s 3ms/step - loss: 5.2483 - mae: 1.6771 - val_loss: 4.9742 - val_mae: 1.5269\n",
            "Epoch 11/50\n",
            "89/89 [==============================] - 0s 3ms/step - loss: 5.2331 - mae: 1.6573 - val_loss: 5.3273 - val_mae: 1.5732\n",
            "Epoch 12/50\n",
            "89/89 [==============================] - 0s 3ms/step - loss: 5.2185 - mae: 1.6724 - val_loss: 4.6506 - val_mae: 1.5828\n",
            "Epoch 13/50\n",
            "89/89 [==============================] - 0s 3ms/step - loss: 5.0835 - mae: 1.6429 - val_loss: 4.9023 - val_mae: 1.6676\n",
            "Epoch 14/50\n",
            "89/89 [==============================] - 0s 3ms/step - loss: 5.2410 - mae: 1.6785 - val_loss: 4.6895 - val_mae: 1.5913\n",
            "Epoch 15/50\n",
            "89/89 [==============================] - 0s 3ms/step - loss: 5.1977 - mae: 1.6759 - val_loss: 4.7693 - val_mae: 1.5408\n",
            "Epoch 16/50\n",
            "89/89 [==============================] - 0s 4ms/step - loss: 5.0660 - mae: 1.6470 - val_loss: 4.8185 - val_mae: 1.5452\n",
            "Epoch 17/50\n",
            "89/89 [==============================] - 0s 4ms/step - loss: 4.8987 - mae: 1.6211 - val_loss: 4.6971 - val_mae: 1.5430\n"
          ]
        }
      ]
    },
    {
      "cell_type": "code",
      "source": [
        "results = model.evaluate(X_test_norm, y_test, verbose=1)\n",
        "print('Test Loss: {}'.format(results[0]))"
      ],
      "metadata": {
        "id": "cI51mPd3v2Yv",
        "outputId": "399b96f2-c17f-4a70-8dde-5234ad06ef63",
        "colab": {
          "base_uri": "https://localhost:8080/"
        }
      },
      "execution_count": 33,
      "outputs": [
        {
          "output_type": "stream",
          "name": "stdout",
          "text": [
            "27/27 [==============================] - 0s 2ms/step - loss: 5.1030 - mae: 1.5256\n",
            "Test Loss: 5.103002548217773\n"
          ]
        }
      ]
    },
    {
      "cell_type": "code",
      "source": [],
      "metadata": {
        "id": "T_GVoWTc8fy6"
      },
      "execution_count": null,
      "outputs": []
    }
  ]
}